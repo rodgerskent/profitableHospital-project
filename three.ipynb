{
 "cells": [
  {
   "cell_type": "code",
   "execution_count": 21,
   "metadata": {},
   "outputs": [],
   "source": [
    "#profitableHospital-project - KNN Model"
   ]
  },
  {
   "cell_type": "code",
   "execution_count": 22,
   "metadata": {},
   "outputs": [],
   "source": [
    "#dependencies\n",
    "import pandas as pd\n",
    "\n",
    "import requests\n",
    "import json\n",
    "\n",
    "from sklearn.model_selection import train_test_split\n",
    "from sklearn.preprocessing import LabelEncoder, MinMaxScaler\n",
    "from sklearn.preprocessing import LabelEncoder\n",
    "from sklearn.feature_selection import RFE\n",
    "from sklearn.linear_model import LogisticRegression\n",
    "from sklearn.linear_model import LinearRegression\n",
    "from sklearn.svm import SVC \n",
    "from sklearn.model_selection import GridSearchCV\n",
    "from sklearn.metrics import classification_report\n",
    "from sklearn.neighbors import KNeighborsClassifier\n",
    "\n",
    "import tensorflow\n",
    "from tensorflow.keras.utils import to_categorical\n",
    "import matplotlib.pyplot as plt\n",
    "\n",
    "import joblib"
   ]
  },
  {
   "cell_type": "code",
   "execution_count": 23,
   "metadata": {},
   "outputs": [
    {
     "data": {
      "text/html": [
       "<div>\n",
       "<style scoped>\n",
       "    .dataframe tbody tr th:only-of-type {\n",
       "        vertical-align: middle;\n",
       "    }\n",
       "\n",
       "    .dataframe tbody tr th {\n",
       "        vertical-align: top;\n",
       "    }\n",
       "\n",
       "    .dataframe thead th {\n",
       "        text-align: right;\n",
       "    }\n",
       "</style>\n",
       "<table border=\"1\" class=\"dataframe\">\n",
       "  <thead>\n",
       "    <tr style=\"text-align: right;\">\n",
       "      <th></th>\n",
       "      <th>Provider CCN</th>\n",
       "      <th>Hospital Name</th>\n",
       "      <th>Street Address</th>\n",
       "      <th>City</th>\n",
       "      <th>State Code</th>\n",
       "      <th>Zip Code</th>\n",
       "      <th>CON</th>\n",
       "      <th>Urban</th>\n",
       "      <th>Inpatient %</th>\n",
       "      <th>Outpatient %</th>\n",
       "      <th>...</th>\n",
       "      <th>Uncompensated %</th>\n",
       "      <th>Rev Per Discharge</th>\n",
       "      <th>Rev Per Bed</th>\n",
       "      <th>Rev Per Bed Days</th>\n",
       "      <th>Rev Per FTE</th>\n",
       "      <th>Discharges Per Bed</th>\n",
       "      <th>Discharges Per Bed Days</th>\n",
       "      <th>Discharges Per FTE</th>\n",
       "      <th>Net Income %</th>\n",
       "      <th>Net Income Score</th>\n",
       "    </tr>\n",
       "  </thead>\n",
       "  <tbody>\n",
       "    <tr>\n",
       "      <th>0</th>\n",
       "      <td>60049</td>\n",
       "      <td>YAMPA VALLEY MEDICAL CENTER</td>\n",
       "      <td>1024 CENTRAL PARK DRIVE</td>\n",
       "      <td>STEAMBOAT SPRINGS</td>\n",
       "      <td>CO</td>\n",
       "      <td>80487</td>\n",
       "      <td>0.0</td>\n",
       "      <td>0.0</td>\n",
       "      <td>0.293271</td>\n",
       "      <td>0.706729</td>\n",
       "      <td>...</td>\n",
       "      <td>0.002099</td>\n",
       "      <td>66656.736548</td>\n",
       "      <td>2.445789e+06</td>\n",
       "      <td>6700.793116</td>\n",
       "      <td>217721.097441</td>\n",
       "      <td>36.692308</td>\n",
       "      <td>0.100527</td>\n",
       "      <td>36.692308</td>\n",
       "      <td>0.154109</td>\n",
       "      <td>1</td>\n",
       "    </tr>\n",
       "    <tr>\n",
       "      <th>1</th>\n",
       "      <td>60071</td>\n",
       "      <td>DELTA COUNTY MEMORIAL HOSPITAL</td>\n",
       "      <td>1501 E. 3RD ST.</td>\n",
       "      <td>DELTA</td>\n",
       "      <td>CO</td>\n",
       "      <td>81416</td>\n",
       "      <td>0.0</td>\n",
       "      <td>0.0</td>\n",
       "      <td>0.201012</td>\n",
       "      <td>0.798988</td>\n",
       "      <td>...</td>\n",
       "      <td>0.000291</td>\n",
       "      <td>45637.017052</td>\n",
       "      <td>1.529306e+06</td>\n",
       "      <td>4189.878781</td>\n",
       "      <td>156468.683705</td>\n",
       "      <td>33.510204</td>\n",
       "      <td>0.091809</td>\n",
       "      <td>33.510204</td>\n",
       "      <td>-0.029169</td>\n",
       "      <td>2</td>\n",
       "    </tr>\n",
       "    <tr>\n",
       "      <th>2</th>\n",
       "      <td>60127</td>\n",
       "      <td>SCL HEALTH COMMUNITY HOSPITAL - WEST</td>\n",
       "      <td>6500 WEST 104TH AVE  SUITE 100</td>\n",
       "      <td>WESTMINSTER</td>\n",
       "      <td>CO</td>\n",
       "      <td>80020</td>\n",
       "      <td>0.0</td>\n",
       "      <td>1.0</td>\n",
       "      <td>0.084941</td>\n",
       "      <td>0.915059</td>\n",
       "      <td>...</td>\n",
       "      <td>0.005928</td>\n",
       "      <td>145831.227642</td>\n",
       "      <td>7.473850e+05</td>\n",
       "      <td>2007.300918</td>\n",
       "      <td>163720.710113</td>\n",
       "      <td>5.125000</td>\n",
       "      <td>0.013765</td>\n",
       "      <td>5.125000</td>\n",
       "      <td>-1.293807</td>\n",
       "      <td>3</td>\n",
       "    </tr>\n",
       "    <tr>\n",
       "      <th>3</th>\n",
       "      <td>60126</td>\n",
       "      <td>BANNER FORT COLLINS MEDICAL CENTER</td>\n",
       "      <td>4700 LADY MOON DRIVE</td>\n",
       "      <td>FORT COLLINS</td>\n",
       "      <td>CO</td>\n",
       "      <td>80528</td>\n",
       "      <td>0.0</td>\n",
       "      <td>1.0</td>\n",
       "      <td>0.379743</td>\n",
       "      <td>0.620257</td>\n",
       "      <td>...</td>\n",
       "      <td>0.018090</td>\n",
       "      <td>30976.631238</td>\n",
       "      <td>1.457248e+06</td>\n",
       "      <td>3992.461584</td>\n",
       "      <td>201604.300752</td>\n",
       "      <td>47.043478</td>\n",
       "      <td>0.128886</td>\n",
       "      <td>47.043478</td>\n",
       "      <td>-0.390273</td>\n",
       "      <td>3</td>\n",
       "    </tr>\n",
       "    <tr>\n",
       "      <th>4</th>\n",
       "      <td>60096</td>\n",
       "      <td>VAIL VALLEY MEDICAL CENTER</td>\n",
       "      <td>181 WEST MEADOW DRIVE</td>\n",
       "      <td>VAIL</td>\n",
       "      <td>CO</td>\n",
       "      <td>81657</td>\n",
       "      <td>0.0</td>\n",
       "      <td>0.0</td>\n",
       "      <td>0.376580</td>\n",
       "      <td>0.623420</td>\n",
       "      <td>...</td>\n",
       "      <td>0.006931</td>\n",
       "      <td>79665.064578</td>\n",
       "      <td>2.951875e+06</td>\n",
       "      <td>8087.329207</td>\n",
       "      <td>257934.416739</td>\n",
       "      <td>37.053571</td>\n",
       "      <td>0.101517</td>\n",
       "      <td>37.053571</td>\n",
       "      <td>0.510514</td>\n",
       "      <td>1</td>\n",
       "    </tr>\n",
       "  </tbody>\n",
       "</table>\n",
       "<p>5 rows × 21 columns</p>\n",
       "</div>"
      ],
      "text/plain": [
       "   Provider CCN                         Hospital Name  \\\n",
       "0         60049           YAMPA VALLEY MEDICAL CENTER   \n",
       "1         60071        DELTA COUNTY MEMORIAL HOSPITAL   \n",
       "2         60127  SCL HEALTH COMMUNITY HOSPITAL - WEST   \n",
       "3         60126    BANNER FORT COLLINS MEDICAL CENTER   \n",
       "4         60096            VAIL VALLEY MEDICAL CENTER   \n",
       "\n",
       "                   Street Address               City State Code Zip Code  CON  \\\n",
       "0         1024 CENTRAL PARK DRIVE  STEAMBOAT SPRINGS         CO    80487  0.0   \n",
       "1                 1501 E. 3RD ST.              DELTA         CO    81416  0.0   \n",
       "2  6500 WEST 104TH AVE  SUITE 100        WESTMINSTER         CO    80020  0.0   \n",
       "3            4700 LADY MOON DRIVE       FORT COLLINS         CO    80528  0.0   \n",
       "4           181 WEST MEADOW DRIVE               VAIL         CO    81657  0.0   \n",
       "\n",
       "   Urban  Inpatient %  Outpatient %  ...  Uncompensated %  Rev Per Discharge  \\\n",
       "0    0.0     0.293271      0.706729  ...         0.002099       66656.736548   \n",
       "1    0.0     0.201012      0.798988  ...         0.000291       45637.017052   \n",
       "2    1.0     0.084941      0.915059  ...         0.005928      145831.227642   \n",
       "3    1.0     0.379743      0.620257  ...         0.018090       30976.631238   \n",
       "4    0.0     0.376580      0.623420  ...         0.006931       79665.064578   \n",
       "\n",
       "    Rev Per Bed  Rev Per Bed Days    Rev Per FTE  Discharges Per Bed  \\\n",
       "0  2.445789e+06       6700.793116  217721.097441           36.692308   \n",
       "1  1.529306e+06       4189.878781  156468.683705           33.510204   \n",
       "2  7.473850e+05       2007.300918  163720.710113            5.125000   \n",
       "3  1.457248e+06       3992.461584  201604.300752           47.043478   \n",
       "4  2.951875e+06       8087.329207  257934.416739           37.053571   \n",
       "\n",
       "   Discharges Per Bed Days  Discharges Per FTE  Net Income %  Net Income Score  \n",
       "0                 0.100527           36.692308      0.154109                 1  \n",
       "1                 0.091809           33.510204     -0.029169                 2  \n",
       "2                 0.013765            5.125000     -1.293807                 3  \n",
       "3                 0.128886           47.043478     -0.390273                 3  \n",
       "4                 0.101517           37.053571      0.510514                 1  \n",
       "\n",
       "[5 rows x 21 columns]"
      ]
     },
     "execution_count": 23,
     "metadata": {},
     "output_type": "execute_result"
    }
   ],
   "source": [
    "#Main File Read\n",
    "df = pd.read_csv(\"targetedCO2017.csv\")\n",
    "df.head()"
   ]
  },
  {
   "cell_type": "code",
   "execution_count": 24,
   "metadata": {},
   "outputs": [
    {
     "data": {
      "text/html": [
       "<div>\n",
       "<style scoped>\n",
       "    .dataframe tbody tr th:only-of-type {\n",
       "        vertical-align: middle;\n",
       "    }\n",
       "\n",
       "    .dataframe tbody tr th {\n",
       "        vertical-align: top;\n",
       "    }\n",
       "\n",
       "    .dataframe thead th {\n",
       "        text-align: right;\n",
       "    }\n",
       "</style>\n",
       "<table border=\"1\" class=\"dataframe\">\n",
       "  <thead>\n",
       "    <tr style=\"text-align: right;\">\n",
       "      <th></th>\n",
       "      <th>CON</th>\n",
       "      <th>Urban</th>\n",
       "      <th>Inpatient %</th>\n",
       "      <th>Outpatient %</th>\n",
       "      <th>Charity %</th>\n",
       "      <th>Uncompensated %</th>\n",
       "      <th>Rev Per Discharge</th>\n",
       "      <th>Rev Per Bed</th>\n",
       "      <th>Rev Per Bed Days</th>\n",
       "      <th>Rev Per FTE</th>\n",
       "      <th>Discharges Per Bed</th>\n",
       "      <th>Discharges Per Bed Days</th>\n",
       "      <th>Discharges Per FTE</th>\n",
       "    </tr>\n",
       "  </thead>\n",
       "  <tbody>\n",
       "    <tr>\n",
       "      <th>0</th>\n",
       "      <td>0.0</td>\n",
       "      <td>0.0</td>\n",
       "      <td>0.293271</td>\n",
       "      <td>0.706729</td>\n",
       "      <td>0.002099</td>\n",
       "      <td>0.002099</td>\n",
       "      <td>66656.736548</td>\n",
       "      <td>2.445789e+06</td>\n",
       "      <td>6700.793116</td>\n",
       "      <td>217721.097441</td>\n",
       "      <td>36.692308</td>\n",
       "      <td>0.100527</td>\n",
       "      <td>36.692308</td>\n",
       "    </tr>\n",
       "    <tr>\n",
       "      <th>1</th>\n",
       "      <td>0.0</td>\n",
       "      <td>0.0</td>\n",
       "      <td>0.201012</td>\n",
       "      <td>0.798988</td>\n",
       "      <td>0.000291</td>\n",
       "      <td>0.000291</td>\n",
       "      <td>45637.017052</td>\n",
       "      <td>1.529306e+06</td>\n",
       "      <td>4189.878781</td>\n",
       "      <td>156468.683705</td>\n",
       "      <td>33.510204</td>\n",
       "      <td>0.091809</td>\n",
       "      <td>33.510204</td>\n",
       "    </tr>\n",
       "    <tr>\n",
       "      <th>2</th>\n",
       "      <td>0.0</td>\n",
       "      <td>1.0</td>\n",
       "      <td>0.084941</td>\n",
       "      <td>0.915059</td>\n",
       "      <td>0.005928</td>\n",
       "      <td>0.005928</td>\n",
       "      <td>145831.227642</td>\n",
       "      <td>7.473850e+05</td>\n",
       "      <td>2007.300918</td>\n",
       "      <td>163720.710113</td>\n",
       "      <td>5.125000</td>\n",
       "      <td>0.013765</td>\n",
       "      <td>5.125000</td>\n",
       "    </tr>\n",
       "    <tr>\n",
       "      <th>3</th>\n",
       "      <td>0.0</td>\n",
       "      <td>1.0</td>\n",
       "      <td>0.379743</td>\n",
       "      <td>0.620257</td>\n",
       "      <td>0.018090</td>\n",
       "      <td>0.018090</td>\n",
       "      <td>30976.631238</td>\n",
       "      <td>1.457248e+06</td>\n",
       "      <td>3992.461584</td>\n",
       "      <td>201604.300752</td>\n",
       "      <td>47.043478</td>\n",
       "      <td>0.128886</td>\n",
       "      <td>47.043478</td>\n",
       "    </tr>\n",
       "    <tr>\n",
       "      <th>4</th>\n",
       "      <td>0.0</td>\n",
       "      <td>0.0</td>\n",
       "      <td>0.376580</td>\n",
       "      <td>0.623420</td>\n",
       "      <td>0.006931</td>\n",
       "      <td>0.006931</td>\n",
       "      <td>79665.064578</td>\n",
       "      <td>2.951875e+06</td>\n",
       "      <td>8087.329207</td>\n",
       "      <td>257934.416739</td>\n",
       "      <td>37.053571</td>\n",
       "      <td>0.101517</td>\n",
       "      <td>37.053571</td>\n",
       "    </tr>\n",
       "  </tbody>\n",
       "</table>\n",
       "</div>"
      ],
      "text/plain": [
       "   CON  Urban  Inpatient %  Outpatient %  Charity %  Uncompensated %  \\\n",
       "0  0.0    0.0     0.293271      0.706729   0.002099         0.002099   \n",
       "1  0.0    0.0     0.201012      0.798988   0.000291         0.000291   \n",
       "2  0.0    1.0     0.084941      0.915059   0.005928         0.005928   \n",
       "3  0.0    1.0     0.379743      0.620257   0.018090         0.018090   \n",
       "4  0.0    0.0     0.376580      0.623420   0.006931         0.006931   \n",
       "\n",
       "   Rev Per Discharge   Rev Per Bed  Rev Per Bed Days    Rev Per FTE  \\\n",
       "0       66656.736548  2.445789e+06       6700.793116  217721.097441   \n",
       "1       45637.017052  1.529306e+06       4189.878781  156468.683705   \n",
       "2      145831.227642  7.473850e+05       2007.300918  163720.710113   \n",
       "3       30976.631238  1.457248e+06       3992.461584  201604.300752   \n",
       "4       79665.064578  2.951875e+06       8087.329207  257934.416739   \n",
       "\n",
       "   Discharges Per Bed  Discharges Per Bed Days  Discharges Per FTE  \n",
       "0           36.692308                 0.100527           36.692308  \n",
       "1           33.510204                 0.091809           33.510204  \n",
       "2            5.125000                 0.013765            5.125000  \n",
       "3           47.043478                 0.128886           47.043478  \n",
       "4           37.053571                 0.101517           37.053571  "
      ]
     },
     "execution_count": 24,
     "metadata": {},
     "output_type": "execute_result"
    }
   ],
   "source": [
    "#Features File Read\n",
    "features = pd.read_csv(\"featuresCO2017.csv\")\n",
    "features.head()"
   ]
  },
  {
   "cell_type": "code",
   "execution_count": 25,
   "metadata": {},
   "outputs": [],
   "source": [
    "y = df[['Net Income Score']]"
   ]
  },
  {
   "cell_type": "code",
   "execution_count": 26,
   "metadata": {},
   "outputs": [],
   "source": [
    "X = features"
   ]
  },
  {
   "cell_type": "code",
   "execution_count": 27,
   "metadata": {},
   "outputs": [],
   "source": [
    "#Create a training and testing dataset\n",
    "X_train, X_test, y_train, y_test = train_test_split(\n",
    "    X, y, random_state=1)"
   ]
  },
  {
   "cell_type": "code",
   "execution_count": 28,
   "metadata": {},
   "outputs": [
    {
     "data": {
      "text/plain": [
       "(33, 1)"
      ]
     },
     "execution_count": 28,
     "metadata": {},
     "output_type": "execute_result"
    }
   ],
   "source": [
    "y_train.shape"
   ]
  },
  {
   "cell_type": "code",
   "execution_count": 29,
   "metadata": {},
   "outputs": [
    {
     "data": {
      "text/plain": [
       "(33, 13)"
      ]
     },
     "execution_count": 29,
     "metadata": {},
     "output_type": "execute_result"
    }
   ],
   "source": [
    "X_train.shape"
   ]
  },
  {
   "cell_type": "code",
   "execution_count": 30,
   "metadata": {},
   "outputs": [],
   "source": [
    "# Scale your data\n",
    "X_scaler = MinMaxScaler().fit(X_train)\n",
    "X_train_scaled = X_scaler.transform(X_train)\n",
    "X_test_scaled = X_scaler.transform(X_test)"
   ]
  },
  {
   "cell_type": "code",
   "execution_count": 31,
   "metadata": {},
   "outputs": [
    {
     "name": "stderr",
     "output_type": "stream",
     "text": [
      "C:\\Users\\rodge\\anaconda3\\envs\\PythonData\\lib\\site-packages\\sklearn\\neighbors\\_classification.py:179: DataConversionWarning: A column-vector y was passed when a 1d array was expected. Please change the shape of y to (n_samples,), for example using ravel().\n",
      "  return self._fit(X, y)\n",
      "C:\\Users\\rodge\\anaconda3\\envs\\PythonData\\lib\\site-packages\\sklearn\\neighbors\\_classification.py:179: DataConversionWarning: A column-vector y was passed when a 1d array was expected. Please change the shape of y to (n_samples,), for example using ravel().\n",
      "  return self._fit(X, y)\n",
      "C:\\Users\\rodge\\anaconda3\\envs\\PythonData\\lib\\site-packages\\sklearn\\neighbors\\_classification.py:179: DataConversionWarning: A column-vector y was passed when a 1d array was expected. Please change the shape of y to (n_samples,), for example using ravel().\n",
      "  return self._fit(X, y)\n",
      "C:\\Users\\rodge\\anaconda3\\envs\\PythonData\\lib\\site-packages\\sklearn\\neighbors\\_classification.py:179: DataConversionWarning: A column-vector y was passed when a 1d array was expected. Please change the shape of y to (n_samples,), for example using ravel().\n",
      "  return self._fit(X, y)\n",
      "C:\\Users\\rodge\\anaconda3\\envs\\PythonData\\lib\\site-packages\\sklearn\\neighbors\\_classification.py:179: DataConversionWarning: A column-vector y was passed when a 1d array was expected. Please change the shape of y to (n_samples,), for example using ravel().\n",
      "  return self._fit(X, y)\n",
      "C:\\Users\\rodge\\anaconda3\\envs\\PythonData\\lib\\site-packages\\sklearn\\neighbors\\_classification.py:179: DataConversionWarning: A column-vector y was passed when a 1d array was expected. Please change the shape of y to (n_samples,), for example using ravel().\n",
      "  return self._fit(X, y)\n",
      "C:\\Users\\rodge\\anaconda3\\envs\\PythonData\\lib\\site-packages\\sklearn\\neighbors\\_classification.py:179: DataConversionWarning: A column-vector y was passed when a 1d array was expected. Please change the shape of y to (n_samples,), for example using ravel().\n",
      "  return self._fit(X, y)\n",
      "C:\\Users\\rodge\\anaconda3\\envs\\PythonData\\lib\\site-packages\\sklearn\\neighbors\\_classification.py:179: DataConversionWarning: A column-vector y was passed when a 1d array was expected. Please change the shape of y to (n_samples,), for example using ravel().\n",
      "  return self._fit(X, y)\n",
      "C:\\Users\\rodge\\anaconda3\\envs\\PythonData\\lib\\site-packages\\sklearn\\neighbors\\_classification.py:179: DataConversionWarning: A column-vector y was passed when a 1d array was expected. Please change the shape of y to (n_samples,), for example using ravel().\n",
      "  return self._fit(X, y)\n",
      "C:\\Users\\rodge\\anaconda3\\envs\\PythonData\\lib\\site-packages\\sklearn\\neighbors\\_classification.py:179: DataConversionWarning: A column-vector y was passed when a 1d array was expected. Please change the shape of y to (n_samples,), for example using ravel().\n",
      "  return self._fit(X, y)\n"
     ]
    },
    {
     "name": "stdout",
     "output_type": "stream",
     "text": [
      "k: 1, Train/Test Score: 1.000/0.636\n",
      "k: 3, Train/Test Score: 0.758/0.364\n",
      "k: 5, Train/Test Score: 0.667/0.455\n",
      "k: 7, Train/Test Score: 0.667/0.364\n",
      "k: 9, Train/Test Score: 0.576/0.364\n",
      "k: 11, Train/Test Score: 0.545/0.364\n",
      "k: 13, Train/Test Score: 0.515/0.364\n",
      "k: 15, Train/Test Score: 0.515/0.455\n",
      "k: 17, Train/Test Score: 0.485/0.455\n",
      "k: 19, Train/Test Score: 0.485/0.455\n"
     ]
    },
    {
     "data": {
      "image/png": "[encoded data removed]",
      "text/plain": [
       "<Figure size 432x288 with 1 Axes>"
      ]
     },
     "metadata": {
      "needs_background": "light"
     },
     "output_type": "display_data"
    }
   ],
   "source": [
    "# Create the for loop and KNN model\n",
    "train_scores = []\n",
    "test_scores = []\n",
    "for k in range(1, 20, 2):\n",
    "    knn = KNeighborsClassifier(n_neighbors=k)\n",
    "    knn.fit(X_train_scaled, y_train)\n",
    "    train_score = knn.score(X_train_scaled, y_train)\n",
    "    test_score = knn.score(X_test_scaled, y_test)\n",
    "    train_scores.append(train_score)\n",
    "    test_scores.append(test_score)\n",
    "    print(f\"k: {k}, Train/Test Score: {train_score:.3f}/{test_score:.3f}\")\n",
    "    \n",
    "plt.plot(range(1, 20, 2), train_scores, marker='o')\n",
    "plt.plot(range(1, 20, 2), test_scores, marker=\"x\")\n",
    "plt.xlabel(\"k neighbors\")\n",
    "plt.ylabel(\"Testing accuracy Score\")\n",
    "plt.show()"
   ]
  },
  {
   "cell_type": "code",
   "execution_count": 32,
   "metadata": {},
   "outputs": [
    {
     "name": "stdout",
     "output_type": "stream",
     "text": [
      "k=15 Test Acc: 0.455\n"
     ]
    },
    {
     "name": "stderr",
     "output_type": "stream",
     "text": [
      "C:\\Users\\rodge\\anaconda3\\envs\\PythonData\\lib\\site-packages\\sklearn\\neighbors\\_classification.py:179: DataConversionWarning: A column-vector y was passed when a 1d array was expected. Please change the shape of y to (n_samples,), for example using ravel().\n",
      "  return self._fit(X, y)\n"
     ]
    }
   ],
   "source": [
    "# Review a range of K values for most efficient accuracy\n",
    "knn = KNeighborsClassifier(n_neighbors=15)\n",
    "knn.fit(X_train_scaled, y_train)\n",
    "print('k=15 Test Acc: %.3f' % knn.score(X_test_scaled, y_test))"
   ]
  },
  {
   "cell_type": "code",
   "execution_count": 34,
   "metadata": {},
   "outputs": [
    {
     "name": "stdout",
     "output_type": "stream",
     "text": [
      "k=5 Test Acc: 0.455\n"
     ]
    },
    {
     "name": "stderr",
     "output_type": "stream",
     "text": [
      "C:\\Users\\rodge\\anaconda3\\envs\\PythonData\\lib\\site-packages\\sklearn\\neighbors\\_classification.py:179: DataConversionWarning: A column-vector y was passed when a 1d array was expected. Please change the shape of y to (n_samples,), for example using ravel().\n",
      "  return self._fit(X, y)\n"
     ]
    }
   ],
   "source": [
    "# Review a range of K values for most efficient accuracy\n",
    "knn = KNeighborsClassifier(n_neighbors=5)\n",
    "knn.fit(X_train_scaled, y_train)\n",
    "print('k=5 Test Acc: %.3f' % knn.score(X_test_scaled, y_test))"
   ]
  },
  {
   "cell_type": "code",
   "execution_count": 35,
   "metadata": {},
   "outputs": [
    {
     "data": {
      "text/plain": [
       "KNeighborsClassifier(n_neighbors=15)"
      ]
     },
     "execution_count": 35,
     "metadata": {},
     "output_type": "execute_result"
    }
   ],
   "source": [
    "# Create the KNN model for GridSearchCV enhancement\n",
    "#from sklearn.svm import SVC \n",
    "modelc = KNeighborsClassifier(n_neighbors=15)\n",
    "modelc"
   ]
  },
  {
   "cell_type": "code",
   "execution_count": 36,
   "metadata": {},
   "outputs": [],
   "source": [
    "# Train the model with GridSearch\n",
    "param_grid = {'algorithm': ['ball_tree', 'kd_tree', 'brute'],\n",
    "              'leaf_size': [15, 20, 30]}\n",
    "gridc = GridSearchCV(modelc, param_grid, verbose=3)"
   ]
  },
  {
   "cell_type": "code",
   "execution_count": 37,
   "metadata": {},
   "outputs": [
    {
     "name": "stdout",
     "output_type": "stream",
     "text": [
      "Fitting 5 folds for each of 9 candidates, totalling 45 fits\n",
      "[CV 1/5] END ..............algorithm=ball_tree, leaf_size=15; total time=   0.0s\n",
      "[CV 2/5] END ..............algorithm=ball_tree, leaf_size=15; total time=   0.0s\n",
      "[CV 3/5] END ..............algorithm=ball_tree, leaf_size=15; total time=   0.0s\n",
      "[CV 4/5] END ..............algorithm=ball_tree, leaf_size=15; total time=   0.0s\n",
      "[CV 5/5] END ..............algorithm=ball_tree, leaf_size=15; total time=   0.0s\n",
      "[CV 1/5] END ..............algorithm=ball_tree, leaf_size=20; total time=   0.0s\n",
      "[CV 2/5] END ..............algorithm=ball_tree, leaf_size=20; total time=   0.0s\n",
      "[CV 3/5] END ..............algorithm=ball_tree, leaf_size=20; total time=   0.0s\n",
      "[CV 4/5] END ..............algorithm=ball_tree, leaf_size=20; total time=   0.0s\n",
      "[CV 5/5] END ..............algorithm=ball_tree, leaf_size=20; total time=   0.0s\n",
      "[CV 1/5] END ..............algorithm=ball_tree, leaf_size=30; total time=   0.0s\n",
      "[CV 2/5] END ..............algorithm=ball_tree, leaf_size=30; total time=   0.0s\n",
      "[CV 3/5] END ..............algorithm=ball_tree, leaf_size=30; total time=   0.0s\n",
      "[CV 4/5] END ..............algorithm=ball_tree, leaf_size=30; total time=   0.0s\n",
      "[CV 5/5] END ..............algorithm=ball_tree, leaf_size=30; total time=   0.0s\n",
      "[CV 1/5] END ................algorithm=kd_tree, leaf_size=15; total time=   0.0s\n",
      "[CV 2/5] END ................algorithm=kd_tree, leaf_size=15; total time=   0.0s\n",
      "[CV 3/5] END ................algorithm=kd_tree, leaf_size=15; total time=   0.0s\n",
      "[CV 4/5] END ................algorithm=kd_tree, leaf_size=15; total time=   0.0s\n",
      "[CV 5/5] END ................algorithm=kd_tree, leaf_size=15; total time=   0.0s\n",
      "[CV 1/5] END ................algorithm=kd_tree, leaf_size=20; total time=   0.0s\n",
      "[CV 2/5] END ................algorithm=kd_tree, leaf_size=20; total time=   0.0s\n"
     ]
    },
    {
     "name": "stderr",
     "output_type": "stream",
     "text": [
      "C:\\Users\\rodge\\anaconda3\\envs\\PythonData\\lib\\site-packages\\sklearn\\model_selection\\_split.py:668: UserWarning: The least populated class in y has only 4 members, which is less than n_splits=5.\n",
      "  % (min_groups, self.n_splits)), UserWarning)\n",
      "C:\\Users\\rodge\\anaconda3\\envs\\PythonData\\lib\\site-packages\\sklearn\\neighbors\\_classification.py:179: DataConversionWarning: A column-vector y was passed when a 1d array was expected. Please change the shape of y to (n_samples,), for example using ravel().\n",
      "  return self._fit(X, y)\n",
      "C:\\Users\\rodge\\anaconda3\\envs\\PythonData\\lib\\site-packages\\sklearn\\neighbors\\_classification.py:179: DataConversionWarning: A column-vector y was passed when a 1d array was expected. Please change the shape of y to (n_samples,), for example using ravel().\n",
      "  return self._fit(X, y)\n",
      "C:\\Users\\rodge\\anaconda3\\envs\\PythonData\\lib\\site-packages\\sklearn\\neighbors\\_classification.py:179: DataConversionWarning: A column-vector y was passed when a 1d array was expected. Please change the shape of y to (n_samples,), for example using ravel().\n",
      "  return self._fit(X, y)\n",
      "C:\\Users\\rodge\\anaconda3\\envs\\PythonData\\lib\\site-packages\\sklearn\\neighbors\\_classification.py:179: DataConversionWarning: A column-vector y was passed when a 1d array was expected. Please change the shape of y to (n_samples,), for example using ravel().\n",
      "  return self._fit(X, y)\n",
      "C:\\Users\\rodge\\anaconda3\\envs\\PythonData\\lib\\site-packages\\sklearn\\neighbors\\_classification.py:179: DataConversionWarning: A column-vector y was passed when a 1d array was expected. Please change the shape of y to (n_samples,), for example using ravel().\n",
      "  return self._fit(X, y)\n",
      "C:\\Users\\rodge\\anaconda3\\envs\\PythonData\\lib\\site-packages\\sklearn\\neighbors\\_classification.py:179: DataConversionWarning: A column-vector y was passed when a 1d array was expected. Please change the shape of y to (n_samples,), for example using ravel().\n",
      "  return self._fit(X, y)\n",
      "C:\\Users\\rodge\\anaconda3\\envs\\PythonData\\lib\\site-packages\\sklearn\\neighbors\\_classification.py:179: DataConversionWarning: A column-vector y was passed when a 1d array was expected. Please change the shape of y to (n_samples,), for example using ravel().\n",
      "  return self._fit(X, y)\n",
      "C:\\Users\\rodge\\anaconda3\\envs\\PythonData\\lib\\site-packages\\sklearn\\neighbors\\_classification.py:179: DataConversionWarning: A column-vector y was passed when a 1d array was expected. Please change the shape of y to (n_samples,), for example using ravel().\n",
      "  return self._fit(X, y)\n",
      "C:\\Users\\rodge\\anaconda3\\envs\\PythonData\\lib\\site-packages\\sklearn\\neighbors\\_classification.py:179: DataConversionWarning: A column-vector y was passed when a 1d array was expected. Please change the shape of y to (n_samples,), for example using ravel().\n",
      "  return self._fit(X, y)\n",
      "C:\\Users\\rodge\\anaconda3\\envs\\PythonData\\lib\\site-packages\\sklearn\\neighbors\\_classification.py:179: DataConversionWarning: A column-vector y was passed when a 1d array was expected. Please change the shape of y to (n_samples,), for example using ravel().\n",
      "  return self._fit(X, y)\n",
      "C:\\Users\\rodge\\anaconda3\\envs\\PythonData\\lib\\site-packages\\sklearn\\neighbors\\_classification.py:179: DataConversionWarning: A column-vector y was passed when a 1d array was expected. Please change the shape of y to (n_samples,), for example using ravel().\n",
      "  return self._fit(X, y)\n",
      "C:\\Users\\rodge\\anaconda3\\envs\\PythonData\\lib\\site-packages\\sklearn\\neighbors\\_classification.py:179: DataConversionWarning: A column-vector y was passed when a 1d array was expected. Please change the shape of y to (n_samples,), for example using ravel().\n",
      "  return self._fit(X, y)\n",
      "C:\\Users\\rodge\\anaconda3\\envs\\PythonData\\lib\\site-packages\\sklearn\\neighbors\\_classification.py:179: DataConversionWarning: A column-vector y was passed when a 1d array was expected. Please change the shape of y to (n_samples,), for example using ravel().\n",
      "  return self._fit(X, y)\n",
      "C:\\Users\\rodge\\anaconda3\\envs\\PythonData\\lib\\site-packages\\sklearn\\neighbors\\_classification.py:179: DataConversionWarning: A column-vector y was passed when a 1d array was expected. Please change the shape of y to (n_samples,), for example using ravel().\n",
      "  return self._fit(X, y)\n",
      "C:\\Users\\rodge\\anaconda3\\envs\\PythonData\\lib\\site-packages\\sklearn\\neighbors\\_classification.py:179: DataConversionWarning: A column-vector y was passed when a 1d array was expected. Please change the shape of y to (n_samples,), for example using ravel().\n",
      "  return self._fit(X, y)\n",
      "C:\\Users\\rodge\\anaconda3\\envs\\PythonData\\lib\\site-packages\\sklearn\\neighbors\\_classification.py:179: DataConversionWarning: A column-vector y was passed when a 1d array was expected. Please change the shape of y to (n_samples,), for example using ravel().\n",
      "  return self._fit(X, y)\n",
      "C:\\Users\\rodge\\anaconda3\\envs\\PythonData\\lib\\site-packages\\sklearn\\neighbors\\_classification.py:179: DataConversionWarning: A column-vector y was passed when a 1d array was expected. Please change the shape of y to (n_samples,), for example using ravel().\n",
      "  return self._fit(X, y)\n",
      "C:\\Users\\rodge\\anaconda3\\envs\\PythonData\\lib\\site-packages\\sklearn\\neighbors\\_classification.py:179: DataConversionWarning: A column-vector y was passed when a 1d array was expected. Please change the shape of y to (n_samples,), for example using ravel().\n",
      "  return self._fit(X, y)\n",
      "C:\\Users\\rodge\\anaconda3\\envs\\PythonData\\lib\\site-packages\\sklearn\\neighbors\\_classification.py:179: DataConversionWarning: A column-vector y was passed when a 1d array was expected. Please change the shape of y to (n_samples,), for example using ravel().\n",
      "  return self._fit(X, y)\n",
      "C:\\Users\\rodge\\anaconda3\\envs\\PythonData\\lib\\site-packages\\sklearn\\neighbors\\_classification.py:179: DataConversionWarning: A column-vector y was passed when a 1d array was expected. Please change the shape of y to (n_samples,), for example using ravel().\n",
      "  return self._fit(X, y)\n",
      "C:\\Users\\rodge\\anaconda3\\envs\\PythonData\\lib\\site-packages\\sklearn\\neighbors\\_classification.py:179: DataConversionWarning: A column-vector y was passed when a 1d array was expected. Please change the shape of y to (n_samples,), for example using ravel().\n",
      "  return self._fit(X, y)\n",
      "C:\\Users\\rodge\\anaconda3\\envs\\PythonData\\lib\\site-packages\\sklearn\\neighbors\\_classification.py:179: DataConversionWarning: A column-vector y was passed when a 1d array was expected. Please change the shape of y to (n_samples,), for example using ravel().\n",
      "  return self._fit(X, y)\n",
      "C:\\Users\\rodge\\anaconda3\\envs\\PythonData\\lib\\site-packages\\sklearn\\neighbors\\_classification.py:179: DataConversionWarning: A column-vector y was passed when a 1d array was expected. Please change the shape of y to (n_samples,), for example using ravel().\n",
      "  return self._fit(X, y)\n",
      "C:\\Users\\rodge\\anaconda3\\envs\\PythonData\\lib\\site-packages\\sklearn\\neighbors\\_classification.py:179: DataConversionWarning: A column-vector y was passed when a 1d array was expected. Please change the shape of y to (n_samples,), for example using ravel().\n",
      "  return self._fit(X, y)\n"
     ]
    },
    {
     "name": "stdout",
     "output_type": "stream",
     "text": [
      "[CV 3/5] END ................algorithm=kd_tree, leaf_size=20; total time=   0.0s\n",
      "[CV 4/5] END ................algorithm=kd_tree, leaf_size=20; total time=   0.0s\n",
      "[CV 5/5] END ................algorithm=kd_tree, leaf_size=20; total time=   0.0s\n",
      "[CV 1/5] END ................algorithm=kd_tree, leaf_size=30; total time=   0.0s\n",
      "[CV 2/5] END ................algorithm=kd_tree, leaf_size=30; total time=   0.0s\n",
      "[CV 3/5] END ................algorithm=kd_tree, leaf_size=30; total time=   0.0s\n",
      "[CV 4/5] END ................algorithm=kd_tree, leaf_size=30; total time=   0.0s\n",
      "[CV 5/5] END ................algorithm=kd_tree, leaf_size=30; total time=   0.0s\n",
      "[CV 1/5] END ..................algorithm=brute, leaf_size=15; total time=   0.0s\n",
      "[CV 2/5] END ..................algorithm=brute, leaf_size=15; total time=   0.0s\n",
      "[CV 3/5] END ..................algorithm=brute, leaf_size=15; total time=   0.0s\n",
      "[CV 4/5] END ..................algorithm=brute, leaf_size=15; total time=   0.0s\n",
      "[CV 5/5] END ..................algorithm=brute, leaf_size=15; total time=   0.0s\n",
      "[CV 1/5] END ..................algorithm=brute, leaf_size=20; total time=   0.0s\n",
      "[CV 2/5] END ..................algorithm=brute, leaf_size=20; total time=   0.0s\n",
      "[CV 3/5] END ..................algorithm=brute, leaf_size=20; total time=   0.0s\n",
      "[CV 4/5] END ..................algorithm=brute, leaf_size=20; total time=   0.0s\n",
      "[CV 5/5] END ..................algorithm=brute, leaf_size=20; total time=   0.0s\n",
      "[CV 1/5] END ..................algorithm=brute, leaf_size=30; total time=   0.0s\n",
      "[CV 2/5] END ..................algorithm=brute, leaf_size=30; total time=   0.0s\n",
      "[CV 3/5] END ..................algorithm=brute, leaf_size=30; total time=   0.0s\n",
      "[CV 4/5] END ..................algorithm=brute, leaf_size=30; total time=   0.0s\n",
      "[CV 5/5] END ..................algorithm=brute, leaf_size=30; total time=   0.0s\n"
     ]
    },
    {
     "name": "stderr",
     "output_type": "stream",
     "text": [
      "C:\\Users\\rodge\\anaconda3\\envs\\PythonData\\lib\\site-packages\\sklearn\\neighbors\\_classification.py:179: DataConversionWarning: A column-vector y was passed when a 1d array was expected. Please change the shape of y to (n_samples,), for example using ravel().\n",
      "  return self._fit(X, y)\n",
      "C:\\Users\\rodge\\anaconda3\\envs\\PythonData\\lib\\site-packages\\sklearn\\neighbors\\_classification.py:179: DataConversionWarning: A column-vector y was passed when a 1d array was expected. Please change the shape of y to (n_samples,), for example using ravel().\n",
      "  return self._fit(X, y)\n",
      "C:\\Users\\rodge\\anaconda3\\envs\\PythonData\\lib\\site-packages\\sklearn\\neighbors\\_classification.py:179: DataConversionWarning: A column-vector y was passed when a 1d array was expected. Please change the shape of y to (n_samples,), for example using ravel().\n",
      "  return self._fit(X, y)\n",
      "C:\\Users\\rodge\\anaconda3\\envs\\PythonData\\lib\\site-packages\\sklearn\\neighbors\\_classification.py:179: DataConversionWarning: A column-vector y was passed when a 1d array was expected. Please change the shape of y to (n_samples,), for example using ravel().\n",
      "  return self._fit(X, y)\n",
      "C:\\Users\\rodge\\anaconda3\\envs\\PythonData\\lib\\site-packages\\sklearn\\neighbors\\_classification.py:179: DataConversionWarning: A column-vector y was passed when a 1d array was expected. Please change the shape of y to (n_samples,), for example using ravel().\n",
      "  return self._fit(X, y)\n",
      "C:\\Users\\rodge\\anaconda3\\envs\\PythonData\\lib\\site-packages\\sklearn\\neighbors\\_classification.py:179: DataConversionWarning: A column-vector y was passed when a 1d array was expected. Please change the shape of y to (n_samples,), for example using ravel().\n",
      "  return self._fit(X, y)\n",
      "C:\\Users\\rodge\\anaconda3\\envs\\PythonData\\lib\\site-packages\\sklearn\\neighbors\\_classification.py:179: DataConversionWarning: A column-vector y was passed when a 1d array was expected. Please change the shape of y to (n_samples,), for example using ravel().\n",
      "  return self._fit(X, y)\n",
      "C:\\Users\\rodge\\anaconda3\\envs\\PythonData\\lib\\site-packages\\sklearn\\neighbors\\_classification.py:179: DataConversionWarning: A column-vector y was passed when a 1d array was expected. Please change the shape of y to (n_samples,), for example using ravel().\n",
      "  return self._fit(X, y)\n",
      "C:\\Users\\rodge\\anaconda3\\envs\\PythonData\\lib\\site-packages\\sklearn\\neighbors\\_classification.py:179: DataConversionWarning: A column-vector y was passed when a 1d array was expected. Please change the shape of y to (n_samples,), for example using ravel().\n",
      "  return self._fit(X, y)\n",
      "C:\\Users\\rodge\\anaconda3\\envs\\PythonData\\lib\\site-packages\\sklearn\\neighbors\\_classification.py:179: DataConversionWarning: A column-vector y was passed when a 1d array was expected. Please change the shape of y to (n_samples,), for example using ravel().\n",
      "  return self._fit(X, y)\n",
      "C:\\Users\\rodge\\anaconda3\\envs\\PythonData\\lib\\site-packages\\sklearn\\neighbors\\_classification.py:179: DataConversionWarning: A column-vector y was passed when a 1d array was expected. Please change the shape of y to (n_samples,), for example using ravel().\n",
      "  return self._fit(X, y)\n",
      "C:\\Users\\rodge\\anaconda3\\envs\\PythonData\\lib\\site-packages\\sklearn\\neighbors\\_classification.py:179: DataConversionWarning: A column-vector y was passed when a 1d array was expected. Please change the shape of y to (n_samples,), for example using ravel().\n",
      "  return self._fit(X, y)\n",
      "C:\\Users\\rodge\\anaconda3\\envs\\PythonData\\lib\\site-packages\\sklearn\\neighbors\\_classification.py:179: DataConversionWarning: A column-vector y was passed when a 1d array was expected. Please change the shape of y to (n_samples,), for example using ravel().\n",
      "  return self._fit(X, y)\n",
      "C:\\Users\\rodge\\anaconda3\\envs\\PythonData\\lib\\site-packages\\sklearn\\neighbors\\_classification.py:179: DataConversionWarning: A column-vector y was passed when a 1d array was expected. Please change the shape of y to (n_samples,), for example using ravel().\n",
      "  return self._fit(X, y)\n",
      "C:\\Users\\rodge\\anaconda3\\envs\\PythonData\\lib\\site-packages\\sklearn\\neighbors\\_classification.py:179: DataConversionWarning: A column-vector y was passed when a 1d array was expected. Please change the shape of y to (n_samples,), for example using ravel().\n",
      "  return self._fit(X, y)\n",
      "C:\\Users\\rodge\\anaconda3\\envs\\PythonData\\lib\\site-packages\\sklearn\\neighbors\\_classification.py:179: DataConversionWarning: A column-vector y was passed when a 1d array was expected. Please change the shape of y to (n_samples,), for example using ravel().\n",
      "  return self._fit(X, y)\n",
      "C:\\Users\\rodge\\anaconda3\\envs\\PythonData\\lib\\site-packages\\sklearn\\neighbors\\_classification.py:179: DataConversionWarning: A column-vector y was passed when a 1d array was expected. Please change the shape of y to (n_samples,), for example using ravel().\n",
      "  return self._fit(X, y)\n",
      "C:\\Users\\rodge\\anaconda3\\envs\\PythonData\\lib\\site-packages\\sklearn\\neighbors\\_classification.py:179: DataConversionWarning: A column-vector y was passed when a 1d array was expected. Please change the shape of y to (n_samples,), for example using ravel().\n",
      "  return self._fit(X, y)\n",
      "C:\\Users\\rodge\\anaconda3\\envs\\PythonData\\lib\\site-packages\\sklearn\\neighbors\\_classification.py:179: DataConversionWarning: A column-vector y was passed when a 1d array was expected. Please change the shape of y to (n_samples,), for example using ravel().\n",
      "  return self._fit(X, y)\n",
      "C:\\Users\\rodge\\anaconda3\\envs\\PythonData\\lib\\site-packages\\sklearn\\neighbors\\_classification.py:179: DataConversionWarning: A column-vector y was passed when a 1d array was expected. Please change the shape of y to (n_samples,), for example using ravel().\n",
      "  return self._fit(X, y)\n",
      "C:\\Users\\rodge\\anaconda3\\envs\\PythonData\\lib\\site-packages\\sklearn\\neighbors\\_classification.py:179: DataConversionWarning: A column-vector y was passed when a 1d array was expected. Please change the shape of y to (n_samples,), for example using ravel().\n",
      "  return self._fit(X, y)\n",
      "C:\\Users\\rodge\\anaconda3\\envs\\PythonData\\lib\\site-packages\\sklearn\\neighbors\\_classification.py:179: DataConversionWarning: A column-vector y was passed when a 1d array was expected. Please change the shape of y to (n_samples,), for example using ravel().\n",
      "  return self._fit(X, y)\n"
     ]
    },
    {
     "data": {
      "text/plain": [
       "GridSearchCV(estimator=KNeighborsClassifier(n_neighbors=15),\n",
       "             param_grid={'algorithm': ['ball_tree', 'kd_tree', 'brute'],\n",
       "                         'leaf_size': [15, 20, 30]},\n",
       "             verbose=3)"
      ]
     },
     "execution_count": 37,
     "metadata": {},
     "output_type": "execute_result"
    }
   ],
   "source": [
    "gridc.fit(X_train_scaled, y_train)"
   ]
  },
  {
   "cell_type": "code",
   "execution_count": 41,
   "metadata": {},
   "outputs": [
    {
     "name": "stdout",
     "output_type": "stream",
     "text": [
      "{'algorithm': 'ball_tree', 'leaf_size': 15}\n",
      "0.5428571428571429\n"
     ]
    }
   ],
   "source": [
    "print(gridc.best_params_)\n",
    "print(gridc.best_score_)"
   ]
  },
  {
   "cell_type": "code",
   "execution_count": 42,
   "metadata": {},
   "outputs": [],
   "source": [
    "predictions = gridc.predict(X_test)"
   ]
  },
  {
   "cell_type": "code",
   "execution_count": 43,
   "metadata": {},
   "outputs": [
    {
     "name": "stdout",
     "output_type": "stream",
     "text": [
      "              precision    recall  f1-score   support\n",
      "\n",
      "           3       0.27      1.00      0.43         3\n",
      "           2       0.00      0.00      0.00         5\n",
      "           1       0.00      0.00      0.00         3\n",
      "\n",
      "    accuracy                           0.27        11\n",
      "   macro avg       0.09      0.33      0.14        11\n",
      "weighted avg       0.07      0.27      0.12        11\n",
      "\n"
     ]
    },
    {
     "name": "stderr",
     "output_type": "stream",
     "text": [
      "C:\\Users\\rodge\\anaconda3\\envs\\PythonData\\lib\\site-packages\\sklearn\\metrics\\_classification.py:1245: UndefinedMetricWarning: Precision and F-score are ill-defined and being set to 0.0 in labels with no predicted samples. Use `zero_division` parameter to control this behavior.\n",
      "  _warn_prf(average, modifier, msg_start, len(result))\n",
      "C:\\Users\\rodge\\anaconda3\\envs\\PythonData\\lib\\site-packages\\sklearn\\metrics\\_classification.py:1245: UndefinedMetricWarning: Precision and F-score are ill-defined and being set to 0.0 in labels with no predicted samples. Use `zero_division` parameter to control this behavior.\n",
      "  _warn_prf(average, modifier, msg_start, len(result))\n",
      "C:\\Users\\rodge\\anaconda3\\envs\\PythonData\\lib\\site-packages\\sklearn\\metrics\\_classification.py:1245: UndefinedMetricWarning: Precision and F-score are ill-defined and being set to 0.0 in labels with no predicted samples. Use `zero_division` parameter to control this behavior.\n",
      "  _warn_prf(average, modifier, msg_start, len(result))\n"
     ]
    }
   ],
   "source": [
    "# Calculate classification report\n",
    "print(classification_report(y_test, predictions,\n",
    "                            target_names=[\"3\", \"2\" , \"1\"]))"
   ]
  },
  {
   "cell_type": "code",
   "execution_count": null,
   "metadata": {},
   "outputs": [],
   "source": []
  },
  {
   "cell_type": "code",
   "execution_count": null,
   "metadata": {},
   "outputs": [],
   "source": []
  }
 ],
 "metadata": {
  "kernelspec": {
   "display_name": "Python [conda env:PythonData]",
   "language": "python",
   "name": "conda-env-PythonData-py"
  },
  "language_info": {
   "codemirror_mode": {
    "name": "ipython",
    "version": 3
   },
   "file_extension": ".py",
   "mimetype": "text/x-python",
   "name": "python",
   "nbconvert_exporter": "python",
   "pygments_lexer": "ipython3",
   "version": "3.7.1"
  }
 },
 "nbformat": 4,
 "nbformat_minor": 4
}
