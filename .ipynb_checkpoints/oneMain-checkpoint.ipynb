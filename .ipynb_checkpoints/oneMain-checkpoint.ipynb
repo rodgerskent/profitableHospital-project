{
 "cells": [
  {
   "cell_type": "code",
   "execution_count": 1,
   "metadata": {},
   "outputs": [],
   "source": [
    "#profitableHospital-project"
   ]
  },
  {
   "cell_type": "code",
   "execution_count": 2,
   "metadata": {},
   "outputs": [],
   "source": [
    "#dependencies\n",
    "import pandas as pd\n",
    "import requests\n",
    "import json\n",
    "import scipy.stats as st\n",
    "from scipy.stats import linregress\n",
    "from sklearn.model_selection import train_test_split\n",
    "from sklearn.preprocessing import LabelEncoder, MinMaxScaler\n",
    "from sklearn.preprocessing import LabelEncoder\n",
    "from sklearn.feature_selection import RFE\n",
    "from sklearn.linear_model import LogisticRegression\n",
    "from sklearn.linear_model import LinearRegression\n",
    "from sklearn.svm import SVC \n",
    "from sklearn.model_selection import GridSearchCV\n",
    "from sklearn.metrics import classification_report\n",
    "import tensorflow\n",
    "from tensorflow.keras.utils import to_categorical\n",
    "import matplotlib.pyplot as plt\n",
    "import numpy as np\n",
    "import joblib"
   ]
  },
  {
   "cell_type": "code",
   "execution_count": 3,
   "metadata": {},
   "outputs": [],
   "source": [
    "# ... File Imports"
   ]
  },
  {
   "cell_type": "code",
   "execution_count": 4,
   "metadata": {},
   "outputs": [
    {
     "name": "stderr",
     "output_type": "stream",
     "text": [
      "C:\\Users\\rodge\\anaconda3\\envs\\PythonData\\lib\\site-packages\\IPython\\core\\interactiveshell.py:3146: DtypeWarning: Columns (105) have mixed types.Specify dtype option on import or set low_memory=False.\n",
      "  interactivity=interactivity, compiler=compiler, result=result)\n"
     ]
    },
    {
     "data": {
      "text/html": [
       "<div>\n",
       "<style scoped>\n",
       "    .dataframe tbody tr th:only-of-type {\n",
       "        vertical-align: middle;\n",
       "    }\n",
       "\n",
       "    .dataframe tbody tr th {\n",
       "        vertical-align: top;\n",
       "    }\n",
       "\n",
       "    .dataframe thead th {\n",
       "        text-align: right;\n",
       "    }\n",
       "</style>\n",
       "<table border=\"1\" class=\"dataframe\">\n",
       "  <thead>\n",
       "    <tr style=\"text-align: right;\">\n",
       "      <th></th>\n",
       "      <th>Provider CCN</th>\n",
       "      <th>Hospital Name</th>\n",
       "      <th>Street Address</th>\n",
       "      <th>City</th>\n",
       "      <th>State Code</th>\n",
       "      <th>Zip Code</th>\n",
       "      <th>County</th>\n",
       "      <th>Medicare CBSA Number</th>\n",
       "      <th>Rural Versus Urban</th>\n",
       "      <th>CCN Facility Type</th>\n",
       "      <th>...</th>\n",
       "      <th>Total Other Income</th>\n",
       "      <th>Total Income</th>\n",
       "      <th>Total Other Expenses</th>\n",
       "      <th>Net Income</th>\n",
       "      <th>Cost To Charge Ratio</th>\n",
       "      <th>Net Revenue from Medicaid</th>\n",
       "      <th>Medicaid Charges</th>\n",
       "      <th>Net Revenue from Stand-Alone SCHIP</th>\n",
       "      <th>Stand-Alone SCHIP Charges</th>\n",
       "      <th>rpt_rec_num</th>\n",
       "    </tr>\n",
       "  </thead>\n",
       "  <tbody>\n",
       "    <tr>\n",
       "      <th>0</th>\n",
       "      <td>510013</td>\n",
       "      <td>REYNOLDS MEMORIAL HOSPITAL</td>\n",
       "      <td>800 WHEELING AVENUE</td>\n",
       "      <td>GLEN DALE</td>\n",
       "      <td>WV</td>\n",
       "      <td>26038</td>\n",
       "      <td>MARSHALL</td>\n",
       "      <td>48540.0</td>\n",
       "      <td>U</td>\n",
       "      <td>STH</td>\n",
       "      <td>...</td>\n",
       "      <td>4492364.0</td>\n",
       "      <td>2638799.0</td>\n",
       "      <td>NaN</td>\n",
       "      <td>2638799.0</td>\n",
       "      <td>0.453498</td>\n",
       "      <td>1237912.0</td>\n",
       "      <td>4026663.0</td>\n",
       "      <td>NaN</td>\n",
       "      <td>NaN</td>\n",
       "      <td>599181</td>\n",
       "    </tr>\n",
       "    <tr>\n",
       "      <th>1</th>\n",
       "      <td>340106</td>\n",
       "      <td>SANDHILLS REGIONAL MEDICAL CENTER</td>\n",
       "      <td>1000 WEST HAMLET AVE</td>\n",
       "      <td>HAMLET</td>\n",
       "      <td>NC</td>\n",
       "      <td>28345</td>\n",
       "      <td>RICHMOND</td>\n",
       "      <td>99934.0</td>\n",
       "      <td>R</td>\n",
       "      <td>STH</td>\n",
       "      <td>...</td>\n",
       "      <td>31174.0</td>\n",
       "      <td>-1114660.0</td>\n",
       "      <td>NaN</td>\n",
       "      <td>-1114660.0</td>\n",
       "      <td>0.173114</td>\n",
       "      <td>391215.0</td>\n",
       "      <td>4981119.0</td>\n",
       "      <td>NaN</td>\n",
       "      <td>NaN</td>\n",
       "      <td>601095</td>\n",
       "    </tr>\n",
       "  </tbody>\n",
       "</table>\n",
       "<p>2 rows × 128 columns</p>\n",
       "</div>"
      ],
      "text/plain": [
       "   Provider CCN                      Hospital Name        Street Address  \\\n",
       "0        510013         REYNOLDS MEMORIAL HOSPITAL   800 WHEELING AVENUE   \n",
       "1        340106  SANDHILLS REGIONAL MEDICAL CENTER  1000 WEST HAMLET AVE   \n",
       "\n",
       "        City State Code Zip Code    County  Medicare CBSA Number  \\\n",
       "0  GLEN DALE         WV    26038  MARSHALL               48540.0   \n",
       "1     HAMLET         NC    28345  RICHMOND               99934.0   \n",
       "\n",
       "  Rural Versus Urban CCN Facility Type  ...  Total Other Income  Total Income  \\\n",
       "0                  U               STH  ...           4492364.0     2638799.0   \n",
       "1                  R               STH  ...             31174.0    -1114660.0   \n",
       "\n",
       "  Total Other Expenses Net Income  Cost To Charge Ratio  \\\n",
       "0                  NaN  2638799.0              0.453498   \n",
       "1                  NaN -1114660.0              0.173114   \n",
       "\n",
       "   Net Revenue from Medicaid  Medicaid Charges  \\\n",
       "0                  1237912.0         4026663.0   \n",
       "1                   391215.0         4981119.0   \n",
       "\n",
       "   Net Revenue from Stand-Alone SCHIP  Stand-Alone SCHIP Charges  rpt_rec_num  \n",
       "0                                 NaN                        NaN       599181  \n",
       "1                                 NaN                        NaN       601095  \n",
       "\n",
       "[2 rows x 128 columns]"
      ]
     },
     "execution_count": 4,
     "metadata": {},
     "output_type": "execute_result"
    }
   ],
   "source": [
    "#2017 Hospital Data from Centers for Medicare Services\n",
    "df = pd.read_csv(\"Medicare_Hospital_Cost_Report_PUF_2017.csv\")\n",
    "df.head(2)"
   ]
  },
  {
   "cell_type": "code",
   "execution_count": 5,
   "metadata": {},
   "outputs": [
    {
     "data": {
      "text/plain": [
       "6075"
      ]
     },
     "execution_count": 5,
     "metadata": {},
     "output_type": "execute_result"
    }
   ],
   "source": [
    "#Quick Check\n",
    "df['Provider CCN'].nunique()"
   ]
  },
  {
   "cell_type": "code",
   "execution_count": 6,
   "metadata": {},
   "outputs": [
    {
     "data": {
      "text/plain": [
       "6171"
      ]
     },
     "execution_count": 6,
     "metadata": {},
     "output_type": "execute_result"
    }
   ],
   "source": [
    "#Quick Check\n",
    "df['Provider CCN'].count()"
   ]
  },
  {
   "cell_type": "code",
   "execution_count": 7,
   "metadata": {},
   "outputs": [],
   "source": [
    "#6367-6171=196\n",
    "#6171-6075=96"
   ]
  },
  {
   "cell_type": "code",
   "execution_count": 8,
   "metadata": {},
   "outputs": [
    {
     "data": {
      "text/plain": [
       "6171"
      ]
     },
     "execution_count": 8,
     "metadata": {},
     "output_type": "execute_result"
    }
   ],
   "source": [
    "df.drop_duplicates(inplace = True)\n",
    "df['Provider CCN'].count()\n",
    "#df.count()"
   ]
  },
  {
   "cell_type": "code",
   "execution_count": 9,
   "metadata": {},
   "outputs": [
    {
     "data": {
      "text/html": [
       "<div>\n",
       "<style scoped>\n",
       "    .dataframe tbody tr th:only-of-type {\n",
       "        vertical-align: middle;\n",
       "    }\n",
       "\n",
       "    .dataframe tbody tr th {\n",
       "        vertical-align: top;\n",
       "    }\n",
       "\n",
       "    .dataframe thead th {\n",
       "        text-align: right;\n",
       "    }\n",
       "</style>\n",
       "<table border=\"1\" class=\"dataframe\">\n",
       "  <thead>\n",
       "    <tr style=\"text-align: right;\">\n",
       "      <th></th>\n",
       "      <th>State Code</th>\n",
       "      <th>CON</th>\n",
       "    </tr>\n",
       "  </thead>\n",
       "  <tbody>\n",
       "    <tr>\n",
       "      <th>0</th>\n",
       "      <td>AK</td>\n",
       "      <td>1</td>\n",
       "    </tr>\n",
       "    <tr>\n",
       "      <th>1</th>\n",
       "      <td>AL</td>\n",
       "      <td>1</td>\n",
       "    </tr>\n",
       "  </tbody>\n",
       "</table>\n",
       "</div>"
      ],
      "text/plain": [
       "  State Code  CON\n",
       "0         AK    1\n",
       "1         AL    1"
      ]
     },
     "execution_count": 9,
     "metadata": {},
     "output_type": "execute_result"
    }
   ],
   "source": [
    "#Certificate of Need Status by State File\n",
    "conTable = pd.read_csv(\"certificateofneedstatesTable.csv\")\n",
    "conTable.head(2)"
   ]
  },
  {
   "cell_type": "code",
   "execution_count": 10,
   "metadata": {},
   "outputs": [
    {
     "data": {
      "text/html": [
       "<div>\n",
       "<style scoped>\n",
       "    .dataframe tbody tr th:only-of-type {\n",
       "        vertical-align: middle;\n",
       "    }\n",
       "\n",
       "    .dataframe tbody tr th {\n",
       "        vertical-align: top;\n",
       "    }\n",
       "\n",
       "    .dataframe thead th {\n",
       "        text-align: right;\n",
       "    }\n",
       "</style>\n",
       "<table border=\"1\" class=\"dataframe\">\n",
       "  <thead>\n",
       "    <tr style=\"text-align: right;\">\n",
       "      <th></th>\n",
       "      <th>Rural Versus Urban</th>\n",
       "      <th>Urban</th>\n",
       "    </tr>\n",
       "  </thead>\n",
       "  <tbody>\n",
       "    <tr>\n",
       "      <th>0</th>\n",
       "      <td>U</td>\n",
       "      <td>1</td>\n",
       "    </tr>\n",
       "    <tr>\n",
       "      <th>1</th>\n",
       "      <td>R</td>\n",
       "      <td>0</td>\n",
       "    </tr>\n",
       "  </tbody>\n",
       "</table>\n",
       "</div>"
      ],
      "text/plain": [
       "  Rural Versus Urban  Urban\n",
       "0                  U      1\n",
       "1                  R      0"
      ]
     },
     "execution_count": 10,
     "metadata": {},
     "output_type": "execute_result"
    }
   ],
   "source": [
    "#String to Numeric Conversion Table for Urban v. Rural designation\n",
    "urbanTable = pd.read_csv(\"ruralversusurbanTable.csv\")\n",
    "urbanTable.head()"
   ]
  },
  {
   "cell_type": "code",
   "execution_count": 11,
   "metadata": {},
   "outputs": [
    {
     "data": {
      "text/html": [
       "<div>\n",
       "<style scoped>\n",
       "    .dataframe tbody tr th:only-of-type {\n",
       "        vertical-align: middle;\n",
       "    }\n",
       "\n",
       "    .dataframe tbody tr th {\n",
       "        vertical-align: top;\n",
       "    }\n",
       "\n",
       "    .dataframe thead th {\n",
       "        text-align: right;\n",
       "    }\n",
       "</style>\n",
       "<table border=\"1\" class=\"dataframe\">\n",
       "  <thead>\n",
       "    <tr style=\"text-align: right;\">\n",
       "      <th></th>\n",
       "      <th>Provider CCN</th>\n",
       "      <th>lat</th>\n",
       "      <th>lng</th>\n",
       "    </tr>\n",
       "  </thead>\n",
       "  <tbody>\n",
       "    <tr>\n",
       "      <th>0</th>\n",
       "      <td>510013</td>\n",
       "      <td>39.946236</td>\n",
       "      <td>-80.752966</td>\n",
       "    </tr>\n",
       "    <tr>\n",
       "      <th>1</th>\n",
       "      <td>340106</td>\n",
       "      <td>34.901612</td>\n",
       "      <td>-79.708561</td>\n",
       "    </tr>\n",
       "  </tbody>\n",
       "</table>\n",
       "</div>"
      ],
      "text/plain": [
       "   Provider CCN        lat        lng\n",
       "0        510013  39.946236 -80.752966\n",
       "1        340106  34.901612 -79.708561"
      ]
     },
     "execution_count": 11,
     "metadata": {},
     "output_type": "execute_result"
    }
   ],
   "source": [
    "#Lattitude & Longitude for the 2017 hospital listing\n",
    "geoTable = pd.read_csv(\"geocoded2017.csv\")\n",
    "geoTable.head(2)"
   ]
  },
  {
   "cell_type": "code",
   "execution_count": 12,
   "metadata": {},
   "outputs": [
    {
     "data": {
      "text/plain": [
       "6171"
      ]
     },
     "execution_count": 12,
     "metadata": {},
     "output_type": "execute_result"
    }
   ],
   "source": [
    "#Quick Check\n",
    "geoTable['Provider CCN'].count()"
   ]
  },
  {
   "cell_type": "code",
   "execution_count": 13,
   "metadata": {},
   "outputs": [
    {
     "data": {
      "text/plain": [
       "6076"
      ]
     },
     "execution_count": 13,
     "metadata": {},
     "output_type": "execute_result"
    }
   ],
   "source": [
    "geoTable.drop_duplicates(inplace = True)\n",
    "geoTable['Provider CCN'].count()\n",
    "#df.count()"
   ]
  },
  {
   "cell_type": "code",
   "execution_count": 14,
   "metadata": {},
   "outputs": [],
   "source": [
    "#6171-6076=95"
   ]
  },
  {
   "cell_type": "code",
   "execution_count": 15,
   "metadata": {},
   "outputs": [],
   "source": [
    "# ... Appending of source files into one main working file"
   ]
  },
  {
   "cell_type": "code",
   "execution_count": 16,
   "metadata": {},
   "outputs": [],
   "source": [
    "mainFile1 = df"
   ]
  },
  {
   "cell_type": "code",
   "execution_count": 17,
   "metadata": {},
   "outputs": [
    {
     "data": {
      "text/html": [
       "<div>\n",
       "<style scoped>\n",
       "    .dataframe tbody tr th:only-of-type {\n",
       "        vertical-align: middle;\n",
       "    }\n",
       "\n",
       "    .dataframe tbody tr th {\n",
       "        vertical-align: top;\n",
       "    }\n",
       "\n",
       "    .dataframe thead th {\n",
       "        text-align: right;\n",
       "    }\n",
       "</style>\n",
       "<table border=\"1\" class=\"dataframe\">\n",
       "  <thead>\n",
       "    <tr style=\"text-align: right;\">\n",
       "      <th></th>\n",
       "      <th>Provider CCN</th>\n",
       "      <th>Hospital Name</th>\n",
       "      <th>Street Address</th>\n",
       "      <th>City</th>\n",
       "      <th>State Code</th>\n",
       "      <th>Zip Code</th>\n",
       "      <th>County</th>\n",
       "      <th>Medicare CBSA Number</th>\n",
       "      <th>Rural Versus Urban</th>\n",
       "      <th>CCN Facility Type</th>\n",
       "      <th>...</th>\n",
       "      <th>Total Other Expenses</th>\n",
       "      <th>Net Income</th>\n",
       "      <th>Cost To Charge Ratio</th>\n",
       "      <th>Net Revenue from Medicaid</th>\n",
       "      <th>Medicaid Charges</th>\n",
       "      <th>Net Revenue from Stand-Alone SCHIP</th>\n",
       "      <th>Stand-Alone SCHIP Charges</th>\n",
       "      <th>rpt_rec_num</th>\n",
       "      <th>lat</th>\n",
       "      <th>lng</th>\n",
       "    </tr>\n",
       "  </thead>\n",
       "  <tbody>\n",
       "    <tr>\n",
       "      <th>0</th>\n",
       "      <td>510013</td>\n",
       "      <td>REYNOLDS MEMORIAL HOSPITAL</td>\n",
       "      <td>800 WHEELING AVENUE</td>\n",
       "      <td>GLEN DALE</td>\n",
       "      <td>WV</td>\n",
       "      <td>26038</td>\n",
       "      <td>MARSHALL</td>\n",
       "      <td>48540.0</td>\n",
       "      <td>U</td>\n",
       "      <td>STH</td>\n",
       "      <td>...</td>\n",
       "      <td>NaN</td>\n",
       "      <td>2638799.0</td>\n",
       "      <td>0.453498</td>\n",
       "      <td>1237912.0</td>\n",
       "      <td>4026663.0</td>\n",
       "      <td>NaN</td>\n",
       "      <td>NaN</td>\n",
       "      <td>599181</td>\n",
       "      <td>39.946236</td>\n",
       "      <td>-80.752966</td>\n",
       "    </tr>\n",
       "    <tr>\n",
       "      <th>1</th>\n",
       "      <td>340106</td>\n",
       "      <td>SANDHILLS REGIONAL MEDICAL CENTER</td>\n",
       "      <td>1000 WEST HAMLET AVE</td>\n",
       "      <td>HAMLET</td>\n",
       "      <td>NC</td>\n",
       "      <td>28345</td>\n",
       "      <td>RICHMOND</td>\n",
       "      <td>99934.0</td>\n",
       "      <td>R</td>\n",
       "      <td>STH</td>\n",
       "      <td>...</td>\n",
       "      <td>NaN</td>\n",
       "      <td>-1114660.0</td>\n",
       "      <td>0.173114</td>\n",
       "      <td>391215.0</td>\n",
       "      <td>4981119.0</td>\n",
       "      <td>NaN</td>\n",
       "      <td>NaN</td>\n",
       "      <td>601095</td>\n",
       "      <td>34.901612</td>\n",
       "      <td>-79.708561</td>\n",
       "    </tr>\n",
       "  </tbody>\n",
       "</table>\n",
       "<p>2 rows × 130 columns</p>\n",
       "</div>"
      ],
      "text/plain": [
       "   Provider CCN                      Hospital Name        Street Address  \\\n",
       "0        510013         REYNOLDS MEMORIAL HOSPITAL   800 WHEELING AVENUE   \n",
       "1        340106  SANDHILLS REGIONAL MEDICAL CENTER  1000 WEST HAMLET AVE   \n",
       "\n",
       "        City State Code Zip Code    County  Medicare CBSA Number  \\\n",
       "0  GLEN DALE         WV    26038  MARSHALL               48540.0   \n",
       "1     HAMLET         NC    28345  RICHMOND               99934.0   \n",
       "\n",
       "  Rural Versus Urban CCN Facility Type  ...  Total Other Expenses  Net Income  \\\n",
       "0                  U               STH  ...                   NaN   2638799.0   \n",
       "1                  R               STH  ...                   NaN  -1114660.0   \n",
       "\n",
       "  Cost To Charge Ratio Net Revenue from Medicaid  Medicaid Charges  \\\n",
       "0             0.453498                 1237912.0         4026663.0   \n",
       "1             0.173114                  391215.0         4981119.0   \n",
       "\n",
       "   Net Revenue from Stand-Alone SCHIP  Stand-Alone SCHIP Charges  rpt_rec_num  \\\n",
       "0                                 NaN                        NaN       599181   \n",
       "1                                 NaN                        NaN       601095   \n",
       "\n",
       "         lat        lng  \n",
       "0  39.946236 -80.752966  \n",
       "1  34.901612 -79.708561  \n",
       "\n",
       "[2 rows x 130 columns]"
      ]
     },
     "execution_count": 17,
     "metadata": {},
     "output_type": "execute_result"
    }
   ],
   "source": [
    "#Append a lattitude & longitude\n",
    "mainFile1 = pd.merge(mainFile1, geoTable, how= \"left\", on=['Provider CCN'])\n",
    "mainFile1.head(2)"
   ]
  },
  {
   "cell_type": "code",
   "execution_count": 18,
   "metadata": {},
   "outputs": [
    {
     "data": {
      "text/plain": [
       "6173"
      ]
     },
     "execution_count": 18,
     "metadata": {},
     "output_type": "execute_result"
    }
   ],
   "source": [
    "#Quick Check\n",
    "mainFile1['Provider CCN'].count()"
   ]
  },
  {
   "cell_type": "code",
   "execution_count": 19,
   "metadata": {},
   "outputs": [
    {
     "data": {
      "text/plain": [
       "6173"
      ]
     },
     "execution_count": 19,
     "metadata": {},
     "output_type": "execute_result"
    }
   ],
   "source": [
    "mainFile1.drop_duplicates(inplace = True)\n",
    "mainFile1['Provider CCN'].count()\n",
    "#df.count()"
   ]
  },
  {
   "cell_type": "code",
   "execution_count": 20,
   "metadata": {},
   "outputs": [],
   "source": [
    "#Append certificate of need indicator\n",
    "mainFile1 = pd.merge(mainFile1, conTable, how= \"left\", on=['State Code'])\n",
    "#mainFile1.head()"
   ]
  },
  {
   "cell_type": "code",
   "execution_count": 21,
   "metadata": {},
   "outputs": [
    {
     "data": {
      "text/plain": [
       "6173"
      ]
     },
     "execution_count": 21,
     "metadata": {},
     "output_type": "execute_result"
    }
   ],
   "source": [
    "#Quick Check\n",
    "mainFile1['Provider CCN'].count()"
   ]
  },
  {
   "cell_type": "code",
   "execution_count": 22,
   "metadata": {},
   "outputs": [],
   "source": [
    "#Append a numeric representation of rural v. urban\n",
    "mainFile1 = pd.merge(mainFile1, urbanTable, how= \"left\", on=['Rural Versus Urban'])"
   ]
  },
  {
   "cell_type": "code",
   "execution_count": 23,
   "metadata": {},
   "outputs": [
    {
     "data": {
      "text/plain": [
       "6173"
      ]
     },
     "execution_count": 23,
     "metadata": {},
     "output_type": "execute_result"
    }
   ],
   "source": [
    "#Quick Check\n",
    "mainFile1['Provider CCN'].count()"
   ]
  },
  {
   "cell_type": "code",
   "execution_count": 24,
   "metadata": {},
   "outputs": [
    {
     "data": {
      "text/html": [
       "<div>\n",
       "<style scoped>\n",
       "    .dataframe tbody tr th:only-of-type {\n",
       "        vertical-align: middle;\n",
       "    }\n",
       "\n",
       "    .dataframe tbody tr th {\n",
       "        vertical-align: top;\n",
       "    }\n",
       "\n",
       "    .dataframe thead th {\n",
       "        text-align: right;\n",
       "    }\n",
       "</style>\n",
       "<table border=\"1\" class=\"dataframe\">\n",
       "  <thead>\n",
       "    <tr style=\"text-align: right;\">\n",
       "      <th></th>\n",
       "      <th>Provider CCN</th>\n",
       "      <th>Hospital Name</th>\n",
       "      <th>Street Address</th>\n",
       "      <th>City</th>\n",
       "      <th>State Code</th>\n",
       "      <th>Zip Code</th>\n",
       "      <th>County</th>\n",
       "      <th>Medicare CBSA Number</th>\n",
       "      <th>Rural Versus Urban</th>\n",
       "      <th>CCN Facility Type</th>\n",
       "      <th>...</th>\n",
       "      <th>Cost To Charge Ratio</th>\n",
       "      <th>Net Revenue from Medicaid</th>\n",
       "      <th>Medicaid Charges</th>\n",
       "      <th>Net Revenue from Stand-Alone SCHIP</th>\n",
       "      <th>Stand-Alone SCHIP Charges</th>\n",
       "      <th>rpt_rec_num</th>\n",
       "      <th>lat</th>\n",
       "      <th>lng</th>\n",
       "      <th>CON</th>\n",
       "      <th>Urban</th>\n",
       "    </tr>\n",
       "  </thead>\n",
       "  <tbody>\n",
       "    <tr>\n",
       "      <th>0</th>\n",
       "      <td>510013</td>\n",
       "      <td>REYNOLDS MEMORIAL HOSPITAL</td>\n",
       "      <td>800 WHEELING AVENUE</td>\n",
       "      <td>GLEN DALE</td>\n",
       "      <td>WV</td>\n",
       "      <td>26038</td>\n",
       "      <td>MARSHALL</td>\n",
       "      <td>48540.0</td>\n",
       "      <td>U</td>\n",
       "      <td>STH</td>\n",
       "      <td>...</td>\n",
       "      <td>0.453498</td>\n",
       "      <td>1237912.0</td>\n",
       "      <td>4026663.0</td>\n",
       "      <td>NaN</td>\n",
       "      <td>NaN</td>\n",
       "      <td>599181</td>\n",
       "      <td>39.946236</td>\n",
       "      <td>-80.752966</td>\n",
       "      <td>1.0</td>\n",
       "      <td>1.0</td>\n",
       "    </tr>\n",
       "    <tr>\n",
       "      <th>1</th>\n",
       "      <td>340106</td>\n",
       "      <td>SANDHILLS REGIONAL MEDICAL CENTER</td>\n",
       "      <td>1000 WEST HAMLET AVE</td>\n",
       "      <td>HAMLET</td>\n",
       "      <td>NC</td>\n",
       "      <td>28345</td>\n",
       "      <td>RICHMOND</td>\n",
       "      <td>99934.0</td>\n",
       "      <td>R</td>\n",
       "      <td>STH</td>\n",
       "      <td>...</td>\n",
       "      <td>0.173114</td>\n",
       "      <td>391215.0</td>\n",
       "      <td>4981119.0</td>\n",
       "      <td>NaN</td>\n",
       "      <td>NaN</td>\n",
       "      <td>601095</td>\n",
       "      <td>34.901612</td>\n",
       "      <td>-79.708561</td>\n",
       "      <td>1.0</td>\n",
       "      <td>0.0</td>\n",
       "    </tr>\n",
       "  </tbody>\n",
       "</table>\n",
       "<p>2 rows × 132 columns</p>\n",
       "</div>"
      ],
      "text/plain": [
       "   Provider CCN                      Hospital Name        Street Address  \\\n",
       "0        510013         REYNOLDS MEMORIAL HOSPITAL   800 WHEELING AVENUE   \n",
       "1        340106  SANDHILLS REGIONAL MEDICAL CENTER  1000 WEST HAMLET AVE   \n",
       "\n",
       "        City State Code Zip Code    County  Medicare CBSA Number  \\\n",
       "0  GLEN DALE         WV    26038  MARSHALL               48540.0   \n",
       "1     HAMLET         NC    28345  RICHMOND               99934.0   \n",
       "\n",
       "  Rural Versus Urban CCN Facility Type  ...  Cost To Charge Ratio  \\\n",
       "0                  U               STH  ...              0.453498   \n",
       "1                  R               STH  ...              0.173114   \n",
       "\n",
       "   Net Revenue from Medicaid Medicaid Charges  \\\n",
       "0                  1237912.0        4026663.0   \n",
       "1                   391215.0        4981119.0   \n",
       "\n",
       "  Net Revenue from Stand-Alone SCHIP  Stand-Alone SCHIP Charges  rpt_rec_num  \\\n",
       "0                                NaN                        NaN       599181   \n",
       "1                                NaN                        NaN       601095   \n",
       "\n",
       "         lat        lng  CON  Urban  \n",
       "0  39.946236 -80.752966  1.0    1.0  \n",
       "1  34.901612 -79.708561  1.0    0.0  \n",
       "\n",
       "[2 rows x 132 columns]"
      ]
     },
     "execution_count": 24,
     "metadata": {},
     "output_type": "execute_result"
    }
   ],
   "source": [
    "mainFile1.head(2)"
   ]
  },
  {
   "cell_type": "code",
   "execution_count": 25,
   "metadata": {},
   "outputs": [],
   "source": [
    "mainFile1.to_csv(\"main1_2017.csv\", index=False, header=True)"
   ]
  },
  {
   "cell_type": "code",
   "execution_count": 26,
   "metadata": {},
   "outputs": [],
   "source": [
    "#mainFile1['Provider CCN'].duplicated()"
   ]
  },
  {
   "cell_type": "code",
   "execution_count": 27,
   "metadata": {},
   "outputs": [
    {
     "data": {
      "text/html": [
       "<div>\n",
       "<style scoped>\n",
       "    .dataframe tbody tr th:only-of-type {\n",
       "        vertical-align: middle;\n",
       "    }\n",
       "\n",
       "    .dataframe tbody tr th {\n",
       "        vertical-align: top;\n",
       "    }\n",
       "\n",
       "    .dataframe thead th {\n",
       "        text-align: right;\n",
       "    }\n",
       "</style>\n",
       "<table border=\"1\" class=\"dataframe\">\n",
       "  <thead>\n",
       "    <tr style=\"text-align: right;\">\n",
       "      <th></th>\n",
       "      <th>Provider CCN</th>\n",
       "      <th>Hospital Name</th>\n",
       "      <th>Street Address</th>\n",
       "      <th>City</th>\n",
       "      <th>State Code</th>\n",
       "      <th>Zip Code</th>\n",
       "      <th>County</th>\n",
       "      <th>Medicare CBSA Number</th>\n",
       "      <th>Rural Versus Urban</th>\n",
       "      <th>CCN Facility Type</th>\n",
       "      <th>...</th>\n",
       "      <th>Cost To Charge Ratio</th>\n",
       "      <th>Net Revenue from Medicaid</th>\n",
       "      <th>Medicaid Charges</th>\n",
       "      <th>Net Revenue from Stand-Alone SCHIP</th>\n",
       "      <th>Stand-Alone SCHIP Charges</th>\n",
       "      <th>rpt_rec_num</th>\n",
       "      <th>lat</th>\n",
       "      <th>lng</th>\n",
       "      <th>CON</th>\n",
       "      <th>Urban</th>\n",
       "    </tr>\n",
       "  </thead>\n",
       "  <tbody>\n",
       "    <tr>\n",
       "      <th>0</th>\n",
       "      <td>510013</td>\n",
       "      <td>REYNOLDS MEMORIAL HOSPITAL</td>\n",
       "      <td>800 WHEELING AVENUE</td>\n",
       "      <td>GLEN DALE</td>\n",
       "      <td>WV</td>\n",
       "      <td>26038</td>\n",
       "      <td>MARSHALL</td>\n",
       "      <td>48540.0</td>\n",
       "      <td>U</td>\n",
       "      <td>STH</td>\n",
       "      <td>...</td>\n",
       "      <td>0.453498</td>\n",
       "      <td>1237912.0</td>\n",
       "      <td>4026663.0</td>\n",
       "      <td>NaN</td>\n",
       "      <td>NaN</td>\n",
       "      <td>599181</td>\n",
       "      <td>39.946236</td>\n",
       "      <td>-80.752966</td>\n",
       "      <td>1.0</td>\n",
       "      <td>1.0</td>\n",
       "    </tr>\n",
       "    <tr>\n",
       "      <th>1</th>\n",
       "      <td>340106</td>\n",
       "      <td>SANDHILLS REGIONAL MEDICAL CENTER</td>\n",
       "      <td>1000 WEST HAMLET AVE</td>\n",
       "      <td>HAMLET</td>\n",
       "      <td>NC</td>\n",
       "      <td>28345</td>\n",
       "      <td>RICHMOND</td>\n",
       "      <td>99934.0</td>\n",
       "      <td>R</td>\n",
       "      <td>STH</td>\n",
       "      <td>...</td>\n",
       "      <td>0.173114</td>\n",
       "      <td>391215.0</td>\n",
       "      <td>4981119.0</td>\n",
       "      <td>NaN</td>\n",
       "      <td>NaN</td>\n",
       "      <td>601095</td>\n",
       "      <td>34.901612</td>\n",
       "      <td>-79.708561</td>\n",
       "      <td>1.0</td>\n",
       "      <td>0.0</td>\n",
       "    </tr>\n",
       "    <tr>\n",
       "      <th>3</th>\n",
       "      <td>341317</td>\n",
       "      <td>PIONEER HLTH SERV OF STOKES CNTY</td>\n",
       "      <td>1570 NC &amp; 89 HWY</td>\n",
       "      <td>DANBURY</td>\n",
       "      <td>NC</td>\n",
       "      <td>27016</td>\n",
       "      <td>STOKES</td>\n",
       "      <td>49180.0</td>\n",
       "      <td>U</td>\n",
       "      <td>CAH</td>\n",
       "      <td>...</td>\n",
       "      <td>1.154767</td>\n",
       "      <td>578366.0</td>\n",
       "      <td>801800.0</td>\n",
       "      <td>159516.0</td>\n",
       "      <td>702117.0</td>\n",
       "      <td>601721</td>\n",
       "      <td>36.418001</td>\n",
       "      <td>-80.230915</td>\n",
       "      <td>1.0</td>\n",
       "      <td>1.0</td>\n",
       "    </tr>\n",
       "    <tr>\n",
       "      <th>4</th>\n",
       "      <td>110003</td>\n",
       "      <td>MAYO CLINIC HEALTH SYSTEM WAYCROSS</td>\n",
       "      <td>1900 TEBEAU STREET</td>\n",
       "      <td>WAYCROSS</td>\n",
       "      <td>GA</td>\n",
       "      <td>31501</td>\n",
       "      <td>WARE</td>\n",
       "      <td>99911.0</td>\n",
       "      <td>R</td>\n",
       "      <td>STH</td>\n",
       "      <td>...</td>\n",
       "      <td>0.271734</td>\n",
       "      <td>3113423.0</td>\n",
       "      <td>11231324.0</td>\n",
       "      <td>1331.0</td>\n",
       "      <td>8211.0</td>\n",
       "      <td>603846</td>\n",
       "      <td>31.224905</td>\n",
       "      <td>-82.347732</td>\n",
       "      <td>1.0</td>\n",
       "      <td>0.0</td>\n",
       "    </tr>\n",
       "    <tr>\n",
       "      <th>5</th>\n",
       "      <td>250025</td>\n",
       "      <td>GILMORE MEMORIAL REGIONAL MEDICAL CE</td>\n",
       "      <td>1105 EARL FRYE BLVD</td>\n",
       "      <td>AMORY</td>\n",
       "      <td>MS</td>\n",
       "      <td>38821</td>\n",
       "      <td>MONROE</td>\n",
       "      <td>99925.0</td>\n",
       "      <td>R</td>\n",
       "      <td>STH</td>\n",
       "      <td>...</td>\n",
       "      <td>0.152035</td>\n",
       "      <td>2548541.0</td>\n",
       "      <td>17164229.0</td>\n",
       "      <td>NaN</td>\n",
       "      <td>NaN</td>\n",
       "      <td>604167</td>\n",
       "      <td>33.976509</td>\n",
       "      <td>-88.476737</td>\n",
       "      <td>1.0</td>\n",
       "      <td>0.0</td>\n",
       "    </tr>\n",
       "    <tr>\n",
       "      <th>...</th>\n",
       "      <td>...</td>\n",
       "      <td>...</td>\n",
       "      <td>...</td>\n",
       "      <td>...</td>\n",
       "      <td>...</td>\n",
       "      <td>...</td>\n",
       "      <td>...</td>\n",
       "      <td>...</td>\n",
       "      <td>...</td>\n",
       "      <td>...</td>\n",
       "      <td>...</td>\n",
       "      <td>...</td>\n",
       "      <td>...</td>\n",
       "      <td>...</td>\n",
       "      <td>...</td>\n",
       "      <td>...</td>\n",
       "      <td>...</td>\n",
       "      <td>...</td>\n",
       "      <td>...</td>\n",
       "      <td>...</td>\n",
       "      <td>...</td>\n",
       "    </tr>\n",
       "    <tr>\n",
       "      <th>5975</th>\n",
       "      <td>360055</td>\n",
       "      <td>TRUMBULL MEMORIAL HOSPITAL</td>\n",
       "      <td>1350 EAST MARKET ST.</td>\n",
       "      <td>WARREN</td>\n",
       "      <td>OH</td>\n",
       "      <td>44483</td>\n",
       "      <td>NaN</td>\n",
       "      <td>49660.0</td>\n",
       "      <td>U</td>\n",
       "      <td>STH</td>\n",
       "      <td>...</td>\n",
       "      <td>0.150316</td>\n",
       "      <td>10197748.0</td>\n",
       "      <td>114247007.0</td>\n",
       "      <td>NaN</td>\n",
       "      <td>NaN</td>\n",
       "      <td>670074</td>\n",
       "      <td>41.235825</td>\n",
       "      <td>-80.798391</td>\n",
       "      <td>1.0</td>\n",
       "      <td>1.0</td>\n",
       "    </tr>\n",
       "    <tr>\n",
       "      <th>6062</th>\n",
       "      <td>360055</td>\n",
       "      <td>TRUMBULL MEMORIAL HOSPITAL</td>\n",
       "      <td>1350 EAST MARKET ST.</td>\n",
       "      <td>WARREN</td>\n",
       "      <td>OH</td>\n",
       "      <td>44483-</td>\n",
       "      <td>TRUMBULL</td>\n",
       "      <td>49660.0</td>\n",
       "      <td>U</td>\n",
       "      <td>STH</td>\n",
       "      <td>...</td>\n",
       "      <td>0.126383</td>\n",
       "      <td>5581156.0</td>\n",
       "      <td>59582432.0</td>\n",
       "      <td>NaN</td>\n",
       "      <td>NaN</td>\n",
       "      <td>670360</td>\n",
       "      <td>41.235825</td>\n",
       "      <td>-80.798391</td>\n",
       "      <td>1.0</td>\n",
       "      <td>1.0</td>\n",
       "    </tr>\n",
       "    <tr>\n",
       "      <th>6082</th>\n",
       "      <td>452046</td>\n",
       "      <td>PLAZA SPECIALTY HOSPITAL</td>\n",
       "      <td>1300 BINZ STREET</td>\n",
       "      <td>HOUSTON</td>\n",
       "      <td>TX</td>\n",
       "      <td>77004</td>\n",
       "      <td>NaN</td>\n",
       "      <td>26420.0</td>\n",
       "      <td>U</td>\n",
       "      <td>LTCH</td>\n",
       "      <td>...</td>\n",
       "      <td>NaN</td>\n",
       "      <td>NaN</td>\n",
       "      <td>NaN</td>\n",
       "      <td>NaN</td>\n",
       "      <td>NaN</td>\n",
       "      <td>670422</td>\n",
       "      <td>29.723504</td>\n",
       "      <td>-95.386924</td>\n",
       "      <td>0.0</td>\n",
       "      <td>1.0</td>\n",
       "    </tr>\n",
       "    <tr>\n",
       "      <th>6127</th>\n",
       "      <td>54093</td>\n",
       "      <td>LLU  BEHAVIORAL MEDICINE CENTER</td>\n",
       "      <td>1710 BARTON ROAD</td>\n",
       "      <td>REDLANDS</td>\n",
       "      <td>CA</td>\n",
       "      <td>92373</td>\n",
       "      <td>SAN BERNARDINO</td>\n",
       "      <td>40140.0</td>\n",
       "      <td>U</td>\n",
       "      <td>PH</td>\n",
       "      <td>...</td>\n",
       "      <td>NaN</td>\n",
       "      <td>NaN</td>\n",
       "      <td>NaN</td>\n",
       "      <td>NaN</td>\n",
       "      <td>NaN</td>\n",
       "      <td>670626</td>\n",
       "      <td>34.049358</td>\n",
       "      <td>-117.214026</td>\n",
       "      <td>0.0</td>\n",
       "      <td>1.0</td>\n",
       "    </tr>\n",
       "    <tr>\n",
       "      <th>6159</th>\n",
       "      <td>371338</td>\n",
       "      <td>HARMON MEMORIAL HOSPITAL</td>\n",
       "      <td>400 EAST CHESTNUT</td>\n",
       "      <td>HOLLIS</td>\n",
       "      <td>OK</td>\n",
       "      <td>73550-0791</td>\n",
       "      <td>NaN</td>\n",
       "      <td>99937.0</td>\n",
       "      <td>R</td>\n",
       "      <td>CAH</td>\n",
       "      <td>...</td>\n",
       "      <td>0.546133</td>\n",
       "      <td>443942.0</td>\n",
       "      <td>2273153.0</td>\n",
       "      <td>NaN</td>\n",
       "      <td>NaN</td>\n",
       "      <td>670737</td>\n",
       "      <td>34.692206</td>\n",
       "      <td>-99.914294</td>\n",
       "      <td>1.0</td>\n",
       "      <td>0.0</td>\n",
       "    </tr>\n",
       "  </tbody>\n",
       "</table>\n",
       "<p>192 rows × 132 columns</p>\n",
       "</div>"
      ],
      "text/plain": [
       "      Provider CCN                         Hospital Name  \\\n",
       "0           510013            REYNOLDS MEMORIAL HOSPITAL   \n",
       "1           340106     SANDHILLS REGIONAL MEDICAL CENTER   \n",
       "3           341317      PIONEER HLTH SERV OF STOKES CNTY   \n",
       "4           110003    MAYO CLINIC HEALTH SYSTEM WAYCROSS   \n",
       "5           250025  GILMORE MEMORIAL REGIONAL MEDICAL CE   \n",
       "...            ...                                   ...   \n",
       "5975        360055            TRUMBULL MEMORIAL HOSPITAL   \n",
       "6062        360055            TRUMBULL MEMORIAL HOSPITAL   \n",
       "6082        452046              PLAZA SPECIALTY HOSPITAL   \n",
       "6127         54093       LLU  BEHAVIORAL MEDICINE CENTER   \n",
       "6159        371338              HARMON MEMORIAL HOSPITAL   \n",
       "\n",
       "            Street Address       City State Code    Zip Code          County  \\\n",
       "0      800 WHEELING AVENUE  GLEN DALE         WV       26038        MARSHALL   \n",
       "1     1000 WEST HAMLET AVE     HAMLET         NC       28345        RICHMOND   \n",
       "3         1570 NC & 89 HWY    DANBURY         NC       27016          STOKES   \n",
       "4       1900 TEBEAU STREET   WAYCROSS         GA       31501            WARE   \n",
       "5      1105 EARL FRYE BLVD      AMORY         MS       38821          MONROE   \n",
       "...                    ...        ...        ...         ...             ...   \n",
       "5975  1350 EAST MARKET ST.     WARREN         OH       44483             NaN   \n",
       "6062  1350 EAST MARKET ST.     WARREN         OH      44483-        TRUMBULL   \n",
       "6082      1300 BINZ STREET    HOUSTON         TX       77004             NaN   \n",
       "6127      1710 BARTON ROAD   REDLANDS         CA       92373  SAN BERNARDINO   \n",
       "6159     400 EAST CHESTNUT     HOLLIS         OK  73550-0791             NaN   \n",
       "\n",
       "      Medicare CBSA Number Rural Versus Urban CCN Facility Type  ...  \\\n",
       "0                  48540.0                  U               STH  ...   \n",
       "1                  99934.0                  R               STH  ...   \n",
       "3                  49180.0                  U               CAH  ...   \n",
       "4                  99911.0                  R               STH  ...   \n",
       "5                  99925.0                  R               STH  ...   \n",
       "...                    ...                ...               ...  ...   \n",
       "5975               49660.0                  U               STH  ...   \n",
       "6062               49660.0                  U               STH  ...   \n",
       "6082               26420.0                  U              LTCH  ...   \n",
       "6127               40140.0                  U                PH  ...   \n",
       "6159               99937.0                  R               CAH  ...   \n",
       "\n",
       "      Cost To Charge Ratio  Net Revenue from Medicaid Medicaid Charges  \\\n",
       "0                 0.453498                  1237912.0        4026663.0   \n",
       "1                 0.173114                   391215.0        4981119.0   \n",
       "3                 1.154767                   578366.0         801800.0   \n",
       "4                 0.271734                  3113423.0       11231324.0   \n",
       "5                 0.152035                  2548541.0       17164229.0   \n",
       "...                    ...                        ...              ...   \n",
       "5975              0.150316                 10197748.0      114247007.0   \n",
       "6062              0.126383                  5581156.0       59582432.0   \n",
       "6082                   NaN                        NaN              NaN   \n",
       "6127                   NaN                        NaN              NaN   \n",
       "6159              0.546133                   443942.0        2273153.0   \n",
       "\n",
       "     Net Revenue from Stand-Alone SCHIP  Stand-Alone SCHIP Charges  \\\n",
       "0                                   NaN                        NaN   \n",
       "1                                   NaN                        NaN   \n",
       "3                              159516.0                   702117.0   \n",
       "4                                1331.0                     8211.0   \n",
       "5                                   NaN                        NaN   \n",
       "...                                 ...                        ...   \n",
       "5975                                NaN                        NaN   \n",
       "6062                                NaN                        NaN   \n",
       "6082                                NaN                        NaN   \n",
       "6127                                NaN                        NaN   \n",
       "6159                                NaN                        NaN   \n",
       "\n",
       "      rpt_rec_num        lat         lng  CON  Urban  \n",
       "0          599181  39.946236  -80.752966  1.0    1.0  \n",
       "1          601095  34.901612  -79.708561  1.0    0.0  \n",
       "3          601721  36.418001  -80.230915  1.0    1.0  \n",
       "4          603846  31.224905  -82.347732  1.0    0.0  \n",
       "5          604167  33.976509  -88.476737  1.0    0.0  \n",
       "...           ...        ...         ...  ...    ...  \n",
       "5975       670074  41.235825  -80.798391  1.0    1.0  \n",
       "6062       670360  41.235825  -80.798391  1.0    1.0  \n",
       "6082       670422  29.723504  -95.386924  0.0    1.0  \n",
       "6127       670626  34.049358 -117.214026  0.0    1.0  \n",
       "6159       670737  34.692206  -99.914294  1.0    0.0  \n",
       "\n",
       "[192 rows x 132 columns]"
      ]
     },
     "execution_count": 27,
     "metadata": {},
     "output_type": "execute_result"
    }
   ],
   "source": [
    "mainFile1[mainFile1['Provider CCN'].duplicated(keep = False)].head(200)"
   ]
  },
  {
   "cell_type": "code",
   "execution_count": 30,
   "metadata": {},
   "outputs": [
    {
     "data": {
      "text/plain": [
       "6173"
      ]
     },
     "execution_count": 30,
     "metadata": {},
     "output_type": "execute_result"
    }
   ],
   "source": [
    "mainFile1['Provider CCN'].drop_duplicates(inplace = True)\n",
    "mainFile1['Provider CCN'].count()\n",
    "#df.count()"
   ]
  },
  {
   "cell_type": "code",
   "execution_count": 31,
   "metadata": {},
   "outputs": [],
   "source": [
    "# zz = mainFile1.sort_values(by= 'Provider CCN')\n",
    "# zz[zz['Provider CCN'] == 510013].head(100)"
   ]
  },
  {
   "cell_type": "code",
   "execution_count": 32,
   "metadata": {},
   "outputs": [],
   "source": [
    "# ... Add calculated fields"
   ]
  },
  {
   "cell_type": "code",
   "execution_count": 33,
   "metadata": {},
   "outputs": [],
   "source": [
    "mainFile2 = mainFile1"
   ]
  },
  {
   "cell_type": "code",
   "execution_count": 34,
   "metadata": {},
   "outputs": [],
   "source": [
    "#labor Expense\n",
    "lbrexpense = mainFile2[\"Wage-Related Costs (Core)\"] + mainFile2[\"Total Salaries (adjusted)\"]\n",
    "mainFile2[\"Labor Exp\"] = lbrexpense\n",
    "#wagepercent.head()"
   ]
  },
  {
   "cell_type": "code",
   "execution_count": 35,
   "metadata": {},
   "outputs": [],
   "source": [
    "#Append calculated field inpatient percent\n",
    "inpatient = mainFile2[\"Inpatient Revenue\"]/mainFile2[\"Gross Revenue\"]\n",
    "mainFile2[\"Inpatient %\"] = inpatient\n",
    "#mainFile2.head()"
   ]
  },
  {
   "cell_type": "code",
   "execution_count": 36,
   "metadata": {},
   "outputs": [],
   "source": [
    "#Append calculated field outpatient percent\n",
    "outpatient = mainFile2[\"Outpatient Revenue\"]/mainFile2[\"Gross Revenue\"]\n",
    "mainFile2[\"Outpatient %\"] = outpatient\n",
    "#mainFile2.head()"
   ]
  },
  {
   "cell_type": "code",
   "execution_count": 37,
   "metadata": {},
   "outputs": [],
   "source": [
    "#Append calculated field charity percent\n",
    "charity = mainFile2[\"Cost of Charity Care\"]/mainFile2[\"Net Patient Revenue\"]\n",
    "mainFile2[\"Charity %\"] = charity\n",
    "#mainFile2.head()"
   ]
  },
  {
   "cell_type": "code",
   "execution_count": 38,
   "metadata": {},
   "outputs": [],
   "source": [
    "#Append calculated field uncompensated percent\n",
    "uncompensated = mainFile2[\"Cost of Uncompensated Care\"]/mainFile2[\"Net Patient Revenue\"]\n",
    "mainFile2[\"Uncompensated %\"] = charity\n",
    "#mainFile2.head()"
   ]
  },
  {
   "cell_type": "code",
   "execution_count": 39,
   "metadata": {},
   "outputs": [],
   "source": [
    "#Append calculated field revenue per discharge\n",
    "revdischarge = mainFile2[\"Net Patient Revenue\"]/mainFile2[\"Total Discharges (V + XVIII + XIX + Unknown)\"]\n",
    "mainFile2[\"Rev/Discharge\"] = revdischarge\n",
    "#mainFile2.head()"
   ]
  },
  {
   "cell_type": "code",
   "execution_count": 40,
   "metadata": {},
   "outputs": [],
   "source": [
    "#Append calculated field revenue per bed\n",
    "revbed = mainFile2[\"Net Patient Revenue\"]/mainFile2[\"Number of Beds\"]\n",
    "mainFile2[\"Rev Per Bed\"] = revbed\n",
    "#mainFile2.head()"
   ]
  },
  {
   "cell_type": "code",
   "execution_count": 41,
   "metadata": {},
   "outputs": [],
   "source": [
    "#Append calculated field revenue per bed day\n",
    "revbed = mainFile2[\"Net Patient Revenue\"]/mainFile2[\"Total Bed Days Available\"]\n",
    "mainFile2[\"Rev Per Bed Days\"] = revbed\n",
    "#mainFile2.head()"
   ]
  },
  {
   "cell_type": "code",
   "execution_count": 42,
   "metadata": {},
   "outputs": [],
   "source": [
    "#Append calculated field revs per fte\n",
    "# revfte = mainFile2[\"Net Patient Revenue\"]/mainFile2[\"FTE - Employees on Payroll\"]\n",
    "# mainFile2[\"Rev Per FTE\"] = revfte\n",
    "#mainFile2.head()"
   ]
  },
  {
   "cell_type": "code",
   "execution_count": 43,
   "metadata": {},
   "outputs": [],
   "source": [
    "#Append calculated field discharges per bed\n",
    "volbed = mainFile2[\"Total Discharges (V + XVIII + XIX + Unknown)\"]/mainFile2[\"Number of Beds\"]\n",
    "mainFile2[\"Discharges Per Bed\"] = volbed\n",
    "#mainFile2.head()"
   ]
  },
  {
   "cell_type": "code",
   "execution_count": 44,
   "metadata": {},
   "outputs": [],
   "source": [
    "#Append calculated field discharges per bed day\n",
    "voldays = mainFile2[\"Total Discharges (V + XVIII + XIX + Unknown)\"]/mainFile2[\"Total Bed Days Available\"]\n",
    "mainFile2[\"Discharges Per Bed Days\"] = voldays\n",
    "#mainFile2.head()"
   ]
  },
  {
   "cell_type": "code",
   "execution_count": 45,
   "metadata": {},
   "outputs": [],
   "source": [
    "#Append calculated field discharges per bed\n",
    "volfte = mainFile2[\"Total Discharges (V + XVIII + XIX + Unknown)\"]/mainFile2[\"FTE - Employees on Payroll\"]\n",
    "mainFile2[\"Discharge/FTE\"] = volbed\n",
    "#mainFile2.head()"
   ]
  },
  {
   "cell_type": "code",
   "execution_count": 46,
   "metadata": {},
   "outputs": [],
   "source": [
    "#labor percent\n",
    "wagepercent = mainFile2[\"Wage-Related Costs (Core)\"] + mainFile2[\"Total Salaries (adjusted)\"]\n",
    "wagepercent = wagepercent / mainFile2[\"Net Patient Revenue\"]\n",
    "mainFile2[\"Labor %\"] = wagepercent\n",
    "#wagepercent.head()"
   ]
  },
  {
   "cell_type": "code",
   "execution_count": 47,
   "metadata": {},
   "outputs": [],
   "source": [
    "#Overhead percent\n",
    "overheadpercent = mainFile2[\"Overhead Non-Salary Costs\"] / mainFile2[\"Net Patient Revenue\"]\n",
    "mainFile2[\"Overhead %\"] = overheadpercent\n",
    "#overheadpercent.head()"
   ]
  },
  {
   "cell_type": "code",
   "execution_count": 48,
   "metadata": {},
   "outputs": [],
   "source": [
    "#Depreciation percent\n",
    "deprpercent = mainFile2[\"Depreciation Cost\"] / mainFile2[\"Net Patient Revenue\"]\n",
    "mainFile2[\"Depreciation %\"] = deprpercent\n",
    "#overheadpercent.head()"
   ]
  },
  {
   "cell_type": "code",
   "execution_count": 49,
   "metadata": {},
   "outputs": [],
   "source": [
    "#labor Per FTE\n",
    "wagefte = mainFile2[\"Wage-Related Costs (Core)\"] + mainFile2[\"Total Salaries (adjusted)\"]\n",
    "wagefte = wagefte / mainFile2[\"FTE - Employees on Payroll\"]\n",
    "mainFile2[\"LbrExp/FTE\"] = wagefte\n",
    "#wagepercent.head()"
   ]
  },
  {
   "cell_type": "code",
   "execution_count": 50,
   "metadata": {},
   "outputs": [],
   "source": [
    "#Overhead Expense Per Bed\n",
    "overbed = mainFile2[\"Overhead Non-Salary Costs\"] / mainFile2[\"Number of Beds\"]\n",
    "mainFile2[\"Overhead Exp Per Bed\"] = overbed\n",
    "#wagepercent.head()"
   ]
  },
  {
   "cell_type": "code",
   "execution_count": 51,
   "metadata": {},
   "outputs": [],
   "source": [
    "#Append calculated field net income percent to file\n",
    "profit = mainFile2[\"Net Income\"]/mainFile2[\"Net Patient Revenue\"]\n",
    "mainFile2[\"Net Income %\"] = profit\n",
    "#mainFile2.head()"
   ]
  },
  {
   "cell_type": "code",
   "execution_count": 52,
   "metadata": {},
   "outputs": [],
   "source": [
    "# Review net income percent for outlier reduction approach\n",
    "netinc = mainFile2[\"Net Income %\"]\n",
    "#netinc.head()"
   ]
  },
  {
   "cell_type": "code",
   "execution_count": 56,
   "metadata": {},
   "outputs": [],
   "source": [
    "# Box plot and outlier calculations for outlier approach\n",
    "netinc2 = netinc.dropna(how='any')\n",
    "chartdata = netinc2\n",
    "# fig1, ax1 = plt.subplots()\n",
    "# ax1.set_title('Net Income Percent')\n",
    "# ax1.set_ylabel('Net Income Percent')\n",
    "# ax1.boxplot(chartdata)\n",
    "# plt.show()"
   ]
  },
  {
   "cell_type": "code",
   "execution_count": 57,
   "metadata": {},
   "outputs": [
    {
     "name": "stdout",
     "output_type": "stream",
     "text": [
      "The lower quartile of profit percent is: -0.03084132008127647\n",
      "The upper quartile of profit percent is: 0.11374176480973226\n",
      "The interquartile range of profit percent is: 0.14458308489100874\n",
      "The the median of profit percent is: 0.038000703630347375 \n",
      "Values below -0.24771594741778957 could be outliers.\n",
      "Values above 0.3306163921462454 could be outliers.\n"
     ]
    }
   ],
   "source": [
    "#Quartile calculations\n",
    "quartiles = chartdata.quantile([.25,.5,.75])\n",
    "lowerq = quartiles[0.25]\n",
    "upperq = quartiles[0.75]\n",
    "iqr = upperq-lowerq\n",
    "\n",
    "print(f\"The lower quartile of profit percent is: {lowerq}\")\n",
    "print(f\"The upper quartile of profit percent is: {upperq}\")\n",
    "print(f\"The interquartile range of profit percent is: {iqr}\")\n",
    "print(f\"The the median of profit percent is: {quartiles[0.5]} \")\n",
    "\n",
    "lower_bound = lowerq - (1.5*iqr)\n",
    "upper_bound = upperq + (1.5*iqr)\n",
    "print(f\"Values below {lower_bound} could be outliers.\")\n",
    "print(f\"Values above {upper_bound} could be outliers.\")"
   ]
  },
  {
   "cell_type": "code",
   "execution_count": 58,
   "metadata": {},
   "outputs": [],
   "source": [
    "#Create a bronze, silver, gold score for clasifying net income performance\n",
    "bins = [-100, -0.030605, 0.113797, 100]\n",
    "group_names = [\"3\", \"2\", \"1\"]"
   ]
  },
  {
   "cell_type": "code",
   "execution_count": 59,
   "metadata": {},
   "outputs": [],
   "source": [
    "#Quintile attempt\n",
    "# quartiles = chartdata.quantile([.2,.5,.8])\n",
    "# lowerq = quartiles[0.2]\n",
    "# upperq = quartiles[0.8]\n",
    "# iqr = upperq-lowerq\n",
    "\n",
    "# print(f\"The lower quartile of profit percent is: {lowerq}\")\n",
    "# print(f\"The upper quartile of profit percent is: {upperq}\")\n",
    "# print(f\"The interquartile range of profit percent is: {iqr}\")\n",
    "# print(f\"The the median of profit percent is: {quartiles[0.5]} \")\n",
    "\n",
    "# lower_bound = lowerq - (1.5*iqr)\n",
    "# upper_bound = upperq + (1.5*iqr)\n",
    "# print(f\"Values below {lower_bound} could be outliers.\")\n",
    "# print(f\"Values above {upper_bound} could be outliers.\")"
   ]
  },
  {
   "cell_type": "code",
   "execution_count": 60,
   "metadata": {},
   "outputs": [],
   "source": [
    "#Create a bronze, silver, gold score for clasifying net income performance\n",
    "# bins = [-100, -0.0542, .03804, 0.13654, 100]\n",
    "# group_names = [\"4\",\"3\", \"2\", \"1\"]"
   ]
  },
  {
   "cell_type": "code",
   "execution_count": 61,
   "metadata": {},
   "outputs": [],
   "source": [
    "#Add a bronze, silver, gold scoring system to the dataset\n",
    "mainFile2[\"Net Income Score\"] = pd.cut(mainFile2[\"Net Income %\"], bins, labels=group_names, include_lowest=True)\n",
    "#mainFile2.head()"
   ]
  },
  {
   "cell_type": "code",
   "execution_count": 62,
   "metadata": {},
   "outputs": [
    {
     "data": {
      "text/plain": [
       "2    2945\n",
       "3    1475\n",
       "1    1473\n",
       "Name: Net Income Score, dtype: int64"
      ]
     },
     "execution_count": 62,
     "metadata": {},
     "output_type": "execute_result"
    }
   ],
   "source": [
    "#Quick check on distribution of bronze, silver and gold\n",
    "mainFile2['Net Income Score'].value_counts()"
   ]
  },
  {
   "cell_type": "code",
   "execution_count": 63,
   "metadata": {},
   "outputs": [
    {
     "data": {
      "text/plain": [
       "6173"
      ]
     },
     "execution_count": 63,
     "metadata": {},
     "output_type": "execute_result"
    }
   ],
   "source": [
    "#Quick Check\n",
    "mainFile2['Provider CCN'].count()"
   ]
  },
  {
   "cell_type": "code",
   "execution_count": 64,
   "metadata": {},
   "outputs": [],
   "source": [
    "mainFile2.to_csv(\"main2_2017.csv\", index=False, header=True)"
   ]
  },
  {
   "cell_type": "code",
   "execution_count": null,
   "metadata": {},
   "outputs": [],
   "source": []
  },
  {
   "cell_type": "code",
   "execution_count": 65,
   "metadata": {},
   "outputs": [],
   "source": [
    "# ..... File targeting"
   ]
  },
  {
   "cell_type": "code",
   "execution_count": 66,
   "metadata": {},
   "outputs": [
    {
     "data": {
      "text/plain": [
       "6173"
      ]
     },
     "execution_count": 66,
     "metadata": {},
     "output_type": "execute_result"
    }
   ],
   "source": [
    "mainFile3 = mainFile2\n",
    "mainFile3['Provider CCN'].count()"
   ]
  },
  {
   "cell_type": "code",
   "execution_count": 67,
   "metadata": {},
   "outputs": [],
   "source": [
    "#Targets dataset on Colorad0\n",
    "#mainFile3 = mainFile3.loc[df['State Code'] == 'CO']"
   ]
  },
  {
   "cell_type": "code",
   "execution_count": 71,
   "metadata": {},
   "outputs": [],
   "source": [
    "#Removes state\n",
    "mainFile3 = mainFile3.loc[mainFile3['State Code'] != 'PR']"
   ]
  },
  {
   "cell_type": "code",
   "execution_count": 72,
   "metadata": {},
   "outputs": [],
   "source": [
    "#Removes state\n",
    "mainFile3 = mainFile3.loc[mainFile3['State Code'] != 'GU']"
   ]
  },
  {
   "cell_type": "code",
   "execution_count": 73,
   "metadata": {},
   "outputs": [],
   "source": [
    "#Removes state\n",
    "mainFile3 = mainFile3.loc[mainFile3['State Code'] != 'VI']"
   ]
  },
  {
   "cell_type": "code",
   "execution_count": 74,
   "metadata": {},
   "outputs": [],
   "source": [
    "#Removes state\n",
    "mainFile3 = mainFile3.loc[mainFile3['State Code'] != 'MP']"
   ]
  },
  {
   "cell_type": "code",
   "execution_count": 75,
   "metadata": {},
   "outputs": [],
   "source": [
    "#Removes state\n",
    "mainFile3 = mainFile3.loc[mainFile3['State Code'] != 'HI']"
   ]
  },
  {
   "cell_type": "code",
   "execution_count": 76,
   "metadata": {},
   "outputs": [],
   "source": [
    "#Removes state\n",
    "mainFile3 = mainFile3.loc[mainFile3['State Code'] != 'AK']"
   ]
  },
  {
   "cell_type": "code",
   "execution_count": 78,
   "metadata": {},
   "outputs": [
    {
     "data": {
      "text/plain": [
       "6056"
      ]
     },
     "execution_count": 78,
     "metadata": {},
     "output_type": "execute_result"
    }
   ],
   "source": [
    "#Quick Check ... Lose 117 to state code reduction\n",
    "mainFile3['Provider CCN'].count()"
   ]
  },
  {
   "cell_type": "code",
   "execution_count": 81,
   "metadata": {},
   "outputs": [],
   "source": [
    "#Remove hospitals that did not report revenue (Lose 273 to missing or unreported revenue events)\n",
    "mainFile3 = mainFile3.loc[mainFile3['Net Patient Revenue'] >= 0.1]"
   ]
  },
  {
   "cell_type": "code",
   "execution_count": 82,
   "metadata": {},
   "outputs": [
    {
     "data": {
      "text/plain": [
       "5783"
      ]
     },
     "execution_count": 82,
     "metadata": {},
     "output_type": "execute_result"
    }
   ],
   "source": [
    "#Quick Check\n",
    "mainFile3['Provider CCN'].count()"
   ]
  },
  {
   "cell_type": "code",
   "execution_count": 83,
   "metadata": {},
   "outputs": [],
   "source": [
    "#Remove hospitals that discharged less than 15 patients (Lose 49 by placing a 15 patient minimum for study eligibility)\n",
    "mainFile3 = mainFile3.loc[mainFile3['Total Discharges (V + XVIII + XIX + Unknown)'] >= 15]"
   ]
  },
  {
   "cell_type": "code",
   "execution_count": 84,
   "metadata": {},
   "outputs": [
    {
     "data": {
      "text/plain": [
       "5734"
      ]
     },
     "execution_count": 84,
     "metadata": {},
     "output_type": "execute_result"
    }
   ],
   "source": [
    "#Quick Check\n",
    "mainFile3['Provider CCN'].count()"
   ]
  },
  {
   "cell_type": "code",
   "execution_count": 85,
   "metadata": {},
   "outputs": [],
   "source": [
    "#Remove hospitals with less than 10 employees on payroll (Lose 23 by placing a 10 employee minimum for study eligibility)\n",
    "mainFile3 = mainFile3.loc[mainFile2['FTE - Employees on Payroll'] >= 10]"
   ]
  },
  {
   "cell_type": "code",
   "execution_count": 86,
   "metadata": {},
   "outputs": [
    {
     "data": {
      "text/plain": [
       "5711"
      ]
     },
     "execution_count": 86,
     "metadata": {},
     "output_type": "execute_result"
    }
   ],
   "source": [
    "#Quick Check\n",
    "mainFile3['Provider CCN'].count()"
   ]
  },
  {
   "cell_type": "code",
   "execution_count": 87,
   "metadata": {},
   "outputs": [],
   "source": [
    "#Targets dataset on certificate of need states\n",
    "#mainFile3 = mainFile3.loc[mainFile2['CON'] == 1]"
   ]
  },
  {
   "cell_type": "code",
   "execution_count": 88,
   "metadata": {},
   "outputs": [],
   "source": [
    "#Remove net income outliers\n",
    "#mainFile3 = mainFile3.loc[mainFile2['Net Income %'] <= .3304]"
   ]
  },
  {
   "cell_type": "code",
   "execution_count": 89,
   "metadata": {},
   "outputs": [],
   "source": [
    "#Remove net income outliers\n",
    "#mainFile3 = mainFile3.loc[mainFile2['Net Income %'] >= -.2473]"
   ]
  },
  {
   "cell_type": "code",
   "execution_count": 90,
   "metadata": {},
   "outputs": [],
   "source": [
    "#Remove Discharges Per Bed outliers\n",
    "#mainFile3 = mainFile3.loc[mainFile2['Rev Per Discharge'] <= 90000]"
   ]
  },
  {
   "cell_type": "code",
   "execution_count": 91,
   "metadata": {},
   "outputs": [],
   "source": [
    "#Remove Rev Per Bed outliers\n",
    "#mainFile3 = mainFile3.loc[mainFile2['Rev Per Bed'] <= 2000000]"
   ]
  },
  {
   "cell_type": "code",
   "execution_count": 92,
   "metadata": {},
   "outputs": [],
   "source": [
    "#Remove Rev Per FTE outliers\n",
    "#mainFile3 = mainFile3.loc[mainFile2['Rev Per FTE'] <= 500000]"
   ]
  },
  {
   "cell_type": "code",
   "execution_count": 93,
   "metadata": {},
   "outputs": [],
   "source": [
    "#Remove Rev Per Discharge outliers\n",
    "#mainFile3 = mainFile3.loc[mainFile2['Rev Per Discharge'] <= 175000]"
   ]
  },
  {
   "cell_type": "code",
   "execution_count": 94,
   "metadata": {},
   "outputs": [],
   "source": [
    "#Targets dataset on STH locations (~56% of eligible continental US locations are STH providers)\n",
    "mainFile3 = mainFile3.loc[mainFile2['CCN Facility Type'] == 'STH']"
   ]
  },
  {
   "cell_type": "code",
   "execution_count": 95,
   "metadata": {},
   "outputs": [
    {
     "data": {
      "text/plain": [
       "3194"
      ]
     },
     "execution_count": 95,
     "metadata": {},
     "output_type": "execute_result"
    }
   ],
   "source": [
    "#Quick Check\n",
    "mainFile3['Provider CCN'].count()"
   ]
  },
  {
   "cell_type": "code",
   "execution_count": 96,
   "metadata": {},
   "outputs": [],
   "source": [
    "#Quick check on distribution of bronze, silver and gold\n",
    "#mainFile3['Net Income Score'].value_counts()"
   ]
  },
  {
   "cell_type": "code",
   "execution_count": 97,
   "metadata": {},
   "outputs": [
    {
     "data": {
      "text/plain": [
       "3194"
      ]
     },
     "execution_count": 97,
     "metadata": {},
     "output_type": "execute_result"
    }
   ],
   "source": [
    "#Quick Check\n",
    "mainFile3['Provider CCN'].count()"
   ]
  },
  {
   "cell_type": "code",
   "execution_count": 98,
   "metadata": {},
   "outputs": [],
   "source": [
    "#mainFile3.to_csv(\"main3_2017.csv\", index=False, header=True)"
   ]
  },
  {
   "cell_type": "code",
   "execution_count": null,
   "metadata": {},
   "outputs": [],
   "source": []
  },
  {
   "cell_type": "code",
   "execution_count": 99,
   "metadata": {},
   "outputs": [],
   "source": [
    "# ... Target file based on relevant features"
   ]
  },
  {
   "cell_type": "code",
   "execution_count": 100,
   "metadata": {},
   "outputs": [],
   "source": [
    "mainFile4 = mainFile3"
   ]
  },
  {
   "cell_type": "code",
   "execution_count": 101,
   "metadata": {},
   "outputs": [
    {
     "data": {
      "text/html": [
       "<div>\n",
       "<style scoped>\n",
       "    .dataframe tbody tr th:only-of-type {\n",
       "        vertical-align: middle;\n",
       "    }\n",
       "\n",
       "    .dataframe tbody tr th {\n",
       "        vertical-align: top;\n",
       "    }\n",
       "\n",
       "    .dataframe thead th {\n",
       "        text-align: right;\n",
       "    }\n",
       "</style>\n",
       "<table border=\"1\" class=\"dataframe\">\n",
       "  <thead>\n",
       "    <tr style=\"text-align: right;\">\n",
       "      <th></th>\n",
       "      <th>Provider CCN</th>\n",
       "      <th>Hospital Name</th>\n",
       "      <th>Street Address</th>\n",
       "      <th>City</th>\n",
       "      <th>State Code</th>\n",
       "      <th>Zip Code</th>\n",
       "      <th>Rural Versus Urban</th>\n",
       "      <th>CCN Facility Type</th>\n",
       "      <th>Fiscal Year Begin Date</th>\n",
       "      <th>Fiscal Year End Date</th>\n",
       "      <th>...</th>\n",
       "      <th>Discharges Per Bed</th>\n",
       "      <th>Discharges Per Bed Days</th>\n",
       "      <th>Discharge/FTE</th>\n",
       "      <th>Net Income %</th>\n",
       "      <th>Net Income Score</th>\n",
       "      <th>Labor %</th>\n",
       "      <th>Overhead %</th>\n",
       "      <th>Depreciation %</th>\n",
       "      <th>LbrExp/FTE</th>\n",
       "      <th>Overhead Exp Per Bed</th>\n",
       "    </tr>\n",
       "  </thead>\n",
       "  <tbody>\n",
       "    <tr>\n",
       "      <th>0</th>\n",
       "      <td>510013</td>\n",
       "      <td>REYNOLDS MEMORIAL HOSPITAL</td>\n",
       "      <td>800 WHEELING AVENUE</td>\n",
       "      <td>GLEN DALE</td>\n",
       "      <td>WV</td>\n",
       "      <td>26038</td>\n",
       "      <td>U</td>\n",
       "      <td>STH</td>\n",
       "      <td>10/01/2016 12:00:00 AM</td>\n",
       "      <td>12/31/2016 12:00:00 AM</td>\n",
       "      <td>...</td>\n",
       "      <td>6.214286</td>\n",
       "      <td>0.067547</td>\n",
       "      <td>6.214286</td>\n",
       "      <td>0.308395</td>\n",
       "      <td>1</td>\n",
       "      <td>0.715116</td>\n",
       "      <td>0.627406</td>\n",
       "      <td>0.031451</td>\n",
       "      <td>18996.972990</td>\n",
       "      <td>76691.942857</td>\n",
       "    </tr>\n",
       "    <tr>\n",
       "      <th>1</th>\n",
       "      <td>340106</td>\n",
       "      <td>SANDHILLS REGIONAL MEDICAL CENTER</td>\n",
       "      <td>1000 WEST HAMLET AVE</td>\n",
       "      <td>HAMLET</td>\n",
       "      <td>NC</td>\n",
       "      <td>28345</td>\n",
       "      <td>R</td>\n",
       "      <td>STH</td>\n",
       "      <td>10/01/2016 12:00:00 AM</td>\n",
       "      <td>11/30/2016 12:00:00 AM</td>\n",
       "      <td>...</td>\n",
       "      <td>3.062500</td>\n",
       "      <td>0.050205</td>\n",
       "      <td>3.062500</td>\n",
       "      <td>-0.337043</td>\n",
       "      <td>3</td>\n",
       "      <td>0.509928</td>\n",
       "      <td>0.924882</td>\n",
       "      <td>0.073496</td>\n",
       "      <td>61909.838473</td>\n",
       "      <td>47792.984375</td>\n",
       "    </tr>\n",
       "  </tbody>\n",
       "</table>\n",
       "<p>2 rows × 37 columns</p>\n",
       "</div>"
      ],
      "text/plain": [
       "   Provider CCN                      Hospital Name        Street Address  \\\n",
       "0        510013         REYNOLDS MEMORIAL HOSPITAL   800 WHEELING AVENUE   \n",
       "1        340106  SANDHILLS REGIONAL MEDICAL CENTER  1000 WEST HAMLET AVE   \n",
       "\n",
       "        City State Code Zip Code Rural Versus Urban CCN Facility Type  \\\n",
       "0  GLEN DALE         WV    26038                  U               STH   \n",
       "1     HAMLET         NC    28345                  R               STH   \n",
       "\n",
       "   Fiscal Year Begin Date    Fiscal Year End Date  ...  Discharges Per Bed  \\\n",
       "0  10/01/2016 12:00:00 AM  12/31/2016 12:00:00 AM  ...            6.214286   \n",
       "1  10/01/2016 12:00:00 AM  11/30/2016 12:00:00 AM  ...            3.062500   \n",
       "\n",
       "   Discharges Per Bed Days  Discharge/FTE  Net Income %  Net Income Score  \\\n",
       "0                 0.067547       6.214286      0.308395                 1   \n",
       "1                 0.050205       3.062500     -0.337043                 3   \n",
       "\n",
       "    Labor %  Overhead %  Depreciation %    LbrExp/FTE  Overhead Exp Per Bed  \n",
       "0  0.715116    0.627406        0.031451  18996.972990          76691.942857  \n",
       "1  0.509928    0.924882        0.073496  61909.838473          47792.984375  \n",
       "\n",
       "[2 rows x 37 columns]"
      ]
     },
     "execution_count": 101,
     "metadata": {},
     "output_type": "execute_result"
    }
   ],
   "source": [
    "#Targeting the dataset on metrics important to Kent\n",
    "mainFile4 = mainFile4[['Provider CCN','Hospital Name','Street Address','City','State Code','Zip Code', 'Rural Versus Urban', 'CCN Facility Type', 'Fiscal Year Begin Date', 'Fiscal Year End Date', 'FTE - Employees on Payroll', 'Number of Beds', 'Total Bed Days Available', 'Total Discharges (V + XVIII + XIX + Unknown)', 'Net Patient Revenue', 'Net Income', 'Wage-Related Costs (Core)', 'Total Salaries (adjusted)', 'CON','Urban','Inpatient %','Outpatient %','Charity %','Uncompensated %','Rev/Discharge','Rev Per Bed','Rev Per Bed Days', 'Discharges Per Bed','Discharges Per Bed Days','Discharge/FTE','Net Income %', 'Net Income Score', 'Labor %', 'Overhead %', 'Depreciation %', 'LbrExp/FTE', 'Overhead Exp Per Bed']]\n",
    "mainFile4.head(2)\n"
   ]
  },
  {
   "cell_type": "code",
   "execution_count": 103,
   "metadata": {},
   "outputs": [
    {
     "data": {
      "text/plain": [
       "Provider CCN                                    3194\n",
       "Hospital Name                                   3194\n",
       "Street Address                                  3193\n",
       "City                                            3194\n",
       "State Code                                      3194\n",
       "Zip Code                                        3194\n",
       "Rural Versus Urban                              3194\n",
       "CCN Facility Type                               3194\n",
       "Fiscal Year Begin Date                          3194\n",
       "Fiscal Year End Date                            3194\n",
       "FTE - Employees on Payroll                      3194\n",
       "Number of Beds                                  3194\n",
       "Total Bed Days Available                        3194\n",
       "Total Discharges (V + XVIII + XIX + Unknown)    3194\n",
       "Net Patient Revenue                             3194\n",
       "Net Income                                      3193\n",
       "Wage-Related Costs (Core)                       3183\n",
       "Total Salaries (adjusted)                       3184\n",
       "CON                                             3194\n",
       "Urban                                           3194\n",
       "Inpatient %                                     3193\n",
       "Outpatient %                                    3182\n",
       "Charity %                                       3016\n",
       "Uncompensated %                                 3016\n",
       "Rev/Discharge                                   3194\n",
       "Rev Per Bed                                     3194\n",
       "Rev Per Bed Days                                3194\n",
       "Discharges Per Bed                              3194\n",
       "Discharges Per Bed Days                         3194\n",
       "Discharge/FTE                                   3194\n",
       "Net Income %                                    3193\n",
       "Net Income Score                                3193\n",
       "Labor %                                         3183\n",
       "Overhead %                                      3194\n",
       "Depreciation %                                  3169\n",
       "LbrExp/FTE                                      3183\n",
       "Overhead Exp Per Bed                            3194\n",
       "dtype: int64"
      ]
     },
     "execution_count": 103,
     "metadata": {},
     "output_type": "execute_result"
    }
   ],
   "source": [
    "# Identify incomplete rows\n",
    "mainFile4.count()"
   ]
  },
  {
   "cell_type": "code",
   "execution_count": 104,
   "metadata": {},
   "outputs": [],
   "source": [
    "mainFile4 = mainFile4.dropna(how='any')"
   ]
  },
  {
   "cell_type": "code",
   "execution_count": 105,
   "metadata": {},
   "outputs": [
    {
     "data": {
      "text/plain": [
       "Provider CCN                                    2982\n",
       "Hospital Name                                   2982\n",
       "Street Address                                  2982\n",
       "City                                            2982\n",
       "State Code                                      2982\n",
       "Zip Code                                        2982\n",
       "Rural Versus Urban                              2982\n",
       "CCN Facility Type                               2982\n",
       "Fiscal Year Begin Date                          2982\n",
       "Fiscal Year End Date                            2982\n",
       "FTE - Employees on Payroll                      2982\n",
       "Number of Beds                                  2982\n",
       "Total Bed Days Available                        2982\n",
       "Total Discharges (V + XVIII + XIX + Unknown)    2982\n",
       "Net Patient Revenue                             2982\n",
       "Net Income                                      2982\n",
       "Wage-Related Costs (Core)                       2982\n",
       "Total Salaries (adjusted)                       2982\n",
       "CON                                             2982\n",
       "Urban                                           2982\n",
       "Inpatient %                                     2982\n",
       "Outpatient %                                    2982\n",
       "Charity %                                       2982\n",
       "Uncompensated %                                 2982\n",
       "Rev/Discharge                                   2982\n",
       "Rev Per Bed                                     2982\n",
       "Rev Per Bed Days                                2982\n",
       "Discharges Per Bed                              2982\n",
       "Discharges Per Bed Days                         2982\n",
       "Discharge/FTE                                   2982\n",
       "Net Income %                                    2982\n",
       "Net Income Score                                2982\n",
       "Labor %                                         2982\n",
       "Overhead %                                      2982\n",
       "Depreciation %                                  2982\n",
       "LbrExp/FTE                                      2982\n",
       "Overhead Exp Per Bed                            2982\n",
       "dtype: int64"
      ]
     },
     "execution_count": 105,
     "metadata": {},
     "output_type": "execute_result"
    }
   ],
   "source": [
    "# Identify incomplete rows\n",
    "mainFile4.count()"
   ]
  },
  {
   "cell_type": "code",
   "execution_count": 106,
   "metadata": {},
   "outputs": [],
   "source": [
    "#Output targeted file\n",
    "mainFile4.to_csv(\"main4_2017.csv\", index=False, header=True)"
   ]
  },
  {
   "cell_type": "code",
   "execution_count": null,
   "metadata": {},
   "outputs": [],
   "source": []
  },
  {
   "cell_type": "code",
   "execution_count": null,
   "metadata": {},
   "outputs": [],
   "source": []
  },
  {
   "cell_type": "code",
   "execution_count": 107,
   "metadata": {},
   "outputs": [],
   "source": [
    "# ... Net Income to feature review"
   ]
  },
  {
   "cell_type": "code",
   "execution_count": 108,
   "metadata": {},
   "outputs": [],
   "source": [
    "targetFile5 = mainFile4"
   ]
  },
  {
   "cell_type": "code",
   "execution_count": 109,
   "metadata": {},
   "outputs": [
    {
     "name": "stdout",
     "output_type": "stream",
     "text": [
      "The lower quartile of profit percent is: 32.78753791708797\n",
      "The upper quartile of profit percent is: 55.0977833485895\n",
      "The interquartile range of profit percent is: 22.310245431501535\n",
      "The the median of profit percent is: 46.09932011795544 \n",
      "Values below -0.6778302301643393 could be outliers.\n",
      "Values above 88.56315149584181 could be outliers.\n"
     ]
    }
   ],
   "source": [
    "#Outlier Review\n",
    "chartdata = targetFile5[\"Discharges Per Bed\"]\n",
    "quartiles = chartdata.quantile([.25,.5,.75])\n",
    "lowerq = quartiles[0.25]\n",
    "upperq = quartiles[0.75]\n",
    "iqr = upperq-lowerq\n",
    "\n",
    "print(f\"The lower quartile of profit percent is: {lowerq}\")\n",
    "print(f\"The upper quartile of profit percent is: {upperq}\")\n",
    "print(f\"The interquartile range of profit percent is: {iqr}\")\n",
    "print(f\"The the median of profit percent is: {quartiles[0.5]} \")\n",
    "\n",
    "lower_bound = lowerq - (1.5*iqr)\n",
    "upper_bound = upperq + (1.5*iqr)\n",
    "print(f\"Values below {lower_bound} could be outliers.\")\n",
    "print(f\"Values above {upper_bound} could be outliers.\")"
   ]
  },
  {
   "cell_type": "code",
   "execution_count": 110,
   "metadata": {},
   "outputs": [],
   "source": [
    "#NI v. discharges per bed\n",
    "# x_axis = targetFile5[\"Discharges Per Bed\"]\n",
    "# y_axis = targetFile5[\"Net Income %\"]\n",
    "# plt.title(\"Net Income % v. Discharges Per Bed\")\n",
    "# plt.xlabel(\"Discharges Per Bed\")\n",
    "# plt.ylabel(\"Net Income %\")\n",
    "# plt.scatter(x_axis, y_axis, marker=\"o\", color=\"blue\")\n",
    "# (slope, intercept, rvalue, pvalue, stderr) = linregress(x_axis, y_axis)\n",
    "# regress_values = x_axis * slope + intercept\n",
    "# line_eq = \"y = \" + str(round(slope,2)) + \"x + \" + str(round(intercept,2))\n",
    "# plt.plot(x_axis,regress_values,\"r-\")\n",
    "# plt.annotate(line_eq,(0,50),fontsize=15,color=\"red\")\n",
    "# #plt.savefig(\"3bchart_days2unemployment_k.png\")\n",
    "# plt.show()\n",
    "# print(f\"The correlation coefficient is {round(st.pearsonr(x_axis,y_axis)[0],2)}\")\n",
    "# print(f\"The line equation is as follows:  {line_eq}\")"
   ]
  },
  {
   "cell_type": "code",
   "execution_count": 111,
   "metadata": {},
   "outputs": [],
   "source": [
    "#NI v. discharges per bed days\n",
    "# x_axis = targetFile5[\"Discharges Per Bed Days\"]\n",
    "# y_axis = targetFile5[\"Net Income %\"]\n",
    "# plt.title(\"Net Income % v. Discharges Per Bed Days\")\n",
    "# plt.xlabel(\"Discharges Per Bed Days\")\n",
    "# plt.ylabel(\"Net Income %\")\n",
    "# plt.scatter(x_axis, y_axis, marker=\"o\", color=\"blue\")\n",
    "# #ax.set_yscale('log')\n",
    "# (slope, intercept, rvalue, pvalue, stderr) = linregress(x_axis, y_axis)\n",
    "# regress_values = x_axis * slope + intercept\n",
    "# line_eq = \"y = \" + str(round(slope,2)) + \"x + \" + str(round(intercept,2))\n",
    "# plt.plot(x_axis,regress_values,\"r-\")\n",
    "# plt.annotate(line_eq,(0,50),fontsize=15,color=\"red\")\n",
    "# #plt.savefig(\"3bchart_days2unemployment_k.png\")\n",
    "# plt.show()\n",
    "# print(f\"The correlation coefficient is {round(st.pearsonr(x_axis,y_axis)[0],2)}\")\n",
    "# print(f\"The line equation is as follows:  {line_eq}\")"
   ]
  },
  {
   "cell_type": "code",
   "execution_count": 112,
   "metadata": {},
   "outputs": [
    {
     "name": "stdout",
     "output_type": "stream",
     "text": [
      "The lower quartile of profit percent is: 804362.7826709477\n",
      "The upper quartile of profit percent is: 1590219.5808389264\n",
      "The interquartile range of profit percent is: 785856.7981679786\n",
      "The the median of profit percent is: 1154970.1033051123 \n",
      "Values below -374422.41458102036 could be outliers.\n",
      "Values above 2769004.778090894 could be outliers.\n"
     ]
    }
   ],
   "source": [
    "#Outlier Review\n",
    "chartdata = targetFile5[\"Rev Per Bed\"]\n",
    "quartiles = chartdata.quantile([.25,.5,.75])\n",
    "lowerq = quartiles[0.25]\n",
    "upperq = quartiles[0.75]\n",
    "iqr = upperq-lowerq\n",
    "\n",
    "print(f\"The lower quartile of profit percent is: {lowerq}\")\n",
    "print(f\"The upper quartile of profit percent is: {upperq}\")\n",
    "print(f\"The interquartile range of profit percent is: {iqr}\")\n",
    "print(f\"The the median of profit percent is: {quartiles[0.5]} \")\n",
    "\n",
    "lower_bound = lowerq - (1.5*iqr)\n",
    "upper_bound = upperq + (1.5*iqr)\n",
    "print(f\"Values below {lower_bound} could be outliers.\")\n",
    "print(f\"Values above {upper_bound} could be outliers.\")"
   ]
  },
  {
   "cell_type": "code",
   "execution_count": 113,
   "metadata": {},
   "outputs": [],
   "source": [
    "#NI v. Revenue Per Bed\n",
    "# x_axis = targetFile5[\"Rev Per Bed\"]\n",
    "# y_axis = targetFile5[\"Net Income %\"]\n",
    "# plt.title(\"Net Income % v. Rev Per Bed\")\n",
    "# plt.xlabel(\"Rev Per Bed\")\n",
    "# plt.ylabel(\"Net Income %\")\n",
    "# plt.scatter(x_axis, y_axis, marker=\"o\", color=\"blue\")\n",
    "# (slope, intercept, rvalue, pvalue, stderr) = linregress(x_axis, y_axis)\n",
    "# regress_values = x_axis * slope + intercept\n",
    "# line_eq = \"y = \" + str(round(slope,2)) + \"x + \" + str(round(intercept,2))\n",
    "# plt.plot(x_axis,regress_values,\"r-\")\n",
    "# plt.annotate(line_eq,(0,50),fontsize=15,color=\"red\")\n",
    "# #plt.savefig(\"3bchart_days2unemployment_k.png\")\n",
    "# plt.show()\n",
    "# print(f\"The correlation coefficient is {round(st.pearsonr(x_axis,y_axis)[0],2)}\")\n",
    "# print(f\"The line equation is as follows:  {line_eq}\")"
   ]
  },
  {
   "cell_type": "code",
   "execution_count": 115,
   "metadata": {},
   "outputs": [],
   "source": [
    "#Outlier Review\n",
    "# chartdata = targetFile5[\"Rev Per FTE\"]\n",
    "# quartiles = chartdata.quantile([.25,.5,.75])\n",
    "# lowerq = quartiles[0.25]\n",
    "# upperq = quartiles[0.75]\n",
    "# iqr = upperq-lowerq\n",
    "\n",
    "# print(f\"The lower quartile is: {lowerq}\")\n",
    "# print(f\"The upper quartile is: {upperq}\")\n",
    "# print(f\"The interquartile range is: {iqr}\")\n",
    "# print(f\"The the median is: {quartiles[0.5]} \")\n",
    "\n",
    "# lower_bound = lowerq - (1.5*iqr)\n",
    "# upper_bound = upperq + (1.5*iqr)\n",
    "# print(f\"Values below {lower_bound} could be outliers.\")\n",
    "# print(f\"Values above {upper_bound} could be outliers.\")"
   ]
  },
  {
   "cell_type": "code",
   "execution_count": 116,
   "metadata": {},
   "outputs": [],
   "source": [
    "#NI v. Rev Per FTE\n",
    "targetFile6 = targetFile5\n",
    "# targetFile6 = targetFile5.loc[targetFile5['Rev Per FTE'] <= 1000000]\n",
    "# targetFile6 = targetFile6.loc[targetFile5['Net Income %'] <= .35]\n",
    "# targetFile6 = targetFile6.loc[targetFile5['Net Income %'] >= -.25]\n",
    "# x_axis = targetFile6[\"Rev Per FTE\"]\n",
    "# y_axis = targetFile6[\"Net Income %\"]\n",
    "# plt.title(\"Net Income % v. Rev Per FTE\")\n",
    "# plt.xlabel(\"Rev Per FTE\")\n",
    "# plt.ylabel(\"Net Income %\")\n",
    "# plt.scatter(x_axis, y_axis, marker=\"o\", color=\"blue\")\n",
    "# (slope, intercept, rvalue, pvalue, stderr) = linregress(x_axis, y_axis)\n",
    "# regress_values = x_axis * slope + intercept\n",
    "# line_eq = \"y = \" + str(round(slope,2)) + \"x + \" + str(round(intercept,2))\n",
    "# plt.plot(x_axis,regress_values,\"r-\")\n",
    "# plt.annotate(line_eq,(0,50),fontsize=15,color=\"red\")\n",
    "# #plt.savefig(\"3bchart_days2unemployment_k.png\")\n",
    "# plt.show()\n",
    "# print(f\"The correlation coefficient is {round(st.pearsonr(x_axis,y_axis)[0],2)}\")\n",
    "# print(f\"The line equation is as follows:  {line_eq}\")"
   ]
  },
  {
   "cell_type": "code",
   "execution_count": 118,
   "metadata": {},
   "outputs": [
    {
     "name": "stdout",
     "output_type": "stream",
     "text": [
      "The lower quartile of profit percent is: 20249.235054374352\n",
      "The upper quartile of profit percent is: 34700.51973767634\n",
      "The interquartile range of profit percent is: 14451.284683301987\n",
      "The the median of profit percent is: 25606.19220656314 \n",
      "Values below -1427.6919705786277 could be outliers.\n",
      "Values above 56377.44676262932 could be outliers.\n"
     ]
    }
   ],
   "source": [
    "#Outlier Review\n",
    "chartdata = targetFile5[\"Rev/Discharge\"]\n",
    "quartiles = chartdata.quantile([.25,.5,.75])\n",
    "lowerq = quartiles[0.25]\n",
    "upperq = quartiles[0.75]\n",
    "iqr = upperq-lowerq\n",
    "\n",
    "print(f\"The lower quartile of profit percent is: {lowerq}\")\n",
    "print(f\"The upper quartile of profit percent is: {upperq}\")\n",
    "print(f\"The interquartile range of profit percent is: {iqr}\")\n",
    "print(f\"The the median of profit percent is: {quartiles[0.5]} \")\n",
    "\n",
    "lower_bound = lowerq - (1.5*iqr)\n",
    "upper_bound = upperq + (1.5*iqr)\n",
    "print(f\"Values below {lower_bound} could be outliers.\")\n",
    "print(f\"Values above {upper_bound} could be outliers.\")"
   ]
  },
  {
   "cell_type": "code",
   "execution_count": 119,
   "metadata": {},
   "outputs": [],
   "source": [
    "#NI v. Rev Per Discharge\n",
    "# x_axis = targetFile5[\"Rev Per Discharge\"]\n",
    "# y_axis = targetFile5[\"Net Income %\"]\n",
    "# plt.title(\"Net Income % v. Rev Per Discharge\")\n",
    "# plt.xlabel(\"Rev Per Discharge\")\n",
    "# plt.ylabel(\"Net Income %\")\n",
    "# plt.scatter(x_axis, y_axis, marker=\"o\", color=\"blue\")\n",
    "# (slope, intercept, rvalue, pvalue, stderr) = linregress(x_axis, y_axis)\n",
    "# regress_values = x_axis * slope + intercept\n",
    "# line_eq = \"y = \" + str(round(slope,2)) + \"x + \" + str(round(intercept,2))\n",
    "# plt.plot(x_axis,regress_values,\"r-\")\n",
    "# plt.annotate(line_eq,(0,50),fontsize=15,color=\"red\")\n",
    "# #plt.savefig(\"3bchart_days2unemployment_k.png\")\n",
    "# plt.show()\n",
    "# print(f\"The correlation coefficient is {round(st.pearsonr(x_axis,y_axis)[0],2)}\")\n",
    "# print(f\"The line equation is as follows:  {line_eq}\")"
   ]
  },
  {
   "cell_type": "code",
   "execution_count": 120,
   "metadata": {},
   "outputs": [
    {
     "name": "stdout",
     "output_type": "stream",
     "text": [
      "The lower quartile is: 75888.99972993067\n",
      "The upper quartile is: 96877.119655674\n",
      "The interquartile range is: 20988.119925743333\n",
      "The the median of is: 85290.95879189257 \n",
      "Values below 44406.81984131567 could be outliers.\n",
      "Values above 128359.29954428901 could be outliers.\n"
     ]
    }
   ],
   "source": [
    "#Outlier Review\n",
    "chartdata = targetFile5[\"LbrExp/FTE\"]\n",
    "quartiles = chartdata.quantile([.25,.5,.75])\n",
    "lowerq = quartiles[0.25]\n",
    "upperq = quartiles[0.75]\n",
    "iqr = upperq-lowerq\n",
    "\n",
    "print(f\"The lower quartile is: {lowerq}\")\n",
    "print(f\"The upper quartile is: {upperq}\")\n",
    "print(f\"The interquartile range is: {iqr}\")\n",
    "print(f\"The the median of is: {quartiles[0.5]} \")\n",
    "\n",
    "lower_bound = lowerq - (1.5*iqr)\n",
    "upper_bound = upperq + (1.5*iqr)\n",
    "print(f\"Values below {lower_bound} could be outliers.\")\n",
    "print(f\"Values above {upper_bound} could be outliers.\")"
   ]
  },
  {
   "cell_type": "code",
   "execution_count": 121,
   "metadata": {},
   "outputs": [],
   "source": [
    "#NI v. Labor Expense Per FTE\n",
    "# targetFile6 = targetFile5.loc[targetFile5['Labor Exp Per FTE'] <= 130000]\n",
    "# targetFile6 = targetFile6.loc[targetFile5['Net Income %'] <= .35]\n",
    "# targetFile6 = targetFile6.loc[targetFile5['Net Income %'] >= -.25]\n",
    "# x_axis = targetFile6[\"Labor Exp Per FTE\"]\n",
    "# y_axis = targetFile6[\"Net Income %\"]\n",
    "# plt.title(\"Net Income % v. Labor Exp Per FTE\")\n",
    "# plt.xlabel(\"Labor Exp Per FTE\")\n",
    "# plt.ylabel(\"Net Income %\")\n",
    "# plt.scatter(x_axis, y_axis, marker=\"o\", color=\"blue\")\n",
    "# (slope, intercept, rvalue, pvalue, stderr) = linregress(x_axis, y_axis)\n",
    "# regress_values = x_axis * slope + intercept\n",
    "# line_eq = \"y = \" + str(round(slope,2)) + \"x + \" + str(round(intercept,2))\n",
    "# plt.plot(x_axis,regress_values,\"r-\")\n",
    "# plt.annotate(line_eq,(0,50),fontsize=15,color=\"red\")\n",
    "# #plt.savefig(\"3bchart_days2unemployment_k.png\")\n",
    "# plt.show()\n",
    "# print(f\"The correlation coefficient is {round(st.pearsonr(x_axis,y_axis)[0],2)}\")\n",
    "# print(f\"The line equation is as follows:  {line_eq}\")"
   ]
  },
  {
   "cell_type": "code",
   "execution_count": 122,
   "metadata": {},
   "outputs": [
    {
     "name": "stdout",
     "output_type": "stream",
     "text": [
      "The lower quartile is: 0.5621077646917462\n",
      "The upper quartile is: 0.6926348487601393\n",
      "The interquartile range is: 0.13052708406839308\n",
      "The the median of is: 0.6208035039207582 \n",
      "Values below 0.36631713858915654 could be outliers.\n",
      "Values above 0.8884254748627289 could be outliers.\n"
     ]
    }
   ],
   "source": [
    "#Outlier Review\n",
    "chartdata = targetFile5[\"Overhead %\"]\n",
    "quartiles = chartdata.quantile([.25,.5,.75])\n",
    "lowerq = quartiles[0.25]\n",
    "upperq = quartiles[0.75]\n",
    "iqr = upperq-lowerq\n",
    "\n",
    "print(f\"The lower quartile is: {lowerq}\")\n",
    "print(f\"The upper quartile is: {upperq}\")\n",
    "print(f\"The interquartile range is: {iqr}\")\n",
    "print(f\"The the median of is: {quartiles[0.5]} \")\n",
    "\n",
    "lower_bound = lowerq - (1.5*iqr)\n",
    "upper_bound = upperq + (1.5*iqr)\n",
    "print(f\"Values below {lower_bound} could be outliers.\")\n",
    "print(f\"Values above {upper_bound} could be outliers.\")"
   ]
  },
  {
   "cell_type": "code",
   "execution_count": 123,
   "metadata": {},
   "outputs": [],
   "source": [
    "#NI v. Overhead Percent\n",
    "# targetFile6 = targetFile5.loc[targetFile5['Overhead %'] <= .90]\n",
    "# targetFile6 = targetFile6.loc[targetFile5['Net Income %'] <= .35]\n",
    "# targetFile6 = targetFile6.loc[targetFile5['Net Income %'] >= -.25]\n",
    "# x_axis = targetFile6[\"Overhead %\"]\n",
    "# y_axis = targetFile6[\"Net Income %\"]\n",
    "# plt.title(\"Net Income % v. Overhead %\")\n",
    "# plt.xlabel(\"Overhead %\")\n",
    "# plt.ylabel(\"Net Income %\")\n",
    "# plt.scatter(x_axis, y_axis, marker=\"o\", color=\"blue\")\n",
    "# (slope, intercept, rvalue, pvalue, stderr) = linregress(x_axis, y_axis)\n",
    "# regress_values = x_axis * slope + intercept\n",
    "# line_eq = \"y = \" + str(round(slope,2)) + \"x + \" + str(round(intercept,2))\n",
    "# plt.plot(x_axis,regress_values,\"r-\")\n",
    "# plt.annotate(line_eq,(0,50),fontsize=15,color=\"red\")\n",
    "# #plt.savefig(\"3bchart_days2unemployment_k.png\")\n",
    "# plt.show()\n",
    "# print(f\"The correlation coefficient is {round(st.pearsonr(x_axis,y_axis)[0],2)}\")\n",
    "# print(f\"The line equation is as follows:  {line_eq}\")"
   ]
  },
  {
   "cell_type": "code",
   "execution_count": 124,
   "metadata": {},
   "outputs": [
    {
     "name": "stdout",
     "output_type": "stream",
     "text": [
      "The lower quartile is: 0.3751075906483552\n",
      "The upper quartile is: 0.5373285012672162\n",
      "The interquartile range is: 0.16222091061886101\n",
      "The the median of is: 0.45013593995322915 \n",
      "Values below 0.13177622472006367 could be outliers.\n",
      "Values above 0.7806598671955077 could be outliers.\n"
     ]
    }
   ],
   "source": [
    "#Outlier Review\n",
    "chartdata = targetFile5[\"Labor %\"]\n",
    "quartiles = chartdata.quantile([.25,.5,.75])\n",
    "lowerq = quartiles[0.25]\n",
    "upperq = quartiles[0.75]\n",
    "iqr = upperq-lowerq\n",
    "\n",
    "print(f\"The lower quartile is: {lowerq}\")\n",
    "print(f\"The upper quartile is: {upperq}\")\n",
    "print(f\"The interquartile range is: {iqr}\")\n",
    "print(f\"The the median of is: {quartiles[0.5]} \")\n",
    "\n",
    "lower_bound = lowerq - (1.5*iqr)\n",
    "upper_bound = upperq + (1.5*iqr)\n",
    "print(f\"Values below {lower_bound} could be outliers.\")\n",
    "print(f\"Values above {upper_bound} could be outliers.\")"
   ]
  },
  {
   "cell_type": "code",
   "execution_count": 125,
   "metadata": {},
   "outputs": [],
   "source": [
    "#NI v. Labor Percent\n",
    "targetFile6 = targetFile5\n",
    "# targetFile6 = targetFile5.loc[targetFile5['Labor %'] <= .90]\n",
    "# targetFile6 = targetFile6.loc[targetFile5['Net Income %'] <= .35]\n",
    "# targetFile6 = targetFile6.loc[targetFile5['Net Income %'] >= -.25]\n",
    "# x_axis = targetFile6[\"Labor %\"]\n",
    "# y_axis = targetFile6[\"Net Income %\"]\n",
    "# plt.title(\"Net Income % v. Labor %\")\n",
    "# plt.xlabel(\"Labor %\")\n",
    "# plt.ylabel(\"Net Income %\")\n",
    "# plt.scatter(x_axis, y_axis, marker=\"o\", color=\"blue\")\n",
    "# (slope, intercept, rvalue, pvalue, stderr) = linregress(x_axis, y_axis)\n",
    "# regress_values = x_axis * slope + intercept\n",
    "# line_eq = \"y = \" + str(round(slope,2)) + \"x + \" + str(round(intercept,2))\n",
    "# plt.plot(x_axis,regress_values,\"r-\")\n",
    "# plt.annotate(line_eq,(0,50),fontsize=15,color=\"red\")\n",
    "# #plt.savefig(\"3bchart_days2unemployment_k.png\")\n",
    "# plt.show()\n",
    "# print(f\"The correlation coefficient is {round(st.pearsonr(x_axis,y_axis)[0],2)}\")\n",
    "# print(f\"The line equation is as follows:  {line_eq}\")"
   ]
  },
  {
   "cell_type": "code",
   "execution_count": 126,
   "metadata": {},
   "outputs": [
    {
     "name": "stdout",
     "output_type": "stream",
     "text": [
      "The lower quartile is: 32.78753791708797\n",
      "The upper quartile is: 55.0977833485895\n",
      "The interquartile range is: 22.310245431501535\n",
      "The the median of is: 46.09932011795544 \n",
      "Values below -0.6778302301643393 could be outliers.\n",
      "Values above 88.56315149584181 could be outliers.\n"
     ]
    }
   ],
   "source": [
    "#Outlier Review\n",
    "chartdata = targetFile5[\"Discharge/FTE\"]\n",
    "quartiles = chartdata.quantile([.25,.5,.75])\n",
    "lowerq = quartiles[0.25]\n",
    "upperq = quartiles[0.75]\n",
    "iqr = upperq-lowerq\n",
    "\n",
    "print(f\"The lower quartile is: {lowerq}\")\n",
    "print(f\"The upper quartile is: {upperq}\")\n",
    "print(f\"The interquartile range is: {iqr}\")\n",
    "print(f\"The the median of is: {quartiles[0.5]} \")\n",
    "\n",
    "lower_bound = lowerq - (1.5*iqr)\n",
    "upper_bound = upperq + (1.5*iqr)\n",
    "print(f\"Values below {lower_bound} could be outliers.\")\n",
    "print(f\"Values above {upper_bound} could be outliers.\")"
   ]
  },
  {
   "cell_type": "code",
   "execution_count": 127,
   "metadata": {},
   "outputs": [],
   "source": [
    "#NI v. Labor Percent\n",
    "# targetFile6 = targetFile5\n",
    "# targetFile6 = targetFile5.loc[targetFile5['Discharges Per FTE'] <= 120]\n",
    "# targetFile6 = targetFile6.loc[targetFile5['Net Income %'] <= .35]\n",
    "# targetFile6 = targetFile6.loc[targetFile5['Net Income %'] >= -.25]\n",
    "# x_axis = targetFile6[\"Discharges Per FTE\"]\n",
    "# y_axis = targetFile6[\"Net Income %\"]\n",
    "# plt.title(\"Net Income % v. Discharges Per FTE\")\n",
    "# plt.xlabel(\"Discharges Per FTE\")\n",
    "# plt.ylabel(\"Net Income %\")\n",
    "# plt.scatter(x_axis, y_axis, marker=\"o\", color=\"blue\")\n",
    "# (slope, intercept, rvalue, pvalue, stderr) = linregress(x_axis, y_axis)\n",
    "# regress_values = x_axis * slope + intercept\n",
    "# line_eq = \"y = \" + str(round(slope,2)) + \"x + \" + str(round(intercept,2))\n",
    "# plt.plot(x_axis,regress_values,\"r-\")\n",
    "# plt.annotate(line_eq,(0,50),fontsize=15,color=\"red\")\n",
    "# #plt.savefig(\"3bchart_days2unemployment_k.png\")\n",
    "# plt.show()\n",
    "# print(f\"The correlation coefficient is {round(st.pearsonr(x_axis,y_axis)[0],2)}\")\n",
    "# print(f\"The line equation is as follows:  {line_eq}\")"
   ]
  },
  {
   "cell_type": "code",
   "execution_count": null,
   "metadata": {},
   "outputs": [],
   "source": []
  },
  {
   "cell_type": "code",
   "execution_count": null,
   "metadata": {},
   "outputs": [],
   "source": []
  },
  {
   "cell_type": "code",
   "execution_count": null,
   "metadata": {},
   "outputs": [],
   "source": []
  },
  {
   "cell_type": "code",
   "execution_count": 128,
   "metadata": {},
   "outputs": [],
   "source": [
    "#Start machine learning ..."
   ]
  },
  {
   "cell_type": "code",
   "execution_count": null,
   "metadata": {},
   "outputs": [],
   "source": []
  },
  {
   "cell_type": "code",
   "execution_count": 129,
   "metadata": {},
   "outputs": [
    {
     "data": {
      "text/html": [
       "<div>\n",
       "<style scoped>\n",
       "    .dataframe tbody tr th:only-of-type {\n",
       "        vertical-align: middle;\n",
       "    }\n",
       "\n",
       "    .dataframe tbody tr th {\n",
       "        vertical-align: top;\n",
       "    }\n",
       "\n",
       "    .dataframe thead th {\n",
       "        text-align: right;\n",
       "    }\n",
       "</style>\n",
       "<table border=\"1\" class=\"dataframe\">\n",
       "  <thead>\n",
       "    <tr style=\"text-align: right;\">\n",
       "      <th></th>\n",
       "      <th>CON</th>\n",
       "      <th>Urban</th>\n",
       "      <th>Inpatient %</th>\n",
       "      <th>Outpatient %</th>\n",
       "      <th>Charity %</th>\n",
       "      <th>Uncompensated %</th>\n",
       "      <th>Rev/Discharge</th>\n",
       "      <th>Rev Per Bed</th>\n",
       "      <th>Rev Per Bed Days</th>\n",
       "      <th>Discharges Per Bed</th>\n",
       "      <th>Discharges Per Bed Days</th>\n",
       "      <th>Discharge/FTE</th>\n",
       "      <th>Labor %</th>\n",
       "      <th>Overhead %</th>\n",
       "      <th>Depreciation %</th>\n",
       "      <th>LbrExp/FTE</th>\n",
       "      <th>Overhead Exp Per Bed</th>\n",
       "    </tr>\n",
       "  </thead>\n",
       "  <tbody>\n",
       "    <tr>\n",
       "      <th>0</th>\n",
       "      <td>1.0</td>\n",
       "      <td>1.0</td>\n",
       "      <td>0.311881</td>\n",
       "      <td>0.688119</td>\n",
       "      <td>0.003080</td>\n",
       "      <td>0.003080</td>\n",
       "      <td>19670.239080</td>\n",
       "      <td>122236.485714</td>\n",
       "      <td>1328.657453</td>\n",
       "      <td>6.214286</td>\n",
       "      <td>0.067547</td>\n",
       "      <td>6.214286</td>\n",
       "      <td>0.715116</td>\n",
       "      <td>0.627406</td>\n",
       "      <td>0.031451</td>\n",
       "      <td>18996.972990</td>\n",
       "      <td>76691.942857</td>\n",
       "    </tr>\n",
       "    <tr>\n",
       "      <th>1</th>\n",
       "      <td>1.0</td>\n",
       "      <td>0.0</td>\n",
       "      <td>0.325730</td>\n",
       "      <td>0.674270</td>\n",
       "      <td>0.001075</td>\n",
       "      <td>0.001075</td>\n",
       "      <td>16873.362245</td>\n",
       "      <td>51674.671875</td>\n",
       "      <td>847.125768</td>\n",
       "      <td>3.062500</td>\n",
       "      <td>0.050205</td>\n",
       "      <td>3.062500</td>\n",
       "      <td>0.509928</td>\n",
       "      <td>0.924882</td>\n",
       "      <td>0.073496</td>\n",
       "      <td>61909.838473</td>\n",
       "      <td>47792.984375</td>\n",
       "    </tr>\n",
       "  </tbody>\n",
       "</table>\n",
       "</div>"
      ],
      "text/plain": [
       "   CON  Urban  Inpatient %  Outpatient %  Charity %  Uncompensated %  \\\n",
       "0  1.0    1.0     0.311881      0.688119   0.003080         0.003080   \n",
       "1  1.0    0.0     0.325730      0.674270   0.001075         0.001075   \n",
       "\n",
       "   Rev/Discharge    Rev Per Bed  Rev Per Bed Days  Discharges Per Bed  \\\n",
       "0   19670.239080  122236.485714       1328.657453            6.214286   \n",
       "1   16873.362245   51674.671875        847.125768            3.062500   \n",
       "\n",
       "   Discharges Per Bed Days  Discharge/FTE   Labor %  Overhead %  \\\n",
       "0                 0.067547       6.214286  0.715116    0.627406   \n",
       "1                 0.050205       3.062500  0.509928    0.924882   \n",
       "\n",
       "   Depreciation %    LbrExp/FTE  Overhead Exp Per Bed  \n",
       "0        0.031451  18996.972990          76691.942857  \n",
       "1        0.073496  61909.838473          47792.984375  "
      ]
     },
     "execution_count": 129,
     "metadata": {},
     "output_type": "execute_result"
    }
   ],
   "source": [
    "# Select features to be used as x values\n",
    "features1 = mainFile4[['CON','Urban','Inpatient %','Outpatient %','Charity %','Uncompensated %','Rev/Discharge','Rev Per Bed','Rev Per Bed Days', 'Discharges Per Bed','Discharges Per Bed Days','Discharge/FTE', 'Labor %', 'Overhead %', 'Depreciation %', 'LbrExp/FTE', 'Overhead Exp Per Bed']]\n",
    "features1.head(2)\n",
    "#RFE logrithmic output ... array([15, 17, 16, 14, 12,  8, 11,  6,  5 (R/BDay),  7,  9,  3(D/FTE),  2(L%),  1 (OH%),  4 (D%), 13, 10])"
   ]
  },
  {
   "cell_type": "code",
   "execution_count": 130,
   "metadata": {},
   "outputs": [],
   "source": [
    "#Output features file as a reference document\n",
    "features1.to_csv(\"features2017.csv\", index=False, header=True)"
   ]
  },
  {
   "cell_type": "code",
   "execution_count": null,
   "metadata": {},
   "outputs": [],
   "source": []
  },
  {
   "cell_type": "code",
   "execution_count": null,
   "metadata": {},
   "outputs": [],
   "source": []
  },
  {
   "cell_type": "code",
   "execution_count": 131,
   "metadata": {},
   "outputs": [],
   "source": [
    "# ... Linear Regression Model"
   ]
  },
  {
   "cell_type": "code",
   "execution_count": 132,
   "metadata": {},
   "outputs": [
    {
     "data": {
      "text/html": [
       "<div>\n",
       "<style scoped>\n",
       "    .dataframe tbody tr th:only-of-type {\n",
       "        vertical-align: middle;\n",
       "    }\n",
       "\n",
       "    .dataframe tbody tr th {\n",
       "        vertical-align: top;\n",
       "    }\n",
       "\n",
       "    .dataframe thead th {\n",
       "        text-align: right;\n",
       "    }\n",
       "</style>\n",
       "<table border=\"1\" class=\"dataframe\">\n",
       "  <thead>\n",
       "    <tr style=\"text-align: right;\">\n",
       "      <th></th>\n",
       "      <th>Net Income %</th>\n",
       "    </tr>\n",
       "  </thead>\n",
       "  <tbody>\n",
       "    <tr>\n",
       "      <th>0</th>\n",
       "      <td>0.308395</td>\n",
       "    </tr>\n",
       "    <tr>\n",
       "      <th>1</th>\n",
       "      <td>-0.337043</td>\n",
       "    </tr>\n",
       "    <tr>\n",
       "      <th>5</th>\n",
       "      <td>-0.132426</td>\n",
       "    </tr>\n",
       "    <tr>\n",
       "      <th>6</th>\n",
       "      <td>-0.291462</td>\n",
       "    </tr>\n",
       "    <tr>\n",
       "      <th>7</th>\n",
       "      <td>-0.050419</td>\n",
       "    </tr>\n",
       "  </tbody>\n",
       "</table>\n",
       "</div>"
      ],
      "text/plain": [
       "   Net Income %\n",
       "0      0.308395\n",
       "1     -0.337043\n",
       "5     -0.132426\n",
       "6     -0.291462\n",
       "7     -0.050419"
      ]
     },
     "execution_count": 132,
     "metadata": {},
     "output_type": "execute_result"
    }
   ],
   "source": [
    "# Identify the outcome column/data\n",
    "y = mainFile4[['Net Income %']]\n",
    "y.head()"
   ]
  },
  {
   "cell_type": "code",
   "execution_count": 133,
   "metadata": {},
   "outputs": [
    {
     "data": {
      "text/plain": [
       "dtype('float64')"
      ]
     },
     "execution_count": 133,
     "metadata": {},
     "output_type": "execute_result"
    }
   ],
   "source": [
    "mainFile4[\"Net Income %\"].dtype"
   ]
  },
  {
   "cell_type": "code",
   "execution_count": 134,
   "metadata": {},
   "outputs": [
    {
     "data": {
      "text/plain": [
       "(2982, 1)"
      ]
     },
     "execution_count": 134,
     "metadata": {},
     "output_type": "execute_result"
    }
   ],
   "source": [
    "y.shape"
   ]
  },
  {
   "cell_type": "code",
   "execution_count": 135,
   "metadata": {},
   "outputs": [
    {
     "data": {
      "text/plain": [
       "(2982, 17)"
      ]
     },
     "execution_count": 135,
     "metadata": {},
     "output_type": "execute_result"
    }
   ],
   "source": [
    "X = features1\n",
    "X.shape"
   ]
  },
  {
   "cell_type": "code",
   "execution_count": 136,
   "metadata": {},
   "outputs": [],
   "source": [
    "#Create a training and testing dataset - one hot\n",
    "X_train, X_test, y_train, y_test = train_test_split(\n",
    "    X, y, random_state=1)"
   ]
  },
  {
   "cell_type": "code",
   "execution_count": 137,
   "metadata": {},
   "outputs": [
    {
     "data": {
      "text/plain": [
       "(2236, 1)"
      ]
     },
     "execution_count": 137,
     "metadata": {},
     "output_type": "execute_result"
    }
   ],
   "source": [
    "y_train.shape"
   ]
  },
  {
   "cell_type": "code",
   "execution_count": 138,
   "metadata": {},
   "outputs": [
    {
     "data": {
      "text/plain": [
       "(2236, 17)"
      ]
     },
     "execution_count": 138,
     "metadata": {},
     "output_type": "execute_result"
    }
   ],
   "source": [
    "X_train.shape"
   ]
  },
  {
   "cell_type": "code",
   "execution_count": 139,
   "metadata": {},
   "outputs": [
    {
     "data": {
      "text/plain": [
       "(746, 1)"
      ]
     },
     "execution_count": 139,
     "metadata": {},
     "output_type": "execute_result"
    }
   ],
   "source": [
    "y_test.shape"
   ]
  },
  {
   "cell_type": "code",
   "execution_count": 140,
   "metadata": {},
   "outputs": [
    {
     "data": {
      "text/plain": [
       "(746, 17)"
      ]
     },
     "execution_count": 140,
     "metadata": {},
     "output_type": "execute_result"
    }
   ],
   "source": [
    "X_test.shape"
   ]
  },
  {
   "cell_type": "code",
   "execution_count": 141,
   "metadata": {},
   "outputs": [],
   "source": [
    "# Scale your data\n",
    "X_scaler = MinMaxScaler().fit(X_train)\n",
    "X_train_scaled = X_scaler.transform(X_train)\n",
    "X_test_scaled = X_scaler.transform(X_test)"
   ]
  },
  {
   "cell_type": "code",
   "execution_count": 142,
   "metadata": {},
   "outputs": [
    {
     "name": "stdout",
     "output_type": "stream",
     "text": [
      "Training Data Score: 0.38644176850279865\n"
     ]
    }
   ],
   "source": [
    "#Create the linear regression model and fit to the training data\n",
    "#score is r2 root mean ... 1 is better\n",
    "modela = LinearRegression()\n",
    "modela.fit(X_train_scaled, y_train)\n",
    "score = modela.score(X_train_scaled, y_train)\n",
    "print(f\"Training Data Score: {modela.score(X_train_scaled, y_train)}\")"
   ]
  },
  {
   "cell_type": "code",
   "execution_count": 143,
   "metadata": {},
   "outputs": [
    {
     "name": "stdout",
     "output_type": "stream",
     "text": [
      "Testing Data Score: 0.5476352023552173\n"
     ]
    }
   ],
   "source": [
    "#Run the model with the testing data and determine score\n",
    "print(f\"Testing Data Score: {modela.score(X_test_scaled, y_test)}\")"
   ]
  },
  {
   "cell_type": "code",
   "execution_count": null,
   "metadata": {},
   "outputs": [],
   "source": []
  },
  {
   "cell_type": "code",
   "execution_count": null,
   "metadata": {},
   "outputs": [],
   "source": []
  },
  {
   "cell_type": "code",
   "execution_count": 144,
   "metadata": {},
   "outputs": [],
   "source": [
    "# ... Linear Recursive Feature Elimination"
   ]
  },
  {
   "cell_type": "code",
   "execution_count": 145,
   "metadata": {},
   "outputs": [],
   "source": [
    "#Identify features to create a more efficient model with\n",
    "estimator = LinearRegression()\n",
    "selector = RFE(estimator, n_features_to_select=5, step=1)\n",
    "selector = selector.fit(X_train_scaled, y_train)"
   ]
  },
  {
   "cell_type": "code",
   "execution_count": 146,
   "metadata": {},
   "outputs": [
    {
     "data": {
      "text/plain": [
       "array([False, False,  True,  True,  True, False, False, False, False,\n",
       "        True, False,  True, False, False, False, False, False])"
      ]
     },
     "execution_count": 146,
     "metadata": {},
     "output_type": "execute_result"
    }
   ],
   "source": [
    "selector.support_"
   ]
  },
  {
   "cell_type": "code",
   "execution_count": 147,
   "metadata": {},
   "outputs": [
    {
     "data": {
      "text/plain": [
       "array([12, 13,  1,  1,  1,  2,  8,  6,  9,  1, 10,  1,  4,  3, 11,  7,  5])"
      ]
     },
     "execution_count": 147,
     "metadata": {},
     "output_type": "execute_result"
    }
   ],
   "source": [
    "selector.ranking_"
   ]
  },
  {
   "cell_type": "code",
   "execution_count": null,
   "metadata": {},
   "outputs": [],
   "source": []
  },
  {
   "cell_type": "code",
   "execution_count": null,
   "metadata": {},
   "outputs": [],
   "source": []
  },
  {
   "cell_type": "code",
   "execution_count": 148,
   "metadata": {},
   "outputs": [],
   "source": [
    "# ... Logistics Model"
   ]
  },
  {
   "cell_type": "code",
   "execution_count": 149,
   "metadata": {},
   "outputs": [
    {
     "data": {
      "text/html": [
       "<div>\n",
       "<style scoped>\n",
       "    .dataframe tbody tr th:only-of-type {\n",
       "        vertical-align: middle;\n",
       "    }\n",
       "\n",
       "    .dataframe tbody tr th {\n",
       "        vertical-align: top;\n",
       "    }\n",
       "\n",
       "    .dataframe thead th {\n",
       "        text-align: right;\n",
       "    }\n",
       "</style>\n",
       "<table border=\"1\" class=\"dataframe\">\n",
       "  <thead>\n",
       "    <tr style=\"text-align: right;\">\n",
       "      <th></th>\n",
       "      <th>Net Income Score</th>\n",
       "    </tr>\n",
       "  </thead>\n",
       "  <tbody>\n",
       "    <tr>\n",
       "      <th>0</th>\n",
       "      <td>1</td>\n",
       "    </tr>\n",
       "    <tr>\n",
       "      <th>1</th>\n",
       "      <td>3</td>\n",
       "    </tr>\n",
       "    <tr>\n",
       "      <th>5</th>\n",
       "      <td>3</td>\n",
       "    </tr>\n",
       "    <tr>\n",
       "      <th>6</th>\n",
       "      <td>3</td>\n",
       "    </tr>\n",
       "    <tr>\n",
       "      <th>7</th>\n",
       "      <td>3</td>\n",
       "    </tr>\n",
       "  </tbody>\n",
       "</table>\n",
       "</div>"
      ],
      "text/plain": [
       "  Net Income Score\n",
       "0                1\n",
       "1                3\n",
       "5                3\n",
       "6                3\n",
       "7                3"
      ]
     },
     "execution_count": 149,
     "metadata": {},
     "output_type": "execute_result"
    }
   ],
   "source": [
    "# Identify the outcome column/data\n",
    "yy = mainFile4[['Net Income Score']]\n",
    "yy.head()"
   ]
  },
  {
   "cell_type": "code",
   "execution_count": 150,
   "metadata": {},
   "outputs": [
    {
     "data": {
      "text/plain": [
       "(2982, 1)"
      ]
     },
     "execution_count": 150,
     "metadata": {},
     "output_type": "execute_result"
    }
   ],
   "source": [
    "yy.shape"
   ]
  },
  {
   "cell_type": "code",
   "execution_count": 151,
   "metadata": {},
   "outputs": [
    {
     "data": {
      "text/plain": [
       "(2982, 17)"
      ]
     },
     "execution_count": 151,
     "metadata": {},
     "output_type": "execute_result"
    }
   ],
   "source": [
    "XX = features1\n",
    "XX.shape"
   ]
  },
  {
   "cell_type": "code",
   "execution_count": 153,
   "metadata": {},
   "outputs": [],
   "source": [
    "#Create a training and testing dataset\n",
    "X_train, X_test, y_train, y_test = train_test_split(\n",
    "    XX, yy, random_state=1)"
   ]
  },
  {
   "cell_type": "code",
   "execution_count": 154,
   "metadata": {},
   "outputs": [
    {
     "data": {
      "text/plain": [
       "(2236, 1)"
      ]
     },
     "execution_count": 154,
     "metadata": {},
     "output_type": "execute_result"
    }
   ],
   "source": [
    "y_train.shape"
   ]
  },
  {
   "cell_type": "code",
   "execution_count": 155,
   "metadata": {},
   "outputs": [
    {
     "data": {
      "text/plain": [
       "(2236, 17)"
      ]
     },
     "execution_count": 155,
     "metadata": {},
     "output_type": "execute_result"
    }
   ],
   "source": [
    "X_train.shape"
   ]
  },
  {
   "cell_type": "code",
   "execution_count": 156,
   "metadata": {},
   "outputs": [
    {
     "data": {
      "text/plain": [
       "(746, 1)"
      ]
     },
     "execution_count": 156,
     "metadata": {},
     "output_type": "execute_result"
    }
   ],
   "source": [
    "y_test.shape"
   ]
  },
  {
   "cell_type": "code",
   "execution_count": 157,
   "metadata": {},
   "outputs": [
    {
     "data": {
      "text/plain": [
       "(746, 1)"
      ]
     },
     "execution_count": 157,
     "metadata": {},
     "output_type": "execute_result"
    }
   ],
   "source": [
    "y_test.shape"
   ]
  },
  {
   "cell_type": "code",
   "execution_count": 158,
   "metadata": {},
   "outputs": [],
   "source": [
    "# Scale your data\n",
    "X_scaler = MinMaxScaler().fit(X_train)\n",
    "X_train_scaled = X_scaler.transform(X_train)\n",
    "X_test_scaled = X_scaler.transform(X_test)"
   ]
  },
  {
   "cell_type": "code",
   "execution_count": 159,
   "metadata": {},
   "outputs": [
    {
     "name": "stdout",
     "output_type": "stream",
     "text": [
      "Training Data Score: 0.5787119856887298\n"
     ]
    },
    {
     "name": "stderr",
     "output_type": "stream",
     "text": [
      "C:\\Users\\rodge\\anaconda3\\envs\\PythonData\\lib\\site-packages\\sklearn\\utils\\validation.py:63: DataConversionWarning: A column-vector y was passed when a 1d array was expected. Please change the shape of y to (n_samples, ), for example using ravel().\n",
      "  return f(*args, **kwargs)\n",
      "C:\\Users\\rodge\\anaconda3\\envs\\PythonData\\lib\\site-packages\\sklearn\\linear_model\\_logistic.py:765: ConvergenceWarning: lbfgs failed to converge (status=1):\n",
      "STOP: TOTAL NO. of ITERATIONS REACHED LIMIT.\n",
      "\n",
      "Increase the number of iterations (max_iter) or scale the data as shown in:\n",
      "    https://scikit-learn.org/stable/modules/preprocessing.html\n",
      "Please also refer to the documentation for alternative solver options:\n",
      "    https://scikit-learn.org/stable/modules/linear_model.html#logistic-regression\n",
      "  extra_warning_msg=_LOGISTIC_SOLVER_CONVERGENCE_MSG)\n"
     ]
    }
   ],
   "source": [
    "#Create the logistic regression model and fit to the training data\n",
    "#score is r2 root mean ... 1 is better\n",
    "modela = LogisticRegression()\n",
    "modela.fit(X_train_scaled, y_train)\n",
    "score = modela.score(X_train_scaled, y_train)\n",
    "print(f\"Training Data Score: {modela.score(X_train_scaled, y_train)}\")"
   ]
  },
  {
   "cell_type": "code",
   "execution_count": 160,
   "metadata": {},
   "outputs": [
    {
     "name": "stdout",
     "output_type": "stream",
     "text": [
      "Testing Data Score: 0.6152815013404825\n"
     ]
    }
   ],
   "source": [
    "#Run the model with the testing data and determine score\n",
    "print(f\"Testing Data Score: {modela.score(X_test_scaled, y_test)}\")"
   ]
  },
  {
   "cell_type": "code",
   "execution_count": null,
   "metadata": {},
   "outputs": [],
   "source": []
  },
  {
   "cell_type": "code",
   "execution_count": 161,
   "metadata": {},
   "outputs": [],
   "source": [
    "# ... recursive feature elimination"
   ]
  },
  {
   "cell_type": "code",
   "execution_count": 162,
   "metadata": {},
   "outputs": [
    {
     "name": "stderr",
     "output_type": "stream",
     "text": [
      "C:\\Users\\rodge\\anaconda3\\envs\\PythonData\\lib\\site-packages\\sklearn\\utils\\validation.py:63: DataConversionWarning: A column-vector y was passed when a 1d array was expected. Please change the shape of y to (n_samples, ), for example using ravel().\n",
      "  return f(*args, **kwargs)\n",
      "C:\\Users\\rodge\\anaconda3\\envs\\PythonData\\lib\\site-packages\\sklearn\\linear_model\\_logistic.py:765: ConvergenceWarning: lbfgs failed to converge (status=1):\n",
      "STOP: TOTAL NO. of ITERATIONS REACHED LIMIT.\n",
      "\n",
      "Increase the number of iterations (max_iter) or scale the data as shown in:\n",
      "    https://scikit-learn.org/stable/modules/preprocessing.html\n",
      "Please also refer to the documentation for alternative solver options:\n",
      "    https://scikit-learn.org/stable/modules/linear_model.html#logistic-regression\n",
      "  extra_warning_msg=_LOGISTIC_SOLVER_CONVERGENCE_MSG)\n",
      "C:\\Users\\rodge\\anaconda3\\envs\\PythonData\\lib\\site-packages\\sklearn\\utils\\validation.py:63: DataConversionWarning: A column-vector y was passed when a 1d array was expected. Please change the shape of y to (n_samples, ), for example using ravel().\n",
      "  return f(*args, **kwargs)\n",
      "C:\\Users\\rodge\\anaconda3\\envs\\PythonData\\lib\\site-packages\\sklearn\\linear_model\\_logistic.py:765: ConvergenceWarning: lbfgs failed to converge (status=1):\n",
      "STOP: TOTAL NO. of ITERATIONS REACHED LIMIT.\n",
      "\n",
      "Increase the number of iterations (max_iter) or scale the data as shown in:\n",
      "    https://scikit-learn.org/stable/modules/preprocessing.html\n",
      "Please also refer to the documentation for alternative solver options:\n",
      "    https://scikit-learn.org/stable/modules/linear_model.html#logistic-regression\n",
      "  extra_warning_msg=_LOGISTIC_SOLVER_CONVERGENCE_MSG)\n",
      "C:\\Users\\rodge\\anaconda3\\envs\\PythonData\\lib\\site-packages\\sklearn\\utils\\validation.py:63: DataConversionWarning: A column-vector y was passed when a 1d array was expected. Please change the shape of y to (n_samples, ), for example using ravel().\n",
      "  return f(*args, **kwargs)\n",
      "C:\\Users\\rodge\\anaconda3\\envs\\PythonData\\lib\\site-packages\\sklearn\\utils\\validation.py:63: DataConversionWarning: A column-vector y was passed when a 1d array was expected. Please change the shape of y to (n_samples, ), for example using ravel().\n",
      "  return f(*args, **kwargs)\n",
      "C:\\Users\\rodge\\anaconda3\\envs\\PythonData\\lib\\site-packages\\sklearn\\utils\\validation.py:63: DataConversionWarning: A column-vector y was passed when a 1d array was expected. Please change the shape of y to (n_samples, ), for example using ravel().\n",
      "  return f(*args, **kwargs)\n",
      "C:\\Users\\rodge\\anaconda3\\envs\\PythonData\\lib\\site-packages\\sklearn\\utils\\validation.py:63: DataConversionWarning: A column-vector y was passed when a 1d array was expected. Please change the shape of y to (n_samples, ), for example using ravel().\n",
      "  return f(*args, **kwargs)\n",
      "C:\\Users\\rodge\\anaconda3\\envs\\PythonData\\lib\\site-packages\\sklearn\\utils\\validation.py:63: DataConversionWarning: A column-vector y was passed when a 1d array was expected. Please change the shape of y to (n_samples, ), for example using ravel().\n",
      "  return f(*args, **kwargs)\n",
      "C:\\Users\\rodge\\anaconda3\\envs\\PythonData\\lib\\site-packages\\sklearn\\utils\\validation.py:63: DataConversionWarning: A column-vector y was passed when a 1d array was expected. Please change the shape of y to (n_samples, ), for example using ravel().\n",
      "  return f(*args, **kwargs)\n",
      "C:\\Users\\rodge\\anaconda3\\envs\\PythonData\\lib\\site-packages\\sklearn\\utils\\validation.py:63: DataConversionWarning: A column-vector y was passed when a 1d array was expected. Please change the shape of y to (n_samples, ), for example using ravel().\n",
      "  return f(*args, **kwargs)\n",
      "C:\\Users\\rodge\\anaconda3\\envs\\PythonData\\lib\\site-packages\\sklearn\\utils\\validation.py:63: DataConversionWarning: A column-vector y was passed when a 1d array was expected. Please change the shape of y to (n_samples, ), for example using ravel().\n",
      "  return f(*args, **kwargs)\n",
      "C:\\Users\\rodge\\anaconda3\\envs\\PythonData\\lib\\site-packages\\sklearn\\utils\\validation.py:63: DataConversionWarning: A column-vector y was passed when a 1d array was expected. Please change the shape of y to (n_samples, ), for example using ravel().\n",
      "  return f(*args, **kwargs)\n",
      "C:\\Users\\rodge\\anaconda3\\envs\\PythonData\\lib\\site-packages\\sklearn\\utils\\validation.py:63: DataConversionWarning: A column-vector y was passed when a 1d array was expected. Please change the shape of y to (n_samples, ), for example using ravel().\n",
      "  return f(*args, **kwargs)\n",
      "C:\\Users\\rodge\\anaconda3\\envs\\PythonData\\lib\\site-packages\\sklearn\\utils\\validation.py:63: DataConversionWarning: A column-vector y was passed when a 1d array was expected. Please change the shape of y to (n_samples, ), for example using ravel().\n",
      "  return f(*args, **kwargs)\n",
      "C:\\Users\\rodge\\anaconda3\\envs\\PythonData\\lib\\site-packages\\sklearn\\utils\\validation.py:63: DataConversionWarning: A column-vector y was passed when a 1d array was expected. Please change the shape of y to (n_samples, ), for example using ravel().\n",
      "  return f(*args, **kwargs)\n",
      "C:\\Users\\rodge\\anaconda3\\envs\\PythonData\\lib\\site-packages\\sklearn\\utils\\validation.py:63: DataConversionWarning: A column-vector y was passed when a 1d array was expected. Please change the shape of y to (n_samples, ), for example using ravel().\n",
      "  return f(*args, **kwargs)\n",
      "C:\\Users\\rodge\\anaconda3\\envs\\PythonData\\lib\\site-packages\\sklearn\\utils\\validation.py:63: DataConversionWarning: A column-vector y was passed when a 1d array was expected. Please change the shape of y to (n_samples, ), for example using ravel().\n",
      "  return f(*args, **kwargs)\n",
      "C:\\Users\\rodge\\anaconda3\\envs\\PythonData\\lib\\site-packages\\sklearn\\utils\\validation.py:63: DataConversionWarning: A column-vector y was passed when a 1d array was expected. Please change the shape of y to (n_samples, ), for example using ravel().\n",
      "  return f(*args, **kwargs)\n"
     ]
    }
   ],
   "source": [
    "#Identify features to create a more efficient model with\n",
    "estimator = LogisticRegression()\n",
    "selector = RFE(estimator, n_features_to_select=1, step=1)\n",
    "selector = selector.fit(X_train_scaled, y_train)"
   ]
  },
  {
   "cell_type": "code",
   "execution_count": 163,
   "metadata": {},
   "outputs": [
    {
     "data": {
      "text/plain": [
       "array([False, False, False, False, False, False, False, False, False,\n",
       "       False, False, False, False,  True, False, False, False])"
      ]
     },
     "execution_count": 163,
     "metadata": {},
     "output_type": "execute_result"
    }
   ],
   "source": [
    "selector.support_"
   ]
  },
  {
   "cell_type": "code",
   "execution_count": 164,
   "metadata": {},
   "outputs": [
    {
     "data": {
      "text/plain": [
       "array([15, 17, 16, 14, 12,  8, 11,  6,  5,  7,  9,  3,  2,  1,  4, 13, 10])"
      ]
     },
     "execution_count": 164,
     "metadata": {},
     "output_type": "execute_result"
    }
   ],
   "source": [
    "selector.ranking_"
   ]
  },
  {
   "cell_type": "code",
   "execution_count": null,
   "metadata": {},
   "outputs": [],
   "source": []
  },
  {
   "cell_type": "code",
   "execution_count": null,
   "metadata": {},
   "outputs": [],
   "source": [
    "#End ... kent matthew rodgers, profitableHospital-project"
   ]
  }
 ],
 "metadata": {
  "kernelspec": {
   "display_name": "Python [conda env:PythonData]",
   "language": "python",
   "name": "conda-env-PythonData-py"
  },
  "language_info": {
   "codemirror_mode": {
    "name": "ipython",
    "version": 3
   },
   "file_extension": ".py",
   "mimetype": "text/x-python",
   "name": "python",
   "nbconvert_exporter": "python",
   "pygments_lexer": "ipython3",
   "version": "3.7.1"
  }
 },
 "nbformat": 4,
 "nbformat_minor": 4
}
