{
 "cells": [
  {
   "cell_type": "code",
   "execution_count": 296,
   "metadata": {},
   "outputs": [],
   "source": [
    "#profitableHospital-project"
   ]
  },
  {
   "cell_type": "code",
   "execution_count": 297,
   "metadata": {},
   "outputs": [],
   "source": [
    "#dependencies\n",
    "import pandas as pd\n",
    "\n",
    "import requests\n",
    "import json\n",
    "from config import gkey\n",
    "\n",
    "from sklearn.model_selection import train_test_split\n",
    "from sklearn.preprocessing import LabelEncoder, MinMaxScaler\n",
    "from sklearn.preprocessing import LabelEncoder\n",
    "from sklearn.feature_selection import RFE\n",
    "from sklearn.linear_model import LogisticRegression\n",
    "from sklearn.linear_model import LinearRegression\n",
    "from sklearn.svm import SVC \n",
    "from sklearn.model_selection import GridSearchCV\n",
    "from sklearn.metrics import classification_report\n",
    "\n",
    "import tensorflow\n",
    "from tensorflow.keras.utils import to_categorical\n",
    "\n",
    "import matplotlib.pyplot as plt\n",
    "import numpy as np\n",
    "\n",
    "import joblib"
   ]
  },
  {
   "cell_type": "code",
   "execution_count": 298,
   "metadata": {},
   "outputs": [
    {
     "name": "stderr",
     "output_type": "stream",
     "text": [
      "C:\\Users\\rodge\\anaconda3\\envs\\PythonData\\lib\\site-packages\\IPython\\core\\interactiveshell.py:3146: DtypeWarning: Columns (105) have mixed types.Specify dtype option on import or set low_memory=False.\n",
      "  interactivity=interactivity, compiler=compiler, result=result)\n"
     ]
    },
    {
     "data": {
      "text/html": [
       "<div>\n",
       "<style scoped>\n",
       "    .dataframe tbody tr th:only-of-type {\n",
       "        vertical-align: middle;\n",
       "    }\n",
       "\n",
       "    .dataframe tbody tr th {\n",
       "        vertical-align: top;\n",
       "    }\n",
       "\n",
       "    .dataframe thead th {\n",
       "        text-align: right;\n",
       "    }\n",
       "</style>\n",
       "<table border=\"1\" class=\"dataframe\">\n",
       "  <thead>\n",
       "    <tr style=\"text-align: right;\">\n",
       "      <th></th>\n",
       "      <th>Provider CCN</th>\n",
       "      <th>Hospital Name</th>\n",
       "      <th>Street Address</th>\n",
       "      <th>City</th>\n",
       "      <th>State Code</th>\n",
       "      <th>Zip Code</th>\n",
       "      <th>County</th>\n",
       "      <th>Medicare CBSA Number</th>\n",
       "      <th>Rural Versus Urban</th>\n",
       "      <th>CCN Facility Type</th>\n",
       "      <th>...</th>\n",
       "      <th>Total Other Income</th>\n",
       "      <th>Total Income</th>\n",
       "      <th>Total Other Expenses</th>\n",
       "      <th>Net Income</th>\n",
       "      <th>Cost To Charge Ratio</th>\n",
       "      <th>Net Revenue from Medicaid</th>\n",
       "      <th>Medicaid Charges</th>\n",
       "      <th>Net Revenue from Stand-Alone SCHIP</th>\n",
       "      <th>Stand-Alone SCHIP Charges</th>\n",
       "      <th>rpt_rec_num</th>\n",
       "    </tr>\n",
       "  </thead>\n",
       "  <tbody>\n",
       "    <tr>\n",
       "      <th>0</th>\n",
       "      <td>510013</td>\n",
       "      <td>REYNOLDS MEMORIAL HOSPITAL</td>\n",
       "      <td>800 WHEELING AVENUE</td>\n",
       "      <td>GLEN DALE</td>\n",
       "      <td>WV</td>\n",
       "      <td>26038</td>\n",
       "      <td>MARSHALL</td>\n",
       "      <td>48540.0</td>\n",
       "      <td>U</td>\n",
       "      <td>STH</td>\n",
       "      <td>...</td>\n",
       "      <td>4492364.0</td>\n",
       "      <td>2638799.0</td>\n",
       "      <td>NaN</td>\n",
       "      <td>2638799.0</td>\n",
       "      <td>0.453498</td>\n",
       "      <td>1237912.0</td>\n",
       "      <td>4026663.0</td>\n",
       "      <td>NaN</td>\n",
       "      <td>NaN</td>\n",
       "      <td>599181</td>\n",
       "    </tr>\n",
       "    <tr>\n",
       "      <th>1</th>\n",
       "      <td>340106</td>\n",
       "      <td>SANDHILLS REGIONAL MEDICAL CENTER</td>\n",
       "      <td>1000 WEST HAMLET AVE</td>\n",
       "      <td>HAMLET</td>\n",
       "      <td>NC</td>\n",
       "      <td>28345</td>\n",
       "      <td>RICHMOND</td>\n",
       "      <td>99934.0</td>\n",
       "      <td>R</td>\n",
       "      <td>STH</td>\n",
       "      <td>...</td>\n",
       "      <td>31174.0</td>\n",
       "      <td>-1114660.0</td>\n",
       "      <td>NaN</td>\n",
       "      <td>-1114660.0</td>\n",
       "      <td>0.173114</td>\n",
       "      <td>391215.0</td>\n",
       "      <td>4981119.0</td>\n",
       "      <td>NaN</td>\n",
       "      <td>NaN</td>\n",
       "      <td>601095</td>\n",
       "    </tr>\n",
       "    <tr>\n",
       "      <th>2</th>\n",
       "      <td>450178</td>\n",
       "      <td>PECOS COUNTY MEMORIAL HOSPITAL</td>\n",
       "      <td>386 W IH-10</td>\n",
       "      <td>FORT STOCKTON</td>\n",
       "      <td>TX</td>\n",
       "      <td>79735</td>\n",
       "      <td>PECOS</td>\n",
       "      <td>99945.0</td>\n",
       "      <td>R</td>\n",
       "      <td>STH</td>\n",
       "      <td>...</td>\n",
       "      <td>2096862.0</td>\n",
       "      <td>576278.0</td>\n",
       "      <td>NaN</td>\n",
       "      <td>576278.0</td>\n",
       "      <td>0.455741</td>\n",
       "      <td>719760.0</td>\n",
       "      <td>1275211.0</td>\n",
       "      <td>NaN</td>\n",
       "      <td>NaN</td>\n",
       "      <td>601392</td>\n",
       "    </tr>\n",
       "    <tr>\n",
       "      <th>3</th>\n",
       "      <td>341317</td>\n",
       "      <td>PIONEER HLTH SERV OF STOKES CNTY</td>\n",
       "      <td>1570 NC &amp; 89 HWY</td>\n",
       "      <td>DANBURY</td>\n",
       "      <td>NC</td>\n",
       "      <td>27016</td>\n",
       "      <td>STOKES</td>\n",
       "      <td>49180.0</td>\n",
       "      <td>U</td>\n",
       "      <td>CAH</td>\n",
       "      <td>...</td>\n",
       "      <td>1542201.0</td>\n",
       "      <td>640268.0</td>\n",
       "      <td>622592.0</td>\n",
       "      <td>17676.0</td>\n",
       "      <td>1.154767</td>\n",
       "      <td>578366.0</td>\n",
       "      <td>801800.0</td>\n",
       "      <td>159516.0</td>\n",
       "      <td>702117.0</td>\n",
       "      <td>601721</td>\n",
       "    </tr>\n",
       "    <tr>\n",
       "      <th>4</th>\n",
       "      <td>110003</td>\n",
       "      <td>MAYO CLINIC HEALTH SYSTEM WAYCROSS</td>\n",
       "      <td>1900 TEBEAU STREET</td>\n",
       "      <td>WAYCROSS</td>\n",
       "      <td>GA</td>\n",
       "      <td>31501</td>\n",
       "      <td>WARE</td>\n",
       "      <td>99911.0</td>\n",
       "      <td>R</td>\n",
       "      <td>STH</td>\n",
       "      <td>...</td>\n",
       "      <td>224757.0</td>\n",
       "      <td>-6170184.0</td>\n",
       "      <td>NaN</td>\n",
       "      <td>-6170184.0</td>\n",
       "      <td>0.271734</td>\n",
       "      <td>3113423.0</td>\n",
       "      <td>11231324.0</td>\n",
       "      <td>1331.0</td>\n",
       "      <td>8211.0</td>\n",
       "      <td>603846</td>\n",
       "    </tr>\n",
       "  </tbody>\n",
       "</table>\n",
       "<p>5 rows × 128 columns</p>\n",
       "</div>"
      ],
      "text/plain": [
       "   Provider CCN                       Hospital Name        Street Address  \\\n",
       "0        510013          REYNOLDS MEMORIAL HOSPITAL   800 WHEELING AVENUE   \n",
       "1        340106   SANDHILLS REGIONAL MEDICAL CENTER  1000 WEST HAMLET AVE   \n",
       "2        450178      PECOS COUNTY MEMORIAL HOSPITAL           386 W IH-10   \n",
       "3        341317    PIONEER HLTH SERV OF STOKES CNTY      1570 NC & 89 HWY   \n",
       "4        110003  MAYO CLINIC HEALTH SYSTEM WAYCROSS    1900 TEBEAU STREET   \n",
       "\n",
       "            City State Code Zip Code    County  Medicare CBSA Number  \\\n",
       "0      GLEN DALE         WV    26038  MARSHALL               48540.0   \n",
       "1         HAMLET         NC    28345  RICHMOND               99934.0   \n",
       "2  FORT STOCKTON         TX    79735     PECOS               99945.0   \n",
       "3        DANBURY         NC    27016    STOKES               49180.0   \n",
       "4       WAYCROSS         GA    31501      WARE               99911.0   \n",
       "\n",
       "  Rural Versus Urban CCN Facility Type  ...  Total Other Income  Total Income  \\\n",
       "0                  U               STH  ...           4492364.0     2638799.0   \n",
       "1                  R               STH  ...             31174.0    -1114660.0   \n",
       "2                  R               STH  ...           2096862.0      576278.0   \n",
       "3                  U               CAH  ...           1542201.0      640268.0   \n",
       "4                  R               STH  ...            224757.0    -6170184.0   \n",
       "\n",
       "  Total Other Expenses Net Income  Cost To Charge Ratio  \\\n",
       "0                  NaN  2638799.0              0.453498   \n",
       "1                  NaN -1114660.0              0.173114   \n",
       "2                  NaN   576278.0              0.455741   \n",
       "3             622592.0    17676.0              1.154767   \n",
       "4                  NaN -6170184.0              0.271734   \n",
       "\n",
       "   Net Revenue from Medicaid  Medicaid Charges  \\\n",
       "0                  1237912.0         4026663.0   \n",
       "1                   391215.0         4981119.0   \n",
       "2                   719760.0         1275211.0   \n",
       "3                   578366.0          801800.0   \n",
       "4                  3113423.0        11231324.0   \n",
       "\n",
       "   Net Revenue from Stand-Alone SCHIP  Stand-Alone SCHIP Charges  rpt_rec_num  \n",
       "0                                 NaN                        NaN       599181  \n",
       "1                                 NaN                        NaN       601095  \n",
       "2                                 NaN                        NaN       601392  \n",
       "3                            159516.0                   702117.0       601721  \n",
       "4                              1331.0                     8211.0       603846  \n",
       "\n",
       "[5 rows x 128 columns]"
      ]
     },
     "execution_count": 298,
     "metadata": {},
     "output_type": "execute_result"
    }
   ],
   "source": [
    "#initial file read\n",
    "df = pd.read_csv(\"Medicare_Hospital_Cost_Report_PUF_2017.csv\")\n",
    "#df = df.dropna(axis='columns', how='all')\n",
    "#df = df.dropna()\n",
    "df.head()"
   ]
  },
  {
   "cell_type": "code",
   "execution_count": 299,
   "metadata": {},
   "outputs": [
    {
     "data": {
      "text/html": [
       "<div>\n",
       "<style scoped>\n",
       "    .dataframe tbody tr th:only-of-type {\n",
       "        vertical-align: middle;\n",
       "    }\n",
       "\n",
       "    .dataframe tbody tr th {\n",
       "        vertical-align: top;\n",
       "    }\n",
       "\n",
       "    .dataframe thead th {\n",
       "        text-align: right;\n",
       "    }\n",
       "</style>\n",
       "<table border=\"1\" class=\"dataframe\">\n",
       "  <thead>\n",
       "    <tr style=\"text-align: right;\">\n",
       "      <th></th>\n",
       "      <th>State Code</th>\n",
       "      <th>CON</th>\n",
       "    </tr>\n",
       "  </thead>\n",
       "  <tbody>\n",
       "    <tr>\n",
       "      <th>0</th>\n",
       "      <td>AK</td>\n",
       "      <td>1</td>\n",
       "    </tr>\n",
       "    <tr>\n",
       "      <th>1</th>\n",
       "      <td>AL</td>\n",
       "      <td>1</td>\n",
       "    </tr>\n",
       "    <tr>\n",
       "      <th>2</th>\n",
       "      <td>AR</td>\n",
       "      <td>1</td>\n",
       "    </tr>\n",
       "    <tr>\n",
       "      <th>3</th>\n",
       "      <td>AZ</td>\n",
       "      <td>0</td>\n",
       "    </tr>\n",
       "    <tr>\n",
       "      <th>4</th>\n",
       "      <td>CA</td>\n",
       "      <td>0</td>\n",
       "    </tr>\n",
       "  </tbody>\n",
       "</table>\n",
       "</div>"
      ],
      "text/plain": [
       "  State Code  CON\n",
       "0         AK    1\n",
       "1         AL    1\n",
       "2         AR    1\n",
       "3         AZ    0\n",
       "4         CA    0"
      ]
     },
     "execution_count": 299,
     "metadata": {},
     "output_type": "execute_result"
    }
   ],
   "source": [
    "conTable = pd.read_csv(\"certificateofneedstatesTable.csv\")\n",
    "conTable.head()"
   ]
  },
  {
   "cell_type": "code",
   "execution_count": 300,
   "metadata": {},
   "outputs": [
    {
     "data": {
      "text/html": [
       "<div>\n",
       "<style scoped>\n",
       "    .dataframe tbody tr th:only-of-type {\n",
       "        vertical-align: middle;\n",
       "    }\n",
       "\n",
       "    .dataframe tbody tr th {\n",
       "        vertical-align: top;\n",
       "    }\n",
       "\n",
       "    .dataframe thead th {\n",
       "        text-align: right;\n",
       "    }\n",
       "</style>\n",
       "<table border=\"1\" class=\"dataframe\">\n",
       "  <thead>\n",
       "    <tr style=\"text-align: right;\">\n",
       "      <th></th>\n",
       "      <th>Rural Versus Urban</th>\n",
       "      <th>Urban</th>\n",
       "    </tr>\n",
       "  </thead>\n",
       "  <tbody>\n",
       "    <tr>\n",
       "      <th>0</th>\n",
       "      <td>U</td>\n",
       "      <td>1</td>\n",
       "    </tr>\n",
       "    <tr>\n",
       "      <th>1</th>\n",
       "      <td>R</td>\n",
       "      <td>2</td>\n",
       "    </tr>\n",
       "  </tbody>\n",
       "</table>\n",
       "</div>"
      ],
      "text/plain": [
       "  Rural Versus Urban  Urban\n",
       "0                  U      1\n",
       "1                  R      2"
      ]
     },
     "execution_count": 300,
     "metadata": {},
     "output_type": "execute_result"
    }
   ],
   "source": [
    "urbanTable = pd.read_csv(\"ruralversusurbanTable.csv\")\n",
    "urbanTable.head()"
   ]
  },
  {
   "cell_type": "code",
   "execution_count": 301,
   "metadata": {},
   "outputs": [],
   "source": [
    "#Append certificate of need indicator\n",
    "mainFile1 = pd.merge(df, conTable, how= \"left\", on=['State Code'])\n",
    "#mainFile1.head()"
   ]
  },
  {
   "cell_type": "code",
   "execution_count": 302,
   "metadata": {},
   "outputs": [],
   "source": [
    "#Append a numeric representation of rural v. urban\n",
    "mainFile2 = pd.merge(mainFile1, urbanTable, how= \"left\", on=['Rural Versus Urban'])\n",
    "#mainFile2.head()"
   ]
  },
  {
   "cell_type": "code",
   "execution_count": 303,
   "metadata": {},
   "outputs": [],
   "source": [
    "#Append lattitude and longitude using google maps api"
   ]
  },
  {
   "cell_type": "code",
   "execution_count": 304,
   "metadata": {},
   "outputs": [],
   "source": [
    "#Append calculated field inpatient percent\n",
    "inpatient = mainFile2[\"Inpatient Revenue\"]/mainFile2[\"Gross Revenue\"]\n",
    "mainFile2[\"Inpatient %\"] = inpatient\n",
    "#mainFile2.head()"
   ]
  },
  {
   "cell_type": "code",
   "execution_count": 305,
   "metadata": {},
   "outputs": [],
   "source": [
    "#Append calculated field outpatient percent\n",
    "outpatient = mainFile2[\"Outpatient Revenue\"]/mainFile2[\"Gross Revenue\"]\n",
    "mainFile2[\"Outpatient %\"] = outpatient\n",
    "#mainFile2.head()"
   ]
  },
  {
   "cell_type": "code",
   "execution_count": 306,
   "metadata": {},
   "outputs": [],
   "source": [
    "#Append calculated field charity percent\n",
    "charity = mainFile2[\"Cost of Charity Care\"]/mainFile2[\"Net Patient Revenue\"]\n",
    "mainFile2[\"Charity %\"] = charity\n",
    "#mainFile2.head()"
   ]
  },
  {
   "cell_type": "code",
   "execution_count": 307,
   "metadata": {},
   "outputs": [],
   "source": [
    "#Is there a way to replace blank lines with 0?"
   ]
  },
  {
   "cell_type": "code",
   "execution_count": 308,
   "metadata": {},
   "outputs": [],
   "source": [
    "#Append calculated field uncompensated percent\n",
    "uncompensated = mainFile2[\"Cost of Uncompensated Care\"]/mainFile2[\"Net Patient Revenue\"]\n",
    "mainFile2[\"Uncompensated %\"] = charity\n",
    "#mainFile2.head()"
   ]
  },
  {
   "cell_type": "code",
   "execution_count": 309,
   "metadata": {},
   "outputs": [],
   "source": [
    "#Is there a way to replace blank lines with 0?"
   ]
  },
  {
   "cell_type": "code",
   "execution_count": 310,
   "metadata": {},
   "outputs": [],
   "source": [
    "#Append calculated field revenue per discharge\n",
    "revdischarge = mainFile2[\"Net Patient Revenue\"]/mainFile2[\"Total Discharges (V + XVIII + XIX + Unknown)\"]\n",
    "mainFile2[\"Rev Per Discharge\"] = revdischarge\n",
    "#mainFile2.head()"
   ]
  },
  {
   "cell_type": "code",
   "execution_count": 311,
   "metadata": {},
   "outputs": [],
   "source": [
    "#Append calculated field revenue per bed\n",
    "revbed = mainFile2[\"Net Patient Revenue\"]/mainFile2[\"Number of Beds\"]\n",
    "mainFile2[\"Rev Per Bed\"] = revbed\n",
    "#mainFile2.head()"
   ]
  },
  {
   "cell_type": "code",
   "execution_count": 312,
   "metadata": {},
   "outputs": [],
   "source": [
    "#Append calculated field revenue per bed day\n",
    "revbed = mainFile2[\"Net Patient Revenue\"]/mainFile2[\"Total Bed Days Available\"]\n",
    "mainFile2[\"Rev Per Bed Days\"] = revbed\n",
    "#mainFile2.head()"
   ]
  },
  {
   "cell_type": "code",
   "execution_count": 313,
   "metadata": {},
   "outputs": [],
   "source": [
    "#Append calculated field revs per fte\n",
    "revfte = mainFile2[\"Net Patient Revenue\"]/mainFile2[\"FTE - Employees on Payroll\"]\n",
    "mainFile2[\"Rev Per FTE\"] = revfte\n",
    "#mainFile2.head()"
   ]
  },
  {
   "cell_type": "code",
   "execution_count": 314,
   "metadata": {},
   "outputs": [],
   "source": [
    "#Append calculated field discharges per bed\n",
    "volbed = mainFile2[\"Total Discharges (V + XVIII + XIX + Unknown)\"]/mainFile2[\"Number of Beds\"]\n",
    "mainFile2[\"Discharges Per Bed\"] = volbed\n",
    "#mainFile2.head()"
   ]
  },
  {
   "cell_type": "code",
   "execution_count": 315,
   "metadata": {},
   "outputs": [],
   "source": [
    "#Append calculated field discharges per bed day\n",
    "voldays = mainFile2[\"Total Discharges (V + XVIII + XIX + Unknown)\"]/mainFile2[\"Total Bed Days Available\"]\n",
    "mainFile2[\"Discharges Per Bed Days\"] = voldays\n",
    "#mainFile2.head()"
   ]
  },
  {
   "cell_type": "code",
   "execution_count": 316,
   "metadata": {},
   "outputs": [],
   "source": [
    "#Append calculated field discharges per bed\n",
    "volfte = mainFile2[\"Total Discharges (V + XVIII + XIX + Unknown)\"]/mainFile2[\"FTE - Employees on Payroll\"]\n",
    "mainFile2[\"Discharges Per FTE\"] = volbed\n",
    "#mainFile2.head()"
   ]
  },
  {
   "cell_type": "code",
   "execution_count": 317,
   "metadata": {},
   "outputs": [],
   "source": [
    "#labor percent\n",
    "wagepercent = mainFile2[\"Wage-Related Costs (Core)\"] + mainFile2[\"Total Salaries (adjusted)\"]\n",
    "wagepercent = wagepercent / mainFile2[\"Net Patient Revenue\"]\n",
    "#wagepercent.head()"
   ]
  },
  {
   "cell_type": "code",
   "execution_count": 318,
   "metadata": {},
   "outputs": [],
   "source": [
    "#Overhead percent\n",
    "overheadpercent = mainFile2[\"Overhead Non-Salary Costs\"] / mainFile2[\"Net Patient Revenue\"]\n",
    "#overheadpercent.head()"
   ]
  },
  {
   "cell_type": "code",
   "execution_count": 319,
   "metadata": {},
   "outputs": [],
   "source": [
    "#Depreciation percent\n",
    "deprpercent = mainFile2[\"Depreciation Cost\"] / mainFile2[\"Net Patient Revenue\"]\n",
    "#overheadpercent.head()"
   ]
  },
  {
   "cell_type": "code",
   "execution_count": 320,
   "metadata": {},
   "outputs": [],
   "source": [
    "#Append calculated field net income percent to file\n",
    "profit = mainFile2[\"Net Income\"]/mainFile2[\"Net Patient Revenue\"]\n",
    "mainFile2[\"Net Income %\"] = profit\n",
    "#mainFile2.head()"
   ]
  },
  {
   "cell_type": "code",
   "execution_count": 321,
   "metadata": {},
   "outputs": [
    {
     "data": {
      "text/plain": [
       "0    0.308395\n",
       "1   -0.337043\n",
       "2    0.232354\n",
       "3    0.002665\n",
       "4   -0.132444\n",
       "Name: Net Income %, dtype: float64"
      ]
     },
     "execution_count": 321,
     "metadata": {},
     "output_type": "execute_result"
    }
   ],
   "source": [
    "netinc = mainFile2[\"Net Income %\"]\n",
    "netinc.head()"
   ]
  },
  {
   "cell_type": "code",
   "execution_count": 322,
   "metadata": {},
   "outputs": [
    {
     "data": {
      "image/png": "[encoded data removed]",
      "text/plain": [
       "<Figure size 432x288 with 1 Axes>"
      ]
     },
     "metadata": {
      "needs_background": "light"
     },
     "output_type": "display_data"
    }
   ],
   "source": [
    "#chartdata = mainFile2['Net Income %']\n",
    "netinc2 = netinc.dropna(how='any')\n",
    "chartdata = netinc2\n",
    "fig1, ax1 = plt.subplots()\n",
    "ax1.set_title('Net Income Percent')\n",
    "ax1.set_ylabel('Net Income Percent')\n",
    "ax1.boxplot(chartdata)\n",
    "plt.show()"
   ]
  },
  {
   "cell_type": "code",
   "execution_count": 323,
   "metadata": {},
   "outputs": [
    {
     "name": "stdout",
     "output_type": "stream",
     "text": [
      "The lower quartile of profit percent is: -0.030653238847723918\n",
      "The upper quartile of profit percent is: 0.11379730445563284\n",
      "The interquartile range of profit percent is: 0.14445054330335677\n",
      "The the median of profit percent is: 0.0380451602645128 \n",
      "Values below -0.24732905380275907 could be outliers.\n",
      "Values above 0.330473119410668 could be outliers.\n"
     ]
    }
   ],
   "source": [
    "#Quartile calculations\n",
    "quartiles = chartdata.quantile([.25,.5,.75])\n",
    "lowerq = quartiles[0.25]\n",
    "upperq = quartiles[0.75]\n",
    "iqr = upperq-lowerq\n",
    "\n",
    "print(f\"The lower quartile of profit percent is: {lowerq}\")\n",
    "print(f\"The upper quartile of profit percent is: {upperq}\")\n",
    "print(f\"The interquartile range of profit percent is: {iqr}\")\n",
    "print(f\"The the median of profit percent is: {quartiles[0.5]} \")\n",
    "\n",
    "lower_bound = lowerq - (1.5*iqr)\n",
    "upper_bound = upperq + (1.5*iqr)\n",
    "print(f\"Values below {lower_bound} could be outliers.\")\n",
    "print(f\"Values above {upper_bound} could be outliers.\")"
   ]
  },
  {
   "cell_type": "code",
   "execution_count": 324,
   "metadata": {},
   "outputs": [],
   "source": [
    "bins = [-100, -0.03065, 0.11379, 100]\n",
    "group_names = [\"3\", \"2\", \"1\"]"
   ]
  },
  {
   "cell_type": "code",
   "execution_count": 325,
   "metadata": {},
   "outputs": [],
   "source": [
    "mainFile2[\"Net Income Score\"] = pd.cut(mainFile2[\"Net Income %\"], bins, labels=group_names, include_lowest=True)\n",
    "#mainFile2.head()"
   ]
  },
  {
   "cell_type": "code",
   "execution_count": 326,
   "metadata": {},
   "outputs": [
    {
     "data": {
      "text/plain": [
       "2    2945\n",
       "1    1473\n",
       "3    1473\n",
       "Name: Net Income Score, dtype: int64"
      ]
     },
     "execution_count": 326,
     "metadata": {},
     "output_type": "execute_result"
    }
   ],
   "source": [
    "mainFile2['Net Income Score'].value_counts()"
   ]
  },
  {
   "cell_type": "code",
   "execution_count": 327,
   "metadata": {},
   "outputs": [],
   "source": [
    "#Targets dataset on Colorad0\n",
    "#mainFile3 = mainFile2.loc[df['State Code'] == 'CO']"
   ]
  },
  {
   "cell_type": "code",
   "execution_count": 328,
   "metadata": {},
   "outputs": [],
   "source": [
    "#Targets dataset on STH locations\n",
    "mainFile4 = mainFile2.loc[df['CCN Facility Type'] == 'STH']"
   ]
  },
  {
   "cell_type": "code",
   "execution_count": 329,
   "metadata": {},
   "outputs": [],
   "source": [
    "mainFile4.to_csv(\"mainCO2017.csv\", index=False, header=True)"
   ]
  },
  {
   "cell_type": "code",
   "execution_count": null,
   "metadata": {},
   "outputs": [],
   "source": []
  },
  {
   "cell_type": "code",
   "execution_count": 330,
   "metadata": {},
   "outputs": [
    {
     "data": {
      "text/html": [
       "<div>\n",
       "<style scoped>\n",
       "    .dataframe tbody tr th:only-of-type {\n",
       "        vertical-align: middle;\n",
       "    }\n",
       "\n",
       "    .dataframe tbody tr th {\n",
       "        vertical-align: top;\n",
       "    }\n",
       "\n",
       "    .dataframe thead th {\n",
       "        text-align: right;\n",
       "    }\n",
       "</style>\n",
       "<table border=\"1\" class=\"dataframe\">\n",
       "  <thead>\n",
       "    <tr style=\"text-align: right;\">\n",
       "      <th></th>\n",
       "      <th>Provider CCN</th>\n",
       "      <th>Hospital Name</th>\n",
       "      <th>Street Address</th>\n",
       "      <th>City</th>\n",
       "      <th>State Code</th>\n",
       "      <th>Zip Code</th>\n",
       "      <th>CON</th>\n",
       "      <th>Urban</th>\n",
       "      <th>Inpatient %</th>\n",
       "      <th>Outpatient %</th>\n",
       "      <th>...</th>\n",
       "      <th>Uncompensated %</th>\n",
       "      <th>Rev Per Discharge</th>\n",
       "      <th>Rev Per Bed</th>\n",
       "      <th>Rev Per Bed Days</th>\n",
       "      <th>Rev Per FTE</th>\n",
       "      <th>Discharges Per Bed</th>\n",
       "      <th>Discharges Per Bed Days</th>\n",
       "      <th>Discharges Per FTE</th>\n",
       "      <th>Net Income %</th>\n",
       "      <th>Net Income Score</th>\n",
       "    </tr>\n",
       "  </thead>\n",
       "  <tbody>\n",
       "    <tr>\n",
       "      <th>0</th>\n",
       "      <td>510013</td>\n",
       "      <td>REYNOLDS MEMORIAL HOSPITAL</td>\n",
       "      <td>800 WHEELING AVENUE</td>\n",
       "      <td>GLEN DALE</td>\n",
       "      <td>WV</td>\n",
       "      <td>26038</td>\n",
       "      <td>1.0</td>\n",
       "      <td>1.0</td>\n",
       "      <td>0.311881</td>\n",
       "      <td>0.688119</td>\n",
       "      <td>...</td>\n",
       "      <td>0.003080</td>\n",
       "      <td>19670.239080</td>\n",
       "      <td>122236.485714</td>\n",
       "      <td>1328.657453</td>\n",
       "      <td>26564.899100</td>\n",
       "      <td>6.214286</td>\n",
       "      <td>0.067547</td>\n",
       "      <td>6.214286</td>\n",
       "      <td>0.308395</td>\n",
       "      <td>1</td>\n",
       "    </tr>\n",
       "    <tr>\n",
       "      <th>1</th>\n",
       "      <td>340106</td>\n",
       "      <td>SANDHILLS REGIONAL MEDICAL CENTER</td>\n",
       "      <td>1000 WEST HAMLET AVE</td>\n",
       "      <td>HAMLET</td>\n",
       "      <td>NC</td>\n",
       "      <td>28345</td>\n",
       "      <td>1.0</td>\n",
       "      <td>2.0</td>\n",
       "      <td>0.325730</td>\n",
       "      <td>0.674270</td>\n",
       "      <td>...</td>\n",
       "      <td>0.001075</td>\n",
       "      <td>16873.362245</td>\n",
       "      <td>51674.671875</td>\n",
       "      <td>847.125768</td>\n",
       "      <td>121408.920705</td>\n",
       "      <td>3.062500</td>\n",
       "      <td>0.050205</td>\n",
       "      <td>3.062500</td>\n",
       "      <td>-0.337043</td>\n",
       "      <td>3</td>\n",
       "    </tr>\n",
       "    <tr>\n",
       "      <th>2</th>\n",
       "      <td>450178</td>\n",
       "      <td>PECOS COUNTY MEMORIAL HOSPITAL</td>\n",
       "      <td>386 W IH-10</td>\n",
       "      <td>FORT STOCKTON</td>\n",
       "      <td>TX</td>\n",
       "      <td>79735</td>\n",
       "      <td>0.0</td>\n",
       "      <td>2.0</td>\n",
       "      <td>0.240965</td>\n",
       "      <td>0.759035</td>\n",
       "      <td>...</td>\n",
       "      <td>NaN</td>\n",
       "      <td>23847.836538</td>\n",
       "      <td>99207.000000</td>\n",
       "      <td>1837.166667</td>\n",
       "      <td>16626.499966</td>\n",
       "      <td>4.160000</td>\n",
       "      <td>0.077037</td>\n",
       "      <td>4.160000</td>\n",
       "      <td>0.232354</td>\n",
       "      <td>1</td>\n",
       "    </tr>\n",
       "    <tr>\n",
       "      <th>4</th>\n",
       "      <td>110003</td>\n",
       "      <td>MAYO CLINIC HEALTH SYSTEM WAYCROSS</td>\n",
       "      <td>1900 TEBEAU STREET</td>\n",
       "      <td>WAYCROSS</td>\n",
       "      <td>GA</td>\n",
       "      <td>31501</td>\n",
       "      <td>1.0</td>\n",
       "      <td>2.0</td>\n",
       "      <td>0.391293</td>\n",
       "      <td>0.608707</td>\n",
       "      <td>...</td>\n",
       "      <td>0.016794</td>\n",
       "      <td>22079.254976</td>\n",
       "      <td>300562.761290</td>\n",
       "      <td>2504.689677</td>\n",
       "      <td>50452.385233</td>\n",
       "      <td>13.612903</td>\n",
       "      <td>0.113441</td>\n",
       "      <td>13.612903</td>\n",
       "      <td>-0.132444</td>\n",
       "      <td>3</td>\n",
       "    </tr>\n",
       "    <tr>\n",
       "      <th>5</th>\n",
       "      <td>250025</td>\n",
       "      <td>GILMORE MEMORIAL REGIONAL MEDICAL CE</td>\n",
       "      <td>1105 EARL FRYE BLVD</td>\n",
       "      <td>AMORY</td>\n",
       "      <td>MS</td>\n",
       "      <td>38821</td>\n",
       "      <td>1.0</td>\n",
       "      <td>2.0</td>\n",
       "      <td>0.364763</td>\n",
       "      <td>0.635237</td>\n",
       "      <td>...</td>\n",
       "      <td>0.000905</td>\n",
       "      <td>15444.529412</td>\n",
       "      <td>132660.378947</td>\n",
       "      <td>1105.503158</td>\n",
       "      <td>52406.586826</td>\n",
       "      <td>8.589474</td>\n",
       "      <td>0.071579</td>\n",
       "      <td>8.589474</td>\n",
       "      <td>-0.132426</td>\n",
       "      <td>3</td>\n",
       "    </tr>\n",
       "  </tbody>\n",
       "</table>\n",
       "<p>5 rows × 21 columns</p>\n",
       "</div>"
      ],
      "text/plain": [
       "   Provider CCN                         Hospital Name        Street Address  \\\n",
       "0        510013            REYNOLDS MEMORIAL HOSPITAL   800 WHEELING AVENUE   \n",
       "1        340106     SANDHILLS REGIONAL MEDICAL CENTER  1000 WEST HAMLET AVE   \n",
       "2        450178        PECOS COUNTY MEMORIAL HOSPITAL           386 W IH-10   \n",
       "4        110003    MAYO CLINIC HEALTH SYSTEM WAYCROSS    1900 TEBEAU STREET   \n",
       "5        250025  GILMORE MEMORIAL REGIONAL MEDICAL CE   1105 EARL FRYE BLVD   \n",
       "\n",
       "            City State Code Zip Code  CON  Urban  Inpatient %  Outpatient %  \\\n",
       "0      GLEN DALE         WV    26038  1.0    1.0     0.311881      0.688119   \n",
       "1         HAMLET         NC    28345  1.0    2.0     0.325730      0.674270   \n",
       "2  FORT STOCKTON         TX    79735  0.0    2.0     0.240965      0.759035   \n",
       "4       WAYCROSS         GA    31501  1.0    2.0     0.391293      0.608707   \n",
       "5          AMORY         MS    38821  1.0    2.0     0.364763      0.635237   \n",
       "\n",
       "   ...  Uncompensated %  Rev Per Discharge    Rev Per Bed  Rev Per Bed Days  \\\n",
       "0  ...         0.003080       19670.239080  122236.485714       1328.657453   \n",
       "1  ...         0.001075       16873.362245   51674.671875        847.125768   \n",
       "2  ...              NaN       23847.836538   99207.000000       1837.166667   \n",
       "4  ...         0.016794       22079.254976  300562.761290       2504.689677   \n",
       "5  ...         0.000905       15444.529412  132660.378947       1105.503158   \n",
       "\n",
       "     Rev Per FTE  Discharges Per Bed  Discharges Per Bed Days  \\\n",
       "0   26564.899100            6.214286                 0.067547   \n",
       "1  121408.920705            3.062500                 0.050205   \n",
       "2   16626.499966            4.160000                 0.077037   \n",
       "4   50452.385233           13.612903                 0.113441   \n",
       "5   52406.586826            8.589474                 0.071579   \n",
       "\n",
       "   Discharges Per FTE  Net Income %  Net Income Score  \n",
       "0            6.214286      0.308395                 1  \n",
       "1            3.062500     -0.337043                 3  \n",
       "2            4.160000      0.232354                 1  \n",
       "4           13.612903     -0.132444                 3  \n",
       "5            8.589474     -0.132426                 3  \n",
       "\n",
       "[5 rows x 21 columns]"
      ]
     },
     "execution_count": 330,
     "metadata": {},
     "output_type": "execute_result"
    }
   ],
   "source": [
    "#Targeting the dataset on metrics important to Kent\n",
    "targetFile5 = mainFile4[['Provider CCN','Hospital Name','Street Address','City','State Code','Zip Code','CON','Urban','Inpatient %','Outpatient %','Charity %','Uncompensated %','Rev Per Discharge','Rev Per Bed','Rev Per Bed Days','Rev Per FTE','Discharges Per Bed','Discharges Per Bed Days','Discharges Per FTE','Net Income %', 'Net Income Score']\n",
    "]\n",
    "targetFile5.head()\n"
   ]
  },
  {
   "cell_type": "code",
   "execution_count": 331,
   "metadata": {},
   "outputs": [
    {
     "data": {
      "text/plain": [
       "Provider CCN               3397\n",
       "Hospital Name              3397\n",
       "Street Address             3394\n",
       "City                       3397\n",
       "State Code                 3397\n",
       "Zip Code                   3397\n",
       "CON                        3394\n",
       "Urban                      3388\n",
       "Inpatient %                3298\n",
       "Outpatient %               3287\n",
       "Charity %                  3060\n",
       "Uncompensated %            3060\n",
       "Rev Per Discharge          3293\n",
       "Rev Per Bed                3300\n",
       "Rev Per Bed Days           3299\n",
       "Rev Per FTE                3293\n",
       "Discharges Per Bed         3376\n",
       "Discharges Per Bed Days    3376\n",
       "Discharges Per FTE         3376\n",
       "Net Income %               3303\n",
       "Net Income Score           3303\n",
       "dtype: int64"
      ]
     },
     "execution_count": 331,
     "metadata": {},
     "output_type": "execute_result"
    }
   ],
   "source": [
    "# Identify incomplete rows\n",
    "targetFile5.count()"
   ]
  },
  {
   "cell_type": "code",
   "execution_count": 332,
   "metadata": {},
   "outputs": [],
   "source": [
    "targetFile5 = targetFile5.dropna(how='any')"
   ]
  },
  {
   "cell_type": "code",
   "execution_count": 333,
   "metadata": {},
   "outputs": [
    {
     "data": {
      "text/plain": [
       "Provider CCN               3034\n",
       "Hospital Name              3034\n",
       "Street Address             3034\n",
       "City                       3034\n",
       "State Code                 3034\n",
       "Zip Code                   3034\n",
       "CON                        3034\n",
       "Urban                      3034\n",
       "Inpatient %                3034\n",
       "Outpatient %               3034\n",
       "Charity %                  3034\n",
       "Uncompensated %            3034\n",
       "Rev Per Discharge          3034\n",
       "Rev Per Bed                3034\n",
       "Rev Per Bed Days           3034\n",
       "Rev Per FTE                3034\n",
       "Discharges Per Bed         3034\n",
       "Discharges Per Bed Days    3034\n",
       "Discharges Per FTE         3034\n",
       "Net Income %               3034\n",
       "Net Income Score           3034\n",
       "dtype: int64"
      ]
     },
     "execution_count": 333,
     "metadata": {},
     "output_type": "execute_result"
    }
   ],
   "source": [
    "# Identify incomplete rows\n",
    "targetFile5.count()"
   ]
  },
  {
   "cell_type": "code",
   "execution_count": 334,
   "metadata": {},
   "outputs": [],
   "source": [
    "#Output targeted file\n",
    "targetFile5.to_csv(\"targetedCO2017.csv\", index=False, header=True)"
   ]
  },
  {
   "cell_type": "code",
   "execution_count": null,
   "metadata": {},
   "outputs": [],
   "source": []
  },
  {
   "cell_type": "code",
   "execution_count": 335,
   "metadata": {},
   "outputs": [
    {
     "data": {
      "text/html": [
       "<div>\n",
       "<style scoped>\n",
       "    .dataframe tbody tr th:only-of-type {\n",
       "        vertical-align: middle;\n",
       "    }\n",
       "\n",
       "    .dataframe tbody tr th {\n",
       "        vertical-align: top;\n",
       "    }\n",
       "\n",
       "    .dataframe thead th {\n",
       "        text-align: right;\n",
       "    }\n",
       "</style>\n",
       "<table border=\"1\" class=\"dataframe\">\n",
       "  <thead>\n",
       "    <tr style=\"text-align: right;\">\n",
       "      <th></th>\n",
       "      <th>CON</th>\n",
       "      <th>Urban</th>\n",
       "      <th>Inpatient %</th>\n",
       "      <th>Outpatient %</th>\n",
       "      <th>Charity %</th>\n",
       "      <th>Uncompensated %</th>\n",
       "      <th>Rev Per Discharge</th>\n",
       "      <th>Rev Per Bed</th>\n",
       "      <th>Rev Per Bed Days</th>\n",
       "      <th>Rev Per FTE</th>\n",
       "      <th>Discharges Per Bed</th>\n",
       "      <th>Discharges Per Bed Days</th>\n",
       "      <th>Discharges Per FTE</th>\n",
       "    </tr>\n",
       "  </thead>\n",
       "  <tbody>\n",
       "    <tr>\n",
       "      <th>0</th>\n",
       "      <td>1.0</td>\n",
       "      <td>1.0</td>\n",
       "      <td>0.311881</td>\n",
       "      <td>0.688119</td>\n",
       "      <td>0.003080</td>\n",
       "      <td>0.003080</td>\n",
       "      <td>19670.239080</td>\n",
       "      <td>122236.485714</td>\n",
       "      <td>1328.657453</td>\n",
       "      <td>26564.899100</td>\n",
       "      <td>6.214286</td>\n",
       "      <td>0.067547</td>\n",
       "      <td>6.214286</td>\n",
       "    </tr>\n",
       "    <tr>\n",
       "      <th>1</th>\n",
       "      <td>1.0</td>\n",
       "      <td>2.0</td>\n",
       "      <td>0.325730</td>\n",
       "      <td>0.674270</td>\n",
       "      <td>0.001075</td>\n",
       "      <td>0.001075</td>\n",
       "      <td>16873.362245</td>\n",
       "      <td>51674.671875</td>\n",
       "      <td>847.125768</td>\n",
       "      <td>121408.920705</td>\n",
       "      <td>3.062500</td>\n",
       "      <td>0.050205</td>\n",
       "      <td>3.062500</td>\n",
       "    </tr>\n",
       "    <tr>\n",
       "      <th>4</th>\n",
       "      <td>1.0</td>\n",
       "      <td>2.0</td>\n",
       "      <td>0.391293</td>\n",
       "      <td>0.608707</td>\n",
       "      <td>0.016794</td>\n",
       "      <td>0.016794</td>\n",
       "      <td>22079.254976</td>\n",
       "      <td>300562.761290</td>\n",
       "      <td>2504.689677</td>\n",
       "      <td>50452.385233</td>\n",
       "      <td>13.612903</td>\n",
       "      <td>0.113441</td>\n",
       "      <td>13.612903</td>\n",
       "    </tr>\n",
       "    <tr>\n",
       "      <th>5</th>\n",
       "      <td>1.0</td>\n",
       "      <td>2.0</td>\n",
       "      <td>0.364763</td>\n",
       "      <td>0.635237</td>\n",
       "      <td>0.000905</td>\n",
       "      <td>0.000905</td>\n",
       "      <td>15444.529412</td>\n",
       "      <td>132660.378947</td>\n",
       "      <td>1105.503158</td>\n",
       "      <td>52406.586826</td>\n",
       "      <td>8.589474</td>\n",
       "      <td>0.071579</td>\n",
       "      <td>8.589474</td>\n",
       "    </tr>\n",
       "    <tr>\n",
       "      <th>6</th>\n",
       "      <td>1.0</td>\n",
       "      <td>2.0</td>\n",
       "      <td>0.276917</td>\n",
       "      <td>0.723083</td>\n",
       "      <td>0.000780</td>\n",
       "      <td>0.000780</td>\n",
       "      <td>29768.443038</td>\n",
       "      <td>383952.163265</td>\n",
       "      <td>3199.601361</td>\n",
       "      <td>49737.365833</td>\n",
       "      <td>12.897959</td>\n",
       "      <td>0.107483</td>\n",
       "      <td>12.897959</td>\n",
       "    </tr>\n",
       "  </tbody>\n",
       "</table>\n",
       "</div>"
      ],
      "text/plain": [
       "   CON  Urban  Inpatient %  Outpatient %  Charity %  Uncompensated %  \\\n",
       "0  1.0    1.0     0.311881      0.688119   0.003080         0.003080   \n",
       "1  1.0    2.0     0.325730      0.674270   0.001075         0.001075   \n",
       "4  1.0    2.0     0.391293      0.608707   0.016794         0.016794   \n",
       "5  1.0    2.0     0.364763      0.635237   0.000905         0.000905   \n",
       "6  1.0    2.0     0.276917      0.723083   0.000780         0.000780   \n",
       "\n",
       "   Rev Per Discharge    Rev Per Bed  Rev Per Bed Days    Rev Per FTE  \\\n",
       "0       19670.239080  122236.485714       1328.657453   26564.899100   \n",
       "1       16873.362245   51674.671875        847.125768  121408.920705   \n",
       "4       22079.254976  300562.761290       2504.689677   50452.385233   \n",
       "5       15444.529412  132660.378947       1105.503158   52406.586826   \n",
       "6       29768.443038  383952.163265       3199.601361   49737.365833   \n",
       "\n",
       "   Discharges Per Bed  Discharges Per Bed Days  Discharges Per FTE  \n",
       "0            6.214286                 0.067547            6.214286  \n",
       "1            3.062500                 0.050205            3.062500  \n",
       "4           13.612903                 0.113441           13.612903  \n",
       "5            8.589474                 0.071579            8.589474  \n",
       "6           12.897959                 0.107483           12.897959  "
      ]
     },
     "execution_count": 335,
     "metadata": {},
     "output_type": "execute_result"
    }
   ],
   "source": [
    "# Select features to be used as x values\n",
    "features1 = targetFile5[['CON','Urban','Inpatient %','Outpatient %','Charity %','Uncompensated %','Rev Per Discharge','Rev Per Bed','Rev Per Bed Days','Rev Per FTE','Discharges Per Bed','Discharges Per Bed Days','Discharges Per FTE']\n",
    "]\n",
    "features1.head()"
   ]
  },
  {
   "cell_type": "code",
   "execution_count": 336,
   "metadata": {},
   "outputs": [],
   "source": [
    "#Output features file as a reference document\n",
    "features1.to_csv(\"featuresCO2017.csv\", index=False, header=True)"
   ]
  },
  {
   "cell_type": "code",
   "execution_count": 337,
   "metadata": {},
   "outputs": [
    {
     "data": {
      "text/html": [
       "<div>\n",
       "<style scoped>\n",
       "    .dataframe tbody tr th:only-of-type {\n",
       "        vertical-align: middle;\n",
       "    }\n",
       "\n",
       "    .dataframe tbody tr th {\n",
       "        vertical-align: top;\n",
       "    }\n",
       "\n",
       "    .dataframe thead th {\n",
       "        text-align: right;\n",
       "    }\n",
       "</style>\n",
       "<table border=\"1\" class=\"dataframe\">\n",
       "  <thead>\n",
       "    <tr style=\"text-align: right;\">\n",
       "      <th></th>\n",
       "      <th>Net Income Score</th>\n",
       "    </tr>\n",
       "  </thead>\n",
       "  <tbody>\n",
       "    <tr>\n",
       "      <th>0</th>\n",
       "      <td>1</td>\n",
       "    </tr>\n",
       "    <tr>\n",
       "      <th>1</th>\n",
       "      <td>3</td>\n",
       "    </tr>\n",
       "    <tr>\n",
       "      <th>4</th>\n",
       "      <td>3</td>\n",
       "    </tr>\n",
       "    <tr>\n",
       "      <th>5</th>\n",
       "      <td>3</td>\n",
       "    </tr>\n",
       "    <tr>\n",
       "      <th>6</th>\n",
       "      <td>3</td>\n",
       "    </tr>\n",
       "  </tbody>\n",
       "</table>\n",
       "</div>"
      ],
      "text/plain": [
       "  Net Income Score\n",
       "0                1\n",
       "1                3\n",
       "4                3\n",
       "5                3\n",
       "6                3"
      ]
     },
     "execution_count": 337,
     "metadata": {},
     "output_type": "execute_result"
    }
   ],
   "source": [
    "# Identify the outcome column/data\n",
    "y = targetFile5[['Net Income Score']]\n",
    "y.head()"
   ]
  },
  {
   "cell_type": "code",
   "execution_count": 338,
   "metadata": {},
   "outputs": [
    {
     "data": {
      "text/html": [
       "<div>\n",
       "<style scoped>\n",
       "    .dataframe tbody tr th:only-of-type {\n",
       "        vertical-align: middle;\n",
       "    }\n",
       "\n",
       "    .dataframe tbody tr th {\n",
       "        vertical-align: top;\n",
       "    }\n",
       "\n",
       "    .dataframe thead th {\n",
       "        text-align: right;\n",
       "    }\n",
       "</style>\n",
       "<table border=\"1\" class=\"dataframe\">\n",
       "  <thead>\n",
       "    <tr style=\"text-align: right;\">\n",
       "      <th></th>\n",
       "      <th>Net Income Score</th>\n",
       "    </tr>\n",
       "  </thead>\n",
       "  <tbody>\n",
       "    <tr>\n",
       "      <th>count</th>\n",
       "      <td>3034</td>\n",
       "    </tr>\n",
       "    <tr>\n",
       "      <th>unique</th>\n",
       "      <td>3</td>\n",
       "    </tr>\n",
       "    <tr>\n",
       "      <th>top</th>\n",
       "      <td>2</td>\n",
       "    </tr>\n",
       "    <tr>\n",
       "      <th>freq</th>\n",
       "      <td>1592</td>\n",
       "    </tr>\n",
       "  </tbody>\n",
       "</table>\n",
       "</div>"
      ],
      "text/plain": [
       "       Net Income Score\n",
       "count              3034\n",
       "unique                3\n",
       "top                   2\n",
       "freq               1592"
      ]
     },
     "execution_count": 338,
     "metadata": {},
     "output_type": "execute_result"
    }
   ],
   "source": [
    "y.describe()"
   ]
  },
  {
   "cell_type": "code",
   "execution_count": 339,
   "metadata": {},
   "outputs": [
    {
     "data": {
      "text/plain": [
       "(3034, 1)"
      ]
     },
     "execution_count": 339,
     "metadata": {},
     "output_type": "execute_result"
    }
   ],
   "source": [
    "y.shape"
   ]
  },
  {
   "cell_type": "code",
   "execution_count": 340,
   "metadata": {},
   "outputs": [
    {
     "data": {
      "text/plain": [
       "(3034, 13)"
      ]
     },
     "execution_count": 340,
     "metadata": {},
     "output_type": "execute_result"
    }
   ],
   "source": [
    "X = features1\n",
    "X.shape"
   ]
  },
  {
   "cell_type": "code",
   "execution_count": 341,
   "metadata": {},
   "outputs": [],
   "source": [
    "#Create a training and testing dataset\n",
    "X_train, X_test, y_train, y_test = train_test_split(\n",
    "    X, y, random_state=1)"
   ]
  },
  {
   "cell_type": "code",
   "execution_count": 342,
   "metadata": {},
   "outputs": [
    {
     "data": {
      "text/plain": [
       "(2275, 1)"
      ]
     },
     "execution_count": 342,
     "metadata": {},
     "output_type": "execute_result"
    }
   ],
   "source": [
    "y_train.shape"
   ]
  },
  {
   "cell_type": "code",
   "execution_count": 343,
   "metadata": {},
   "outputs": [
    {
     "data": {
      "text/plain": [
       "(2275, 13)"
      ]
     },
     "execution_count": 343,
     "metadata": {},
     "output_type": "execute_result"
    }
   ],
   "source": [
    "X_train.shape"
   ]
  },
  {
   "cell_type": "code",
   "execution_count": 344,
   "metadata": {},
   "outputs": [
    {
     "data": {
      "text/plain": [
       "(759, 1)"
      ]
     },
     "execution_count": 344,
     "metadata": {},
     "output_type": "execute_result"
    }
   ],
   "source": [
    "y_test.shape"
   ]
  },
  {
   "cell_type": "code",
   "execution_count": 345,
   "metadata": {},
   "outputs": [
    {
     "data": {
      "text/plain": [
       "(759, 13)"
      ]
     },
     "execution_count": 345,
     "metadata": {},
     "output_type": "execute_result"
    }
   ],
   "source": [
    "X_test.shape"
   ]
  },
  {
   "cell_type": "code",
   "execution_count": 346,
   "metadata": {},
   "outputs": [],
   "source": [
    "# Scale your data\n",
    "X_scaler = MinMaxScaler().fit(X_train)\n",
    "X_train_scaled = X_scaler.transform(X_train)\n",
    "X_test_scaled = X_scaler.transform(X_test)"
   ]
  },
  {
   "cell_type": "code",
   "execution_count": 347,
   "metadata": {},
   "outputs": [
    {
     "name": "stderr",
     "output_type": "stream",
     "text": [
      "C:\\Users\\rodge\\anaconda3\\envs\\PythonData\\lib\\site-packages\\sklearn\\utils\\validation.py:63: DataConversionWarning: A column-vector y was passed when a 1d array was expected. Please change the shape of y to (n_samples, ), for example using ravel().\n",
      "  return f(*args, **kwargs)\n",
      "C:\\Users\\rodge\\anaconda3\\envs\\PythonData\\lib\\site-packages\\sklearn\\linear_model\\_logistic.py:765: ConvergenceWarning: lbfgs failed to converge (status=1):\n",
      "STOP: TOTAL NO. of ITERATIONS REACHED LIMIT.\n",
      "\n",
      "Increase the number of iterations (max_iter) or scale the data as shown in:\n",
      "    https://scikit-learn.org/stable/modules/preprocessing.html\n",
      "Please also refer to the documentation for alternative solver options:\n",
      "    https://scikit-learn.org/stable/modules/linear_model.html#logistic-regression\n",
      "  extra_warning_msg=_LOGISTIC_SOLVER_CONVERGENCE_MSG)\n",
      "C:\\Users\\rodge\\anaconda3\\envs\\PythonData\\lib\\site-packages\\sklearn\\utils\\validation.py:63: DataConversionWarning: A column-vector y was passed when a 1d array was expected. Please change the shape of y to (n_samples, ), for example using ravel().\n",
      "  return f(*args, **kwargs)\n",
      "C:\\Users\\rodge\\anaconda3\\envs\\PythonData\\lib\\site-packages\\sklearn\\utils\\validation.py:63: DataConversionWarning: A column-vector y was passed when a 1d array was expected. Please change the shape of y to (n_samples, ), for example using ravel().\n",
      "  return f(*args, **kwargs)\n",
      "C:\\Users\\rodge\\anaconda3\\envs\\PythonData\\lib\\site-packages\\sklearn\\utils\\validation.py:63: DataConversionWarning: A column-vector y was passed when a 1d array was expected. Please change the shape of y to (n_samples, ), for example using ravel().\n",
      "  return f(*args, **kwargs)\n",
      "C:\\Users\\rodge\\anaconda3\\envs\\PythonData\\lib\\site-packages\\sklearn\\utils\\validation.py:63: DataConversionWarning: A column-vector y was passed when a 1d array was expected. Please change the shape of y to (n_samples, ), for example using ravel().\n",
      "  return f(*args, **kwargs)\n",
      "C:\\Users\\rodge\\anaconda3\\envs\\PythonData\\lib\\site-packages\\sklearn\\utils\\validation.py:63: DataConversionWarning: A column-vector y was passed when a 1d array was expected. Please change the shape of y to (n_samples, ), for example using ravel().\n",
      "  return f(*args, **kwargs)\n",
      "C:\\Users\\rodge\\anaconda3\\envs\\PythonData\\lib\\site-packages\\sklearn\\utils\\validation.py:63: DataConversionWarning: A column-vector y was passed when a 1d array was expected. Please change the shape of y to (n_samples, ), for example using ravel().\n",
      "  return f(*args, **kwargs)\n",
      "C:\\Users\\rodge\\anaconda3\\envs\\PythonData\\lib\\site-packages\\sklearn\\utils\\validation.py:63: DataConversionWarning: A column-vector y was passed when a 1d array was expected. Please change the shape of y to (n_samples, ), for example using ravel().\n",
      "  return f(*args, **kwargs)\n",
      "C:\\Users\\rodge\\anaconda3\\envs\\PythonData\\lib\\site-packages\\sklearn\\utils\\validation.py:63: DataConversionWarning: A column-vector y was passed when a 1d array was expected. Please change the shape of y to (n_samples, ), for example using ravel().\n",
      "  return f(*args, **kwargs)\n",
      "C:\\Users\\rodge\\anaconda3\\envs\\PythonData\\lib\\site-packages\\sklearn\\utils\\validation.py:63: DataConversionWarning: A column-vector y was passed when a 1d array was expected. Please change the shape of y to (n_samples, ), for example using ravel().\n",
      "  return f(*args, **kwargs)\n",
      "C:\\Users\\rodge\\anaconda3\\envs\\PythonData\\lib\\site-packages\\sklearn\\utils\\validation.py:63: DataConversionWarning: A column-vector y was passed when a 1d array was expected. Please change the shape of y to (n_samples, ), for example using ravel().\n",
      "  return f(*args, **kwargs)\n"
     ]
    }
   ],
   "source": [
    "#Identify features to create a more efficient model with\n",
    "estimator = LogisticRegression()\n",
    "selector = RFE(estimator, n_features_to_select=3, step=1)\n",
    "selector = selector.fit(X_train_scaled, y_train)"
   ]
  },
  {
   "cell_type": "code",
   "execution_count": 348,
   "metadata": {},
   "outputs": [
    {
     "data": {
      "text/plain": [
       "array([False, False, False, False, False,  True, False,  True, False,\n",
       "       False, False, False,  True])"
      ]
     },
     "execution_count": 348,
     "metadata": {},
     "output_type": "execute_result"
    }
   ],
   "source": [
    "selector.support_"
   ]
  },
  {
   "cell_type": "code",
   "execution_count": 349,
   "metadata": {},
   "outputs": [
    {
     "data": {
      "text/plain": [
       "array([ 9, 10, 11,  8,  2,  1,  6,  1,  4,  7,  5,  3,  1])"
      ]
     },
     "execution_count": 349,
     "metadata": {},
     "output_type": "execute_result"
    }
   ],
   "source": [
    "selector.ranking_"
   ]
  },
  {
   "cell_type": "code",
   "execution_count": null,
   "metadata": {},
   "outputs": [],
   "source": []
  },
  {
   "cell_type": "code",
   "execution_count": 350,
   "metadata": {},
   "outputs": [
    {
     "name": "stdout",
     "output_type": "stream",
     "text": [
      "Training Data Score: 0.1098600455428771\n"
     ]
    },
    {
     "name": "stderr",
     "output_type": "stream",
     "text": [
      "C:\\Users\\rodge\\anaconda3\\envs\\PythonData\\lib\\site-packages\\sklearn\\utils\\validation.py:63: FutureWarning: Arrays of bytes/strings is being converted to decimal numbers if dtype='numeric'. This behavior is deprecated in 0.24 and will be removed in 1.1 (renaming of 0.26). Please convert your data to numeric values explicitly instead.\n",
      "  return f(*args, **kwargs)\n",
      "C:\\Users\\rodge\\anaconda3\\envs\\PythonData\\lib\\site-packages\\sklearn\\utils\\validation.py:63: FutureWarning: Arrays of bytes/strings is being converted to decimal numbers if dtype='numeric'. This behavior is deprecated in 0.24 and will be removed in 1.1 (renaming of 0.26). Please convert your data to numeric values explicitly instead.\n",
      "  return f(*args, **kwargs)\n"
     ]
    }
   ],
   "source": [
    "#Create the linear regression model and fit to the training data\n",
    "modela = LinearRegression()\n",
    "modela.fit(X_train_scaled, y_train)\n",
    "score = modela.score(X_train_scaled, y_train)\n",
    "print(f\"Training Data Score: {modela.score(X_train_scaled, y_train)}\")"
   ]
  },
  {
   "cell_type": "code",
   "execution_count": 351,
   "metadata": {},
   "outputs": [
    {
     "name": "stdout",
     "output_type": "stream",
     "text": [
      "Testing Data Score: 0.1084875938869293\n"
     ]
    },
    {
     "name": "stderr",
     "output_type": "stream",
     "text": [
      "C:\\Users\\rodge\\anaconda3\\envs\\PythonData\\lib\\site-packages\\sklearn\\utils\\validation.py:63: FutureWarning: Arrays of bytes/strings is being converted to decimal numbers if dtype='numeric'. This behavior is deprecated in 0.24 and will be removed in 1.1 (renaming of 0.26). Please convert your data to numeric values explicitly instead.\n",
      "  return f(*args, **kwargs)\n"
     ]
    }
   ],
   "source": [
    "#Run the model with the testing data and determine score\n",
    "print(f\"Testing Data Score: {modela.score(X_test_scaled, y_test)}\")"
   ]
  },
  {
   "cell_type": "code",
   "execution_count": null,
   "metadata": {},
   "outputs": [],
   "source": []
  },
  {
   "cell_type": "code",
   "execution_count": null,
   "metadata": {},
   "outputs": [],
   "source": []
  }
 ],
 "metadata": {
  "kernelspec": {
   "display_name": "Python [conda env:PythonData]",
   "language": "python",
   "name": "conda-env-PythonData-py"
  },
  "language_info": {
   "codemirror_mode": {
    "name": "ipython",
    "version": 3
   },
   "file_extension": ".py",
   "mimetype": "text/x-python",
   "name": "python",
   "nbconvert_exporter": "python",
   "pygments_lexer": "ipython3",
   "version": "3.7.1"
  }
 },
 "nbformat": 4,
 "nbformat_minor": 4
}
