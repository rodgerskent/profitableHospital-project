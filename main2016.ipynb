{
 "cells": [
  {
   "cell_type": "code",
   "execution_count": 1,
   "metadata": {},
   "outputs": [],
   "source": [
    "#profitableHospital-project"
   ]
  },
  {
   "cell_type": "code",
   "execution_count": 2,
   "metadata": {},
   "outputs": [],
   "source": [
    "#dependencies\n",
    "import pandas as pd\n",
    "import requests\n",
    "import json\n",
    "import scipy.stats as st\n",
    "from scipy.stats import linregress\n",
    "from sklearn.model_selection import train_test_split\n",
    "from sklearn.preprocessing import LabelEncoder, MinMaxScaler\n",
    "from sklearn.preprocessing import LabelEncoder\n",
    "from sklearn.feature_selection import RFE\n",
    "from sklearn.linear_model import LogisticRegression\n",
    "from sklearn.linear_model import LinearRegression\n",
    "from sklearn.svm import SVC \n",
    "from sklearn.model_selection import GridSearchCV\n",
    "from sklearn.metrics import classification_report\n",
    "import tensorflow\n",
    "from tensorflow.keras.utils import to_categorical\n",
    "import matplotlib.pyplot as plt\n",
    "import numpy as np\n",
    "import joblib"
   ]
  },
  {
   "cell_type": "code",
   "execution_count": 3,
   "metadata": {},
   "outputs": [],
   "source": [
    "# ... File Imports"
   ]
  },
  {
   "cell_type": "code",
   "execution_count": 4,
   "metadata": {},
   "outputs": [
    {
     "data": {
      "text/html": [
       "<div>\n",
       "<style scoped>\n",
       "    .dataframe tbody tr th:only-of-type {\n",
       "        vertical-align: middle;\n",
       "    }\n",
       "\n",
       "    .dataframe tbody tr th {\n",
       "        vertical-align: top;\n",
       "    }\n",
       "\n",
       "    .dataframe thead th {\n",
       "        text-align: right;\n",
       "    }\n",
       "</style>\n",
       "<table border=\"1\" class=\"dataframe\">\n",
       "  <thead>\n",
       "    <tr style=\"text-align: right;\">\n",
       "      <th></th>\n",
       "      <th>Provider CCN</th>\n",
       "      <th>Hospital Name</th>\n",
       "      <th>Street Address</th>\n",
       "      <th>City</th>\n",
       "      <th>State Code</th>\n",
       "      <th>Zip Code</th>\n",
       "      <th>County</th>\n",
       "      <th>Medicare CBSA Number</th>\n",
       "      <th>Rural Versus Urban</th>\n",
       "      <th>CCN Facility Type</th>\n",
       "      <th>...</th>\n",
       "      <th>Total Other Income</th>\n",
       "      <th>Total Income</th>\n",
       "      <th>Total Other Expenses</th>\n",
       "      <th>Net Income</th>\n",
       "      <th>Cost To Charge Ratio</th>\n",
       "      <th>Net Revenue from Medicaid</th>\n",
       "      <th>Medicaid Charges</th>\n",
       "      <th>Net Revenue from Stand-Alone SCHIP</th>\n",
       "      <th>Stand-Alone SCHIP Charges</th>\n",
       "      <th>rpt_rec_num</th>\n",
       "    </tr>\n",
       "  </thead>\n",
       "  <tbody>\n",
       "    <tr>\n",
       "      <th>0</th>\n",
       "      <td>310050</td>\n",
       "      <td>SAINT CLARES HOSPITAL- DENVILLE</td>\n",
       "      <td>25 POCONO ROAD</td>\n",
       "      <td>DENVILLE</td>\n",
       "      <td>NJ</td>\n",
       "      <td>07834</td>\n",
       "      <td>MORRIS</td>\n",
       "      <td>35644.0</td>\n",
       "      <td>U</td>\n",
       "      <td>STH</td>\n",
       "      <td>...</td>\n",
       "      <td>NaN</td>\n",
       "      <td>8399912.0</td>\n",
       "      <td>NaN</td>\n",
       "      <td>8399912.0</td>\n",
       "      <td>0.226854</td>\n",
       "      <td>2010908.0</td>\n",
       "      <td>14023081.0</td>\n",
       "      <td>NaN</td>\n",
       "      <td>NaN</td>\n",
       "      <td>577882</td>\n",
       "    </tr>\n",
       "    <tr>\n",
       "      <th>1</th>\n",
       "      <td>670110</td>\n",
       "      <td>FIRST TEXAS HOSPITAL CARROLLTON</td>\n",
       "      <td>1407 E TRINITY MILLS ROAD</td>\n",
       "      <td>CARROLLTON</td>\n",
       "      <td>TX</td>\n",
       "      <td>75006</td>\n",
       "      <td>NaN</td>\n",
       "      <td>NaN</td>\n",
       "      <td>NaN</td>\n",
       "      <td>STH</td>\n",
       "      <td>...</td>\n",
       "      <td>NaN</td>\n",
       "      <td>NaN</td>\n",
       "      <td>NaN</td>\n",
       "      <td>NaN</td>\n",
       "      <td>NaN</td>\n",
       "      <td>NaN</td>\n",
       "      <td>NaN</td>\n",
       "      <td>NaN</td>\n",
       "      <td>NaN</td>\n",
       "      <td>581059</td>\n",
       "    </tr>\n",
       "  </tbody>\n",
       "</table>\n",
       "<p>2 rows × 128 columns</p>\n",
       "</div>"
      ],
      "text/plain": [
       "   Provider CCN                    Hospital Name             Street Address  \\\n",
       "0        310050  SAINT CLARES HOSPITAL- DENVILLE             25 POCONO ROAD   \n",
       "1        670110  FIRST TEXAS HOSPITAL CARROLLTON  1407 E TRINITY MILLS ROAD   \n",
       "\n",
       "         City State Code Zip Code  County  Medicare CBSA Number  \\\n",
       "0    DENVILLE         NJ    07834  MORRIS               35644.0   \n",
       "1  CARROLLTON         TX    75006     NaN                   NaN   \n",
       "\n",
       "  Rural Versus Urban CCN Facility Type  ...  Total Other Income  Total Income  \\\n",
       "0                  U               STH  ...                 NaN     8399912.0   \n",
       "1                NaN               STH  ...                 NaN           NaN   \n",
       "\n",
       "  Total Other Expenses Net Income  Cost To Charge Ratio  \\\n",
       "0                  NaN  8399912.0              0.226854   \n",
       "1                  NaN        NaN                   NaN   \n",
       "\n",
       "   Net Revenue from Medicaid  Medicaid Charges  \\\n",
       "0                  2010908.0        14023081.0   \n",
       "1                        NaN               NaN   \n",
       "\n",
       "   Net Revenue from Stand-Alone SCHIP  Stand-Alone SCHIP Charges  rpt_rec_num  \n",
       "0                                 NaN                        NaN       577882  \n",
       "1                                 NaN                        NaN       581059  \n",
       "\n",
       "[2 rows x 128 columns]"
      ]
     },
     "execution_count": 4,
     "metadata": {},
     "output_type": "execute_result"
    }
   ],
   "source": [
    "#2017 Hospital Data from Centers for Medicare Services\n",
    "df = pd.read_csv(\"Medicare_Hospital_Cost_Report_PUF_2016.csv\")\n",
    "df.head(2)"
   ]
  },
  {
   "cell_type": "code",
   "execution_count": 5,
   "metadata": {},
   "outputs": [
    {
     "data": {
      "text/plain": [
       "6211"
      ]
     },
     "execution_count": 5,
     "metadata": {},
     "output_type": "execute_result"
    }
   ],
   "source": [
    "#Quick Check\n",
    "df['Provider CCN'].count()"
   ]
  },
  {
   "cell_type": "code",
   "execution_count": 6,
   "metadata": {},
   "outputs": [
    {
     "data": {
      "text/html": [
       "<div>\n",
       "<style scoped>\n",
       "    .dataframe tbody tr th:only-of-type {\n",
       "        vertical-align: middle;\n",
       "    }\n",
       "\n",
       "    .dataframe tbody tr th {\n",
       "        vertical-align: top;\n",
       "    }\n",
       "\n",
       "    .dataframe thead th {\n",
       "        text-align: right;\n",
       "    }\n",
       "</style>\n",
       "<table border=\"1\" class=\"dataframe\">\n",
       "  <thead>\n",
       "    <tr style=\"text-align: right;\">\n",
       "      <th></th>\n",
       "      <th>State Code</th>\n",
       "      <th>CON</th>\n",
       "    </tr>\n",
       "  </thead>\n",
       "  <tbody>\n",
       "    <tr>\n",
       "      <th>0</th>\n",
       "      <td>AK</td>\n",
       "      <td>1</td>\n",
       "    </tr>\n",
       "    <tr>\n",
       "      <th>1</th>\n",
       "      <td>AL</td>\n",
       "      <td>1</td>\n",
       "    </tr>\n",
       "  </tbody>\n",
       "</table>\n",
       "</div>"
      ],
      "text/plain": [
       "  State Code  CON\n",
       "0         AK    1\n",
       "1         AL    1"
      ]
     },
     "execution_count": 6,
     "metadata": {},
     "output_type": "execute_result"
    }
   ],
   "source": [
    "#Certificate of Need Status by State File\n",
    "conTable = pd.read_csv(\"certificateofneedstatesTable.csv\")\n",
    "conTable.head(2)"
   ]
  },
  {
   "cell_type": "code",
   "execution_count": 7,
   "metadata": {},
   "outputs": [
    {
     "data": {
      "text/html": [
       "<div>\n",
       "<style scoped>\n",
       "    .dataframe tbody tr th:only-of-type {\n",
       "        vertical-align: middle;\n",
       "    }\n",
       "\n",
       "    .dataframe tbody tr th {\n",
       "        vertical-align: top;\n",
       "    }\n",
       "\n",
       "    .dataframe thead th {\n",
       "        text-align: right;\n",
       "    }\n",
       "</style>\n",
       "<table border=\"1\" class=\"dataframe\">\n",
       "  <thead>\n",
       "    <tr style=\"text-align: right;\">\n",
       "      <th></th>\n",
       "      <th>Rural Versus Urban</th>\n",
       "      <th>Urban</th>\n",
       "    </tr>\n",
       "  </thead>\n",
       "  <tbody>\n",
       "    <tr>\n",
       "      <th>0</th>\n",
       "      <td>U</td>\n",
       "      <td>1</td>\n",
       "    </tr>\n",
       "    <tr>\n",
       "      <th>1</th>\n",
       "      <td>R</td>\n",
       "      <td>0</td>\n",
       "    </tr>\n",
       "  </tbody>\n",
       "</table>\n",
       "</div>"
      ],
      "text/plain": [
       "  Rural Versus Urban  Urban\n",
       "0                  U      1\n",
       "1                  R      0"
      ]
     },
     "execution_count": 7,
     "metadata": {},
     "output_type": "execute_result"
    }
   ],
   "source": [
    "#String to Numeric Conversion Table for Urban v. Rural designation\n",
    "urbanTable = pd.read_csv(\"ruralversusurbanTable.csv\")\n",
    "urbanTable.head()"
   ]
  },
  {
   "cell_type": "code",
   "execution_count": 8,
   "metadata": {},
   "outputs": [
    {
     "data": {
      "text/html": [
       "<div>\n",
       "<style scoped>\n",
       "    .dataframe tbody tr th:only-of-type {\n",
       "        vertical-align: middle;\n",
       "    }\n",
       "\n",
       "    .dataframe tbody tr th {\n",
       "        vertical-align: top;\n",
       "    }\n",
       "\n",
       "    .dataframe thead th {\n",
       "        text-align: right;\n",
       "    }\n",
       "</style>\n",
       "<table border=\"1\" class=\"dataframe\">\n",
       "  <thead>\n",
       "    <tr style=\"text-align: right;\">\n",
       "      <th></th>\n",
       "      <th>Provider CCN</th>\n",
       "      <th>lat</th>\n",
       "      <th>lng</th>\n",
       "    </tr>\n",
       "  </thead>\n",
       "  <tbody>\n",
       "    <tr>\n",
       "      <th>0</th>\n",
       "      <td>10001</td>\n",
       "      <td>31.215884</td>\n",
       "      <td>-85.363008</td>\n",
       "    </tr>\n",
       "    <tr>\n",
       "      <th>1</th>\n",
       "      <td>10005</td>\n",
       "      <td>34.222103</td>\n",
       "      <td>-86.160908</td>\n",
       "    </tr>\n",
       "  </tbody>\n",
       "</table>\n",
       "</div>"
      ],
      "text/plain": [
       "   Provider CCN        lat        lng\n",
       "0         10001  31.215884 -85.363008\n",
       "1         10005  34.222103 -86.160908"
      ]
     },
     "execution_count": 8,
     "metadata": {},
     "output_type": "execute_result"
    }
   ],
   "source": [
    "#Lattitude & Longitude for the 2017 hospital listing\n",
    "geoTable = pd.read_csv(\"ccn2geocode.csv\")\n",
    "geoTable.head(2)"
   ]
  },
  {
   "cell_type": "code",
   "execution_count": null,
   "metadata": {},
   "outputs": [],
   "source": []
  },
  {
   "cell_type": "code",
   "execution_count": 9,
   "metadata": {},
   "outputs": [],
   "source": [
    "# ... Appending of source files into one main working file"
   ]
  },
  {
   "cell_type": "code",
   "execution_count": 10,
   "metadata": {},
   "outputs": [],
   "source": [
    "mainFile1 = df"
   ]
  },
  {
   "cell_type": "code",
   "execution_count": 11,
   "metadata": {},
   "outputs": [],
   "source": [
    "#Append a lattitude & longitude\n",
    "mainFile1 = pd.merge(mainFile1, geoTable, how= \"left\", on=['Provider CCN'])\n",
    "#mainFile1.head(2)"
   ]
  },
  {
   "cell_type": "code",
   "execution_count": 12,
   "metadata": {},
   "outputs": [
    {
     "data": {
      "text/plain": [
       "6211"
      ]
     },
     "execution_count": 12,
     "metadata": {},
     "output_type": "execute_result"
    }
   ],
   "source": [
    "#Quick Check\n",
    "mainFile1['Provider CCN'].count()"
   ]
  },
  {
   "cell_type": "code",
   "execution_count": 13,
   "metadata": {},
   "outputs": [],
   "source": [
    "#Append certificate of need indicator\n",
    "mainFile1 = pd.merge(mainFile1, conTable, how= \"left\", on=['State Code'])\n",
    "#mainFile1.head()"
   ]
  },
  {
   "cell_type": "code",
   "execution_count": 14,
   "metadata": {},
   "outputs": [
    {
     "data": {
      "text/plain": [
       "6211"
      ]
     },
     "execution_count": 14,
     "metadata": {},
     "output_type": "execute_result"
    }
   ],
   "source": [
    "#Quick Check\n",
    "mainFile1['Provider CCN'].count()"
   ]
  },
  {
   "cell_type": "code",
   "execution_count": 15,
   "metadata": {},
   "outputs": [],
   "source": [
    "#Append a numeric representation of rural v. urban\n",
    "mainFile1 = pd.merge(mainFile1, urbanTable, how= \"left\", on=['Rural Versus Urban'])"
   ]
  },
  {
   "cell_type": "code",
   "execution_count": 16,
   "metadata": {},
   "outputs": [
    {
     "data": {
      "text/plain": [
       "6211"
      ]
     },
     "execution_count": 16,
     "metadata": {},
     "output_type": "execute_result"
    }
   ],
   "source": [
    "#Quick Check\n",
    "mainFile1['Provider CCN'].count()"
   ]
  },
  {
   "cell_type": "code",
   "execution_count": 17,
   "metadata": {},
   "outputs": [
    {
     "data": {
      "text/html": [
       "<div>\n",
       "<style scoped>\n",
       "    .dataframe tbody tr th:only-of-type {\n",
       "        vertical-align: middle;\n",
       "    }\n",
       "\n",
       "    .dataframe tbody tr th {\n",
       "        vertical-align: top;\n",
       "    }\n",
       "\n",
       "    .dataframe thead th {\n",
       "        text-align: right;\n",
       "    }\n",
       "</style>\n",
       "<table border=\"1\" class=\"dataframe\">\n",
       "  <thead>\n",
       "    <tr style=\"text-align: right;\">\n",
       "      <th></th>\n",
       "      <th>Provider CCN</th>\n",
       "      <th>Hospital Name</th>\n",
       "      <th>Street Address</th>\n",
       "      <th>City</th>\n",
       "      <th>State Code</th>\n",
       "      <th>Zip Code</th>\n",
       "      <th>County</th>\n",
       "      <th>Medicare CBSA Number</th>\n",
       "      <th>Rural Versus Urban</th>\n",
       "      <th>CCN Facility Type</th>\n",
       "      <th>...</th>\n",
       "      <th>Cost To Charge Ratio</th>\n",
       "      <th>Net Revenue from Medicaid</th>\n",
       "      <th>Medicaid Charges</th>\n",
       "      <th>Net Revenue from Stand-Alone SCHIP</th>\n",
       "      <th>Stand-Alone SCHIP Charges</th>\n",
       "      <th>rpt_rec_num</th>\n",
       "      <th>lat</th>\n",
       "      <th>lng</th>\n",
       "      <th>CON</th>\n",
       "      <th>Urban</th>\n",
       "    </tr>\n",
       "  </thead>\n",
       "  <tbody>\n",
       "    <tr>\n",
       "      <th>0</th>\n",
       "      <td>310050</td>\n",
       "      <td>SAINT CLARES HOSPITAL- DENVILLE</td>\n",
       "      <td>25 POCONO ROAD</td>\n",
       "      <td>DENVILLE</td>\n",
       "      <td>NJ</td>\n",
       "      <td>07834</td>\n",
       "      <td>MORRIS</td>\n",
       "      <td>35644.0</td>\n",
       "      <td>U</td>\n",
       "      <td>STH</td>\n",
       "      <td>...</td>\n",
       "      <td>0.226854</td>\n",
       "      <td>2010908.0</td>\n",
       "      <td>14023081.0</td>\n",
       "      <td>NaN</td>\n",
       "      <td>NaN</td>\n",
       "      <td>577882</td>\n",
       "      <td>40.894920</td>\n",
       "      <td>-74.465444</td>\n",
       "      <td>1.0</td>\n",
       "      <td>1.0</td>\n",
       "    </tr>\n",
       "    <tr>\n",
       "      <th>1</th>\n",
       "      <td>670110</td>\n",
       "      <td>FIRST TEXAS HOSPITAL CARROLLTON</td>\n",
       "      <td>1407 E TRINITY MILLS ROAD</td>\n",
       "      <td>CARROLLTON</td>\n",
       "      <td>TX</td>\n",
       "      <td>75006</td>\n",
       "      <td>NaN</td>\n",
       "      <td>NaN</td>\n",
       "      <td>NaN</td>\n",
       "      <td>STH</td>\n",
       "      <td>...</td>\n",
       "      <td>NaN</td>\n",
       "      <td>NaN</td>\n",
       "      <td>NaN</td>\n",
       "      <td>NaN</td>\n",
       "      <td>NaN</td>\n",
       "      <td>581059</td>\n",
       "      <td>32.985609</td>\n",
       "      <td>-96.898518</td>\n",
       "      <td>0.0</td>\n",
       "      <td>NaN</td>\n",
       "    </tr>\n",
       "  </tbody>\n",
       "</table>\n",
       "<p>2 rows × 132 columns</p>\n",
       "</div>"
      ],
      "text/plain": [
       "   Provider CCN                    Hospital Name             Street Address  \\\n",
       "0        310050  SAINT CLARES HOSPITAL- DENVILLE             25 POCONO ROAD   \n",
       "1        670110  FIRST TEXAS HOSPITAL CARROLLTON  1407 E TRINITY MILLS ROAD   \n",
       "\n",
       "         City State Code Zip Code  County  Medicare CBSA Number  \\\n",
       "0    DENVILLE         NJ    07834  MORRIS               35644.0   \n",
       "1  CARROLLTON         TX    75006     NaN                   NaN   \n",
       "\n",
       "  Rural Versus Urban CCN Facility Type  ...  Cost To Charge Ratio  \\\n",
       "0                  U               STH  ...              0.226854   \n",
       "1                NaN               STH  ...                   NaN   \n",
       "\n",
       "   Net Revenue from Medicaid Medicaid Charges  \\\n",
       "0                  2010908.0       14023081.0   \n",
       "1                        NaN              NaN   \n",
       "\n",
       "  Net Revenue from Stand-Alone SCHIP  Stand-Alone SCHIP Charges  rpt_rec_num  \\\n",
       "0                                NaN                        NaN       577882   \n",
       "1                                NaN                        NaN       581059   \n",
       "\n",
       "         lat        lng  CON  Urban  \n",
       "0  40.894920 -74.465444  1.0    1.0  \n",
       "1  32.985609 -96.898518  0.0    NaN  \n",
       "\n",
       "[2 rows x 132 columns]"
      ]
     },
     "execution_count": 17,
     "metadata": {},
     "output_type": "execute_result"
    }
   ],
   "source": [
    "mainFile1.head(2)"
   ]
  },
  {
   "cell_type": "code",
   "execution_count": 18,
   "metadata": {},
   "outputs": [],
   "source": [
    "mainFile1.to_csv(\"main1_2016.csv\", index=False, header=True)"
   ]
  },
  {
   "cell_type": "code",
   "execution_count": null,
   "metadata": {},
   "outputs": [],
   "source": []
  },
  {
   "cell_type": "code",
   "execution_count": 19,
   "metadata": {},
   "outputs": [],
   "source": [
    "# ... Add calculated fields"
   ]
  },
  {
   "cell_type": "code",
   "execution_count": 20,
   "metadata": {},
   "outputs": [],
   "source": [
    "mainFile2 = mainFile1"
   ]
  },
  {
   "cell_type": "code",
   "execution_count": 21,
   "metadata": {},
   "outputs": [],
   "source": [
    "#labor Expense\n",
    "lbrexpense = mainFile2[\"Wage-Related Costs (Core)\"] + mainFile2[\"Total Salaries (adjusted)\"]\n",
    "mainFile2[\"Labor Exp\"] = lbrexpense\n",
    "#wagepercent.head()"
   ]
  },
  {
   "cell_type": "code",
   "execution_count": 22,
   "metadata": {},
   "outputs": [],
   "source": [
    "#Append calculated field inpatient percent\n",
    "inpatient = mainFile2[\"Inpatient Revenue\"]/mainFile2[\"Gross Revenue\"]\n",
    "mainFile2[\"Inpatient %\"] = inpatient\n",
    "#mainFile2.head()"
   ]
  },
  {
   "cell_type": "code",
   "execution_count": 23,
   "metadata": {},
   "outputs": [],
   "source": [
    "#Append calculated field outpatient percent\n",
    "outpatient = mainFile2[\"Outpatient Revenue\"]/mainFile2[\"Gross Revenue\"]\n",
    "mainFile2[\"Outpatient %\"] = outpatient\n",
    "#mainFile2.head()"
   ]
  },
  {
   "cell_type": "code",
   "execution_count": 24,
   "metadata": {},
   "outputs": [],
   "source": [
    "#Append calculated field charity percent\n",
    "charity = mainFile2[\"Cost of Charity Care\"]/mainFile2[\"Net Patient Revenue\"]\n",
    "mainFile2[\"Charity %\"] = charity\n",
    "#mainFile2.head()"
   ]
  },
  {
   "cell_type": "code",
   "execution_count": 25,
   "metadata": {},
   "outputs": [],
   "source": [
    "#Append calculated field uncompensated percent\n",
    "uncompensated = mainFile2[\"Cost of Uncompensated Care\"]/mainFile2[\"Net Patient Revenue\"]\n",
    "mainFile2[\"Uncompensated %\"] = charity\n",
    "#mainFile2.head()"
   ]
  },
  {
   "cell_type": "code",
   "execution_count": 26,
   "metadata": {},
   "outputs": [],
   "source": [
    "#Append calculated field revenue per discharge\n",
    "revdischarge = mainFile2[\"Net Patient Revenue\"]/mainFile2[\"Total Discharges (V + XVIII + XIX + Unknown)\"]\n",
    "mainFile2[\"Rev/Discharge\"] = revdischarge\n",
    "#mainFile2.head()"
   ]
  },
  {
   "cell_type": "code",
   "execution_count": 27,
   "metadata": {},
   "outputs": [],
   "source": [
    "#Append calculated field revenue per bed\n",
    "revbed = mainFile2[\"Net Patient Revenue\"]/mainFile2[\"Number of Beds\"]\n",
    "mainFile2[\"Rev Per Bed\"] = revbed\n",
    "#mainFile2.head()"
   ]
  },
  {
   "cell_type": "code",
   "execution_count": 28,
   "metadata": {},
   "outputs": [],
   "source": [
    "#Append calculated field revenue per bed day\n",
    "revbed = mainFile2[\"Net Patient Revenue\"]/mainFile2[\"Total Bed Days Available\"]\n",
    "mainFile2[\"Rev Per Bed Days\"] = revbed\n",
    "#mainFile2.head()"
   ]
  },
  {
   "cell_type": "code",
   "execution_count": 29,
   "metadata": {},
   "outputs": [],
   "source": [
    "#Append calculated field revs per fte\n",
    "revfte = mainFile2[\"Net Patient Revenue\"]/mainFile2[\"FTE - Employees on Payroll\"]\n",
    "mainFile2[\"Rev Per FTE\"] = revfte\n",
    "#mainFile2.head()"
   ]
  },
  {
   "cell_type": "code",
   "execution_count": 30,
   "metadata": {},
   "outputs": [],
   "source": [
    "#Append calculated field discharges per bed\n",
    "volbed = mainFile2[\"Total Discharges (V + XVIII + XIX + Unknown)\"]/mainFile2[\"Number of Beds\"]\n",
    "mainFile2[\"Discharges Per Bed\"] = volbed\n",
    "#mainFile2.head()"
   ]
  },
  {
   "cell_type": "code",
   "execution_count": 31,
   "metadata": {},
   "outputs": [],
   "source": [
    "#Append calculated field discharges per bed day\n",
    "voldays = mainFile2[\"Total Discharges (V + XVIII + XIX + Unknown)\"]/mainFile2[\"Total Bed Days Available\"]\n",
    "mainFile2[\"Discharges Per Bed Days\"] = voldays\n",
    "#mainFile2.head()"
   ]
  },
  {
   "cell_type": "code",
   "execution_count": 32,
   "metadata": {},
   "outputs": [],
   "source": [
    "#Append calculated field discharges per bed\n",
    "volfte = mainFile2[\"Total Discharges (V + XVIII + XIX + Unknown)\"]/mainFile2[\"FTE - Employees on Payroll\"]\n",
    "mainFile2[\"Discharge/FTE\"] = volbed\n",
    "#mainFile2.head()"
   ]
  },
  {
   "cell_type": "code",
   "execution_count": 33,
   "metadata": {},
   "outputs": [],
   "source": [
    "#labor percent\n",
    "wagepercent = mainFile2[\"Wage-Related Costs (Core)\"] + mainFile2[\"Total Salaries (adjusted)\"]\n",
    "wagepercent = wagepercent / mainFile2[\"Net Patient Revenue\"]\n",
    "mainFile2[\"Labor %\"] = wagepercent\n",
    "#wagepercent.head()"
   ]
  },
  {
   "cell_type": "code",
   "execution_count": 34,
   "metadata": {},
   "outputs": [],
   "source": [
    "#Overhead percent\n",
    "overheadpercent = mainFile2[\"Overhead Non-Salary Costs\"] / mainFile2[\"Net Patient Revenue\"]\n",
    "mainFile2[\"Overhead %\"] = overheadpercent\n",
    "#overheadpercent.head()"
   ]
  },
  {
   "cell_type": "code",
   "execution_count": 35,
   "metadata": {},
   "outputs": [],
   "source": [
    "#Depreciation percent\n",
    "deprpercent = mainFile2[\"Depreciation Cost\"] / mainFile2[\"Net Patient Revenue\"]\n",
    "mainFile2[\"Depreciation %\"] = deprpercent\n",
    "#overheadpercent.head()"
   ]
  },
  {
   "cell_type": "code",
   "execution_count": 36,
   "metadata": {},
   "outputs": [],
   "source": [
    "#labor Per FTE\n",
    "wagefte = mainFile2[\"Wage-Related Costs (Core)\"] + mainFile2[\"Total Salaries (adjusted)\"]\n",
    "wagefte = wagefte / mainFile2[\"FTE - Employees on Payroll\"]\n",
    "mainFile2[\"LbrExp/FTE\"] = wagefte\n",
    "#wagepercent.head()"
   ]
  },
  {
   "cell_type": "code",
   "execution_count": 37,
   "metadata": {},
   "outputs": [],
   "source": [
    "#Overhead Expense Per Bed\n",
    "overbed = mainFile2[\"Overhead Non-Salary Costs\"] / mainFile2[\"Number of Beds\"]\n",
    "mainFile2[\"Overhead Exp Per Bed\"] = overbed\n",
    "#wagepercent.head()"
   ]
  },
  {
   "cell_type": "code",
   "execution_count": 38,
   "metadata": {},
   "outputs": [],
   "source": [
    "#Append calculated field net income percent to file\n",
    "profit = mainFile2[\"Net Income\"]/mainFile2[\"Net Patient Revenue\"]\n",
    "mainFile2[\"Net Income %\"] = profit\n",
    "#mainFile2.head()"
   ]
  },
  {
   "cell_type": "code",
   "execution_count": 39,
   "metadata": {},
   "outputs": [],
   "source": [
    "# Review net income percent for outlier reduction approach\n",
    "netinc = mainFile2[\"Net Income %\"]\n",
    "#netinc.head()"
   ]
  },
  {
   "cell_type": "code",
   "execution_count": 40,
   "metadata": {},
   "outputs": [],
   "source": [
    "# Box plot and outlier calculations for outlier approach\n",
    "netinc2 = netinc.dropna(how='any')\n",
    "chartdata = netinc2\n",
    "# fig1, ax1 = plt.subplots()\n",
    "# ax1.set_title('Net Income Percent')\n",
    "# ax1.set_ylabel('Net Income Percent')\n",
    "# ax1.boxplot(chartdata)\n",
    "# plt.show()"
   ]
  },
  {
   "cell_type": "code",
   "execution_count": 41,
   "metadata": {},
   "outputs": [
    {
     "name": "stdout",
     "output_type": "stream",
     "text": [
      "The lower quartile of profit percent is: -0.02788460161762867\n",
      "The upper quartile of profit percent is: 0.11236402337209221\n",
      "The interquartile range of profit percent is: 0.14024862498972088\n",
      "The the median of profit percent is: 0.040076138202432846 \n",
      "Values below -0.23825753910220998 could be outliers.\n",
      "Values above 0.3227369608566735 could be outliers.\n"
     ]
    }
   ],
   "source": [
    "#Quartile calculations\n",
    "quartiles = chartdata.quantile([.25,.5,.75])\n",
    "lowerq = quartiles[0.25]\n",
    "upperq = quartiles[0.75]\n",
    "iqr = upperq-lowerq\n",
    "\n",
    "print(f\"The lower quartile of profit percent is: {lowerq}\")\n",
    "print(f\"The upper quartile of profit percent is: {upperq}\")\n",
    "print(f\"The interquartile range of profit percent is: {iqr}\")\n",
    "print(f\"The the median of profit percent is: {quartiles[0.5]} \")\n",
    "\n",
    "lower_bound = lowerq - (1.5*iqr)\n",
    "upper_bound = upperq + (1.5*iqr)\n",
    "print(f\"Values below {lower_bound} could be outliers.\")\n",
    "print(f\"Values above {upper_bound} could be outliers.\")"
   ]
  },
  {
   "cell_type": "code",
   "execution_count": 42,
   "metadata": {},
   "outputs": [],
   "source": [
    "#Create a bronze, silver, gold score for clasifying net income performance\n",
    "bins = [-100, -0.030605, 0.113797, 100]\n",
    "group_names = [\"3\", \"2\", \"1\"]"
   ]
  },
  {
   "cell_type": "code",
   "execution_count": 43,
   "metadata": {},
   "outputs": [],
   "source": [
    "#Quintile attempt\n",
    "# quartiles = chartdata.quantile([.2,.5,.8])\n",
    "# lowerq = quartiles[0.2]\n",
    "# upperq = quartiles[0.8]\n",
    "# iqr = upperq-lowerq\n",
    "\n",
    "# print(f\"The lower quartile of profit percent is: {lowerq}\")\n",
    "# print(f\"The upper quartile of profit percent is: {upperq}\")\n",
    "# print(f\"The interquartile range of profit percent is: {iqr}\")\n",
    "# print(f\"The the median of profit percent is: {quartiles[0.5]} \")\n",
    "\n",
    "# lower_bound = lowerq - (1.5*iqr)\n",
    "# upper_bound = upperq + (1.5*iqr)\n",
    "# print(f\"Values below {lower_bound} could be outliers.\")\n",
    "# print(f\"Values above {upper_bound} could be outliers.\")"
   ]
  },
  {
   "cell_type": "code",
   "execution_count": 44,
   "metadata": {},
   "outputs": [],
   "source": [
    "#Create a bronze, silver, gold score for clasifying net income performance\n",
    "# bins = [-100, -0.0542, .03804, 0.13654, 100]\n",
    "# group_names = [\"4\",\"3\", \"2\", \"1\"]"
   ]
  },
  {
   "cell_type": "code",
   "execution_count": 45,
   "metadata": {},
   "outputs": [],
   "source": [
    "#Add a bronze, silver, gold scoring system to the dataset\n",
    "mainFile2[\"Net Income Score\"] = pd.cut(mainFile2[\"Net Income %\"], bins, labels=group_names, include_lowest=True)\n",
    "#mainFile2.head()"
   ]
  },
  {
   "cell_type": "code",
   "execution_count": 46,
   "metadata": {},
   "outputs": [
    {
     "data": {
      "text/plain": [
       "2    3036\n",
       "1    1458\n",
       "3    1446\n",
       "Name: Net Income Score, dtype: int64"
      ]
     },
     "execution_count": 46,
     "metadata": {},
     "output_type": "execute_result"
    }
   ],
   "source": [
    "#Quick check on distribution of bronze, silver and gold\n",
    "mainFile2['Net Income Score'].value_counts()"
   ]
  },
  {
   "cell_type": "code",
   "execution_count": 47,
   "metadata": {},
   "outputs": [
    {
     "data": {
      "text/plain": [
       "6211"
      ]
     },
     "execution_count": 47,
     "metadata": {},
     "output_type": "execute_result"
    }
   ],
   "source": [
    "#Quick Check\n",
    "mainFile2['Provider CCN'].count()"
   ]
  },
  {
   "cell_type": "code",
   "execution_count": 48,
   "metadata": {},
   "outputs": [],
   "source": [
    "#mainFile2.to_csv(\"main2_2016.csv\", index=False, header=True)"
   ]
  },
  {
   "cell_type": "code",
   "execution_count": null,
   "metadata": {},
   "outputs": [],
   "source": []
  },
  {
   "cell_type": "code",
   "execution_count": 49,
   "metadata": {},
   "outputs": [],
   "source": [
    "# ..... File targeting"
   ]
  },
  {
   "cell_type": "code",
   "execution_count": 50,
   "metadata": {},
   "outputs": [],
   "source": [
    "mainFile3 = mainFile2\n",
    "#mainFile3['Provider CCN'].count()"
   ]
  },
  {
   "cell_type": "code",
   "execution_count": 51,
   "metadata": {},
   "outputs": [],
   "source": [
    "#Removes invalid row\n",
    "mainFile3 = mainFile3.loc[mainFile3['Hospital Name'] != '20994']"
   ]
  },
  {
   "cell_type": "code",
   "execution_count": 52,
   "metadata": {},
   "outputs": [],
   "source": [
    "#Targets dataset on Colorad0\n",
    "#mainFile3 = mainFile3.loc[df['State Code'] == 'CO']"
   ]
  },
  {
   "cell_type": "code",
   "execution_count": 53,
   "metadata": {},
   "outputs": [],
   "source": [
    "#Removes state\n",
    "mainFile3 = mainFile3.loc[mainFile3['State Code'] != 'PR']"
   ]
  },
  {
   "cell_type": "code",
   "execution_count": 54,
   "metadata": {},
   "outputs": [],
   "source": [
    "#Removes state\n",
    "mainFile3 = mainFile3.loc[mainFile3['State Code'] != 'GU']"
   ]
  },
  {
   "cell_type": "code",
   "execution_count": 55,
   "metadata": {},
   "outputs": [],
   "source": [
    "#Removes state\n",
    "mainFile3 = mainFile3.loc[mainFile3['State Code'] != 'VI']"
   ]
  },
  {
   "cell_type": "code",
   "execution_count": 56,
   "metadata": {},
   "outputs": [],
   "source": [
    "#Removes state\n",
    "mainFile3 = mainFile3.loc[mainFile3['State Code'] != 'MP']"
   ]
  },
  {
   "cell_type": "code",
   "execution_count": 57,
   "metadata": {},
   "outputs": [],
   "source": [
    "#Removes state\n",
    "mainFile3 = mainFile3.loc[mainFile3['State Code'] != 'HI']"
   ]
  },
  {
   "cell_type": "code",
   "execution_count": 58,
   "metadata": {},
   "outputs": [],
   "source": [
    "#Removes state\n",
    "mainFile3 = mainFile3.loc[mainFile3['State Code'] != 'AK']"
   ]
  },
  {
   "cell_type": "code",
   "execution_count": 59,
   "metadata": {},
   "outputs": [
    {
     "data": {
      "text/plain": [
       "6094"
      ]
     },
     "execution_count": 59,
     "metadata": {},
     "output_type": "execute_result"
    }
   ],
   "source": [
    "#Quick Check ... Lose 117 to state code reduction\n",
    "mainFile3['Provider CCN'].count()"
   ]
  },
  {
   "cell_type": "code",
   "execution_count": 60,
   "metadata": {},
   "outputs": [],
   "source": [
    "#Remove hospitals that did not report revenue (Lose 273 to missing or unreported revenue events)\n",
    "mainFile3 = mainFile3.loc[mainFile3['Net Patient Revenue'] >= 0.1]"
   ]
  },
  {
   "cell_type": "code",
   "execution_count": 61,
   "metadata": {},
   "outputs": [
    {
     "data": {
      "text/plain": [
       "5839"
      ]
     },
     "execution_count": 61,
     "metadata": {},
     "output_type": "execute_result"
    }
   ],
   "source": [
    "#Quick Check\n",
    "mainFile3['Provider CCN'].count()"
   ]
  },
  {
   "cell_type": "code",
   "execution_count": 62,
   "metadata": {},
   "outputs": [],
   "source": [
    "#Remove hospitals that discharged less than 15 patients (Lose 49 by placing a 15 patient minimum for study eligibility)\n",
    "mainFile3 = mainFile3.loc[mainFile3['Total Discharges (V + XVIII + XIX + Unknown)'] >= 15]"
   ]
  },
  {
   "cell_type": "code",
   "execution_count": 63,
   "metadata": {},
   "outputs": [
    {
     "data": {
      "text/plain": [
       "5792"
      ]
     },
     "execution_count": 63,
     "metadata": {},
     "output_type": "execute_result"
    }
   ],
   "source": [
    "#Quick Check\n",
    "mainFile3['Provider CCN'].count()"
   ]
  },
  {
   "cell_type": "code",
   "execution_count": 64,
   "metadata": {},
   "outputs": [],
   "source": [
    "#Remove hospitals with less than 10 employees on payroll (Lose 23 by placing a 10 employee minimum for study eligibility)\n",
    "mainFile3 = mainFile3.loc[mainFile3['FTE - Employees on Payroll'] >= 10]"
   ]
  },
  {
   "cell_type": "code",
   "execution_count": 65,
   "metadata": {},
   "outputs": [
    {
     "data": {
      "text/plain": [
       "5758"
      ]
     },
     "execution_count": 65,
     "metadata": {},
     "output_type": "execute_result"
    }
   ],
   "source": [
    "#Quick Check\n",
    "mainFile3['Provider CCN'].count()"
   ]
  },
  {
   "cell_type": "code",
   "execution_count": 66,
   "metadata": {},
   "outputs": [],
   "source": [
    "#Targets dataset on certificate of need states\n",
    "#mainFile3 = mainFile3.loc[mainFile2['CON'] == 1]"
   ]
  },
  {
   "cell_type": "code",
   "execution_count": 67,
   "metadata": {},
   "outputs": [],
   "source": [
    "#Remove net income outliers\n",
    "#mainFile3 = mainFile3.loc[mainFile2['Net Income %'] <= .3304]"
   ]
  },
  {
   "cell_type": "code",
   "execution_count": 68,
   "metadata": {},
   "outputs": [],
   "source": [
    "#Remove net income outliers\n",
    "#mainFile3 = mainFile3.loc[mainFile2['Net Income %'] >= -.2473]"
   ]
  },
  {
   "cell_type": "code",
   "execution_count": 69,
   "metadata": {},
   "outputs": [],
   "source": [
    "#Remove Discharges Per Bed outliers\n",
    "#mainFile3 = mainFile3.loc[mainFile2['Rev Per Discharge'] <= 90000]"
   ]
  },
  {
   "cell_type": "code",
   "execution_count": 70,
   "metadata": {},
   "outputs": [],
   "source": [
    "#Remove Rev Per Bed outliers\n",
    "#mainFile3 = mainFile3.loc[mainFile2['Rev Per Bed'] <= 2000000]"
   ]
  },
  {
   "cell_type": "code",
   "execution_count": 71,
   "metadata": {},
   "outputs": [],
   "source": [
    "#Remove Rev Per FTE outliers\n",
    "#mainFile3 = mainFile3.loc[mainFile2['Rev Per FTE'] <= 500000]"
   ]
  },
  {
   "cell_type": "code",
   "execution_count": 72,
   "metadata": {},
   "outputs": [],
   "source": [
    "#Remove Rev Per Discharge outliers\n",
    "#mainFile3 = mainFile3.loc[mainFile2['Rev Per Discharge'] <= 175000]"
   ]
  },
  {
   "cell_type": "code",
   "execution_count": 73,
   "metadata": {},
   "outputs": [],
   "source": [
    "#Targets dataset on STH locations (~56% of eligible continental US locations are STH providers)\n",
    "#mainFile3 = mainFile3.loc[mainFile2['CCN Facility Type'] == 'STH']"
   ]
  },
  {
   "cell_type": "code",
   "execution_count": 74,
   "metadata": {},
   "outputs": [
    {
     "data": {
      "text/plain": [
       "5758"
      ]
     },
     "execution_count": 74,
     "metadata": {},
     "output_type": "execute_result"
    }
   ],
   "source": [
    "#Quick Check\n",
    "mainFile3['Provider CCN'].count()"
   ]
  },
  {
   "cell_type": "code",
   "execution_count": 75,
   "metadata": {},
   "outputs": [],
   "source": [
    "#Quick check on distribution of bronze, silver and gold\n",
    "#mainFile3['Net Income Score'].value_counts()"
   ]
  },
  {
   "cell_type": "code",
   "execution_count": 76,
   "metadata": {},
   "outputs": [
    {
     "data": {
      "text/plain": [
       "5758"
      ]
     },
     "execution_count": 76,
     "metadata": {},
     "output_type": "execute_result"
    }
   ],
   "source": [
    "#Quick Check\n",
    "mainFile3['Provider CCN'].count()"
   ]
  },
  {
   "cell_type": "code",
   "execution_count": 77,
   "metadata": {},
   "outputs": [],
   "source": [
    "#mainFile3.to_csv(\"main3_2017.csv\", index=False, header=True)"
   ]
  },
  {
   "cell_type": "code",
   "execution_count": null,
   "metadata": {},
   "outputs": [],
   "source": []
  },
  {
   "cell_type": "code",
   "execution_count": 78,
   "metadata": {},
   "outputs": [],
   "source": [
    "# ... Target file based on relevant features"
   ]
  },
  {
   "cell_type": "code",
   "execution_count": 79,
   "metadata": {},
   "outputs": [],
   "source": [
    "mainFile4 = mainFile3"
   ]
  },
  {
   "cell_type": "code",
   "execution_count": 80,
   "metadata": {},
   "outputs": [
    {
     "data": {
      "text/html": [
       "<div>\n",
       "<style scoped>\n",
       "    .dataframe tbody tr th:only-of-type {\n",
       "        vertical-align: middle;\n",
       "    }\n",
       "\n",
       "    .dataframe tbody tr th {\n",
       "        vertical-align: top;\n",
       "    }\n",
       "\n",
       "    .dataframe thead th {\n",
       "        text-align: right;\n",
       "    }\n",
       "</style>\n",
       "<table border=\"1\" class=\"dataframe\">\n",
       "  <thead>\n",
       "    <tr style=\"text-align: right;\">\n",
       "      <th></th>\n",
       "      <th>Provider CCN</th>\n",
       "      <th>Hospital Name</th>\n",
       "      <th>Street Address</th>\n",
       "      <th>City</th>\n",
       "      <th>State Code</th>\n",
       "      <th>Zip Code</th>\n",
       "      <th>lat</th>\n",
       "      <th>lng</th>\n",
       "      <th>Rural Versus Urban</th>\n",
       "      <th>CCN Facility Type</th>\n",
       "      <th>...</th>\n",
       "      <th>Discharges Per Bed</th>\n",
       "      <th>Discharges Per Bed Days</th>\n",
       "      <th>Discharge/FTE</th>\n",
       "      <th>Net Income %</th>\n",
       "      <th>Net Income Score</th>\n",
       "      <th>Labor %</th>\n",
       "      <th>Overhead %</th>\n",
       "      <th>Depreciation %</th>\n",
       "      <th>LbrExp/FTE</th>\n",
       "      <th>Overhead Exp Per Bed</th>\n",
       "    </tr>\n",
       "  </thead>\n",
       "  <tbody>\n",
       "    <tr>\n",
       "      <th>0</th>\n",
       "      <td>310050</td>\n",
       "      <td>SAINT CLARES HOSPITAL- DENVILLE</td>\n",
       "      <td>25 POCONO ROAD</td>\n",
       "      <td>DENVILLE</td>\n",
       "      <td>NJ</td>\n",
       "      <td>07834</td>\n",
       "      <td>40.894920</td>\n",
       "      <td>-74.465444</td>\n",
       "      <td>U</td>\n",
       "      <td>STH</td>\n",
       "      <td>...</td>\n",
       "      <td>12.495385</td>\n",
       "      <td>0.135819</td>\n",
       "      <td>12.495385</td>\n",
       "      <td>0.105576</td>\n",
       "      <td>2</td>\n",
       "      <td>0.436872</td>\n",
       "      <td>0.541184</td>\n",
       "      <td>0.034317</td>\n",
       "      <td>19215.838152</td>\n",
       "      <td>132486.553846</td>\n",
       "    </tr>\n",
       "    <tr>\n",
       "      <th>2</th>\n",
       "      <td>340119</td>\n",
       "      <td>STANLY REGIONAL MEDICAL CENTER</td>\n",
       "      <td>301 YADKIN STREET</td>\n",
       "      <td>ALBEMARLE</td>\n",
       "      <td>NC</td>\n",
       "      <td>28001</td>\n",
       "      <td>35.364497</td>\n",
       "      <td>-80.195004</td>\n",
       "      <td>U</td>\n",
       "      <td>STH</td>\n",
       "      <td>...</td>\n",
       "      <td>6.463918</td>\n",
       "      <td>0.107732</td>\n",
       "      <td>6.463918</td>\n",
       "      <td>-0.103473</td>\n",
       "      <td>3</td>\n",
       "      <td>0.594935</td>\n",
       "      <td>0.708396</td>\n",
       "      <td>0.107413</td>\n",
       "      <td>31006.724429</td>\n",
       "      <td>90054.536082</td>\n",
       "    </tr>\n",
       "  </tbody>\n",
       "</table>\n",
       "<p>2 rows × 41 columns</p>\n",
       "</div>"
      ],
      "text/plain": [
       "   Provider CCN                    Hospital Name     Street Address  \\\n",
       "0        310050  SAINT CLARES HOSPITAL- DENVILLE     25 POCONO ROAD   \n",
       "2        340119   STANLY REGIONAL MEDICAL CENTER  301 YADKIN STREET   \n",
       "\n",
       "        City State Code Zip Code        lat        lng Rural Versus Urban  \\\n",
       "0   DENVILLE         NJ    07834  40.894920 -74.465444                  U   \n",
       "2  ALBEMARLE         NC    28001  35.364497 -80.195004                  U   \n",
       "\n",
       "  CCN Facility Type  ... Discharges Per Bed Discharges Per Bed Days  \\\n",
       "0               STH  ...          12.495385                0.135819   \n",
       "2               STH  ...           6.463918                0.107732   \n",
       "\n",
       "   Discharge/FTE  Net Income %  Net Income Score   Labor %  Overhead %  \\\n",
       "0      12.495385      0.105576                 2  0.436872    0.541184   \n",
       "2       6.463918     -0.103473                 3  0.594935    0.708396   \n",
       "\n",
       "   Depreciation %    LbrExp/FTE  Overhead Exp Per Bed  \n",
       "0        0.034317  19215.838152         132486.553846  \n",
       "2        0.107413  31006.724429          90054.536082  \n",
       "\n",
       "[2 rows x 41 columns]"
      ]
     },
     "execution_count": 80,
     "metadata": {},
     "output_type": "execute_result"
    }
   ],
   "source": [
    "#Targeting the dataset on metrics important to Kent\n",
    "mainFile4 = mainFile4[['Provider CCN','Hospital Name','Street Address','City','State Code','Zip Code', 'lat','lng','Rural Versus Urban', 'CCN Facility Type', 'Fiscal Year Begin Date', 'Fiscal Year End Date', 'FTE - Employees on Payroll', 'Number of Beds', 'Total Bed Days Available', 'Total Discharges (V + XVIII + XIX + Unknown)', 'Net Patient Revenue', 'Net Income', 'Wage-Related Costs (Core)', 'Total Salaries (adjusted)', 'Contract Labor', 'Rev Per FTE', 'CON','Urban','Inpatient %','Outpatient %','Charity %','Uncompensated %','Rev/Discharge','Rev Per Bed','Rev Per Bed Days', 'Discharges Per Bed','Discharges Per Bed Days','Discharge/FTE','Net Income %', 'Net Income Score', 'Labor %', 'Overhead %', 'Depreciation %', 'LbrExp/FTE', 'Overhead Exp Per Bed']]\n",
    "mainFile4.head(2)\n"
   ]
  },
  {
   "cell_type": "code",
   "execution_count": 81,
   "metadata": {},
   "outputs": [
    {
     "data": {
      "text/plain": [
       "Provider CCN                                    5758\n",
       "Hospital Name                                   5758\n",
       "Street Address                                  5756\n",
       "City                                            5758\n",
       "State Code                                      5758\n",
       "Zip Code                                        5758\n",
       "lat                                             5676\n",
       "lng                                             5676\n",
       "Rural Versus Urban                              5758\n",
       "CCN Facility Type                               5758\n",
       "Fiscal Year Begin Date                          5758\n",
       "Fiscal Year End Date                            5758\n",
       "FTE - Employees on Payroll                      5758\n",
       "Number of Beds                                  5757\n",
       "Total Bed Days Available                        5758\n",
       "Total Discharges (V + XVIII + XIX + Unknown)    5758\n",
       "Net Patient Revenue                             5758\n",
       "Net Income                                      5751\n",
       "Wage-Related Costs (Core)                       3570\n",
       "Total Salaries (adjusted)                       3834\n",
       "Contract Labor                                  3160\n",
       "Rev Per FTE                                     5758\n",
       "CON                                             5758\n",
       "Urban                                           5758\n",
       "Inpatient %                                     5758\n",
       "Outpatient %                                    5224\n",
       "Charity %                                       4248\n",
       "Uncompensated %                                 4248\n",
       "Rev/Discharge                                   5758\n",
       "Rev Per Bed                                     5757\n",
       "Rev Per Bed Days                                5758\n",
       "Discharges Per Bed                              5757\n",
       "Discharges Per Bed Days                         5758\n",
       "Discharge/FTE                                   5757\n",
       "Net Income %                                    5751\n",
       "Net Income Score                                5750\n",
       "Labor %                                         3570\n",
       "Overhead %                                      5758\n",
       "Depreciation %                                  5713\n",
       "LbrExp/FTE                                      3570\n",
       "Overhead Exp Per Bed                            5757\n",
       "dtype: int64"
      ]
     },
     "execution_count": 81,
     "metadata": {},
     "output_type": "execute_result"
    }
   ],
   "source": [
    "# Identify incomplete rows\n",
    "mainFile4.count()"
   ]
  },
  {
   "cell_type": "code",
   "execution_count": 82,
   "metadata": {},
   "outputs": [],
   "source": [
    "mainFile4 = mainFile4.dropna(how='any')"
   ]
  },
  {
   "cell_type": "code",
   "execution_count": 83,
   "metadata": {},
   "outputs": [
    {
     "data": {
      "text/plain": [
       "Provider CCN                                    2758\n",
       "Hospital Name                                   2758\n",
       "Street Address                                  2758\n",
       "City                                            2758\n",
       "State Code                                      2758\n",
       "Zip Code                                        2758\n",
       "lat                                             2758\n",
       "lng                                             2758\n",
       "Rural Versus Urban                              2758\n",
       "CCN Facility Type                               2758\n",
       "Fiscal Year Begin Date                          2758\n",
       "Fiscal Year End Date                            2758\n",
       "FTE - Employees on Payroll                      2758\n",
       "Number of Beds                                  2758\n",
       "Total Bed Days Available                        2758\n",
       "Total Discharges (V + XVIII + XIX + Unknown)    2758\n",
       "Net Patient Revenue                             2758\n",
       "Net Income                                      2758\n",
       "Wage-Related Costs (Core)                       2758\n",
       "Total Salaries (adjusted)                       2758\n",
       "Contract Labor                                  2758\n",
       "Rev Per FTE                                     2758\n",
       "CON                                             2758\n",
       "Urban                                           2758\n",
       "Inpatient %                                     2758\n",
       "Outpatient %                                    2758\n",
       "Charity %                                       2758\n",
       "Uncompensated %                                 2758\n",
       "Rev/Discharge                                   2758\n",
       "Rev Per Bed                                     2758\n",
       "Rev Per Bed Days                                2758\n",
       "Discharges Per Bed                              2758\n",
       "Discharges Per Bed Days                         2758\n",
       "Discharge/FTE                                   2758\n",
       "Net Income %                                    2758\n",
       "Net Income Score                                2758\n",
       "Labor %                                         2758\n",
       "Overhead %                                      2758\n",
       "Depreciation %                                  2758\n",
       "LbrExp/FTE                                      2758\n",
       "Overhead Exp Per Bed                            2758\n",
       "dtype: int64"
      ]
     },
     "execution_count": 83,
     "metadata": {},
     "output_type": "execute_result"
    }
   ],
   "source": [
    "# Identify incomplete rows\n",
    "mainFile4.count()"
   ]
  },
  {
   "cell_type": "code",
   "execution_count": 84,
   "metadata": {},
   "outputs": [],
   "source": [
    "#Output targeted file\n",
    "mainFile4.to_csv(\"main4_2016.csv\", index=False, header=True)"
   ]
  },
  {
   "cell_type": "code",
   "execution_count": null,
   "metadata": {},
   "outputs": [],
   "source": []
  },
  {
   "cell_type": "code",
   "execution_count": null,
   "metadata": {},
   "outputs": [],
   "source": []
  },
  {
   "cell_type": "code",
   "execution_count": 108,
   "metadata": {},
   "outputs": [],
   "source": [
    "# ... Net Income to feature review"
   ]
  },
  {
   "cell_type": "code",
   "execution_count": 109,
   "metadata": {},
   "outputs": [],
   "source": [
    "targetFile5 = mainFile4"
   ]
  },
  {
   "cell_type": "code",
   "execution_count": 110,
   "metadata": {},
   "outputs": [
    {
     "name": "stdout",
     "output_type": "stream",
     "text": [
      "The lower quartile of profit percent is: 32.25390625\n",
      "The upper quartile of profit percent is: 54.6682518115942\n",
      "The interquartile range of profit percent is: 22.414345561594203\n",
      "The the median of profit percent is: 45.35625 \n",
      "Values below -1.3676120923913047 could be outliers.\n",
      "Values above 88.2897701539855 could be outliers.\n"
     ]
    }
   ],
   "source": [
    "#Outlier Review\n",
    "chartdata = targetFile5[\"Discharges Per Bed\"]\n",
    "quartiles = chartdata.quantile([.25,.5,.75])\n",
    "lowerq = quartiles[0.25]\n",
    "upperq = quartiles[0.75]\n",
    "iqr = upperq-lowerq\n",
    "\n",
    "print(f\"The lower quartile of profit percent is: {lowerq}\")\n",
    "print(f\"The upper quartile of profit percent is: {upperq}\")\n",
    "print(f\"The interquartile range of profit percent is: {iqr}\")\n",
    "print(f\"The the median of profit percent is: {quartiles[0.5]} \")\n",
    "\n",
    "lower_bound = lowerq - (1.5*iqr)\n",
    "upper_bound = upperq + (1.5*iqr)\n",
    "print(f\"Values below {lower_bound} could be outliers.\")\n",
    "print(f\"Values above {upper_bound} could be outliers.\")"
   ]
  },
  {
   "cell_type": "code",
   "execution_count": 111,
   "metadata": {},
   "outputs": [],
   "source": [
    "#NI v. discharges per bed\n",
    "# x_axis = targetFile5[\"Discharges Per Bed\"]\n",
    "# y_axis = targetFile5[\"Net Income %\"]\n",
    "# plt.title(\"Net Income % v. Discharges Per Bed\")\n",
    "# plt.xlabel(\"Discharges Per Bed\")\n",
    "# plt.ylabel(\"Net Income %\")\n",
    "# plt.scatter(x_axis, y_axis, marker=\"o\", color=\"blue\")\n",
    "# (slope, intercept, rvalue, pvalue, stderr) = linregress(x_axis, y_axis)\n",
    "# regress_values = x_axis * slope + intercept\n",
    "# line_eq = \"y = \" + str(round(slope,2)) + \"x + \" + str(round(intercept,2))\n",
    "# plt.plot(x_axis,regress_values,\"r-\")\n",
    "# plt.annotate(line_eq,(0,50),fontsize=15,color=\"red\")\n",
    "# #plt.savefig(\"3bchart_days2unemployment_k.png\")\n",
    "# plt.show()\n",
    "# print(f\"The correlation coefficient is {round(st.pearsonr(x_axis,y_axis)[0],2)}\")\n",
    "# print(f\"The line equation is as follows:  {line_eq}\")"
   ]
  },
  {
   "cell_type": "code",
   "execution_count": 112,
   "metadata": {},
   "outputs": [],
   "source": [
    "#NI v. discharges per bed days\n",
    "# x_axis = targetFile5[\"Discharges Per Bed Days\"]\n",
    "# y_axis = targetFile5[\"Net Income %\"]\n",
    "# plt.title(\"Net Income % v. Discharges Per Bed Days\")\n",
    "# plt.xlabel(\"Discharges Per Bed Days\")\n",
    "# plt.ylabel(\"Net Income %\")\n",
    "# plt.scatter(x_axis, y_axis, marker=\"o\", color=\"blue\")\n",
    "# #ax.set_yscale('log')\n",
    "# (slope, intercept, rvalue, pvalue, stderr) = linregress(x_axis, y_axis)\n",
    "# regress_values = x_axis * slope + intercept\n",
    "# line_eq = \"y = \" + str(round(slope,2)) + \"x + \" + str(round(intercept,2))\n",
    "# plt.plot(x_axis,regress_values,\"r-\")\n",
    "# plt.annotate(line_eq,(0,50),fontsize=15,color=\"red\")\n",
    "# #plt.savefig(\"3bchart_days2unemployment_k.png\")\n",
    "# plt.show()\n",
    "# print(f\"The correlation coefficient is {round(st.pearsonr(x_axis,y_axis)[0],2)}\")\n",
    "# print(f\"The line equation is as follows:  {line_eq}\")"
   ]
  },
  {
   "cell_type": "code",
   "execution_count": 113,
   "metadata": {},
   "outputs": [
    {
     "name": "stdout",
     "output_type": "stream",
     "text": [
      "The lower quartile of profit percent is: 784693.5807268227\n",
      "The upper quartile of profit percent is: 1527917.610272826\n",
      "The interquartile range of profit percent is: 743224.0295460032\n",
      "The the median of profit percent is: 1121975.4186046512 \n",
      "Values below -330142.46359218203 could be outliers.\n",
      "Values above 2642753.6545918304 could be outliers.\n"
     ]
    }
   ],
   "source": [
    "#Outlier Review\n",
    "chartdata = targetFile5[\"Rev Per Bed\"]\n",
    "quartiles = chartdata.quantile([.25,.5,.75])\n",
    "lowerq = quartiles[0.25]\n",
    "upperq = quartiles[0.75]\n",
    "iqr = upperq-lowerq\n",
    "\n",
    "print(f\"The lower quartile of profit percent is: {lowerq}\")\n",
    "print(f\"The upper quartile of profit percent is: {upperq}\")\n",
    "print(f\"The interquartile range of profit percent is: {iqr}\")\n",
    "print(f\"The the median of profit percent is: {quartiles[0.5]} \")\n",
    "\n",
    "lower_bound = lowerq - (1.5*iqr)\n",
    "upper_bound = upperq + (1.5*iqr)\n",
    "print(f\"Values below {lower_bound} could be outliers.\")\n",
    "print(f\"Values above {upper_bound} could be outliers.\")"
   ]
  },
  {
   "cell_type": "code",
   "execution_count": 114,
   "metadata": {},
   "outputs": [],
   "source": [
    "#NI v. Revenue Per Bed\n",
    "# x_axis = targetFile5[\"Rev Per Bed\"]\n",
    "# y_axis = targetFile5[\"Net Income %\"]\n",
    "# plt.title(\"Net Income % v. Rev Per Bed\")\n",
    "# plt.xlabel(\"Rev Per Bed\")\n",
    "# plt.ylabel(\"Net Income %\")\n",
    "# plt.scatter(x_axis, y_axis, marker=\"o\", color=\"blue\")\n",
    "# (slope, intercept, rvalue, pvalue, stderr) = linregress(x_axis, y_axis)\n",
    "# regress_values = x_axis * slope + intercept\n",
    "# line_eq = \"y = \" + str(round(slope,2)) + \"x + \" + str(round(intercept,2))\n",
    "# plt.plot(x_axis,regress_values,\"r-\")\n",
    "# plt.annotate(line_eq,(0,50),fontsize=15,color=\"red\")\n",
    "# #plt.savefig(\"3bchart_days2unemployment_k.png\")\n",
    "# plt.show()\n",
    "# print(f\"The correlation coefficient is {round(st.pearsonr(x_axis,y_axis)[0],2)}\")\n",
    "# print(f\"The line equation is as follows:  {line_eq}\")"
   ]
  },
  {
   "cell_type": "code",
   "execution_count": 117,
   "metadata": {},
   "outputs": [
    {
     "ename": "KeyError",
     "evalue": "'Rev/FTE'",
     "output_type": "error",
     "traceback": [
      "\u001b[1;31m---------------------------------------------------------------------------\u001b[0m",
      "\u001b[1;31mKeyError\u001b[0m                                  Traceback (most recent call last)",
      "\u001b[1;32m~\\anaconda3\\envs\\PythonData\\lib\\site-packages\\pandas\\core\\indexes\\base.py\u001b[0m in \u001b[0;36mget_loc\u001b[1;34m(self, key, method, tolerance)\u001b[0m\n\u001b[0;32m   2890\u001b[0m             \u001b[1;32mtry\u001b[0m\u001b[1;33m:\u001b[0m\u001b[1;33m\u001b[0m\u001b[1;33m\u001b[0m\u001b[0m\n\u001b[1;32m-> 2891\u001b[1;33m                 \u001b[1;32mreturn\u001b[0m \u001b[0mself\u001b[0m\u001b[1;33m.\u001b[0m\u001b[0m_engine\u001b[0m\u001b[1;33m.\u001b[0m\u001b[0mget_loc\u001b[0m\u001b[1;33m(\u001b[0m\u001b[0mcasted_key\u001b[0m\u001b[1;33m)\u001b[0m\u001b[1;33m\u001b[0m\u001b[1;33m\u001b[0m\u001b[0m\n\u001b[0m\u001b[0;32m   2892\u001b[0m             \u001b[1;32mexcept\u001b[0m \u001b[0mKeyError\u001b[0m \u001b[1;32mas\u001b[0m \u001b[0merr\u001b[0m\u001b[1;33m:\u001b[0m\u001b[1;33m\u001b[0m\u001b[1;33m\u001b[0m\u001b[0m\n",
      "\u001b[1;32mpandas\\_libs\\index.pyx\u001b[0m in \u001b[0;36mpandas._libs.index.IndexEngine.get_loc\u001b[1;34m()\u001b[0m\n",
      "\u001b[1;32mpandas\\_libs\\index.pyx\u001b[0m in \u001b[0;36mpandas._libs.index.IndexEngine.get_loc\u001b[1;34m()\u001b[0m\n",
      "\u001b[1;32mpandas\\_libs\\hashtable_class_helper.pxi\u001b[0m in \u001b[0;36mpandas._libs.hashtable.PyObjectHashTable.get_item\u001b[1;34m()\u001b[0m\n",
      "\u001b[1;32mpandas\\_libs\\hashtable_class_helper.pxi\u001b[0m in \u001b[0;36mpandas._libs.hashtable.PyObjectHashTable.get_item\u001b[1;34m()\u001b[0m\n",
      "\u001b[1;31mKeyError\u001b[0m: 'Rev/FTE'",
      "\nThe above exception was the direct cause of the following exception:\n",
      "\u001b[1;31mKeyError\u001b[0m                                  Traceback (most recent call last)",
      "\u001b[1;32m<ipython-input-117-49228e7956d9>\u001b[0m in \u001b[0;36m<module>\u001b[1;34m\u001b[0m\n\u001b[0;32m      1\u001b[0m \u001b[1;31m#Outlier Review\u001b[0m\u001b[1;33m\u001b[0m\u001b[1;33m\u001b[0m\u001b[1;33m\u001b[0m\u001b[0m\n\u001b[1;32m----> 2\u001b[1;33m \u001b[0mchartdata\u001b[0m \u001b[1;33m=\u001b[0m \u001b[0mtargetFile5\u001b[0m\u001b[1;33m[\u001b[0m\u001b[1;34m\"Rev/FTE\"\u001b[0m\u001b[1;33m]\u001b[0m\u001b[1;33m\u001b[0m\u001b[1;33m\u001b[0m\u001b[0m\n\u001b[0m\u001b[0;32m      3\u001b[0m \u001b[0mquartiles\u001b[0m \u001b[1;33m=\u001b[0m \u001b[0mchartdata\u001b[0m\u001b[1;33m.\u001b[0m\u001b[0mquantile\u001b[0m\u001b[1;33m(\u001b[0m\u001b[1;33m[\u001b[0m\u001b[1;36m.25\u001b[0m\u001b[1;33m,\u001b[0m\u001b[1;36m.5\u001b[0m\u001b[1;33m,\u001b[0m\u001b[1;36m.75\u001b[0m\u001b[1;33m]\u001b[0m\u001b[1;33m)\u001b[0m\u001b[1;33m\u001b[0m\u001b[1;33m\u001b[0m\u001b[0m\n\u001b[0;32m      4\u001b[0m \u001b[0mlowerq\u001b[0m \u001b[1;33m=\u001b[0m \u001b[0mquartiles\u001b[0m\u001b[1;33m[\u001b[0m\u001b[1;36m0.25\u001b[0m\u001b[1;33m]\u001b[0m\u001b[1;33m\u001b[0m\u001b[1;33m\u001b[0m\u001b[0m\n\u001b[0;32m      5\u001b[0m \u001b[0mupperq\u001b[0m \u001b[1;33m=\u001b[0m \u001b[0mquartiles\u001b[0m\u001b[1;33m[\u001b[0m\u001b[1;36m0.75\u001b[0m\u001b[1;33m]\u001b[0m\u001b[1;33m\u001b[0m\u001b[1;33m\u001b[0m\u001b[0m\n",
      "\u001b[1;32m~\\anaconda3\\envs\\PythonData\\lib\\site-packages\\pandas\\core\\frame.py\u001b[0m in \u001b[0;36m__getitem__\u001b[1;34m(self, key)\u001b[0m\n\u001b[0;32m   2900\u001b[0m             \u001b[1;32mif\u001b[0m \u001b[0mself\u001b[0m\u001b[1;33m.\u001b[0m\u001b[0mcolumns\u001b[0m\u001b[1;33m.\u001b[0m\u001b[0mnlevels\u001b[0m \u001b[1;33m>\u001b[0m \u001b[1;36m1\u001b[0m\u001b[1;33m:\u001b[0m\u001b[1;33m\u001b[0m\u001b[1;33m\u001b[0m\u001b[0m\n\u001b[0;32m   2901\u001b[0m                 \u001b[1;32mreturn\u001b[0m \u001b[0mself\u001b[0m\u001b[1;33m.\u001b[0m\u001b[0m_getitem_multilevel\u001b[0m\u001b[1;33m(\u001b[0m\u001b[0mkey\u001b[0m\u001b[1;33m)\u001b[0m\u001b[1;33m\u001b[0m\u001b[1;33m\u001b[0m\u001b[0m\n\u001b[1;32m-> 2902\u001b[1;33m             \u001b[0mindexer\u001b[0m \u001b[1;33m=\u001b[0m \u001b[0mself\u001b[0m\u001b[1;33m.\u001b[0m\u001b[0mcolumns\u001b[0m\u001b[1;33m.\u001b[0m\u001b[0mget_loc\u001b[0m\u001b[1;33m(\u001b[0m\u001b[0mkey\u001b[0m\u001b[1;33m)\u001b[0m\u001b[1;33m\u001b[0m\u001b[1;33m\u001b[0m\u001b[0m\n\u001b[0m\u001b[0;32m   2903\u001b[0m             \u001b[1;32mif\u001b[0m \u001b[0mis_integer\u001b[0m\u001b[1;33m(\u001b[0m\u001b[0mindexer\u001b[0m\u001b[1;33m)\u001b[0m\u001b[1;33m:\u001b[0m\u001b[1;33m\u001b[0m\u001b[1;33m\u001b[0m\u001b[0m\n\u001b[0;32m   2904\u001b[0m                 \u001b[0mindexer\u001b[0m \u001b[1;33m=\u001b[0m \u001b[1;33m[\u001b[0m\u001b[0mindexer\u001b[0m\u001b[1;33m]\u001b[0m\u001b[1;33m\u001b[0m\u001b[1;33m\u001b[0m\u001b[0m\n",
      "\u001b[1;32m~\\anaconda3\\envs\\PythonData\\lib\\site-packages\\pandas\\core\\indexes\\base.py\u001b[0m in \u001b[0;36mget_loc\u001b[1;34m(self, key, method, tolerance)\u001b[0m\n\u001b[0;32m   2891\u001b[0m                 \u001b[1;32mreturn\u001b[0m \u001b[0mself\u001b[0m\u001b[1;33m.\u001b[0m\u001b[0m_engine\u001b[0m\u001b[1;33m.\u001b[0m\u001b[0mget_loc\u001b[0m\u001b[1;33m(\u001b[0m\u001b[0mcasted_key\u001b[0m\u001b[1;33m)\u001b[0m\u001b[1;33m\u001b[0m\u001b[1;33m\u001b[0m\u001b[0m\n\u001b[0;32m   2892\u001b[0m             \u001b[1;32mexcept\u001b[0m \u001b[0mKeyError\u001b[0m \u001b[1;32mas\u001b[0m \u001b[0merr\u001b[0m\u001b[1;33m:\u001b[0m\u001b[1;33m\u001b[0m\u001b[1;33m\u001b[0m\u001b[0m\n\u001b[1;32m-> 2893\u001b[1;33m                 \u001b[1;32mraise\u001b[0m \u001b[0mKeyError\u001b[0m\u001b[1;33m(\u001b[0m\u001b[0mkey\u001b[0m\u001b[1;33m)\u001b[0m \u001b[1;32mfrom\u001b[0m \u001b[0merr\u001b[0m\u001b[1;33m\u001b[0m\u001b[1;33m\u001b[0m\u001b[0m\n\u001b[0m\u001b[0;32m   2894\u001b[0m \u001b[1;33m\u001b[0m\u001b[0m\n\u001b[0;32m   2895\u001b[0m         \u001b[1;32mif\u001b[0m \u001b[0mtolerance\u001b[0m \u001b[1;32mis\u001b[0m \u001b[1;32mnot\u001b[0m \u001b[1;32mNone\u001b[0m\u001b[1;33m:\u001b[0m\u001b[1;33m\u001b[0m\u001b[1;33m\u001b[0m\u001b[0m\n",
      "\u001b[1;31mKeyError\u001b[0m: 'Rev/FTE'"
     ]
    }
   ],
   "source": [
    "#Outlier Review\n",
    "chartdata = targetFile5[\"Rev/FTE\"]\n",
    "quartiles = chartdata.quantile([.25,.5,.75])\n",
    "lowerq = quartiles[0.25]\n",
    "upperq = quartiles[0.75]\n",
    "iqr = upperq-lowerq\n",
    "\n",
    "print(f\"The lower quartile is: {lowerq}\")\n",
    "print(f\"The upper quartile is: {upperq}\")\n",
    "print(f\"The interquartile range is: {iqr}\")\n",
    "print(f\"The the median is: {quartiles[0.5]} \")\n",
    "\n",
    "lower_bound = lowerq - (1.5*iqr)\n",
    "upper_bound = upperq + (1.5*iqr)\n",
    "print(f\"Values below {lower_bound} could be outliers.\")\n",
    "print(f\"Values above {upper_bound} could be outliers.\")"
   ]
  },
  {
   "cell_type": "code",
   "execution_count": 118,
   "metadata": {},
   "outputs": [],
   "source": [
    "#NI v. Rev Per FTE\n",
    "targetFile6 = targetFile5\n",
    "# targetFile6 = targetFile5.loc[targetFile5['Rev Per FTE'] <= 1000000]\n",
    "# targetFile6 = targetFile6.loc[targetFile5['Net Income %'] <= .35]\n",
    "# targetFile6 = targetFile6.loc[targetFile5['Net Income %'] >= -.25]\n",
    "# x_axis = targetFile6[\"Rev Per FTE\"]\n",
    "# y_axis = targetFile6[\"Net Income %\"]\n",
    "# plt.title(\"Net Income % v. Rev Per FTE\")\n",
    "# plt.xlabel(\"Rev Per FTE\")\n",
    "# plt.ylabel(\"Net Income %\")\n",
    "# plt.scatter(x_axis, y_axis, marker=\"o\", color=\"blue\")\n",
    "# (slope, intercept, rvalue, pvalue, stderr) = linregress(x_axis, y_axis)\n",
    "# regress_values = x_axis * slope + intercept\n",
    "# line_eq = \"y = \" + str(round(slope,2)) + \"x + \" + str(round(intercept,2))\n",
    "# plt.plot(x_axis,regress_values,\"r-\")\n",
    "# plt.annotate(line_eq,(0,50),fontsize=15,color=\"red\")\n",
    "# #plt.savefig(\"3bchart_days2unemployment_k.png\")\n",
    "# plt.show()\n",
    "# print(f\"The correlation coefficient is {round(st.pearsonr(x_axis,y_axis)[0],2)}\")\n",
    "# print(f\"The line equation is as follows:  {line_eq}\")"
   ]
  },
  {
   "cell_type": "code",
   "execution_count": 120,
   "metadata": {},
   "outputs": [
    {
     "name": "stdout",
     "output_type": "stream",
     "text": [
      "The lower quartile of profit percent is: 19891.721485297996\n",
      "The upper quartile of profit percent is: 33663.86064043294\n",
      "The interquartile range of profit percent is: 13772.139155134944\n",
      "The the median of profit percent is: 25105.884304789317 \n",
      "Values below -766.4872474044205 could be outliers.\n",
      "Values above 54322.06937313535 could be outliers.\n"
     ]
    }
   ],
   "source": [
    "#Outlier Review\n",
    "chartdata = targetFile5[\"Rev/Discharge\"]\n",
    "quartiles = chartdata.quantile([.25,.5,.75])\n",
    "lowerq = quartiles[0.25]\n",
    "upperq = quartiles[0.75]\n",
    "iqr = upperq-lowerq\n",
    "\n",
    "print(f\"The lower quartile of profit percent is: {lowerq}\")\n",
    "print(f\"The upper quartile of profit percent is: {upperq}\")\n",
    "print(f\"The interquartile range of profit percent is: {iqr}\")\n",
    "print(f\"The the median of profit percent is: {quartiles[0.5]} \")\n",
    "\n",
    "lower_bound = lowerq - (1.5*iqr)\n",
    "upper_bound = upperq + (1.5*iqr)\n",
    "print(f\"Values below {lower_bound} could be outliers.\")\n",
    "print(f\"Values above {upper_bound} could be outliers.\")"
   ]
  },
  {
   "cell_type": "code",
   "execution_count": 121,
   "metadata": {},
   "outputs": [],
   "source": [
    "#NI v. Rev Per Discharge\n",
    "# x_axis = targetFile5[\"Rev Per Discharge\"]\n",
    "# y_axis = targetFile5[\"Net Income %\"]\n",
    "# plt.title(\"Net Income % v. Rev Per Discharge\")\n",
    "# plt.xlabel(\"Rev Per Discharge\")\n",
    "# plt.ylabel(\"Net Income %\")\n",
    "# plt.scatter(x_axis, y_axis, marker=\"o\", color=\"blue\")\n",
    "# (slope, intercept, rvalue, pvalue, stderr) = linregress(x_axis, y_axis)\n",
    "# regress_values = x_axis * slope + intercept\n",
    "# line_eq = \"y = \" + str(round(slope,2)) + \"x + \" + str(round(intercept,2))\n",
    "# plt.plot(x_axis,regress_values,\"r-\")\n",
    "# plt.annotate(line_eq,(0,50),fontsize=15,color=\"red\")\n",
    "# #plt.savefig(\"3bchart_days2unemployment_k.png\")\n",
    "# plt.show()\n",
    "# print(f\"The correlation coefficient is {round(st.pearsonr(x_axis,y_axis)[0],2)}\")\n",
    "# print(f\"The line equation is as follows:  {line_eq}\")"
   ]
  },
  {
   "cell_type": "code",
   "execution_count": 123,
   "metadata": {},
   "outputs": [
    {
     "ename": "KeyError",
     "evalue": "'LbrExp FTE'",
     "output_type": "error",
     "traceback": [
      "\u001b[1;31m---------------------------------------------------------------------------\u001b[0m",
      "\u001b[1;31mKeyError\u001b[0m                                  Traceback (most recent call last)",
      "\u001b[1;32m~\\anaconda3\\envs\\PythonData\\lib\\site-packages\\pandas\\core\\indexes\\base.py\u001b[0m in \u001b[0;36mget_loc\u001b[1;34m(self, key, method, tolerance)\u001b[0m\n\u001b[0;32m   2890\u001b[0m             \u001b[1;32mtry\u001b[0m\u001b[1;33m:\u001b[0m\u001b[1;33m\u001b[0m\u001b[1;33m\u001b[0m\u001b[0m\n\u001b[1;32m-> 2891\u001b[1;33m                 \u001b[1;32mreturn\u001b[0m \u001b[0mself\u001b[0m\u001b[1;33m.\u001b[0m\u001b[0m_engine\u001b[0m\u001b[1;33m.\u001b[0m\u001b[0mget_loc\u001b[0m\u001b[1;33m(\u001b[0m\u001b[0mcasted_key\u001b[0m\u001b[1;33m)\u001b[0m\u001b[1;33m\u001b[0m\u001b[1;33m\u001b[0m\u001b[0m\n\u001b[0m\u001b[0;32m   2892\u001b[0m             \u001b[1;32mexcept\u001b[0m \u001b[0mKeyError\u001b[0m \u001b[1;32mas\u001b[0m \u001b[0merr\u001b[0m\u001b[1;33m:\u001b[0m\u001b[1;33m\u001b[0m\u001b[1;33m\u001b[0m\u001b[0m\n",
      "\u001b[1;32mpandas\\_libs\\index.pyx\u001b[0m in \u001b[0;36mpandas._libs.index.IndexEngine.get_loc\u001b[1;34m()\u001b[0m\n",
      "\u001b[1;32mpandas\\_libs\\index.pyx\u001b[0m in \u001b[0;36mpandas._libs.index.IndexEngine.get_loc\u001b[1;34m()\u001b[0m\n",
      "\u001b[1;32mpandas\\_libs\\hashtable_class_helper.pxi\u001b[0m in \u001b[0;36mpandas._libs.hashtable.PyObjectHashTable.get_item\u001b[1;34m()\u001b[0m\n",
      "\u001b[1;32mpandas\\_libs\\hashtable_class_helper.pxi\u001b[0m in \u001b[0;36mpandas._libs.hashtable.PyObjectHashTable.get_item\u001b[1;34m()\u001b[0m\n",
      "\u001b[1;31mKeyError\u001b[0m: 'LbrExp FTE'",
      "\nThe above exception was the direct cause of the following exception:\n",
      "\u001b[1;31mKeyError\u001b[0m                                  Traceback (most recent call last)",
      "\u001b[1;32m<ipython-input-123-dc26fec0338d>\u001b[0m in \u001b[0;36m<module>\u001b[1;34m\u001b[0m\n\u001b[0;32m      1\u001b[0m \u001b[1;31m#Outlier Review\u001b[0m\u001b[1;33m\u001b[0m\u001b[1;33m\u001b[0m\u001b[1;33m\u001b[0m\u001b[0m\n\u001b[1;32m----> 2\u001b[1;33m \u001b[0mchartdata\u001b[0m \u001b[1;33m=\u001b[0m \u001b[0mtargetFile5\u001b[0m\u001b[1;33m[\u001b[0m\u001b[1;34m\"LbrExp FTE\"\u001b[0m\u001b[1;33m]\u001b[0m\u001b[1;33m\u001b[0m\u001b[1;33m\u001b[0m\u001b[0m\n\u001b[0m\u001b[0;32m      3\u001b[0m \u001b[0mquartiles\u001b[0m \u001b[1;33m=\u001b[0m \u001b[0mchartdata\u001b[0m\u001b[1;33m.\u001b[0m\u001b[0mquantile\u001b[0m\u001b[1;33m(\u001b[0m\u001b[1;33m[\u001b[0m\u001b[1;36m.25\u001b[0m\u001b[1;33m,\u001b[0m\u001b[1;36m.5\u001b[0m\u001b[1;33m,\u001b[0m\u001b[1;36m.75\u001b[0m\u001b[1;33m]\u001b[0m\u001b[1;33m)\u001b[0m\u001b[1;33m\u001b[0m\u001b[1;33m\u001b[0m\u001b[0m\n\u001b[0;32m      4\u001b[0m \u001b[0mlowerq\u001b[0m \u001b[1;33m=\u001b[0m \u001b[0mquartiles\u001b[0m\u001b[1;33m[\u001b[0m\u001b[1;36m0.25\u001b[0m\u001b[1;33m]\u001b[0m\u001b[1;33m\u001b[0m\u001b[1;33m\u001b[0m\u001b[0m\n\u001b[0;32m      5\u001b[0m \u001b[0mupperq\u001b[0m \u001b[1;33m=\u001b[0m \u001b[0mquartiles\u001b[0m\u001b[1;33m[\u001b[0m\u001b[1;36m0.75\u001b[0m\u001b[1;33m]\u001b[0m\u001b[1;33m\u001b[0m\u001b[1;33m\u001b[0m\u001b[0m\n",
      "\u001b[1;32m~\\anaconda3\\envs\\PythonData\\lib\\site-packages\\pandas\\core\\frame.py\u001b[0m in \u001b[0;36m__getitem__\u001b[1;34m(self, key)\u001b[0m\n\u001b[0;32m   2900\u001b[0m             \u001b[1;32mif\u001b[0m \u001b[0mself\u001b[0m\u001b[1;33m.\u001b[0m\u001b[0mcolumns\u001b[0m\u001b[1;33m.\u001b[0m\u001b[0mnlevels\u001b[0m \u001b[1;33m>\u001b[0m \u001b[1;36m1\u001b[0m\u001b[1;33m:\u001b[0m\u001b[1;33m\u001b[0m\u001b[1;33m\u001b[0m\u001b[0m\n\u001b[0;32m   2901\u001b[0m                 \u001b[1;32mreturn\u001b[0m \u001b[0mself\u001b[0m\u001b[1;33m.\u001b[0m\u001b[0m_getitem_multilevel\u001b[0m\u001b[1;33m(\u001b[0m\u001b[0mkey\u001b[0m\u001b[1;33m)\u001b[0m\u001b[1;33m\u001b[0m\u001b[1;33m\u001b[0m\u001b[0m\n\u001b[1;32m-> 2902\u001b[1;33m             \u001b[0mindexer\u001b[0m \u001b[1;33m=\u001b[0m \u001b[0mself\u001b[0m\u001b[1;33m.\u001b[0m\u001b[0mcolumns\u001b[0m\u001b[1;33m.\u001b[0m\u001b[0mget_loc\u001b[0m\u001b[1;33m(\u001b[0m\u001b[0mkey\u001b[0m\u001b[1;33m)\u001b[0m\u001b[1;33m\u001b[0m\u001b[1;33m\u001b[0m\u001b[0m\n\u001b[0m\u001b[0;32m   2903\u001b[0m             \u001b[1;32mif\u001b[0m \u001b[0mis_integer\u001b[0m\u001b[1;33m(\u001b[0m\u001b[0mindexer\u001b[0m\u001b[1;33m)\u001b[0m\u001b[1;33m:\u001b[0m\u001b[1;33m\u001b[0m\u001b[1;33m\u001b[0m\u001b[0m\n\u001b[0;32m   2904\u001b[0m                 \u001b[0mindexer\u001b[0m \u001b[1;33m=\u001b[0m \u001b[1;33m[\u001b[0m\u001b[0mindexer\u001b[0m\u001b[1;33m]\u001b[0m\u001b[1;33m\u001b[0m\u001b[1;33m\u001b[0m\u001b[0m\n",
      "\u001b[1;32m~\\anaconda3\\envs\\PythonData\\lib\\site-packages\\pandas\\core\\indexes\\base.py\u001b[0m in \u001b[0;36mget_loc\u001b[1;34m(self, key, method, tolerance)\u001b[0m\n\u001b[0;32m   2891\u001b[0m                 \u001b[1;32mreturn\u001b[0m \u001b[0mself\u001b[0m\u001b[1;33m.\u001b[0m\u001b[0m_engine\u001b[0m\u001b[1;33m.\u001b[0m\u001b[0mget_loc\u001b[0m\u001b[1;33m(\u001b[0m\u001b[0mcasted_key\u001b[0m\u001b[1;33m)\u001b[0m\u001b[1;33m\u001b[0m\u001b[1;33m\u001b[0m\u001b[0m\n\u001b[0;32m   2892\u001b[0m             \u001b[1;32mexcept\u001b[0m \u001b[0mKeyError\u001b[0m \u001b[1;32mas\u001b[0m \u001b[0merr\u001b[0m\u001b[1;33m:\u001b[0m\u001b[1;33m\u001b[0m\u001b[1;33m\u001b[0m\u001b[0m\n\u001b[1;32m-> 2893\u001b[1;33m                 \u001b[1;32mraise\u001b[0m \u001b[0mKeyError\u001b[0m\u001b[1;33m(\u001b[0m\u001b[0mkey\u001b[0m\u001b[1;33m)\u001b[0m \u001b[1;32mfrom\u001b[0m \u001b[0merr\u001b[0m\u001b[1;33m\u001b[0m\u001b[1;33m\u001b[0m\u001b[0m\n\u001b[0m\u001b[0;32m   2894\u001b[0m \u001b[1;33m\u001b[0m\u001b[0m\n\u001b[0;32m   2895\u001b[0m         \u001b[1;32mif\u001b[0m \u001b[0mtolerance\u001b[0m \u001b[1;32mis\u001b[0m \u001b[1;32mnot\u001b[0m \u001b[1;32mNone\u001b[0m\u001b[1;33m:\u001b[0m\u001b[1;33m\u001b[0m\u001b[1;33m\u001b[0m\u001b[0m\n",
      "\u001b[1;31mKeyError\u001b[0m: 'LbrExp FTE'"
     ]
    }
   ],
   "source": [
    "#Outlier Review\n",
    "chartdata = targetFile5[\"LbrExp FTE\"]\n",
    "quartiles = chartdata.quantile([.25,.5,.75])\n",
    "lowerq = quartiles[0.25]\n",
    "upperq = quartiles[0.75]\n",
    "iqr = upperq-lowerq\n",
    "\n",
    "print(f\"The lower quartile is: {lowerq}\")\n",
    "print(f\"The upper quartile is: {upperq}\")\n",
    "print(f\"The interquartile range is: {iqr}\")\n",
    "print(f\"The the median of is: {quartiles[0.5]} \")\n",
    "\n",
    "lower_bound = lowerq - (1.5*iqr)\n",
    "upper_bound = upperq + (1.5*iqr)\n",
    "print(f\"Values below {lower_bound} could be outliers.\")\n",
    "print(f\"Values above {upper_bound} could be outliers.\")"
   ]
  },
  {
   "cell_type": "code",
   "execution_count": 124,
   "metadata": {},
   "outputs": [],
   "source": [
    "#NI v. Labor Expense Per FTE\n",
    "# targetFile6 = targetFile5.loc[targetFile5['Labor Exp Per FTE'] <= 130000]\n",
    "# targetFile6 = targetFile6.loc[targetFile5['Net Income %'] <= .35]\n",
    "# targetFile6 = targetFile6.loc[targetFile5['Net Income %'] >= -.25]\n",
    "# x_axis = targetFile6[\"Labor Exp Per FTE\"]\n",
    "# y_axis = targetFile6[\"Net Income %\"]\n",
    "# plt.title(\"Net Income % v. Labor Exp Per FTE\")\n",
    "# plt.xlabel(\"Labor Exp Per FTE\")\n",
    "# plt.ylabel(\"Net Income %\")\n",
    "# plt.scatter(x_axis, y_axis, marker=\"o\", color=\"blue\")\n",
    "# (slope, intercept, rvalue, pvalue, stderr) = linregress(x_axis, y_axis)\n",
    "# regress_values = x_axis * slope + intercept\n",
    "# line_eq = \"y = \" + str(round(slope,2)) + \"x + \" + str(round(intercept,2))\n",
    "# plt.plot(x_axis,regress_values,\"r-\")\n",
    "# plt.annotate(line_eq,(0,50),fontsize=15,color=\"red\")\n",
    "# #plt.savefig(\"3bchart_days2unemployment_k.png\")\n",
    "# plt.show()\n",
    "# print(f\"The correlation coefficient is {round(st.pearsonr(x_axis,y_axis)[0],2)}\")\n",
    "# print(f\"The line equation is as follows:  {line_eq}\")"
   ]
  },
  {
   "cell_type": "code",
   "execution_count": 125,
   "metadata": {},
   "outputs": [
    {
     "name": "stdout",
     "output_type": "stream",
     "text": [
      "The lower quartile is: 0.5601867271196768\n",
      "The upper quartile is: 0.683142643808776\n",
      "The interquartile range is: 0.12295591668909922\n",
      "The the median of is: 0.6157974834855593 \n",
      "Values below 0.37575285208602793 could be outliers.\n",
      "Values above 0.8675765188424248 could be outliers.\n"
     ]
    }
   ],
   "source": [
    "#Outlier Review\n",
    "chartdata = targetFile5[\"Overhead %\"]\n",
    "quartiles = chartdata.quantile([.25,.5,.75])\n",
    "lowerq = quartiles[0.25]\n",
    "upperq = quartiles[0.75]\n",
    "iqr = upperq-lowerq\n",
    "\n",
    "print(f\"The lower quartile is: {lowerq}\")\n",
    "print(f\"The upper quartile is: {upperq}\")\n",
    "print(f\"The interquartile range is: {iqr}\")\n",
    "print(f\"The the median of is: {quartiles[0.5]} \")\n",
    "\n",
    "lower_bound = lowerq - (1.5*iqr)\n",
    "upper_bound = upperq + (1.5*iqr)\n",
    "print(f\"Values below {lower_bound} could be outliers.\")\n",
    "print(f\"Values above {upper_bound} could be outliers.\")"
   ]
  },
  {
   "cell_type": "code",
   "execution_count": 126,
   "metadata": {},
   "outputs": [],
   "source": [
    "#NI v. Overhead Percent\n",
    "# targetFile6 = targetFile5.loc[targetFile5['Overhead %'] <= .90]\n",
    "# targetFile6 = targetFile6.loc[targetFile5['Net Income %'] <= .35]\n",
    "# targetFile6 = targetFile6.loc[targetFile5['Net Income %'] >= -.25]\n",
    "# x_axis = targetFile6[\"Overhead %\"]\n",
    "# y_axis = targetFile6[\"Net Income %\"]\n",
    "# plt.title(\"Net Income % v. Overhead %\")\n",
    "# plt.xlabel(\"Overhead %\")\n",
    "# plt.ylabel(\"Net Income %\")\n",
    "# plt.scatter(x_axis, y_axis, marker=\"o\", color=\"blue\")\n",
    "# (slope, intercept, rvalue, pvalue, stderr) = linregress(x_axis, y_axis)\n",
    "# regress_values = x_axis * slope + intercept\n",
    "# line_eq = \"y = \" + str(round(slope,2)) + \"x + \" + str(round(intercept,2))\n",
    "# plt.plot(x_axis,regress_values,\"r-\")\n",
    "# plt.annotate(line_eq,(0,50),fontsize=15,color=\"red\")\n",
    "# #plt.savefig(\"3bchart_days2unemployment_k.png\")\n",
    "# plt.show()\n",
    "# print(f\"The correlation coefficient is {round(st.pearsonr(x_axis,y_axis)[0],2)}\")\n",
    "# print(f\"The line equation is as follows:  {line_eq}\")"
   ]
  },
  {
   "cell_type": "code",
   "execution_count": 127,
   "metadata": {},
   "outputs": [
    {
     "name": "stdout",
     "output_type": "stream",
     "text": [
      "The lower quartile is: 0.37626185500721265\n",
      "The upper quartile is: 0.5315353561193963\n",
      "The interquartile range is: 0.15527350111218363\n",
      "The the median of is: 0.4499461703678241 \n",
      "Values below 0.1433516033389372 could be outliers.\n",
      "Values above 0.7644456077876718 could be outliers.\n"
     ]
    }
   ],
   "source": [
    "#Outlier Review\n",
    "chartdata = targetFile5[\"Labor %\"]\n",
    "quartiles = chartdata.quantile([.25,.5,.75])\n",
    "lowerq = quartiles[0.25]\n",
    "upperq = quartiles[0.75]\n",
    "iqr = upperq-lowerq\n",
    "\n",
    "print(f\"The lower quartile is: {lowerq}\")\n",
    "print(f\"The upper quartile is: {upperq}\")\n",
    "print(f\"The interquartile range is: {iqr}\")\n",
    "print(f\"The the median of is: {quartiles[0.5]} \")\n",
    "\n",
    "lower_bound = lowerq - (1.5*iqr)\n",
    "upper_bound = upperq + (1.5*iqr)\n",
    "print(f\"Values below {lower_bound} could be outliers.\")\n",
    "print(f\"Values above {upper_bound} could be outliers.\")"
   ]
  },
  {
   "cell_type": "code",
   "execution_count": 128,
   "metadata": {},
   "outputs": [],
   "source": [
    "#NI v. Labor Percent\n",
    "targetFile6 = targetFile5\n",
    "# targetFile6 = targetFile5.loc[targetFile5['Labor %'] <= .90]\n",
    "# targetFile6 = targetFile6.loc[targetFile5['Net Income %'] <= .35]\n",
    "# targetFile6 = targetFile6.loc[targetFile5['Net Income %'] >= -.25]\n",
    "# x_axis = targetFile6[\"Labor %\"]\n",
    "# y_axis = targetFile6[\"Net Income %\"]\n",
    "# plt.title(\"Net Income % v. Labor %\")\n",
    "# plt.xlabel(\"Labor %\")\n",
    "# plt.ylabel(\"Net Income %\")\n",
    "# plt.scatter(x_axis, y_axis, marker=\"o\", color=\"blue\")\n",
    "# (slope, intercept, rvalue, pvalue, stderr) = linregress(x_axis, y_axis)\n",
    "# regress_values = x_axis * slope + intercept\n",
    "# line_eq = \"y = \" + str(round(slope,2)) + \"x + \" + str(round(intercept,2))\n",
    "# plt.plot(x_axis,regress_values,\"r-\")\n",
    "# plt.annotate(line_eq,(0,50),fontsize=15,color=\"red\")\n",
    "# #plt.savefig(\"3bchart_days2unemployment_k.png\")\n",
    "# plt.show()\n",
    "# print(f\"The correlation coefficient is {round(st.pearsonr(x_axis,y_axis)[0],2)}\")\n",
    "# print(f\"The line equation is as follows:  {line_eq}\")"
   ]
  },
  {
   "cell_type": "code",
   "execution_count": 132,
   "metadata": {},
   "outputs": [
    {
     "name": "stdout",
     "output_type": "stream",
     "text": [
      "The lower quartile is: 32.25390625\n",
      "The upper quartile is: 54.6682518115942\n",
      "The interquartile range is: 22.414345561594203\n",
      "The the median of is: 45.35625 \n",
      "Values below -1.3676120923913047 could be outliers.\n",
      "Values above 88.2897701539855 could be outliers.\n"
     ]
    }
   ],
   "source": [
    "#Outlier Review\n",
    "chartdata = targetFile5[\"Discharge/FTE\"]\n",
    "quartiles = chartdata.quantile([.25,.5,.75])\n",
    "lowerq = quartiles[0.25]\n",
    "upperq = quartiles[0.75]\n",
    "iqr = upperq-lowerq\n",
    "\n",
    "print(f\"The lower quartile is: {lowerq}\")\n",
    "print(f\"The upper quartile is: {upperq}\")\n",
    "print(f\"The interquartile range is: {iqr}\")\n",
    "print(f\"The the median of is: {quartiles[0.5]} \")\n",
    "\n",
    "lower_bound = lowerq - (1.5*iqr)\n",
    "upper_bound = upperq + (1.5*iqr)\n",
    "print(f\"Values below {lower_bound} could be outliers.\")\n",
    "print(f\"Values above {upper_bound} could be outliers.\")"
   ]
  },
  {
   "cell_type": "code",
   "execution_count": 133,
   "metadata": {},
   "outputs": [],
   "source": [
    "#NI v. Labor Percent\n",
    "# targetFile6 = targetFile5\n",
    "# targetFile6 = targetFile5.loc[targetFile5['Discharges Per FTE'] <= 120]\n",
    "# targetFile6 = targetFile6.loc[targetFile5['Net Income %'] <= .35]\n",
    "# targetFile6 = targetFile6.loc[targetFile5['Net Income %'] >= -.25]\n",
    "# x_axis = targetFile6[\"Discharges Per FTE\"]\n",
    "# y_axis = targetFile6[\"Net Income %\"]\n",
    "# plt.title(\"Net Income % v. Discharges Per FTE\")\n",
    "# plt.xlabel(\"Discharges Per FTE\")\n",
    "# plt.ylabel(\"Net Income %\")\n",
    "# plt.scatter(x_axis, y_axis, marker=\"o\", color=\"blue\")\n",
    "# (slope, intercept, rvalue, pvalue, stderr) = linregress(x_axis, y_axis)\n",
    "# regress_values = x_axis * slope + intercept\n",
    "# line_eq = \"y = \" + str(round(slope,2)) + \"x + \" + str(round(intercept,2))\n",
    "# plt.plot(x_axis,regress_values,\"r-\")\n",
    "# plt.annotate(line_eq,(0,50),fontsize=15,color=\"red\")\n",
    "# #plt.savefig(\"3bchart_days2unemployment_k.png\")\n",
    "# plt.show()\n",
    "# print(f\"The correlation coefficient is {round(st.pearsonr(x_axis,y_axis)[0],2)}\")\n",
    "# print(f\"The line equation is as follows:  {line_eq}\")"
   ]
  },
  {
   "cell_type": "code",
   "execution_count": null,
   "metadata": {},
   "outputs": [],
   "source": []
  },
  {
   "cell_type": "code",
   "execution_count": null,
   "metadata": {},
   "outputs": [],
   "source": []
  },
  {
   "cell_type": "code",
   "execution_count": null,
   "metadata": {},
   "outputs": [],
   "source": []
  },
  {
   "cell_type": "code",
   "execution_count": 136,
   "metadata": {},
   "outputs": [],
   "source": [
    "#Start machine learning ..."
   ]
  },
  {
   "cell_type": "code",
   "execution_count": null,
   "metadata": {},
   "outputs": [],
   "source": []
  },
  {
   "cell_type": "code",
   "execution_count": 137,
   "metadata": {},
   "outputs": [
    {
     "data": {
      "text/html": [
       "<div>\n",
       "<style scoped>\n",
       "    .dataframe tbody tr th:only-of-type {\n",
       "        vertical-align: middle;\n",
       "    }\n",
       "\n",
       "    .dataframe tbody tr th {\n",
       "        vertical-align: top;\n",
       "    }\n",
       "\n",
       "    .dataframe thead th {\n",
       "        text-align: right;\n",
       "    }\n",
       "</style>\n",
       "<table border=\"1\" class=\"dataframe\">\n",
       "  <thead>\n",
       "    <tr style=\"text-align: right;\">\n",
       "      <th></th>\n",
       "      <th>CON</th>\n",
       "      <th>Urban</th>\n",
       "      <th>Inpatient %</th>\n",
       "      <th>Outpatient %</th>\n",
       "      <th>Charity %</th>\n",
       "      <th>Uncompensated %</th>\n",
       "      <th>Rev/Discharge</th>\n",
       "      <th>Rev Per Bed</th>\n",
       "      <th>Rev Per Bed Days</th>\n",
       "      <th>Discharges Per Bed</th>\n",
       "      <th>Discharges Per Bed Days</th>\n",
       "      <th>Discharge/FTE</th>\n",
       "      <th>Labor %</th>\n",
       "      <th>Overhead %</th>\n",
       "      <th>Depreciation %</th>\n",
       "      <th>LbrExp/FTE</th>\n",
       "      <th>Overhead Exp Per Bed</th>\n",
       "    </tr>\n",
       "  </thead>\n",
       "  <tbody>\n",
       "    <tr>\n",
       "      <th>0</th>\n",
       "      <td>1.0</td>\n",
       "      <td>1.0</td>\n",
       "      <td>0.609156</td>\n",
       "      <td>0.390844</td>\n",
       "      <td>0.018000</td>\n",
       "      <td>0.018000</td>\n",
       "      <td>19591.934499</td>\n",
       "      <td>244808.756923</td>\n",
       "      <td>2660.964749</td>\n",
       "      <td>12.495385</td>\n",
       "      <td>0.135819</td>\n",
       "      <td>12.495385</td>\n",
       "      <td>0.436872</td>\n",
       "      <td>0.541184</td>\n",
       "      <td>0.034317</td>\n",
       "      <td>19215.838152</td>\n",
       "      <td>132486.553846</td>\n",
       "    </tr>\n",
       "    <tr>\n",
       "      <th>2</th>\n",
       "      <td>1.0</td>\n",
       "      <td>1.0</td>\n",
       "      <td>0.312861</td>\n",
       "      <td>0.687139</td>\n",
       "      <td>0.008871</td>\n",
       "      <td>0.008871</td>\n",
       "      <td>19666.786284</td>\n",
       "      <td>127124.484536</td>\n",
       "      <td>2118.741409</td>\n",
       "      <td>6.463918</td>\n",
       "      <td>0.107732</td>\n",
       "      <td>6.463918</td>\n",
       "      <td>0.594935</td>\n",
       "      <td>0.708396</td>\n",
       "      <td>0.107413</td>\n",
       "      <td>31006.724429</td>\n",
       "      <td>90054.536082</td>\n",
       "    </tr>\n",
       "  </tbody>\n",
       "</table>\n",
       "</div>"
      ],
      "text/plain": [
       "   CON  Urban  Inpatient %  Outpatient %  Charity %  Uncompensated %  \\\n",
       "0  1.0    1.0     0.609156      0.390844   0.018000         0.018000   \n",
       "2  1.0    1.0     0.312861      0.687139   0.008871         0.008871   \n",
       "\n",
       "   Rev/Discharge    Rev Per Bed  Rev Per Bed Days  Discharges Per Bed  \\\n",
       "0   19591.934499  244808.756923       2660.964749           12.495385   \n",
       "2   19666.786284  127124.484536       2118.741409            6.463918   \n",
       "\n",
       "   Discharges Per Bed Days  Discharge/FTE   Labor %  Overhead %  \\\n",
       "0                 0.135819      12.495385  0.436872    0.541184   \n",
       "2                 0.107732       6.463918  0.594935    0.708396   \n",
       "\n",
       "   Depreciation %    LbrExp/FTE  Overhead Exp Per Bed  \n",
       "0        0.034317  19215.838152         132486.553846  \n",
       "2        0.107413  31006.724429          90054.536082  "
      ]
     },
     "execution_count": 137,
     "metadata": {},
     "output_type": "execute_result"
    }
   ],
   "source": [
    "# Select features to be used as x values\n",
    "features1 = mainFile4[['CON','Urban','Inpatient %','Outpatient %','Charity %','Uncompensated %','Rev/Discharge','Rev Per Bed','Rev Per Bed Days', 'Discharges Per Bed','Discharges Per Bed Days','Discharge/FTE', 'Labor %', 'Overhead %', 'Depreciation %', 'LbrExp/FTE', 'Overhead Exp Per Bed']]\n",
    "features1.head(2)\n",
    "#RFE logrithmic output ... array([15, 17, 16, 14, 12,  8, 11,  6,  5 (R/BDay),  7,  9,  3(D/FTE),  2(L%),  1 (OH%),  4 (D%), 13, 10])"
   ]
  },
  {
   "cell_type": "code",
   "execution_count": 138,
   "metadata": {},
   "outputs": [],
   "source": [
    "#Output features file as a reference document\n",
    "features1.to_csv(\"features2016.csv\", index=False, header=True)"
   ]
  },
  {
   "cell_type": "code",
   "execution_count": null,
   "metadata": {},
   "outputs": [],
   "source": []
  },
  {
   "cell_type": "code",
   "execution_count": null,
   "metadata": {},
   "outputs": [],
   "source": []
  },
  {
   "cell_type": "code",
   "execution_count": 139,
   "metadata": {},
   "outputs": [],
   "source": [
    "# ... Linear Regression Model"
   ]
  },
  {
   "cell_type": "code",
   "execution_count": 140,
   "metadata": {},
   "outputs": [
    {
     "data": {
      "text/html": [
       "<div>\n",
       "<style scoped>\n",
       "    .dataframe tbody tr th:only-of-type {\n",
       "        vertical-align: middle;\n",
       "    }\n",
       "\n",
       "    .dataframe tbody tr th {\n",
       "        vertical-align: top;\n",
       "    }\n",
       "\n",
       "    .dataframe thead th {\n",
       "        text-align: right;\n",
       "    }\n",
       "</style>\n",
       "<table border=\"1\" class=\"dataframe\">\n",
       "  <thead>\n",
       "    <tr style=\"text-align: right;\">\n",
       "      <th></th>\n",
       "      <th>Net Income %</th>\n",
       "    </tr>\n",
       "  </thead>\n",
       "  <tbody>\n",
       "    <tr>\n",
       "      <th>0</th>\n",
       "      <td>0.105576</td>\n",
       "    </tr>\n",
       "    <tr>\n",
       "      <th>2</th>\n",
       "      <td>-0.103473</td>\n",
       "    </tr>\n",
       "    <tr>\n",
       "      <th>4</th>\n",
       "      <td>0.255633</td>\n",
       "    </tr>\n",
       "    <tr>\n",
       "      <th>5</th>\n",
       "      <td>-0.094758</td>\n",
       "    </tr>\n",
       "    <tr>\n",
       "      <th>6</th>\n",
       "      <td>-0.021945</td>\n",
       "    </tr>\n",
       "  </tbody>\n",
       "</table>\n",
       "</div>"
      ],
      "text/plain": [
       "   Net Income %\n",
       "0      0.105576\n",
       "2     -0.103473\n",
       "4      0.255633\n",
       "5     -0.094758\n",
       "6     -0.021945"
      ]
     },
     "execution_count": 140,
     "metadata": {},
     "output_type": "execute_result"
    }
   ],
   "source": [
    "# Identify the outcome column/data\n",
    "y = mainFile4[['Net Income %']]\n",
    "y.head()"
   ]
  },
  {
   "cell_type": "code",
   "execution_count": 141,
   "metadata": {},
   "outputs": [
    {
     "data": {
      "text/plain": [
       "dtype('float64')"
      ]
     },
     "execution_count": 141,
     "metadata": {},
     "output_type": "execute_result"
    }
   ],
   "source": [
    "mainFile4[\"Net Income %\"].dtype"
   ]
  },
  {
   "cell_type": "code",
   "execution_count": 142,
   "metadata": {},
   "outputs": [
    {
     "data": {
      "text/plain": [
       "(3035, 1)"
      ]
     },
     "execution_count": 142,
     "metadata": {},
     "output_type": "execute_result"
    }
   ],
   "source": [
    "y.shape"
   ]
  },
  {
   "cell_type": "code",
   "execution_count": 143,
   "metadata": {},
   "outputs": [
    {
     "data": {
      "text/plain": [
       "(3035, 17)"
      ]
     },
     "execution_count": 143,
     "metadata": {},
     "output_type": "execute_result"
    }
   ],
   "source": [
    "X = features1\n",
    "X.shape"
   ]
  },
  {
   "cell_type": "code",
   "execution_count": 144,
   "metadata": {},
   "outputs": [],
   "source": [
    "#Create a training and testing dataset - one hot\n",
    "X_train, X_test, y_train, y_test = train_test_split(\n",
    "    X, y, random_state=1)"
   ]
  },
  {
   "cell_type": "code",
   "execution_count": 145,
   "metadata": {},
   "outputs": [
    {
     "data": {
      "text/plain": [
       "(2276, 1)"
      ]
     },
     "execution_count": 145,
     "metadata": {},
     "output_type": "execute_result"
    }
   ],
   "source": [
    "y_train.shape"
   ]
  },
  {
   "cell_type": "code",
   "execution_count": 146,
   "metadata": {},
   "outputs": [
    {
     "data": {
      "text/plain": [
       "(2276, 17)"
      ]
     },
     "execution_count": 146,
     "metadata": {},
     "output_type": "execute_result"
    }
   ],
   "source": [
    "X_train.shape"
   ]
  },
  {
   "cell_type": "code",
   "execution_count": 147,
   "metadata": {},
   "outputs": [
    {
     "data": {
      "text/plain": [
       "(759, 1)"
      ]
     },
     "execution_count": 147,
     "metadata": {},
     "output_type": "execute_result"
    }
   ],
   "source": [
    "y_test.shape"
   ]
  },
  {
   "cell_type": "code",
   "execution_count": 148,
   "metadata": {},
   "outputs": [
    {
     "data": {
      "text/plain": [
       "(759, 17)"
      ]
     },
     "execution_count": 148,
     "metadata": {},
     "output_type": "execute_result"
    }
   ],
   "source": [
    "X_test.shape"
   ]
  },
  {
   "cell_type": "code",
   "execution_count": 149,
   "metadata": {},
   "outputs": [],
   "source": [
    "# Scale your data\n",
    "X_scaler = MinMaxScaler().fit(X_train)\n",
    "X_train_scaled = X_scaler.transform(X_train)\n",
    "X_test_scaled = X_scaler.transform(X_test)"
   ]
  },
  {
   "cell_type": "code",
   "execution_count": 150,
   "metadata": {},
   "outputs": [
    {
     "name": "stdout",
     "output_type": "stream",
     "text": [
      "Training Data Score: 0.4323507515031151\n"
     ]
    }
   ],
   "source": [
    "#Create the linear regression model and fit to the training data\n",
    "#score is r2 root mean ... 1 is better\n",
    "modela = LinearRegression()\n",
    "modela.fit(X_train_scaled, y_train)\n",
    "score = modela.score(X_train_scaled, y_train)\n",
    "print(f\"Training Data Score: {modela.score(X_train_scaled, y_train)}\")"
   ]
  },
  {
   "cell_type": "code",
   "execution_count": 151,
   "metadata": {},
   "outputs": [
    {
     "name": "stdout",
     "output_type": "stream",
     "text": [
      "Testing Data Score: 0.5165191828765643\n"
     ]
    }
   ],
   "source": [
    "#Run the model with the testing data and determine score\n",
    "print(f\"Testing Data Score: {modela.score(X_test_scaled, y_test)}\")"
   ]
  },
  {
   "cell_type": "code",
   "execution_count": null,
   "metadata": {},
   "outputs": [],
   "source": []
  },
  {
   "cell_type": "code",
   "execution_count": null,
   "metadata": {},
   "outputs": [],
   "source": []
  },
  {
   "cell_type": "code",
   "execution_count": 152,
   "metadata": {},
   "outputs": [],
   "source": [
    "# ... Linear Recursive Feature Elimination"
   ]
  },
  {
   "cell_type": "code",
   "execution_count": 153,
   "metadata": {},
   "outputs": [],
   "source": [
    "#Identify features to create a more efficient model with\n",
    "estimator = LinearRegression()\n",
    "selector = RFE(estimator, n_features_to_select=5, step=1)\n",
    "selector = selector.fit(X_train_scaled, y_train)"
   ]
  },
  {
   "cell_type": "code",
   "execution_count": 154,
   "metadata": {},
   "outputs": [
    {
     "data": {
      "text/plain": [
       "array([False, False, False, False, False,  True, False, False,  True,\n",
       "       False,  True, False,  True,  True, False, False, False])"
      ]
     },
     "execution_count": 154,
     "metadata": {},
     "output_type": "execute_result"
    }
   ],
   "source": [
    "selector.support_"
   ]
  },
  {
   "cell_type": "code",
   "execution_count": 155,
   "metadata": {},
   "outputs": [
    {
     "data": {
      "text/plain": [
       "array([11, 13,  9, 12,  6,  1,  4,  8,  1,  5,  1,  2,  1,  1,  7, 10,  3])"
      ]
     },
     "execution_count": 155,
     "metadata": {},
     "output_type": "execute_result"
    }
   ],
   "source": [
    "selector.ranking_"
   ]
  },
  {
   "cell_type": "code",
   "execution_count": null,
   "metadata": {},
   "outputs": [],
   "source": []
  },
  {
   "cell_type": "code",
   "execution_count": null,
   "metadata": {},
   "outputs": [],
   "source": []
  },
  {
   "cell_type": "code",
   "execution_count": 156,
   "metadata": {},
   "outputs": [],
   "source": [
    "# ... Logistics Model"
   ]
  },
  {
   "cell_type": "code",
   "execution_count": 157,
   "metadata": {},
   "outputs": [
    {
     "data": {
      "text/html": [
       "<div>\n",
       "<style scoped>\n",
       "    .dataframe tbody tr th:only-of-type {\n",
       "        vertical-align: middle;\n",
       "    }\n",
       "\n",
       "    .dataframe tbody tr th {\n",
       "        vertical-align: top;\n",
       "    }\n",
       "\n",
       "    .dataframe thead th {\n",
       "        text-align: right;\n",
       "    }\n",
       "</style>\n",
       "<table border=\"1\" class=\"dataframe\">\n",
       "  <thead>\n",
       "    <tr style=\"text-align: right;\">\n",
       "      <th></th>\n",
       "      <th>Net Income Score</th>\n",
       "    </tr>\n",
       "  </thead>\n",
       "  <tbody>\n",
       "    <tr>\n",
       "      <th>0</th>\n",
       "      <td>2</td>\n",
       "    </tr>\n",
       "    <tr>\n",
       "      <th>2</th>\n",
       "      <td>3</td>\n",
       "    </tr>\n",
       "    <tr>\n",
       "      <th>4</th>\n",
       "      <td>1</td>\n",
       "    </tr>\n",
       "    <tr>\n",
       "      <th>5</th>\n",
       "      <td>3</td>\n",
       "    </tr>\n",
       "    <tr>\n",
       "      <th>6</th>\n",
       "      <td>2</td>\n",
       "    </tr>\n",
       "  </tbody>\n",
       "</table>\n",
       "</div>"
      ],
      "text/plain": [
       "  Net Income Score\n",
       "0                2\n",
       "2                3\n",
       "4                1\n",
       "5                3\n",
       "6                2"
      ]
     },
     "execution_count": 157,
     "metadata": {},
     "output_type": "execute_result"
    }
   ],
   "source": [
    "# Identify the outcome column/data\n",
    "yy = mainFile4[['Net Income Score']]\n",
    "yy.head()"
   ]
  },
  {
   "cell_type": "code",
   "execution_count": 158,
   "metadata": {},
   "outputs": [
    {
     "data": {
      "text/plain": [
       "(3035, 1)"
      ]
     },
     "execution_count": 158,
     "metadata": {},
     "output_type": "execute_result"
    }
   ],
   "source": [
    "yy.shape"
   ]
  },
  {
   "cell_type": "code",
   "execution_count": 159,
   "metadata": {},
   "outputs": [
    {
     "data": {
      "text/plain": [
       "(3035, 17)"
      ]
     },
     "execution_count": 159,
     "metadata": {},
     "output_type": "execute_result"
    }
   ],
   "source": [
    "XX = features1\n",
    "XX.shape"
   ]
  },
  {
   "cell_type": "code",
   "execution_count": 160,
   "metadata": {},
   "outputs": [],
   "source": [
    "#Create a training and testing dataset - one hot\n",
    "X_train, X_test, y_train, y_test = train_test_split(\n",
    "    XX, yy, random_state=1)"
   ]
  },
  {
   "cell_type": "code",
   "execution_count": 161,
   "metadata": {},
   "outputs": [
    {
     "data": {
      "text/plain": [
       "(2276, 1)"
      ]
     },
     "execution_count": 161,
     "metadata": {},
     "output_type": "execute_result"
    }
   ],
   "source": [
    "y_train.shape"
   ]
  },
  {
   "cell_type": "code",
   "execution_count": 162,
   "metadata": {},
   "outputs": [
    {
     "data": {
      "text/plain": [
       "(2276, 17)"
      ]
     },
     "execution_count": 162,
     "metadata": {},
     "output_type": "execute_result"
    }
   ],
   "source": [
    "X_train.shape"
   ]
  },
  {
   "cell_type": "code",
   "execution_count": 163,
   "metadata": {},
   "outputs": [
    {
     "data": {
      "text/plain": [
       "(759, 1)"
      ]
     },
     "execution_count": 163,
     "metadata": {},
     "output_type": "execute_result"
    }
   ],
   "source": [
    "y_test.shape"
   ]
  },
  {
   "cell_type": "code",
   "execution_count": 164,
   "metadata": {},
   "outputs": [
    {
     "data": {
      "text/plain": [
       "(759, 1)"
      ]
     },
     "execution_count": 164,
     "metadata": {},
     "output_type": "execute_result"
    }
   ],
   "source": [
    "y_test.shape"
   ]
  },
  {
   "cell_type": "code",
   "execution_count": 165,
   "metadata": {},
   "outputs": [],
   "source": [
    "# Scale your data\n",
    "X_scaler = MinMaxScaler().fit(X_train)\n",
    "X_train_scaled = X_scaler.transform(X_train)\n",
    "X_test_scaled = X_scaler.transform(X_test)"
   ]
  },
  {
   "cell_type": "code",
   "execution_count": 166,
   "metadata": {},
   "outputs": [
    {
     "name": "stdout",
     "output_type": "stream",
     "text": [
      "Training Data Score: 0.6542179261862917\n"
     ]
    },
    {
     "name": "stderr",
     "output_type": "stream",
     "text": [
      "C:\\Users\\rodge\\anaconda3\\envs\\PythonData\\lib\\site-packages\\sklearn\\utils\\validation.py:63: DataConversionWarning: A column-vector y was passed when a 1d array was expected. Please change the shape of y to (n_samples, ), for example using ravel().\n",
      "  return f(*args, **kwargs)\n",
      "C:\\Users\\rodge\\anaconda3\\envs\\PythonData\\lib\\site-packages\\sklearn\\linear_model\\_logistic.py:765: ConvergenceWarning: lbfgs failed to converge (status=1):\n",
      "STOP: TOTAL NO. of ITERATIONS REACHED LIMIT.\n",
      "\n",
      "Increase the number of iterations (max_iter) or scale the data as shown in:\n",
      "    https://scikit-learn.org/stable/modules/preprocessing.html\n",
      "Please also refer to the documentation for alternative solver options:\n",
      "    https://scikit-learn.org/stable/modules/linear_model.html#logistic-regression\n",
      "  extra_warning_msg=_LOGISTIC_SOLVER_CONVERGENCE_MSG)\n"
     ]
    }
   ],
   "source": [
    "#Create the logistic regression model and fit to the training data\n",
    "#score is r2 root mean ... 1 is better\n",
    "modela = LogisticRegression()\n",
    "modela.fit(X_train_scaled, y_train)\n",
    "score = modela.score(X_train_scaled, y_train)\n",
    "print(f\"Training Data Score: {modela.score(X_train_scaled, y_train)}\")"
   ]
  },
  {
   "cell_type": "code",
   "execution_count": 167,
   "metadata": {},
   "outputs": [
    {
     "name": "stdout",
     "output_type": "stream",
     "text": [
      "Testing Data Score: 0.6666666666666666\n"
     ]
    }
   ],
   "source": [
    "#Run the model with the testing data and determine score\n",
    "print(f\"Testing Data Score: {modela.score(X_test_scaled, y_test)}\")"
   ]
  },
  {
   "cell_type": "code",
   "execution_count": null,
   "metadata": {},
   "outputs": [],
   "source": []
  },
  {
   "cell_type": "code",
   "execution_count": 168,
   "metadata": {},
   "outputs": [],
   "source": [
    "# ... recursive feature elimination"
   ]
  },
  {
   "cell_type": "code",
   "execution_count": 169,
   "metadata": {},
   "outputs": [
    {
     "name": "stderr",
     "output_type": "stream",
     "text": [
      "C:\\Users\\rodge\\anaconda3\\envs\\PythonData\\lib\\site-packages\\sklearn\\utils\\validation.py:63: DataConversionWarning: A column-vector y was passed when a 1d array was expected. Please change the shape of y to (n_samples, ), for example using ravel().\n",
      "  return f(*args, **kwargs)\n",
      "C:\\Users\\rodge\\anaconda3\\envs\\PythonData\\lib\\site-packages\\sklearn\\linear_model\\_logistic.py:765: ConvergenceWarning: lbfgs failed to converge (status=1):\n",
      "STOP: TOTAL NO. of ITERATIONS REACHED LIMIT.\n",
      "\n",
      "Increase the number of iterations (max_iter) or scale the data as shown in:\n",
      "    https://scikit-learn.org/stable/modules/preprocessing.html\n",
      "Please also refer to the documentation for alternative solver options:\n",
      "    https://scikit-learn.org/stable/modules/linear_model.html#logistic-regression\n",
      "  extra_warning_msg=_LOGISTIC_SOLVER_CONVERGENCE_MSG)\n",
      "C:\\Users\\rodge\\anaconda3\\envs\\PythonData\\lib\\site-packages\\sklearn\\utils\\validation.py:63: DataConversionWarning: A column-vector y was passed when a 1d array was expected. Please change the shape of y to (n_samples, ), for example using ravel().\n",
      "  return f(*args, **kwargs)\n",
      "C:\\Users\\rodge\\anaconda3\\envs\\PythonData\\lib\\site-packages\\sklearn\\utils\\validation.py:63: DataConversionWarning: A column-vector y was passed when a 1d array was expected. Please change the shape of y to (n_samples, ), for example using ravel().\n",
      "  return f(*args, **kwargs)\n",
      "C:\\Users\\rodge\\anaconda3\\envs\\PythonData\\lib\\site-packages\\sklearn\\utils\\validation.py:63: DataConversionWarning: A column-vector y was passed when a 1d array was expected. Please change the shape of y to (n_samples, ), for example using ravel().\n",
      "  return f(*args, **kwargs)\n",
      "C:\\Users\\rodge\\anaconda3\\envs\\PythonData\\lib\\site-packages\\sklearn\\utils\\validation.py:63: DataConversionWarning: A column-vector y was passed when a 1d array was expected. Please change the shape of y to (n_samples, ), for example using ravel().\n",
      "  return f(*args, **kwargs)\n",
      "C:\\Users\\rodge\\anaconda3\\envs\\PythonData\\lib\\site-packages\\sklearn\\utils\\validation.py:63: DataConversionWarning: A column-vector y was passed when a 1d array was expected. Please change the shape of y to (n_samples, ), for example using ravel().\n",
      "  return f(*args, **kwargs)\n",
      "C:\\Users\\rodge\\anaconda3\\envs\\PythonData\\lib\\site-packages\\sklearn\\utils\\validation.py:63: DataConversionWarning: A column-vector y was passed when a 1d array was expected. Please change the shape of y to (n_samples, ), for example using ravel().\n",
      "  return f(*args, **kwargs)\n",
      "C:\\Users\\rodge\\anaconda3\\envs\\PythonData\\lib\\site-packages\\sklearn\\utils\\validation.py:63: DataConversionWarning: A column-vector y was passed when a 1d array was expected. Please change the shape of y to (n_samples, ), for example using ravel().\n",
      "  return f(*args, **kwargs)\n",
      "C:\\Users\\rodge\\anaconda3\\envs\\PythonData\\lib\\site-packages\\sklearn\\utils\\validation.py:63: DataConversionWarning: A column-vector y was passed when a 1d array was expected. Please change the shape of y to (n_samples, ), for example using ravel().\n",
      "  return f(*args, **kwargs)\n",
      "C:\\Users\\rodge\\anaconda3\\envs\\PythonData\\lib\\site-packages\\sklearn\\utils\\validation.py:63: DataConversionWarning: A column-vector y was passed when a 1d array was expected. Please change the shape of y to (n_samples, ), for example using ravel().\n",
      "  return f(*args, **kwargs)\n",
      "C:\\Users\\rodge\\anaconda3\\envs\\PythonData\\lib\\site-packages\\sklearn\\utils\\validation.py:63: DataConversionWarning: A column-vector y was passed when a 1d array was expected. Please change the shape of y to (n_samples, ), for example using ravel().\n",
      "  return f(*args, **kwargs)\n",
      "C:\\Users\\rodge\\anaconda3\\envs\\PythonData\\lib\\site-packages\\sklearn\\utils\\validation.py:63: DataConversionWarning: A column-vector y was passed when a 1d array was expected. Please change the shape of y to (n_samples, ), for example using ravel().\n",
      "  return f(*args, **kwargs)\n",
      "C:\\Users\\rodge\\anaconda3\\envs\\PythonData\\lib\\site-packages\\sklearn\\utils\\validation.py:63: DataConversionWarning: A column-vector y was passed when a 1d array was expected. Please change the shape of y to (n_samples, ), for example using ravel().\n",
      "  return f(*args, **kwargs)\n",
      "C:\\Users\\rodge\\anaconda3\\envs\\PythonData\\lib\\site-packages\\sklearn\\utils\\validation.py:63: DataConversionWarning: A column-vector y was passed when a 1d array was expected. Please change the shape of y to (n_samples, ), for example using ravel().\n",
      "  return f(*args, **kwargs)\n",
      "C:\\Users\\rodge\\anaconda3\\envs\\PythonData\\lib\\site-packages\\sklearn\\utils\\validation.py:63: DataConversionWarning: A column-vector y was passed when a 1d array was expected. Please change the shape of y to (n_samples, ), for example using ravel().\n",
      "  return f(*args, **kwargs)\n",
      "C:\\Users\\rodge\\anaconda3\\envs\\PythonData\\lib\\site-packages\\sklearn\\utils\\validation.py:63: DataConversionWarning: A column-vector y was passed when a 1d array was expected. Please change the shape of y to (n_samples, ), for example using ravel().\n",
      "  return f(*args, **kwargs)\n",
      "C:\\Users\\rodge\\anaconda3\\envs\\PythonData\\lib\\site-packages\\sklearn\\utils\\validation.py:63: DataConversionWarning: A column-vector y was passed when a 1d array was expected. Please change the shape of y to (n_samples, ), for example using ravel().\n",
      "  return f(*args, **kwargs)\n"
     ]
    }
   ],
   "source": [
    "#Identify features to create a more efficient model with\n",
    "estimator = LogisticRegression()\n",
    "selector = RFE(estimator, n_features_to_select=1, step=1)\n",
    "selector = selector.fit(X_train_scaled, y_train)"
   ]
  },
  {
   "cell_type": "code",
   "execution_count": 170,
   "metadata": {},
   "outputs": [
    {
     "data": {
      "text/plain": [
       "array([False, False, False, False, False, False, False, False, False,\n",
       "       False, False, False,  True, False, False, False, False])"
      ]
     },
     "execution_count": 170,
     "metadata": {},
     "output_type": "execute_result"
    }
   ],
   "source": [
    "selector.support_"
   ]
  },
  {
   "cell_type": "code",
   "execution_count": 171,
   "metadata": {},
   "outputs": [
    {
     "data": {
      "text/plain": [
       "array([12, 16, 14, 17,  9,  6, 11,  5, 13,  4, 15,  3,  1,  2,  7, 10,  8])"
      ]
     },
     "execution_count": 171,
     "metadata": {},
     "output_type": "execute_result"
    }
   ],
   "source": [
    "selector.ranking_"
   ]
  },
  {
   "cell_type": "code",
   "execution_count": null,
   "metadata": {},
   "outputs": [],
   "source": []
  },
  {
   "cell_type": "code",
   "execution_count": null,
   "metadata": {},
   "outputs": [],
   "source": [
    "#End ... kent matthew rodgers, profitableHospital-project"
   ]
  }
 ],
 "metadata": {
  "kernelspec": {
   "display_name": "Python [conda env:PythonData]",
   "language": "python",
   "name": "conda-env-PythonData-py"
  },
  "language_info": {
   "codemirror_mode": {
    "name": "ipython",
    "version": 3
   },
   "file_extension": ".py",
   "mimetype": "text/x-python",
   "name": "python",
   "nbconvert_exporter": "python",
   "pygments_lexer": "ipython3",
   "version": "3.7.1"
  }
 },
 "nbformat": 4,
 "nbformat_minor": 4
}
