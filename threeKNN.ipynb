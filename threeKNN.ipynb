{
 "cells": [
  {
   "cell_type": "code",
   "execution_count": 1,
   "metadata": {},
   "outputs": [],
   "source": [
    "#profitableHospital-project - KNN Model"
   ]
  },
  {
   "cell_type": "code",
   "execution_count": 2,
   "metadata": {},
   "outputs": [],
   "source": [
    "#dependencies\n",
    "import pandas as pd\n",
    "from sklearn.model_selection import train_test_split\n",
    "from sklearn.preprocessing import LabelEncoder, MinMaxScaler\n",
    "from sklearn.preprocessing import LabelEncoder\n",
    "from sklearn.feature_selection import RFE\n",
    "from sklearn.linear_model import LogisticRegression\n",
    "from sklearn.linear_model import LinearRegression\n",
    "from sklearn.svm import SVC \n",
    "from sklearn.model_selection import GridSearchCV\n",
    "from sklearn.metrics import classification_report\n",
    "from sklearn.neighbors import KNeighborsClassifier\n",
    "import tensorflow\n",
    "from tensorflow.keras.utils import to_categorical\n",
    "import matplotlib.pyplot as plt\n",
    "import joblib"
   ]
  },
  {
   "cell_type": "code",
   "execution_count": 3,
   "metadata": {},
   "outputs": [
    {
     "data": {
      "text/html": [
       "<div>\n",
       "<style scoped>\n",
       "    .dataframe tbody tr th:only-of-type {\n",
       "        vertical-align: middle;\n",
       "    }\n",
       "\n",
       "    .dataframe tbody tr th {\n",
       "        vertical-align: top;\n",
       "    }\n",
       "\n",
       "    .dataframe thead th {\n",
       "        text-align: right;\n",
       "    }\n",
       "</style>\n",
       "<table border=\"1\" class=\"dataframe\">\n",
       "  <thead>\n",
       "    <tr style=\"text-align: right;\">\n",
       "      <th></th>\n",
       "      <th>Provider CCN</th>\n",
       "      <th>Hospital Name</th>\n",
       "      <th>Street Address</th>\n",
       "      <th>City</th>\n",
       "      <th>State Code</th>\n",
       "      <th>Zip Code</th>\n",
       "      <th>lat</th>\n",
       "      <th>lng</th>\n",
       "      <th>Rural Versus Urban</th>\n",
       "      <th>CCN Facility Type</th>\n",
       "      <th>...</th>\n",
       "      <th>Discharges Per Bed Days</th>\n",
       "      <th>Discharge/FTE</th>\n",
       "      <th>Net Income %</th>\n",
       "      <th>Net Income Score</th>\n",
       "      <th>Labor %</th>\n",
       "      <th>Overhead %</th>\n",
       "      <th>Depreciation %</th>\n",
       "      <th>LbrExp/FTE</th>\n",
       "      <th>Overhead Exp Per Bed</th>\n",
       "      <th>Pacesetter Group</th>\n",
       "    </tr>\n",
       "  </thead>\n",
       "  <tbody>\n",
       "    <tr>\n",
       "      <th>0</th>\n",
       "      <td>340106</td>\n",
       "      <td>SANDHILLS REGIONAL MEDICAL CENTER</td>\n",
       "      <td>1000 WEST HAMLET AVE</td>\n",
       "      <td>HAMLET</td>\n",
       "      <td>NC</td>\n",
       "      <td>28345</td>\n",
       "      <td>34.901612</td>\n",
       "      <td>-79.708561</td>\n",
       "      <td>R</td>\n",
       "      <td>STH</td>\n",
       "      <td>...</td>\n",
       "      <td>0.050205</td>\n",
       "      <td>3.062500</td>\n",
       "      <td>-0.337043</td>\n",
       "      <td>3</td>\n",
       "      <td>0.509928</td>\n",
       "      <td>0.924882</td>\n",
       "      <td>0.073496</td>\n",
       "      <td>61909.838473</td>\n",
       "      <td>47792.984375</td>\n",
       "      <td>4th Quartile</td>\n",
       "    </tr>\n",
       "    <tr>\n",
       "      <th>1</th>\n",
       "      <td>250025</td>\n",
       "      <td>GILMORE MEMORIAL REGIONAL MEDICAL CE</td>\n",
       "      <td>1105 EARL FRYE BLVD</td>\n",
       "      <td>AMORY</td>\n",
       "      <td>MS</td>\n",
       "      <td>38821</td>\n",
       "      <td>33.976509</td>\n",
       "      <td>-88.476737</td>\n",
       "      <td>R</td>\n",
       "      <td>STH</td>\n",
       "      <td>...</td>\n",
       "      <td>0.071579</td>\n",
       "      <td>8.589474</td>\n",
       "      <td>-0.132426</td>\n",
       "      <td>3</td>\n",
       "      <td>0.414191</td>\n",
       "      <td>0.826683</td>\n",
       "      <td>0.119266</td>\n",
       "      <td>21706.316534</td>\n",
       "      <td>109668.063158</td>\n",
       "      <td>4th Quartile</td>\n",
       "    </tr>\n",
       "  </tbody>\n",
       "</table>\n",
       "<p>2 rows × 42 columns</p>\n",
       "</div>"
      ],
      "text/plain": [
       "   Provider CCN                         Hospital Name        Street Address  \\\n",
       "0        340106     SANDHILLS REGIONAL MEDICAL CENTER  1000 WEST HAMLET AVE   \n",
       "1        250025  GILMORE MEMORIAL REGIONAL MEDICAL CE   1105 EARL FRYE BLVD   \n",
       "\n",
       "     City State Code Zip Code        lat        lng Rural Versus Urban  \\\n",
       "0  HAMLET         NC    28345  34.901612 -79.708561                  R   \n",
       "1   AMORY         MS    38821  33.976509 -88.476737                  R   \n",
       "\n",
       "  CCN Facility Type  ... Discharges Per Bed Days Discharge/FTE  Net Income %  \\\n",
       "0               STH  ...                0.050205      3.062500     -0.337043   \n",
       "1               STH  ...                0.071579      8.589474     -0.132426   \n",
       "\n",
       "   Net Income Score   Labor %  Overhead %  Depreciation %    LbrExp/FTE  \\\n",
       "0                 3  0.509928    0.924882        0.073496  61909.838473   \n",
       "1                 3  0.414191    0.826683        0.119266  21706.316534   \n",
       "\n",
       "   Overhead Exp Per Bed  Pacesetter Group  \n",
       "0          47792.984375      4th Quartile  \n",
       "1         109668.063158      4th Quartile  \n",
       "\n",
       "[2 rows x 42 columns]"
      ]
     },
     "execution_count": 3,
     "metadata": {},
     "output_type": "execute_result"
    }
   ],
   "source": [
    "#Main File Read\n",
    "df = pd.read_csv(\"main4_2017.csv\")\n",
    "df.head(2)"
   ]
  },
  {
   "cell_type": "code",
   "execution_count": 4,
   "metadata": {},
   "outputs": [
    {
     "data": {
      "text/html": [
       "<div>\n",
       "<style scoped>\n",
       "    .dataframe tbody tr th:only-of-type {\n",
       "        vertical-align: middle;\n",
       "    }\n",
       "\n",
       "    .dataframe tbody tr th {\n",
       "        vertical-align: top;\n",
       "    }\n",
       "\n",
       "    .dataframe thead th {\n",
       "        text-align: right;\n",
       "    }\n",
       "</style>\n",
       "<table border=\"1\" class=\"dataframe\">\n",
       "  <thead>\n",
       "    <tr style=\"text-align: right;\">\n",
       "      <th></th>\n",
       "      <th>CON</th>\n",
       "      <th>Urban</th>\n",
       "      <th>Inpatient %</th>\n",
       "      <th>Outpatient %</th>\n",
       "      <th>Charity %</th>\n",
       "      <th>Uncompensated %</th>\n",
       "      <th>Rev/Discharge</th>\n",
       "      <th>Rev Per Bed</th>\n",
       "      <th>Rev Per Bed Days</th>\n",
       "      <th>Discharges Per Bed</th>\n",
       "      <th>Discharges Per Bed Days</th>\n",
       "      <th>Discharge/FTE</th>\n",
       "      <th>Labor %</th>\n",
       "      <th>Overhead %</th>\n",
       "      <th>Depreciation %</th>\n",
       "      <th>LbrExp/FTE</th>\n",
       "      <th>Overhead Exp Per Bed</th>\n",
       "    </tr>\n",
       "  </thead>\n",
       "  <tbody>\n",
       "    <tr>\n",
       "      <th>0</th>\n",
       "      <td>1.0</td>\n",
       "      <td>0.0</td>\n",
       "      <td>0.325730</td>\n",
       "      <td>0.674270</td>\n",
       "      <td>0.001075</td>\n",
       "      <td>0.001075</td>\n",
       "      <td>16873.362245</td>\n",
       "      <td>51674.671875</td>\n",
       "      <td>847.125768</td>\n",
       "      <td>3.062500</td>\n",
       "      <td>0.050205</td>\n",
       "      <td>3.062500</td>\n",
       "      <td>0.509928</td>\n",
       "      <td>0.924882</td>\n",
       "      <td>0.073496</td>\n",
       "      <td>61909.838473</td>\n",
       "      <td>47792.984375</td>\n",
       "    </tr>\n",
       "    <tr>\n",
       "      <th>1</th>\n",
       "      <td>1.0</td>\n",
       "      <td>0.0</td>\n",
       "      <td>0.364763</td>\n",
       "      <td>0.635237</td>\n",
       "      <td>0.000905</td>\n",
       "      <td>0.000905</td>\n",
       "      <td>15444.529412</td>\n",
       "      <td>132660.378947</td>\n",
       "      <td>1105.503158</td>\n",
       "      <td>8.589474</td>\n",
       "      <td>0.071579</td>\n",
       "      <td>8.589474</td>\n",
       "      <td>0.414191</td>\n",
       "      <td>0.826683</td>\n",
       "      <td>0.119266</td>\n",
       "      <td>21706.316534</td>\n",
       "      <td>109668.063158</td>\n",
       "    </tr>\n",
       "  </tbody>\n",
       "</table>\n",
       "</div>"
      ],
      "text/plain": [
       "   CON  Urban  Inpatient %  Outpatient %  Charity %  Uncompensated %  \\\n",
       "0  1.0    0.0     0.325730      0.674270   0.001075         0.001075   \n",
       "1  1.0    0.0     0.364763      0.635237   0.000905         0.000905   \n",
       "\n",
       "   Rev/Discharge    Rev Per Bed  Rev Per Bed Days  Discharges Per Bed  \\\n",
       "0   16873.362245   51674.671875        847.125768            3.062500   \n",
       "1   15444.529412  132660.378947       1105.503158            8.589474   \n",
       "\n",
       "   Discharges Per Bed Days  Discharge/FTE   Labor %  Overhead %  \\\n",
       "0                 0.050205       3.062500  0.509928    0.924882   \n",
       "1                 0.071579       8.589474  0.414191    0.826683   \n",
       "\n",
       "   Depreciation %    LbrExp/FTE  Overhead Exp Per Bed  \n",
       "0        0.073496  61909.838473          47792.984375  \n",
       "1        0.119266  21706.316534         109668.063158  "
      ]
     },
     "execution_count": 4,
     "metadata": {},
     "output_type": "execute_result"
    }
   ],
   "source": [
    "#Features File Read\n",
    "features = pd.read_csv(\"features2017.csv\")\n",
    "features.head(2)"
   ]
  },
  {
   "cell_type": "code",
   "execution_count": 5,
   "metadata": {},
   "outputs": [],
   "source": [
    "y = df[['Net Income Score']]"
   ]
  },
  {
   "cell_type": "code",
   "execution_count": 6,
   "metadata": {},
   "outputs": [],
   "source": [
    "X = features"
   ]
  },
  {
   "cell_type": "code",
   "execution_count": 7,
   "metadata": {},
   "outputs": [],
   "source": [
    "#Create a training and testing dataset\n",
    "X_train, X_test, y_train, y_test = train_test_split(\n",
    "    X, y, random_state=1)"
   ]
  },
  {
   "cell_type": "code",
   "execution_count": 8,
   "metadata": {},
   "outputs": [
    {
     "data": {
      "text/plain": [
       "(2028, 1)"
      ]
     },
     "execution_count": 8,
     "metadata": {},
     "output_type": "execute_result"
    }
   ],
   "source": [
    "y_train.shape"
   ]
  },
  {
   "cell_type": "code",
   "execution_count": 9,
   "metadata": {},
   "outputs": [
    {
     "data": {
      "text/plain": [
       "(2028, 17)"
      ]
     },
     "execution_count": 9,
     "metadata": {},
     "output_type": "execute_result"
    }
   ],
   "source": [
    "X_train.shape"
   ]
  },
  {
   "cell_type": "code",
   "execution_count": 10,
   "metadata": {},
   "outputs": [],
   "source": [
    "# Scale your data\n",
    "X_scaler = MinMaxScaler().fit(X_train)\n",
    "X_train_scaled = X_scaler.transform(X_train)\n",
    "X_test_scaled = X_scaler.transform(X_test)"
   ]
  },
  {
   "cell_type": "code",
   "execution_count": 11,
   "metadata": {},
   "outputs": [
    {
     "name": "stderr",
     "output_type": "stream",
     "text": [
      "C:\\Users\\rodge\\anaconda3\\envs\\PythonData\\lib\\site-packages\\sklearn\\neighbors\\_classification.py:179: DataConversionWarning: A column-vector y was passed when a 1d array was expected. Please change the shape of y to (n_samples,), for example using ravel().\n",
      "  return self._fit(X, y)\n",
      "C:\\Users\\rodge\\anaconda3\\envs\\PythonData\\lib\\site-packages\\sklearn\\neighbors\\_classification.py:179: DataConversionWarning: A column-vector y was passed when a 1d array was expected. Please change the shape of y to (n_samples,), for example using ravel().\n",
      "  return self._fit(X, y)\n"
     ]
    },
    {
     "name": "stdout",
     "output_type": "stream",
     "text": [
      "k: 1, Train/Test Score: 1.000/0.529\n",
      "k: 3, Train/Test Score: 0.735/0.564\n"
     ]
    },
    {
     "name": "stderr",
     "output_type": "stream",
     "text": [
      "C:\\Users\\rodge\\anaconda3\\envs\\PythonData\\lib\\site-packages\\sklearn\\neighbors\\_classification.py:179: DataConversionWarning: A column-vector y was passed when a 1d array was expected. Please change the shape of y to (n_samples,), for example using ravel().\n",
      "  return self._fit(X, y)\n"
     ]
    },
    {
     "name": "stdout",
     "output_type": "stream",
     "text": [
      "k: 5, Train/Test Score: 0.675/0.558\n",
      "k: 7, Train/Test Score: 0.661/0.586"
     ]
    },
    {
     "name": "stderr",
     "output_type": "stream",
     "text": [
      "C:\\Users\\rodge\\anaconda3\\envs\\PythonData\\lib\\site-packages\\sklearn\\neighbors\\_classification.py:179: DataConversionWarning: A column-vector y was passed when a 1d array was expected. Please change the shape of y to (n_samples,), for example using ravel().\n",
      "  return self._fit(X, y)\n"
     ]
    },
    {
     "name": "stdout",
     "output_type": "stream",
     "text": [
      "\n",
      "k: 9, Train/Test Score: 0.644/0.586"
     ]
    },
    {
     "name": "stderr",
     "output_type": "stream",
     "text": [
      "C:\\Users\\rodge\\anaconda3\\envs\\PythonData\\lib\\site-packages\\sklearn\\neighbors\\_classification.py:179: DataConversionWarning: A column-vector y was passed when a 1d array was expected. Please change the shape of y to (n_samples,), for example using ravel().\n",
      "  return self._fit(X, y)\n"
     ]
    },
    {
     "name": "stdout",
     "output_type": "stream",
     "text": [
      "\n"
     ]
    },
    {
     "name": "stderr",
     "output_type": "stream",
     "text": [
      "C:\\Users\\rodge\\anaconda3\\envs\\PythonData\\lib\\site-packages\\sklearn\\neighbors\\_classification.py:179: DataConversionWarning: A column-vector y was passed when a 1d array was expected. Please change the shape of y to (n_samples,), for example using ravel().\n",
      "  return self._fit(X, y)\n"
     ]
    },
    {
     "name": "stdout",
     "output_type": "stream",
     "text": [
      "k: 11, Train/Test Score: 0.628/0.569\n"
     ]
    },
    {
     "name": "stderr",
     "output_type": "stream",
     "text": [
      "C:\\Users\\rodge\\anaconda3\\envs\\PythonData\\lib\\site-packages\\sklearn\\neighbors\\_classification.py:179: DataConversionWarning: A column-vector y was passed when a 1d array was expected. Please change the shape of y to (n_samples,), for example using ravel().\n",
      "  return self._fit(X, y)\n"
     ]
    },
    {
     "name": "stdout",
     "output_type": "stream",
     "text": [
      "k: 13, Train/Test Score: 0.614/0.573\n",
      "k: 15, Train/Test Score: 0.606/0.595"
     ]
    },
    {
     "name": "stderr",
     "output_type": "stream",
     "text": [
      "C:\\Users\\rodge\\anaconda3\\envs\\PythonData\\lib\\site-packages\\sklearn\\neighbors\\_classification.py:179: DataConversionWarning: A column-vector y was passed when a 1d array was expected. Please change the shape of y to (n_samples,), for example using ravel().\n",
      "  return self._fit(X, y)\n"
     ]
    },
    {
     "name": "stdout",
     "output_type": "stream",
     "text": [
      "\n"
     ]
    },
    {
     "name": "stderr",
     "output_type": "stream",
     "text": [
      "C:\\Users\\rodge\\anaconda3\\envs\\PythonData\\lib\\site-packages\\sklearn\\neighbors\\_classification.py:179: DataConversionWarning: A column-vector y was passed when a 1d array was expected. Please change the shape of y to (n_samples,), for example using ravel().\n",
      "  return self._fit(X, y)\n"
     ]
    },
    {
     "name": "stdout",
     "output_type": "stream",
     "text": [
      "k: 17, Train/Test Score: 0.601/0.583\n"
     ]
    },
    {
     "name": "stderr",
     "output_type": "stream",
     "text": [
      "C:\\Users\\rodge\\anaconda3\\envs\\PythonData\\lib\\site-packages\\sklearn\\neighbors\\_classification.py:179: DataConversionWarning: A column-vector y was passed when a 1d array was expected. Please change the shape of y to (n_samples,), for example using ravel().\n",
      "  return self._fit(X, y)\n"
     ]
    },
    {
     "name": "stdout",
     "output_type": "stream",
     "text": [
      "k: 19, Train/Test Score: 0.597/0.581\n"
     ]
    },
    {
     "data": {
      "image/png": "[encoded data removed]",
      "text/plain": [
       "<Figure size 432x288 with 1 Axes>"
      ]
     },
     "metadata": {
      "needs_background": "light"
     },
     "output_type": "display_data"
    }
   ],
   "source": [
    "# Create the for loop and KNN model\n",
    "train_scores = []\n",
    "test_scores = []\n",
    "for k in range(1, 20, 2):\n",
    "    knn = KNeighborsClassifier(n_neighbors=k)\n",
    "    knn.fit(X_train_scaled, y_train)\n",
    "    train_score = knn.score(X_train_scaled, y_train)\n",
    "    test_score = knn.score(X_test_scaled, y_test)\n",
    "    train_scores.append(train_score)\n",
    "    test_scores.append(test_score)\n",
    "    print(f\"k: {k}, Train/Test Score: {train_score:.3f}/{test_score:.3f}\")\n",
    "    \n",
    "plt.plot(range(1, 20, 2), train_scores, marker='o')\n",
    "plt.plot(range(1, 20, 2), test_scores, marker=\"x\")\n",
    "plt.xlabel(\"k neighbors\")\n",
    "plt.ylabel(\"Testing accuracy Score\")\n",
    "plt.show()"
   ]
  },
  {
   "cell_type": "code",
   "execution_count": 12,
   "metadata": {},
   "outputs": [
    {
     "name": "stdout",
     "output_type": "stream",
     "text": [
      "k=9 Test Acc: 0.586\n"
     ]
    },
    {
     "name": "stderr",
     "output_type": "stream",
     "text": [
      "C:\\Users\\rodge\\anaconda3\\envs\\PythonData\\lib\\site-packages\\sklearn\\neighbors\\_classification.py:179: DataConversionWarning: A column-vector y was passed when a 1d array was expected. Please change the shape of y to (n_samples,), for example using ravel().\n",
      "  return self._fit(X, y)\n"
     ]
    }
   ],
   "source": [
    "# Review a range of K values for most efficient accuracy\n",
    "knn = KNeighborsClassifier(n_neighbors=9)\n",
    "knn.fit(X_train_scaled, y_train)\n",
    "print('k=9 Test Acc: %.3f' % knn.score(X_test_scaled, y_test))"
   ]
  },
  {
   "cell_type": "code",
   "execution_count": 13,
   "metadata": {},
   "outputs": [
    {
     "name": "stdout",
     "output_type": "stream",
     "text": [
      "k=13 Test Acc: 0.573\n"
     ]
    },
    {
     "name": "stderr",
     "output_type": "stream",
     "text": [
      "C:\\Users\\rodge\\anaconda3\\envs\\PythonData\\lib\\site-packages\\sklearn\\neighbors\\_classification.py:179: DataConversionWarning: A column-vector y was passed when a 1d array was expected. Please change the shape of y to (n_samples,), for example using ravel().\n",
      "  return self._fit(X, y)\n"
     ]
    }
   ],
   "source": [
    "# Review a range of K values for most efficient accuracy\n",
    "knn = KNeighborsClassifier(n_neighbors=13)\n",
    "knn.fit(X_train_scaled, y_train)\n",
    "print('k=13 Test Acc: %.3f' % knn.score(X_test_scaled, y_test))"
   ]
  },
  {
   "cell_type": "code",
   "execution_count": 14,
   "metadata": {},
   "outputs": [
    {
     "name": "stdout",
     "output_type": "stream",
     "text": [
      "k=17 Test Acc: 0.583\n"
     ]
    },
    {
     "name": "stderr",
     "output_type": "stream",
     "text": [
      "C:\\Users\\rodge\\anaconda3\\envs\\PythonData\\lib\\site-packages\\sklearn\\neighbors\\_classification.py:179: DataConversionWarning: A column-vector y was passed when a 1d array was expected. Please change the shape of y to (n_samples,), for example using ravel().\n",
      "  return self._fit(X, y)\n"
     ]
    }
   ],
   "source": [
    "# Review a range of K values for most efficient accuracy\n",
    "knn = KNeighborsClassifier(n_neighbors=17)\n",
    "knn.fit(X_train_scaled, y_train)\n",
    "print('k=17 Test Acc: %.3f' % knn.score(X_test_scaled, y_test))"
   ]
  },
  {
   "cell_type": "code",
   "execution_count": 15,
   "metadata": {},
   "outputs": [
    {
     "data": {
      "text/plain": [
       "KNeighborsClassifier(n_neighbors=17)"
      ]
     },
     "execution_count": 15,
     "metadata": {},
     "output_type": "execute_result"
    }
   ],
   "source": [
    "# Create the KNN model for GridSearchCV enhancement\n",
    "#from sklearn.svm import SVC \n",
    "modelc = KNeighborsClassifier(n_neighbors=17)\n",
    "modelc"
   ]
  },
  {
   "cell_type": "code",
   "execution_count": 16,
   "metadata": {},
   "outputs": [],
   "source": [
    "# Train the model with GridSearch\n",
    "param_grid = {'algorithm': ['ball_tree', 'kd_tree', 'brute'],\n",
    "              'leaf_size': [15, 20, 30]}\n",
    "gridc = GridSearchCV(modelc, param_grid, verbose=3)"
   ]
  },
  {
   "cell_type": "code",
   "execution_count": 17,
   "metadata": {},
   "outputs": [
    {
     "name": "stdout",
     "output_type": "stream",
     "text": [
      "Fitting 5 folds for each of 9 candidates, totalling 45 fits\n",
      "[CV 1/5] END ..............algorithm=ball_tree, leaf_size=15; total time=   0.0s\n",
      "[CV 2/5] END ..............algorithm=ball_tree, leaf_size=15; total time=   0.0s\n",
      "[CV 3/5] END ..............algorithm=ball_tree, leaf_size=15; total time=   0.0s\n",
      "[CV 4/5] END ..............algorithm=ball_tree, leaf_size=15; total time=   0.0s\n",
      "[CV 5/5] END ..............algorithm=ball_tree, leaf_size=15; total time=   0.0s\n",
      "[CV 1/5] END ..............algorithm=ball_tree, leaf_size=20; total time=   0.0s\n"
     ]
    },
    {
     "name": "stderr",
     "output_type": "stream",
     "text": [
      "C:\\Users\\rodge\\anaconda3\\envs\\PythonData\\lib\\site-packages\\sklearn\\neighbors\\_classification.py:179: DataConversionWarning: A column-vector y was passed when a 1d array was expected. Please change the shape of y to (n_samples,), for example using ravel().\n",
      "  return self._fit(X, y)\n",
      "C:\\Users\\rodge\\anaconda3\\envs\\PythonData\\lib\\site-packages\\sklearn\\neighbors\\_classification.py:179: DataConversionWarning: A column-vector y was passed when a 1d array was expected. Please change the shape of y to (n_samples,), for example using ravel().\n",
      "  return self._fit(X, y)\n",
      "C:\\Users\\rodge\\anaconda3\\envs\\PythonData\\lib\\site-packages\\sklearn\\neighbors\\_classification.py:179: DataConversionWarning: A column-vector y was passed when a 1d array was expected. Please change the shape of y to (n_samples,), for example using ravel().\n",
      "  return self._fit(X, y)\n",
      "C:\\Users\\rodge\\anaconda3\\envs\\PythonData\\lib\\site-packages\\sklearn\\neighbors\\_classification.py:179: DataConversionWarning: A column-vector y was passed when a 1d array was expected. Please change the shape of y to (n_samples,), for example using ravel().\n",
      "  return self._fit(X, y)\n",
      "C:\\Users\\rodge\\anaconda3\\envs\\PythonData\\lib\\site-packages\\sklearn\\neighbors\\_classification.py:179: DataConversionWarning: A column-vector y was passed when a 1d array was expected. Please change the shape of y to (n_samples,), for example using ravel().\n",
      "  return self._fit(X, y)\n",
      "C:\\Users\\rodge\\anaconda3\\envs\\PythonData\\lib\\site-packages\\sklearn\\neighbors\\_classification.py:179: DataConversionWarning: A column-vector y was passed when a 1d array was expected. Please change the shape of y to (n_samples,), for example using ravel().\n",
      "  return self._fit(X, y)\n",
      "C:\\Users\\rodge\\anaconda3\\envs\\PythonData\\lib\\site-packages\\sklearn\\neighbors\\_classification.py:179: DataConversionWarning: A column-vector y was passed when a 1d array was expected. Please change the shape of y to (n_samples,), for example using ravel().\n",
      "  return self._fit(X, y)\n"
     ]
    },
    {
     "name": "stdout",
     "output_type": "stream",
     "text": [
      "[CV 2/5] END ..............algorithm=ball_tree, leaf_size=20; total time=   0.0s\n",
      "[CV 3/5] END ..............algorithm=ball_tree, leaf_size=20; total time=   0.0s\n",
      "[CV 4/5] END ..............algorithm=ball_tree, leaf_size=20; total time=   0.0s\n",
      "[CV 5/5] END ..............algorithm=ball_tree, leaf_size=20; total time=   0.0s\n",
      "[CV 1/5] END ..............algorithm=ball_tree, leaf_size=30; total time=   0.0s\n",
      "[CV 2/5] END ..............algorithm=ball_tree, leaf_size=30; total time=   0.0s\n",
      "[CV 3/5] END ..............algorithm=ball_tree, leaf_size=30; total time=   0.0s\n",
      "[CV 4/5] END ..............algorithm=ball_tree, leaf_size=30; total time=   0.0s\n",
      "[CV 5/5] END ..............algorithm=ball_tree, leaf_size=30; total time=   0.0s\n"
     ]
    },
    {
     "name": "stderr",
     "output_type": "stream",
     "text": [
      "C:\\Users\\rodge\\anaconda3\\envs\\PythonData\\lib\\site-packages\\sklearn\\neighbors\\_classification.py:179: DataConversionWarning: A column-vector y was passed when a 1d array was expected. Please change the shape of y to (n_samples,), for example using ravel().\n",
      "  return self._fit(X, y)\n",
      "C:\\Users\\rodge\\anaconda3\\envs\\PythonData\\lib\\site-packages\\sklearn\\neighbors\\_classification.py:179: DataConversionWarning: A column-vector y was passed when a 1d array was expected. Please change the shape of y to (n_samples,), for example using ravel().\n",
      "  return self._fit(X, y)\n",
      "C:\\Users\\rodge\\anaconda3\\envs\\PythonData\\lib\\site-packages\\sklearn\\neighbors\\_classification.py:179: DataConversionWarning: A column-vector y was passed when a 1d array was expected. Please change the shape of y to (n_samples,), for example using ravel().\n",
      "  return self._fit(X, y)\n",
      "C:\\Users\\rodge\\anaconda3\\envs\\PythonData\\lib\\site-packages\\sklearn\\neighbors\\_classification.py:179: DataConversionWarning: A column-vector y was passed when a 1d array was expected. Please change the shape of y to (n_samples,), for example using ravel().\n",
      "  return self._fit(X, y)\n",
      "C:\\Users\\rodge\\anaconda3\\envs\\PythonData\\lib\\site-packages\\sklearn\\neighbors\\_classification.py:179: DataConversionWarning: A column-vector y was passed when a 1d array was expected. Please change the shape of y to (n_samples,), for example using ravel().\n",
      "  return self._fit(X, y)\n",
      "C:\\Users\\rodge\\anaconda3\\envs\\PythonData\\lib\\site-packages\\sklearn\\neighbors\\_classification.py:179: DataConversionWarning: A column-vector y was passed when a 1d array was expected. Please change the shape of y to (n_samples,), for example using ravel().\n",
      "  return self._fit(X, y)\n",
      "C:\\Users\\rodge\\anaconda3\\envs\\PythonData\\lib\\site-packages\\sklearn\\neighbors\\_classification.py:179: DataConversionWarning: A column-vector y was passed when a 1d array was expected. Please change the shape of y to (n_samples,), for example using ravel().\n",
      "  return self._fit(X, y)\n",
      "C:\\Users\\rodge\\anaconda3\\envs\\PythonData\\lib\\site-packages\\sklearn\\neighbors\\_classification.py:179: DataConversionWarning: A column-vector y was passed when a 1d array was expected. Please change the shape of y to (n_samples,), for example using ravel().\n",
      "  return self._fit(X, y)\n",
      "C:\\Users\\rodge\\anaconda3\\envs\\PythonData\\lib\\site-packages\\sklearn\\neighbors\\_classification.py:179: DataConversionWarning: A column-vector y was passed when a 1d array was expected. Please change the shape of y to (n_samples,), for example using ravel().\n",
      "  return self._fit(X, y)\n",
      "C:\\Users\\rodge\\anaconda3\\envs\\PythonData\\lib\\site-packages\\sklearn\\neighbors\\_classification.py:179: DataConversionWarning: A column-vector y was passed when a 1d array was expected. Please change the shape of y to (n_samples,), for example using ravel().\n",
      "  return self._fit(X, y)\n",
      "C:\\Users\\rodge\\anaconda3\\envs\\PythonData\\lib\\site-packages\\sklearn\\neighbors\\_classification.py:179: DataConversionWarning: A column-vector y was passed when a 1d array was expected. Please change the shape of y to (n_samples,), for example using ravel().\n",
      "  return self._fit(X, y)\n",
      "C:\\Users\\rodge\\anaconda3\\envs\\PythonData\\lib\\site-packages\\sklearn\\neighbors\\_classification.py:179: DataConversionWarning: A column-vector y was passed when a 1d array was expected. Please change the shape of y to (n_samples,), for example using ravel().\n",
      "  return self._fit(X, y)\n",
      "C:\\Users\\rodge\\anaconda3\\envs\\PythonData\\lib\\site-packages\\sklearn\\neighbors\\_classification.py:179: DataConversionWarning: A column-vector y was passed when a 1d array was expected. Please change the shape of y to (n_samples,), for example using ravel().\n",
      "  return self._fit(X, y)\n",
      "C:\\Users\\rodge\\anaconda3\\envs\\PythonData\\lib\\site-packages\\sklearn\\neighbors\\_classification.py:179: DataConversionWarning: A column-vector y was passed when a 1d array was expected. Please change the shape of y to (n_samples,), for example using ravel().\n",
      "  return self._fit(X, y)\n",
      "C:\\Users\\rodge\\anaconda3\\envs\\PythonData\\lib\\site-packages\\sklearn\\neighbors\\_classification.py:179: DataConversionWarning: A column-vector y was passed when a 1d array was expected. Please change the shape of y to (n_samples,), for example using ravel().\n",
      "  return self._fit(X, y)\n"
     ]
    },
    {
     "name": "stdout",
     "output_type": "stream",
     "text": [
      "[CV 1/5] END ................algorithm=kd_tree, leaf_size=15; total time=   0.0s\n",
      "[CV 2/5] END ................algorithm=kd_tree, leaf_size=15; total time=   0.0s\n",
      "[CV 3/5] END ................algorithm=kd_tree, leaf_size=15; total time=   0.0s\n",
      "[CV 4/5] END ................algorithm=kd_tree, leaf_size=15; total time=   0.0s\n",
      "[CV 5/5] END ................algorithm=kd_tree, leaf_size=15; total time=   0.0s\n",
      "[CV 1/5] END ................algorithm=kd_tree, leaf_size=20; total time=   0.0s\n",
      "[CV 2/5] END ................algorithm=kd_tree, leaf_size=20; total time=   0.0s\n",
      "[CV 3/5] END ................algorithm=kd_tree, leaf_size=20; total time=   0.0s\n"
     ]
    },
    {
     "name": "stderr",
     "output_type": "stream",
     "text": [
      "C:\\Users\\rodge\\anaconda3\\envs\\PythonData\\lib\\site-packages\\sklearn\\neighbors\\_classification.py:179: DataConversionWarning: A column-vector y was passed when a 1d array was expected. Please change the shape of y to (n_samples,), for example using ravel().\n",
      "  return self._fit(X, y)\n",
      "C:\\Users\\rodge\\anaconda3\\envs\\PythonData\\lib\\site-packages\\sklearn\\neighbors\\_classification.py:179: DataConversionWarning: A column-vector y was passed when a 1d array was expected. Please change the shape of y to (n_samples,), for example using ravel().\n",
      "  return self._fit(X, y)\n",
      "C:\\Users\\rodge\\anaconda3\\envs\\PythonData\\lib\\site-packages\\sklearn\\neighbors\\_classification.py:179: DataConversionWarning: A column-vector y was passed when a 1d array was expected. Please change the shape of y to (n_samples,), for example using ravel().\n",
      "  return self._fit(X, y)\n",
      "C:\\Users\\rodge\\anaconda3\\envs\\PythonData\\lib\\site-packages\\sklearn\\neighbors\\_classification.py:179: DataConversionWarning: A column-vector y was passed when a 1d array was expected. Please change the shape of y to (n_samples,), for example using ravel().\n",
      "  return self._fit(X, y)\n",
      "C:\\Users\\rodge\\anaconda3\\envs\\PythonData\\lib\\site-packages\\sklearn\\neighbors\\_classification.py:179: DataConversionWarning: A column-vector y was passed when a 1d array was expected. Please change the shape of y to (n_samples,), for example using ravel().\n",
      "  return self._fit(X, y)\n",
      "C:\\Users\\rodge\\anaconda3\\envs\\PythonData\\lib\\site-packages\\sklearn\\neighbors\\_classification.py:179: DataConversionWarning: A column-vector y was passed when a 1d array was expected. Please change the shape of y to (n_samples,), for example using ravel().\n",
      "  return self._fit(X, y)\n",
      "C:\\Users\\rodge\\anaconda3\\envs\\PythonData\\lib\\site-packages\\sklearn\\neighbors\\_classification.py:179: DataConversionWarning: A column-vector y was passed when a 1d array was expected. Please change the shape of y to (n_samples,), for example using ravel().\n",
      "  return self._fit(X, y)\n"
     ]
    },
    {
     "name": "stdout",
     "output_type": "stream",
     "text": [
      "[CV 4/5] END ................algorithm=kd_tree, leaf_size=20; total time=   0.0s\n",
      "[CV 5/5] END ................algorithm=kd_tree, leaf_size=20; total time=   0.0s\n",
      "[CV 1/5] END ................algorithm=kd_tree, leaf_size=30; total time=   0.0s\n",
      "[CV 2/5] END ................algorithm=kd_tree, leaf_size=30; total time=   0.0s\n",
      "[CV 3/5] END ................algorithm=kd_tree, leaf_size=30; total time=   0.0s\n",
      "[CV 4/5] END ................algorithm=kd_tree, leaf_size=30; total time=   0.0s\n",
      "[CV 5/5] END ................algorithm=kd_tree, leaf_size=30; total time=   0.0s\n",
      "[CV 1/5] END ..................algorithm=brute, leaf_size=15; total time=   0.0s"
     ]
    },
    {
     "name": "stderr",
     "output_type": "stream",
     "text": [
      "C:\\Users\\rodge\\anaconda3\\envs\\PythonData\\lib\\site-packages\\sklearn\\neighbors\\_classification.py:179: DataConversionWarning: A column-vector y was passed when a 1d array was expected. Please change the shape of y to (n_samples,), for example using ravel().\n",
      "  return self._fit(X, y)\n",
      "C:\\Users\\rodge\\anaconda3\\envs\\PythonData\\lib\\site-packages\\sklearn\\neighbors\\_classification.py:179: DataConversionWarning: A column-vector y was passed when a 1d array was expected. Please change the shape of y to (n_samples,), for example using ravel().\n",
      "  return self._fit(X, y)\n",
      "C:\\Users\\rodge\\anaconda3\\envs\\PythonData\\lib\\site-packages\\sklearn\\neighbors\\_classification.py:179: DataConversionWarning: A column-vector y was passed when a 1d array was expected. Please change the shape of y to (n_samples,), for example using ravel().\n",
      "  return self._fit(X, y)\n",
      "C:\\Users\\rodge\\anaconda3\\envs\\PythonData\\lib\\site-packages\\sklearn\\neighbors\\_classification.py:179: DataConversionWarning: A column-vector y was passed when a 1d array was expected. Please change the shape of y to (n_samples,), for example using ravel().\n",
      "  return self._fit(X, y)\n",
      "C:\\Users\\rodge\\anaconda3\\envs\\PythonData\\lib\\site-packages\\sklearn\\neighbors\\_classification.py:179: DataConversionWarning: A column-vector y was passed when a 1d array was expected. Please change the shape of y to (n_samples,), for example using ravel().\n",
      "  return self._fit(X, y)\n",
      "C:\\Users\\rodge\\anaconda3\\envs\\PythonData\\lib\\site-packages\\sklearn\\neighbors\\_classification.py:179: DataConversionWarning: A column-vector y was passed when a 1d array was expected. Please change the shape of y to (n_samples,), for example using ravel().\n",
      "  return self._fit(X, y)\n",
      "C:\\Users\\rodge\\anaconda3\\envs\\PythonData\\lib\\site-packages\\sklearn\\neighbors\\_classification.py:179: DataConversionWarning: A column-vector y was passed when a 1d array was expected. Please change the shape of y to (n_samples,), for example using ravel().\n",
      "  return self._fit(X, y)\n"
     ]
    },
    {
     "name": "stdout",
     "output_type": "stream",
     "text": [
      "\n",
      "[CV 2/5] END ..................algorithm=brute, leaf_size=15; total time=   0.0s\n",
      "[CV 3/5] END ..................algorithm=brute, leaf_size=15; total time=   0.0s\n",
      "[CV 4/5] END ..................algorithm=brute, leaf_size=15; total time=   0.0s\n",
      "[CV 5/5] END ..................algorithm=brute, leaf_size=15; total time=   0.0s\n",
      "[CV 1/5] END ..................algorithm=brute, leaf_size=20; total time=   0.0s\n",
      "[CV 2/5] END ..................algorithm=brute, leaf_size=20; total time=   0.0s\n",
      "[CV 3/5] END ..................algorithm=brute, leaf_size=20; total time=   0.0s"
     ]
    },
    {
     "name": "stderr",
     "output_type": "stream",
     "text": [
      "C:\\Users\\rodge\\anaconda3\\envs\\PythonData\\lib\\site-packages\\sklearn\\neighbors\\_classification.py:179: DataConversionWarning: A column-vector y was passed when a 1d array was expected. Please change the shape of y to (n_samples,), for example using ravel().\n",
      "  return self._fit(X, y)\n",
      "C:\\Users\\rodge\\anaconda3\\envs\\PythonData\\lib\\site-packages\\sklearn\\neighbors\\_classification.py:179: DataConversionWarning: A column-vector y was passed when a 1d array was expected. Please change the shape of y to (n_samples,), for example using ravel().\n",
      "  return self._fit(X, y)\n",
      "C:\\Users\\rodge\\anaconda3\\envs\\PythonData\\lib\\site-packages\\sklearn\\neighbors\\_classification.py:179: DataConversionWarning: A column-vector y was passed when a 1d array was expected. Please change the shape of y to (n_samples,), for example using ravel().\n",
      "  return self._fit(X, y)\n",
      "C:\\Users\\rodge\\anaconda3\\envs\\PythonData\\lib\\site-packages\\sklearn\\neighbors\\_classification.py:179: DataConversionWarning: A column-vector y was passed when a 1d array was expected. Please change the shape of y to (n_samples,), for example using ravel().\n",
      "  return self._fit(X, y)\n",
      "C:\\Users\\rodge\\anaconda3\\envs\\PythonData\\lib\\site-packages\\sklearn\\neighbors\\_classification.py:179: DataConversionWarning: A column-vector y was passed when a 1d array was expected. Please change the shape of y to (n_samples,), for example using ravel().\n",
      "  return self._fit(X, y)\n",
      "C:\\Users\\rodge\\anaconda3\\envs\\PythonData\\lib\\site-packages\\sklearn\\neighbors\\_classification.py:179: DataConversionWarning: A column-vector y was passed when a 1d array was expected. Please change the shape of y to (n_samples,), for example using ravel().\n",
      "  return self._fit(X, y)\n",
      "C:\\Users\\rodge\\anaconda3\\envs\\PythonData\\lib\\site-packages\\sklearn\\neighbors\\_classification.py:179: DataConversionWarning: A column-vector y was passed when a 1d array was expected. Please change the shape of y to (n_samples,), for example using ravel().\n",
      "  return self._fit(X, y)\n"
     ]
    },
    {
     "name": "stdout",
     "output_type": "stream",
     "text": [
      "\n",
      "[CV 4/5] END ..................algorithm=brute, leaf_size=20; total time=   0.0s\n",
      "[CV 5/5] END ..................algorithm=brute, leaf_size=20; total time=   0.0s\n",
      "[CV 1/5] END ..................algorithm=brute, leaf_size=30; total time=   0.0s\n",
      "[CV 2/5] END ..................algorithm=brute, leaf_size=30; total time=   0.0s\n",
      "[CV 3/5] END ..................algorithm=brute, leaf_size=30; total time=   0.0s\n",
      "[CV 4/5] END ..................algorithm=brute, leaf_size=30; total time=   0.0s\n",
      "[CV 5/5] END ..................algorithm=brute, leaf_size=30; total time=   0.0s\n"
     ]
    },
    {
     "name": "stderr",
     "output_type": "stream",
     "text": [
      "C:\\Users\\rodge\\anaconda3\\envs\\PythonData\\lib\\site-packages\\sklearn\\neighbors\\_classification.py:179: DataConversionWarning: A column-vector y was passed when a 1d array was expected. Please change the shape of y to (n_samples,), for example using ravel().\n",
      "  return self._fit(X, y)\n",
      "C:\\Users\\rodge\\anaconda3\\envs\\PythonData\\lib\\site-packages\\sklearn\\neighbors\\_classification.py:179: DataConversionWarning: A column-vector y was passed when a 1d array was expected. Please change the shape of y to (n_samples,), for example using ravel().\n",
      "  return self._fit(X, y)\n",
      "C:\\Users\\rodge\\anaconda3\\envs\\PythonData\\lib\\site-packages\\sklearn\\neighbors\\_classification.py:179: DataConversionWarning: A column-vector y was passed when a 1d array was expected. Please change the shape of y to (n_samples,), for example using ravel().\n",
      "  return self._fit(X, y)\n"
     ]
    },
    {
     "data": {
      "text/plain": [
       "GridSearchCV(estimator=KNeighborsClassifier(n_neighbors=17),\n",
       "             param_grid={'algorithm': ['ball_tree', 'kd_tree', 'brute'],\n",
       "                         'leaf_size': [15, 20, 30]},\n",
       "             verbose=3)"
      ]
     },
     "execution_count": 17,
     "metadata": {},
     "output_type": "execute_result"
    }
   ],
   "source": [
    "gridc.fit(X_train_scaled, y_train)"
   ]
  },
  {
   "cell_type": "code",
   "execution_count": 18,
   "metadata": {},
   "outputs": [
    {
     "name": "stdout",
     "output_type": "stream",
     "text": [
      "{'algorithm': 'ball_tree', 'leaf_size': 15}\n",
      "0.5552368789150398\n"
     ]
    }
   ],
   "source": [
    "print(gridc.best_params_)\n",
    "print(gridc.best_score_)"
   ]
  },
  {
   "cell_type": "code",
   "execution_count": 19,
   "metadata": {},
   "outputs": [],
   "source": [
    "predictions = gridc.predict(X_test)"
   ]
  },
  {
   "cell_type": "code",
   "execution_count": 20,
   "metadata": {},
   "outputs": [
    {
     "name": "stdout",
     "output_type": "stream",
     "text": [
      "              precision    recall  f1-score   support\n",
      "\n",
      "           3       0.40      0.54      0.46       179\n",
      "           2       0.54      0.64      0.59       367\n",
      "           1       0.00      0.00      0.00       131\n",
      "\n",
      "    accuracy                           0.49       677\n",
      "   macro avg       0.31      0.39      0.35       677\n",
      "weighted avg       0.40      0.49      0.44       677\n",
      "\n"
     ]
    },
    {
     "name": "stderr",
     "output_type": "stream",
     "text": [
      "C:\\Users\\rodge\\anaconda3\\envs\\PythonData\\lib\\site-packages\\sklearn\\metrics\\_classification.py:1245: UndefinedMetricWarning: Precision and F-score are ill-defined and being set to 0.0 in labels with no predicted samples. Use `zero_division` parameter to control this behavior.\n",
      "  _warn_prf(average, modifier, msg_start, len(result))\n",
      "C:\\Users\\rodge\\anaconda3\\envs\\PythonData\\lib\\site-packages\\sklearn\\metrics\\_classification.py:1245: UndefinedMetricWarning: Precision and F-score are ill-defined and being set to 0.0 in labels with no predicted samples. Use `zero_division` parameter to control this behavior.\n",
      "  _warn_prf(average, modifier, msg_start, len(result))\n",
      "C:\\Users\\rodge\\anaconda3\\envs\\PythonData\\lib\\site-packages\\sklearn\\metrics\\_classification.py:1245: UndefinedMetricWarning: Precision and F-score are ill-defined and being set to 0.0 in labels with no predicted samples. Use `zero_division` parameter to control this behavior.\n",
      "  _warn_prf(average, modifier, msg_start, len(result))\n"
     ]
    }
   ],
   "source": [
    "# Calculate classification report\n",
    "print(classification_report(y_test, predictions,\n",
    "                            target_names=[\"3\", \"2\" , \"1\"]))"
   ]
  },
  {
   "cell_type": "code",
   "execution_count": null,
   "metadata": {},
   "outputs": [],
   "source": []
  },
  {
   "cell_type": "code",
   "execution_count": null,
   "metadata": {},
   "outputs": [],
   "source": []
  }
 ],
 "metadata": {
  "kernelspec": {
   "display_name": "Python [conda env:PythonData]",
   "language": "python",
   "name": "conda-env-PythonData-py"
  },
  "language_info": {
   "codemirror_mode": {
    "name": "ipython",
    "version": 3
   },
   "file_extension": ".py",
   "mimetype": "text/x-python",
   "name": "python",
   "nbconvert_exporter": "python",
   "pygments_lexer": "ipython3",
   "version": "3.7.1"
  }
 },
 "nbformat": 4,
 "nbformat_minor": 4
}
