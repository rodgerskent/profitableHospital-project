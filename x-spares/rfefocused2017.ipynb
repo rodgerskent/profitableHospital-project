{
 "cells": [
  {
   "cell_type": "code",
   "execution_count": 1,
   "metadata": {},
   "outputs": [],
   "source": [
    "#profitableHospital-project"
   ]
  },
  {
   "cell_type": "code",
   "execution_count": 2,
   "metadata": {},
   "outputs": [],
   "source": [
    "#dependencies\n",
    "import pandas as pd\n",
    "import requests\n",
    "import json\n",
    "import scipy.stats as st\n",
    "from scipy.stats import linregress\n",
    "from sklearn.model_selection import train_test_split\n",
    "from sklearn.preprocessing import LabelEncoder, MinMaxScaler\n",
    "from sklearn.preprocessing import LabelEncoder\n",
    "from sklearn.feature_selection import RFE\n",
    "from sklearn.linear_model import LogisticRegression\n",
    "from sklearn.linear_model import LinearRegression\n",
    "from sklearn.svm import SVC \n",
    "from sklearn.model_selection import GridSearchCV\n",
    "from sklearn.metrics import classification_report\n",
    "import tensorflow\n",
    "from tensorflow.keras.utils import to_categorical\n",
    "import matplotlib.pyplot as plt\n",
    "import numpy as np\n",
    "import joblib"
   ]
  },
  {
   "cell_type": "code",
   "execution_count": 3,
   "metadata": {},
   "outputs": [],
   "source": [
    "# ... File Imports"
   ]
  },
  {
   "cell_type": "code",
   "execution_count": 4,
   "metadata": {},
   "outputs": [
    {
     "name": "stderr",
     "output_type": "stream",
     "text": [
      "C:\\Users\\rodge\\anaconda3\\envs\\PythonData\\lib\\site-packages\\IPython\\core\\interactiveshell.py:3146: DtypeWarning: Columns (105) have mixed types.Specify dtype option on import or set low_memory=False.\n",
      "  interactivity=interactivity, compiler=compiler, result=result)\n"
     ]
    },
    {
     "data": {
      "text/html": [
       "<div>\n",
       "<style scoped>\n",
       "    .dataframe tbody tr th:only-of-type {\n",
       "        vertical-align: middle;\n",
       "    }\n",
       "\n",
       "    .dataframe tbody tr th {\n",
       "        vertical-align: top;\n",
       "    }\n",
       "\n",
       "    .dataframe thead th {\n",
       "        text-align: right;\n",
       "    }\n",
       "</style>\n",
       "<table border=\"1\" class=\"dataframe\">\n",
       "  <thead>\n",
       "    <tr style=\"text-align: right;\">\n",
       "      <th></th>\n",
       "      <th>Provider CCN</th>\n",
       "      <th>Hospital Name</th>\n",
       "      <th>Street Address</th>\n",
       "      <th>City</th>\n",
       "      <th>State Code</th>\n",
       "      <th>Zip Code</th>\n",
       "      <th>County</th>\n",
       "      <th>Medicare CBSA Number</th>\n",
       "      <th>Rural Versus Urban</th>\n",
       "      <th>CCN Facility Type</th>\n",
       "      <th>...</th>\n",
       "      <th>Total Other Income</th>\n",
       "      <th>Total Income</th>\n",
       "      <th>Total Other Expenses</th>\n",
       "      <th>Net Income</th>\n",
       "      <th>Cost To Charge Ratio</th>\n",
       "      <th>Net Revenue from Medicaid</th>\n",
       "      <th>Medicaid Charges</th>\n",
       "      <th>Net Revenue from Stand-Alone SCHIP</th>\n",
       "      <th>Stand-Alone SCHIP Charges</th>\n",
       "      <th>rpt_rec_num</th>\n",
       "    </tr>\n",
       "  </thead>\n",
       "  <tbody>\n",
       "    <tr>\n",
       "      <th>0</th>\n",
       "      <td>510013</td>\n",
       "      <td>REYNOLDS MEMORIAL HOSPITAL</td>\n",
       "      <td>800 WHEELING AVENUE</td>\n",
       "      <td>GLEN DALE</td>\n",
       "      <td>WV</td>\n",
       "      <td>26038</td>\n",
       "      <td>MARSHALL</td>\n",
       "      <td>48540.0</td>\n",
       "      <td>U</td>\n",
       "      <td>STH</td>\n",
       "      <td>...</td>\n",
       "      <td>4492364.0</td>\n",
       "      <td>2638799.0</td>\n",
       "      <td>NaN</td>\n",
       "      <td>2638799.0</td>\n",
       "      <td>0.453498</td>\n",
       "      <td>1237912.0</td>\n",
       "      <td>4026663.0</td>\n",
       "      <td>NaN</td>\n",
       "      <td>NaN</td>\n",
       "      <td>599181</td>\n",
       "    </tr>\n",
       "    <tr>\n",
       "      <th>1</th>\n",
       "      <td>340106</td>\n",
       "      <td>SANDHILLS REGIONAL MEDICAL CENTER</td>\n",
       "      <td>1000 WEST HAMLET AVE</td>\n",
       "      <td>HAMLET</td>\n",
       "      <td>NC</td>\n",
       "      <td>28345</td>\n",
       "      <td>RICHMOND</td>\n",
       "      <td>99934.0</td>\n",
       "      <td>R</td>\n",
       "      <td>STH</td>\n",
       "      <td>...</td>\n",
       "      <td>31174.0</td>\n",
       "      <td>-1114660.0</td>\n",
       "      <td>NaN</td>\n",
       "      <td>-1114660.0</td>\n",
       "      <td>0.173114</td>\n",
       "      <td>391215.0</td>\n",
       "      <td>4981119.0</td>\n",
       "      <td>NaN</td>\n",
       "      <td>NaN</td>\n",
       "      <td>601095</td>\n",
       "    </tr>\n",
       "  </tbody>\n",
       "</table>\n",
       "<p>2 rows × 128 columns</p>\n",
       "</div>"
      ],
      "text/plain": [
       "   Provider CCN                      Hospital Name        Street Address  \\\n",
       "0        510013         REYNOLDS MEMORIAL HOSPITAL   800 WHEELING AVENUE   \n",
       "1        340106  SANDHILLS REGIONAL MEDICAL CENTER  1000 WEST HAMLET AVE   \n",
       "\n",
       "        City State Code Zip Code    County  Medicare CBSA Number  \\\n",
       "0  GLEN DALE         WV    26038  MARSHALL               48540.0   \n",
       "1     HAMLET         NC    28345  RICHMOND               99934.0   \n",
       "\n",
       "  Rural Versus Urban CCN Facility Type  ...  Total Other Income  Total Income  \\\n",
       "0                  U               STH  ...           4492364.0     2638799.0   \n",
       "1                  R               STH  ...             31174.0    -1114660.0   \n",
       "\n",
       "  Total Other Expenses Net Income  Cost To Charge Ratio  \\\n",
       "0                  NaN  2638799.0              0.453498   \n",
       "1                  NaN -1114660.0              0.173114   \n",
       "\n",
       "   Net Revenue from Medicaid  Medicaid Charges  \\\n",
       "0                  1237912.0         4026663.0   \n",
       "1                   391215.0         4981119.0   \n",
       "\n",
       "   Net Revenue from Stand-Alone SCHIP  Stand-Alone SCHIP Charges  rpt_rec_num  \n",
       "0                                 NaN                        NaN       599181  \n",
       "1                                 NaN                        NaN       601095  \n",
       "\n",
       "[2 rows x 128 columns]"
      ]
     },
     "execution_count": 4,
     "metadata": {},
     "output_type": "execute_result"
    }
   ],
   "source": [
    "#2017 Hospital Data from Centers for Medicare Services\n",
    "df = pd.read_csv(\"Medicare_Hospital_Cost_Report_PUF_2017.csv\")\n",
    "df.head(2)"
   ]
  },
  {
   "cell_type": "code",
   "execution_count": 5,
   "metadata": {},
   "outputs": [
    {
     "data": {
      "text/plain": [
       "6075"
      ]
     },
     "execution_count": 5,
     "metadata": {},
     "output_type": "execute_result"
    }
   ],
   "source": [
    "#Quick Check\n",
    "df['Provider CCN'].nunique()"
   ]
  },
  {
   "cell_type": "code",
   "execution_count": 6,
   "metadata": {},
   "outputs": [
    {
     "data": {
      "text/plain": [
       "6171"
      ]
     },
     "execution_count": 6,
     "metadata": {},
     "output_type": "execute_result"
    }
   ],
   "source": [
    "#Quick Check\n",
    "df['Provider CCN'].count()"
   ]
  },
  {
   "cell_type": "code",
   "execution_count": 7,
   "metadata": {},
   "outputs": [
    {
     "data": {
      "text/plain": [
       "6171"
      ]
     },
     "execution_count": 7,
     "metadata": {},
     "output_type": "execute_result"
    }
   ],
   "source": [
    "df.drop_duplicates(inplace = True)\n",
    "df['Provider CCN'].count()"
   ]
  },
  {
   "cell_type": "code",
   "execution_count": 8,
   "metadata": {},
   "outputs": [
    {
     "data": {
      "text/html": [
       "<div>\n",
       "<style scoped>\n",
       "    .dataframe tbody tr th:only-of-type {\n",
       "        vertical-align: middle;\n",
       "    }\n",
       "\n",
       "    .dataframe tbody tr th {\n",
       "        vertical-align: top;\n",
       "    }\n",
       "\n",
       "    .dataframe thead th {\n",
       "        text-align: right;\n",
       "    }\n",
       "</style>\n",
       "<table border=\"1\" class=\"dataframe\">\n",
       "  <thead>\n",
       "    <tr style=\"text-align: right;\">\n",
       "      <th></th>\n",
       "      <th>State Code</th>\n",
       "      <th>CON</th>\n",
       "    </tr>\n",
       "  </thead>\n",
       "  <tbody>\n",
       "    <tr>\n",
       "      <th>0</th>\n",
       "      <td>AK</td>\n",
       "      <td>1</td>\n",
       "    </tr>\n",
       "    <tr>\n",
       "      <th>1</th>\n",
       "      <td>AL</td>\n",
       "      <td>1</td>\n",
       "    </tr>\n",
       "  </tbody>\n",
       "</table>\n",
       "</div>"
      ],
      "text/plain": [
       "  State Code  CON\n",
       "0         AK    1\n",
       "1         AL    1"
      ]
     },
     "execution_count": 8,
     "metadata": {},
     "output_type": "execute_result"
    }
   ],
   "source": [
    "#Certificate of Need Status by State File\n",
    "conTable = pd.read_csv(\"certificateofneedstatesTable.csv\")\n",
    "conTable.head(2)"
   ]
  },
  {
   "cell_type": "code",
   "execution_count": 9,
   "metadata": {},
   "outputs": [
    {
     "data": {
      "text/html": [
       "<div>\n",
       "<style scoped>\n",
       "    .dataframe tbody tr th:only-of-type {\n",
       "        vertical-align: middle;\n",
       "    }\n",
       "\n",
       "    .dataframe tbody tr th {\n",
       "        vertical-align: top;\n",
       "    }\n",
       "\n",
       "    .dataframe thead th {\n",
       "        text-align: right;\n",
       "    }\n",
       "</style>\n",
       "<table border=\"1\" class=\"dataframe\">\n",
       "  <thead>\n",
       "    <tr style=\"text-align: right;\">\n",
       "      <th></th>\n",
       "      <th>Rural Versus Urban</th>\n",
       "      <th>Urban</th>\n",
       "    </tr>\n",
       "  </thead>\n",
       "  <tbody>\n",
       "    <tr>\n",
       "      <th>0</th>\n",
       "      <td>U</td>\n",
       "      <td>1</td>\n",
       "    </tr>\n",
       "    <tr>\n",
       "      <th>1</th>\n",
       "      <td>R</td>\n",
       "      <td>0</td>\n",
       "    </tr>\n",
       "  </tbody>\n",
       "</table>\n",
       "</div>"
      ],
      "text/plain": [
       "  Rural Versus Urban  Urban\n",
       "0                  U      1\n",
       "1                  R      0"
      ]
     },
     "execution_count": 9,
     "metadata": {},
     "output_type": "execute_result"
    }
   ],
   "source": [
    "#String to Numeric Conversion Table for Urban v. Rural designation\n",
    "urbanTable = pd.read_csv(\"ruralversusurbanTable.csv\")\n",
    "urbanTable.head()"
   ]
  },
  {
   "cell_type": "code",
   "execution_count": 10,
   "metadata": {},
   "outputs": [
    {
     "data": {
      "text/html": [
       "<div>\n",
       "<style scoped>\n",
       "    .dataframe tbody tr th:only-of-type {\n",
       "        vertical-align: middle;\n",
       "    }\n",
       "\n",
       "    .dataframe tbody tr th {\n",
       "        vertical-align: top;\n",
       "    }\n",
       "\n",
       "    .dataframe thead th {\n",
       "        text-align: right;\n",
       "    }\n",
       "</style>\n",
       "<table border=\"1\" class=\"dataframe\">\n",
       "  <thead>\n",
       "    <tr style=\"text-align: right;\">\n",
       "      <th></th>\n",
       "      <th>Provider CCN</th>\n",
       "      <th>lat</th>\n",
       "      <th>lng</th>\n",
       "    </tr>\n",
       "  </thead>\n",
       "  <tbody>\n",
       "    <tr>\n",
       "      <th>0</th>\n",
       "      <td>10001</td>\n",
       "      <td>31.215884</td>\n",
       "      <td>-85.363008</td>\n",
       "    </tr>\n",
       "    <tr>\n",
       "      <th>1</th>\n",
       "      <td>10005</td>\n",
       "      <td>34.222103</td>\n",
       "      <td>-86.160908</td>\n",
       "    </tr>\n",
       "  </tbody>\n",
       "</table>\n",
       "</div>"
      ],
      "text/plain": [
       "   Provider CCN        lat        lng\n",
       "0         10001  31.215884 -85.363008\n",
       "1         10005  34.222103 -86.160908"
      ]
     },
     "execution_count": 10,
     "metadata": {},
     "output_type": "execute_result"
    }
   ],
   "source": [
    "#Lattitude & Longitude for the 2017 hospital listing\n",
    "geoTable = pd.read_csv(\"ccn2geocode.csv\")\n",
    "geoTable.head(2)"
   ]
  },
  {
   "cell_type": "code",
   "execution_count": 11,
   "metadata": {},
   "outputs": [
    {
     "data": {
      "text/plain": [
       "6075"
      ]
     },
     "execution_count": 11,
     "metadata": {},
     "output_type": "execute_result"
    }
   ],
   "source": [
    "#Quick Check\n",
    "geoTable['Provider CCN'].count()"
   ]
  },
  {
   "cell_type": "code",
   "execution_count": 12,
   "metadata": {},
   "outputs": [],
   "source": [
    "# ... Appending of source files into one main working file"
   ]
  },
  {
   "cell_type": "code",
   "execution_count": 13,
   "metadata": {},
   "outputs": [],
   "source": [
    "mainFile1 = df"
   ]
  },
  {
   "cell_type": "code",
   "execution_count": 14,
   "metadata": {},
   "outputs": [
    {
     "data": {
      "text/html": [
       "<div>\n",
       "<style scoped>\n",
       "    .dataframe tbody tr th:only-of-type {\n",
       "        vertical-align: middle;\n",
       "    }\n",
       "\n",
       "    .dataframe tbody tr th {\n",
       "        vertical-align: top;\n",
       "    }\n",
       "\n",
       "    .dataframe thead th {\n",
       "        text-align: right;\n",
       "    }\n",
       "</style>\n",
       "<table border=\"1\" class=\"dataframe\">\n",
       "  <thead>\n",
       "    <tr style=\"text-align: right;\">\n",
       "      <th></th>\n",
       "      <th>Provider CCN</th>\n",
       "      <th>Hospital Name</th>\n",
       "      <th>Street Address</th>\n",
       "      <th>City</th>\n",
       "      <th>State Code</th>\n",
       "      <th>Zip Code</th>\n",
       "      <th>County</th>\n",
       "      <th>Medicare CBSA Number</th>\n",
       "      <th>Rural Versus Urban</th>\n",
       "      <th>CCN Facility Type</th>\n",
       "      <th>...</th>\n",
       "      <th>Total Other Expenses</th>\n",
       "      <th>Net Income</th>\n",
       "      <th>Cost To Charge Ratio</th>\n",
       "      <th>Net Revenue from Medicaid</th>\n",
       "      <th>Medicaid Charges</th>\n",
       "      <th>Net Revenue from Stand-Alone SCHIP</th>\n",
       "      <th>Stand-Alone SCHIP Charges</th>\n",
       "      <th>rpt_rec_num</th>\n",
       "      <th>lat</th>\n",
       "      <th>lng</th>\n",
       "    </tr>\n",
       "  </thead>\n",
       "  <tbody>\n",
       "    <tr>\n",
       "      <th>0</th>\n",
       "      <td>510013</td>\n",
       "      <td>REYNOLDS MEMORIAL HOSPITAL</td>\n",
       "      <td>800 WHEELING AVENUE</td>\n",
       "      <td>GLEN DALE</td>\n",
       "      <td>WV</td>\n",
       "      <td>26038</td>\n",
       "      <td>MARSHALL</td>\n",
       "      <td>48540.0</td>\n",
       "      <td>U</td>\n",
       "      <td>STH</td>\n",
       "      <td>...</td>\n",
       "      <td>NaN</td>\n",
       "      <td>2638799.0</td>\n",
       "      <td>0.453498</td>\n",
       "      <td>1237912.0</td>\n",
       "      <td>4026663.0</td>\n",
       "      <td>NaN</td>\n",
       "      <td>NaN</td>\n",
       "      <td>599181</td>\n",
       "      <td>39.946236</td>\n",
       "      <td>-80.752966</td>\n",
       "    </tr>\n",
       "    <tr>\n",
       "      <th>1</th>\n",
       "      <td>340106</td>\n",
       "      <td>SANDHILLS REGIONAL MEDICAL CENTER</td>\n",
       "      <td>1000 WEST HAMLET AVE</td>\n",
       "      <td>HAMLET</td>\n",
       "      <td>NC</td>\n",
       "      <td>28345</td>\n",
       "      <td>RICHMOND</td>\n",
       "      <td>99934.0</td>\n",
       "      <td>R</td>\n",
       "      <td>STH</td>\n",
       "      <td>...</td>\n",
       "      <td>NaN</td>\n",
       "      <td>-1114660.0</td>\n",
       "      <td>0.173114</td>\n",
       "      <td>391215.0</td>\n",
       "      <td>4981119.0</td>\n",
       "      <td>NaN</td>\n",
       "      <td>NaN</td>\n",
       "      <td>601095</td>\n",
       "      <td>34.901612</td>\n",
       "      <td>-79.708561</td>\n",
       "    </tr>\n",
       "  </tbody>\n",
       "</table>\n",
       "<p>2 rows × 130 columns</p>\n",
       "</div>"
      ],
      "text/plain": [
       "   Provider CCN                      Hospital Name        Street Address  \\\n",
       "0        510013         REYNOLDS MEMORIAL HOSPITAL   800 WHEELING AVENUE   \n",
       "1        340106  SANDHILLS REGIONAL MEDICAL CENTER  1000 WEST HAMLET AVE   \n",
       "\n",
       "        City State Code Zip Code    County  Medicare CBSA Number  \\\n",
       "0  GLEN DALE         WV    26038  MARSHALL               48540.0   \n",
       "1     HAMLET         NC    28345  RICHMOND               99934.0   \n",
       "\n",
       "  Rural Versus Urban CCN Facility Type  ...  Total Other Expenses  Net Income  \\\n",
       "0                  U               STH  ...                   NaN   2638799.0   \n",
       "1                  R               STH  ...                   NaN  -1114660.0   \n",
       "\n",
       "  Cost To Charge Ratio Net Revenue from Medicaid  Medicaid Charges  \\\n",
       "0             0.453498                 1237912.0         4026663.0   \n",
       "1             0.173114                  391215.0         4981119.0   \n",
       "\n",
       "   Net Revenue from Stand-Alone SCHIP  Stand-Alone SCHIP Charges  rpt_rec_num  \\\n",
       "0                                 NaN                        NaN       599181   \n",
       "1                                 NaN                        NaN       601095   \n",
       "\n",
       "         lat        lng  \n",
       "0  39.946236 -80.752966  \n",
       "1  34.901612 -79.708561  \n",
       "\n",
       "[2 rows x 130 columns]"
      ]
     },
     "execution_count": 14,
     "metadata": {},
     "output_type": "execute_result"
    }
   ],
   "source": [
    "#Append lattitude & longitude\n",
    "mainFile1 = pd.merge(mainFile1, geoTable, how= \"left\", on=['Provider CCN'])\n",
    "mainFile1.head(2)"
   ]
  },
  {
   "cell_type": "code",
   "execution_count": 15,
   "metadata": {},
   "outputs": [
    {
     "data": {
      "text/plain": [
       "6171"
      ]
     },
     "execution_count": 15,
     "metadata": {},
     "output_type": "execute_result"
    }
   ],
   "source": [
    "#Quick Check\n",
    "mainFile1['Provider CCN'].count()"
   ]
  },
  {
   "cell_type": "code",
   "execution_count": 16,
   "metadata": {},
   "outputs": [],
   "source": [
    "#Append certificate of need indicator\n",
    "mainFile1 = pd.merge(mainFile1, conTable, how= \"left\", on=['State Code'])"
   ]
  },
  {
   "cell_type": "code",
   "execution_count": 17,
   "metadata": {},
   "outputs": [
    {
     "data": {
      "text/plain": [
       "6171"
      ]
     },
     "execution_count": 17,
     "metadata": {},
     "output_type": "execute_result"
    }
   ],
   "source": [
    "#Quick Check\n",
    "mainFile1['Provider CCN'].count()"
   ]
  },
  {
   "cell_type": "code",
   "execution_count": 18,
   "metadata": {},
   "outputs": [],
   "source": [
    "#Append a numeric representation of rural v. urban\n",
    "mainFile1 = pd.merge(mainFile1, urbanTable, how= \"left\", on=['Rural Versus Urban'])"
   ]
  },
  {
   "cell_type": "code",
   "execution_count": 19,
   "metadata": {},
   "outputs": [
    {
     "data": {
      "text/plain": [
       "6171"
      ]
     },
     "execution_count": 19,
     "metadata": {},
     "output_type": "execute_result"
    }
   ],
   "source": [
    "#Quick Check\n",
    "mainFile1['Provider CCN'].count()"
   ]
  },
  {
   "cell_type": "code",
   "execution_count": 20,
   "metadata": {},
   "outputs": [
    {
     "data": {
      "text/html": [
       "<div>\n",
       "<style scoped>\n",
       "    .dataframe tbody tr th:only-of-type {\n",
       "        vertical-align: middle;\n",
       "    }\n",
       "\n",
       "    .dataframe tbody tr th {\n",
       "        vertical-align: top;\n",
       "    }\n",
       "\n",
       "    .dataframe thead th {\n",
       "        text-align: right;\n",
       "    }\n",
       "</style>\n",
       "<table border=\"1\" class=\"dataframe\">\n",
       "  <thead>\n",
       "    <tr style=\"text-align: right;\">\n",
       "      <th></th>\n",
       "      <th>Provider CCN</th>\n",
       "      <th>Hospital Name</th>\n",
       "      <th>Street Address</th>\n",
       "      <th>City</th>\n",
       "      <th>State Code</th>\n",
       "      <th>Zip Code</th>\n",
       "      <th>County</th>\n",
       "      <th>Medicare CBSA Number</th>\n",
       "      <th>Rural Versus Urban</th>\n",
       "      <th>CCN Facility Type</th>\n",
       "      <th>...</th>\n",
       "      <th>Cost To Charge Ratio</th>\n",
       "      <th>Net Revenue from Medicaid</th>\n",
       "      <th>Medicaid Charges</th>\n",
       "      <th>Net Revenue from Stand-Alone SCHIP</th>\n",
       "      <th>Stand-Alone SCHIP Charges</th>\n",
       "      <th>rpt_rec_num</th>\n",
       "      <th>lat</th>\n",
       "      <th>lng</th>\n",
       "      <th>CON</th>\n",
       "      <th>Urban</th>\n",
       "    </tr>\n",
       "  </thead>\n",
       "  <tbody>\n",
       "    <tr>\n",
       "      <th>0</th>\n",
       "      <td>510013</td>\n",
       "      <td>REYNOLDS MEMORIAL HOSPITAL</td>\n",
       "      <td>800 WHEELING AVENUE</td>\n",
       "      <td>GLEN DALE</td>\n",
       "      <td>WV</td>\n",
       "      <td>26038</td>\n",
       "      <td>MARSHALL</td>\n",
       "      <td>48540.0</td>\n",
       "      <td>U</td>\n",
       "      <td>STH</td>\n",
       "      <td>...</td>\n",
       "      <td>0.453498</td>\n",
       "      <td>1237912.0</td>\n",
       "      <td>4026663.0</td>\n",
       "      <td>NaN</td>\n",
       "      <td>NaN</td>\n",
       "      <td>599181</td>\n",
       "      <td>39.946236</td>\n",
       "      <td>-80.752966</td>\n",
       "      <td>1.0</td>\n",
       "      <td>1.0</td>\n",
       "    </tr>\n",
       "    <tr>\n",
       "      <th>1</th>\n",
       "      <td>340106</td>\n",
       "      <td>SANDHILLS REGIONAL MEDICAL CENTER</td>\n",
       "      <td>1000 WEST HAMLET AVE</td>\n",
       "      <td>HAMLET</td>\n",
       "      <td>NC</td>\n",
       "      <td>28345</td>\n",
       "      <td>RICHMOND</td>\n",
       "      <td>99934.0</td>\n",
       "      <td>R</td>\n",
       "      <td>STH</td>\n",
       "      <td>...</td>\n",
       "      <td>0.173114</td>\n",
       "      <td>391215.0</td>\n",
       "      <td>4981119.0</td>\n",
       "      <td>NaN</td>\n",
       "      <td>NaN</td>\n",
       "      <td>601095</td>\n",
       "      <td>34.901612</td>\n",
       "      <td>-79.708561</td>\n",
       "      <td>1.0</td>\n",
       "      <td>0.0</td>\n",
       "    </tr>\n",
       "  </tbody>\n",
       "</table>\n",
       "<p>2 rows × 132 columns</p>\n",
       "</div>"
      ],
      "text/plain": [
       "   Provider CCN                      Hospital Name        Street Address  \\\n",
       "0        510013         REYNOLDS MEMORIAL HOSPITAL   800 WHEELING AVENUE   \n",
       "1        340106  SANDHILLS REGIONAL MEDICAL CENTER  1000 WEST HAMLET AVE   \n",
       "\n",
       "        City State Code Zip Code    County  Medicare CBSA Number  \\\n",
       "0  GLEN DALE         WV    26038  MARSHALL               48540.0   \n",
       "1     HAMLET         NC    28345  RICHMOND               99934.0   \n",
       "\n",
       "  Rural Versus Urban CCN Facility Type  ...  Cost To Charge Ratio  \\\n",
       "0                  U               STH  ...              0.453498   \n",
       "1                  R               STH  ...              0.173114   \n",
       "\n",
       "   Net Revenue from Medicaid Medicaid Charges  \\\n",
       "0                  1237912.0        4026663.0   \n",
       "1                   391215.0        4981119.0   \n",
       "\n",
       "  Net Revenue from Stand-Alone SCHIP  Stand-Alone SCHIP Charges  rpt_rec_num  \\\n",
       "0                                NaN                        NaN       599181   \n",
       "1                                NaN                        NaN       601095   \n",
       "\n",
       "         lat        lng  CON  Urban  \n",
       "0  39.946236 -80.752966  1.0    1.0  \n",
       "1  34.901612 -79.708561  1.0    0.0  \n",
       "\n",
       "[2 rows x 132 columns]"
      ]
     },
     "execution_count": 20,
     "metadata": {},
     "output_type": "execute_result"
    }
   ],
   "source": [
    "mainFile1.head(2)"
   ]
  },
  {
   "cell_type": "code",
   "execution_count": 21,
   "metadata": {},
   "outputs": [],
   "source": [
    "#mainFile1.to_csv(\"main1_2017.csv\", index=False, header=True)"
   ]
  },
  {
   "cell_type": "code",
   "execution_count": 22,
   "metadata": {},
   "outputs": [],
   "source": [
    "# ... Add calculated fields"
   ]
  },
  {
   "cell_type": "code",
   "execution_count": 23,
   "metadata": {},
   "outputs": [],
   "source": [
    "mainFile2 = mainFile1"
   ]
  },
  {
   "cell_type": "code",
   "execution_count": 24,
   "metadata": {},
   "outputs": [],
   "source": [
    "#labor Expense\n",
    "lbrexpense = mainFile2[\"Wage-Related Costs (Core)\"] + mainFile2[\"Total Salaries (adjusted)\"]\n",
    "mainFile2[\"Labor Exp\"] = lbrexpense\n",
    "#wagepercent.head()"
   ]
  },
  {
   "cell_type": "code",
   "execution_count": 25,
   "metadata": {},
   "outputs": [],
   "source": [
    "#Append calculated field inpatient percent\n",
    "inpatient = mainFile2[\"Inpatient Revenue\"]/mainFile2[\"Gross Revenue\"]\n",
    "mainFile2[\"Inpatient %\"] = inpatient"
   ]
  },
  {
   "cell_type": "code",
   "execution_count": 26,
   "metadata": {},
   "outputs": [],
   "source": [
    "#Append calculated field outpatient percent\n",
    "outpatient = mainFile2[\"Outpatient Revenue\"]/mainFile2[\"Gross Revenue\"]\n",
    "mainFile2[\"Outpatient %\"] = outpatient"
   ]
  },
  {
   "cell_type": "code",
   "execution_count": 27,
   "metadata": {},
   "outputs": [],
   "source": [
    "#Append calculated field charity percent\n",
    "charity = mainFile2[\"Cost of Charity Care\"]/mainFile2[\"Net Patient Revenue\"]\n",
    "mainFile2[\"Charity %\"] = charity"
   ]
  },
  {
   "cell_type": "code",
   "execution_count": 28,
   "metadata": {},
   "outputs": [],
   "source": [
    "#Append calculated field uncompensated percent\n",
    "uncompensated = mainFile2[\"Cost of Uncompensated Care\"]/mainFile2[\"Net Patient Revenue\"]\n",
    "mainFile2[\"Uncompensated %\"] = charity"
   ]
  },
  {
   "cell_type": "code",
   "execution_count": 29,
   "metadata": {},
   "outputs": [],
   "source": [
    "#Append calculated field revenue per discharge\n",
    "revdischarge = mainFile2[\"Net Patient Revenue\"]/mainFile2[\"Total Discharges (V + XVIII + XIX + Unknown)\"]\n",
    "mainFile2[\"Rev/Discharge\"] = revdischarge"
   ]
  },
  {
   "cell_type": "code",
   "execution_count": 30,
   "metadata": {},
   "outputs": [],
   "source": [
    "#Append calculated field revenue per bed\n",
    "revbed = mainFile2[\"Net Patient Revenue\"]/mainFile2[\"Number of Beds\"]\n",
    "mainFile2[\"Rev Per Bed\"] = revbed"
   ]
  },
  {
   "cell_type": "code",
   "execution_count": 31,
   "metadata": {},
   "outputs": [],
   "source": [
    "#Append calculated field revenue per bed day\n",
    "revbed = mainFile2[\"Net Patient Revenue\"]/mainFile2[\"Total Bed Days Available\"]\n",
    "mainFile2[\"Rev Per Bed Days\"] = revbed"
   ]
  },
  {
   "cell_type": "code",
   "execution_count": 32,
   "metadata": {},
   "outputs": [],
   "source": [
    "#Append calculated field revs per fte\n",
    "revfte = mainFile2[\"Net Patient Revenue\"]/mainFile2[\"FTE - Employees on Payroll\"]\n",
    "mainFile2[\"Rev Per FTE\"] = revfte"
   ]
  },
  {
   "cell_type": "code",
   "execution_count": 33,
   "metadata": {},
   "outputs": [],
   "source": [
    "#Append calculated field discharges per bed\n",
    "volbed = mainFile2[\"Total Discharges (V + XVIII + XIX + Unknown)\"]/mainFile2[\"Number of Beds\"]\n",
    "mainFile2[\"Discharges Per Bed\"] = volbed"
   ]
  },
  {
   "cell_type": "code",
   "execution_count": 34,
   "metadata": {},
   "outputs": [],
   "source": [
    "#Append calculated field discharges per bed day\n",
    "voldays = mainFile2[\"Total Discharges (V + XVIII + XIX + Unknown)\"]/mainFile2[\"Total Bed Days Available\"]\n",
    "mainFile2[\"Discharges Per Bed Days\"] = voldays"
   ]
  },
  {
   "cell_type": "code",
   "execution_count": 35,
   "metadata": {},
   "outputs": [],
   "source": [
    "#Append calculated field discharges per bed\n",
    "volfte = mainFile2[\"Total Discharges (V + XVIII + XIX + Unknown)\"]/mainFile2[\"FTE - Employees on Payroll\"]\n",
    "mainFile2[\"Discharge/FTE\"] = volbed"
   ]
  },
  {
   "cell_type": "code",
   "execution_count": 36,
   "metadata": {},
   "outputs": [],
   "source": [
    "#labor percent\n",
    "wagepercent = mainFile2[\"Wage-Related Costs (Core)\"] + mainFile2[\"Total Salaries (adjusted)\"]\n",
    "wagepercent = wagepercent / mainFile2[\"Net Patient Revenue\"]\n",
    "mainFile2[\"Labor %\"] = wagepercent"
   ]
  },
  {
   "cell_type": "code",
   "execution_count": 37,
   "metadata": {},
   "outputs": [],
   "source": [
    "#Overhead percent\n",
    "overheadpercent = mainFile2[\"Overhead Non-Salary Costs\"] / mainFile2[\"Net Patient Revenue\"]\n",
    "mainFile2[\"Overhead %\"] = overheadpercent"
   ]
  },
  {
   "cell_type": "code",
   "execution_count": 38,
   "metadata": {},
   "outputs": [],
   "source": [
    "#Depreciation percent\n",
    "deprpercent = mainFile2[\"Depreciation Cost\"] / mainFile2[\"Net Patient Revenue\"]\n",
    "mainFile2[\"Depreciation %\"] = deprpercent"
   ]
  },
  {
   "cell_type": "code",
   "execution_count": 39,
   "metadata": {},
   "outputs": [],
   "source": [
    "#labor Per FTE\n",
    "wagefte = mainFile2[\"Wage-Related Costs (Core)\"] + mainFile2[\"Total Salaries (adjusted)\"]\n",
    "wagefte = wagefte / mainFile2[\"FTE - Employees on Payroll\"]\n",
    "mainFile2[\"LbrExp/FTE\"] = wagefte"
   ]
  },
  {
   "cell_type": "code",
   "execution_count": 40,
   "metadata": {},
   "outputs": [],
   "source": [
    "#Overhead Expense Per Bed\n",
    "overbed = mainFile2[\"Overhead Non-Salary Costs\"] / mainFile2[\"Number of Beds\"]\n",
    "mainFile2[\"Overhead Exp Per Bed\"] = overbed"
   ]
  },
  {
   "cell_type": "code",
   "execution_count": 41,
   "metadata": {},
   "outputs": [],
   "source": [
    "#Append calculated field net income percent to file\n",
    "profit = mainFile2[\"Net Income\"]/mainFile2[\"Net Patient Revenue\"]\n",
    "mainFile2[\"Net Income %\"] = profit"
   ]
  },
  {
   "cell_type": "code",
   "execution_count": 42,
   "metadata": {},
   "outputs": [],
   "source": [
    "# Review net income percent for outlier reduction approach\n",
    "netinc = mainFile2[\"Net Income %\"]"
   ]
  },
  {
   "cell_type": "code",
   "execution_count": 43,
   "metadata": {},
   "outputs": [],
   "source": [
    "# Creating variable for quartile work\n",
    "netinc2 = netinc.dropna(how='any')\n",
    "chartdata = netinc2"
   ]
  },
  {
   "cell_type": "code",
   "execution_count": 44,
   "metadata": {},
   "outputs": [
    {
     "name": "stdout",
     "output_type": "stream",
     "text": [
      "The lower quartile of profit percent is: -0.030653238847723918\n",
      "The upper quartile of profit percent is: 0.11379730445563284\n",
      "The interquartile range of profit percent is: 0.14445054330335677\n",
      "The the median of profit percent is: 0.0380451602645128 \n",
      "Values below -0.24732905380275907 could be outliers.\n",
      "Values above 0.330473119410668 could be outliers.\n"
     ]
    }
   ],
   "source": [
    "#Quartile calculations\n",
    "quartiles = chartdata.quantile([.25,.5,.75])\n",
    "lowerq = quartiles[0.25]\n",
    "upperq = quartiles[0.75]\n",
    "iqr = upperq-lowerq\n",
    "\n",
    "print(f\"The lower quartile of profit percent is: {lowerq}\")\n",
    "print(f\"The upper quartile of profit percent is: {upperq}\")\n",
    "print(f\"The interquartile range of profit percent is: {iqr}\")\n",
    "print(f\"The the median of profit percent is: {quartiles[0.5]} \")\n",
    "\n",
    "lower_bound = lowerq - (1.5*iqr)\n",
    "upper_bound = upperq + (1.5*iqr)\n",
    "print(f\"Values below {lower_bound} could be outliers.\")\n",
    "print(f\"Values above {upper_bound} could be outliers.\")"
   ]
  },
  {
   "cell_type": "code",
   "execution_count": 45,
   "metadata": {},
   "outputs": [],
   "source": [
    "#Create a bronze, silver, gold score for clasifying net income performance\n",
    "bins = [-100, -0.030605, 0.113797, 100]\n",
    "group_names = [\"3\", \"2\", \"1\"]"
   ]
  },
  {
   "cell_type": "code",
   "execution_count": 46,
   "metadata": {},
   "outputs": [],
   "source": [
    "#Add a bronze, silver, gold scoring system to the dataset to support machine learning\n",
    "mainFile2[\"Net Income Score\"] = pd.cut(mainFile2[\"Net Income %\"], bins, labels=group_names, include_lowest=True)\n",
    "#mainFile2.head()"
   ]
  },
  {
   "cell_type": "code",
   "execution_count": 47,
   "metadata": {},
   "outputs": [
    {
     "data": {
      "text/plain": [
       "2    2945\n",
       "1    1473\n",
       "3    1473\n",
       "Name: Net Income Score, dtype: int64"
      ]
     },
     "execution_count": 47,
     "metadata": {},
     "output_type": "execute_result"
    }
   ],
   "source": [
    "#Quick check on distribution of bronze, silver and gold\n",
    "mainFile2['Net Income Score'].value_counts()"
   ]
  },
  {
   "cell_type": "code",
   "execution_count": 48,
   "metadata": {},
   "outputs": [],
   "source": [
    "#Pacesetter status\n",
    "bins2 = [-100, -0.030605, .038045,  0.11379, 100]\n",
    "group_names2 = [\"4th Quartile\", \"3rd Quartile\", \"2nd Quartile\", \"1st Quartile\"]"
   ]
  },
  {
   "cell_type": "code",
   "execution_count": 49,
   "metadata": {},
   "outputs": [],
   "source": [
    "#Add Pacesetter Status to dataframe\n",
    "mainFile2[\"Pacesetter Group\"] = pd.cut(mainFile2[\"Net Income %\"], bins2, labels=group_names2, include_lowest=True)\n",
    "#mainFile2.head()"
   ]
  },
  {
   "cell_type": "code",
   "execution_count": 50,
   "metadata": {},
   "outputs": [
    {
     "data": {
      "text/plain": [
       "1st Quartile    1473\n",
       "2nd Quartile    1473\n",
       "4th Quartile    1473\n",
       "3rd Quartile    1472\n",
       "Name: Pacesetter Group, dtype: int64"
      ]
     },
     "execution_count": 50,
     "metadata": {},
     "output_type": "execute_result"
    }
   ],
   "source": [
    "mainFile2['Pacesetter Group'].value_counts()"
   ]
  },
  {
   "cell_type": "code",
   "execution_count": 51,
   "metadata": {},
   "outputs": [
    {
     "data": {
      "text/plain": [
       "6171"
      ]
     },
     "execution_count": 51,
     "metadata": {},
     "output_type": "execute_result"
    }
   ],
   "source": [
    "#Quick Check\n",
    "mainFile2['Provider CCN'].count()"
   ]
  },
  {
   "cell_type": "code",
   "execution_count": 52,
   "metadata": {},
   "outputs": [],
   "source": [
    "#mainFile2.to_csv(\"main2_2017.csv\", index=False, header=True)"
   ]
  },
  {
   "cell_type": "code",
   "execution_count": 53,
   "metadata": {},
   "outputs": [],
   "source": [
    "# ..... File targeting"
   ]
  },
  {
   "cell_type": "code",
   "execution_count": 54,
   "metadata": {},
   "outputs": [
    {
     "data": {
      "text/plain": [
       "6171"
      ]
     },
     "execution_count": 54,
     "metadata": {},
     "output_type": "execute_result"
    }
   ],
   "source": [
    "mainFile3 = mainFile2\n",
    "mainFile3['Provider CCN'].count()"
   ]
  },
  {
   "cell_type": "code",
   "execution_count": 55,
   "metadata": {},
   "outputs": [
    {
     "data": {
      "text/plain": [
       "dtype('float64')"
      ]
     },
     "execution_count": 55,
     "metadata": {},
     "output_type": "execute_result"
    }
   ],
   "source": [
    "mainFile3['lat'].dtype"
   ]
  },
  {
   "cell_type": "code",
   "execution_count": 56,
   "metadata": {},
   "outputs": [],
   "source": [
    "#Remove the Sitka exceptions (addresses that did not match when called in API)\n",
    "mainFile3 = mainFile3.loc[mainFile3['lat'] <= 48.85]"
   ]
  },
  {
   "cell_type": "code",
   "execution_count": 57,
   "metadata": {},
   "outputs": [],
   "source": [
    "#Removes state\n",
    "mainFile3 = mainFile3.loc[mainFile3['State Code'] != 'PR']"
   ]
  },
  {
   "cell_type": "code",
   "execution_count": 58,
   "metadata": {},
   "outputs": [],
   "source": [
    "#Removes state\n",
    "mainFile3 = mainFile3.loc[mainFile3['State Code'] != 'GU']"
   ]
  },
  {
   "cell_type": "code",
   "execution_count": 59,
   "metadata": {},
   "outputs": [],
   "source": [
    "#Removes state\n",
    "mainFile3 = mainFile3.loc[mainFile3['State Code'] != 'VI']"
   ]
  },
  {
   "cell_type": "code",
   "execution_count": 60,
   "metadata": {},
   "outputs": [],
   "source": [
    "#Removes state\n",
    "mainFile3 = mainFile3.loc[mainFile3['State Code'] != 'MP']"
   ]
  },
  {
   "cell_type": "code",
   "execution_count": 61,
   "metadata": {},
   "outputs": [],
   "source": [
    "#Removes state\n",
    "mainFile3 = mainFile3.loc[mainFile3['State Code'] != 'HI']"
   ]
  },
  {
   "cell_type": "code",
   "execution_count": 62,
   "metadata": {},
   "outputs": [],
   "source": [
    "#Removes state\n",
    "mainFile3 = mainFile3.loc[mainFile3['State Code'] != 'AK']"
   ]
  },
  {
   "cell_type": "code",
   "execution_count": 63,
   "metadata": {},
   "outputs": [
    {
     "data": {
      "text/plain": [
       "6026"
      ]
     },
     "execution_count": 63,
     "metadata": {},
     "output_type": "execute_result"
    }
   ],
   "source": [
    "#Quick Check ... Lose 117 to state code reduction\n",
    "mainFile3['Provider CCN'].count()"
   ]
  },
  {
   "cell_type": "code",
   "execution_count": 64,
   "metadata": {},
   "outputs": [],
   "source": [
    "#Remove hospitals that did not report revenue (Lose 273 to missing or unreported revenue events)\n",
    "mainFile3 = mainFile3.loc[mainFile3['Net Patient Revenue'] >= 0.1]"
   ]
  },
  {
   "cell_type": "code",
   "execution_count": 65,
   "metadata": {},
   "outputs": [
    {
     "data": {
      "text/plain": [
       "5756"
      ]
     },
     "execution_count": 65,
     "metadata": {},
     "output_type": "execute_result"
    }
   ],
   "source": [
    "#Quick Check\n",
    "mainFile3['Provider CCN'].count()"
   ]
  },
  {
   "cell_type": "code",
   "execution_count": 66,
   "metadata": {},
   "outputs": [],
   "source": [
    "#Remove hospitals that discharged less than 15 patients (Lose 49 by placing a 15 patient minimum for study eligibility)\n",
    "mainFile3 = mainFile3.loc[mainFile3['Total Discharges (V + XVIII + XIX + Unknown)'] >= 15]"
   ]
  },
  {
   "cell_type": "code",
   "execution_count": 67,
   "metadata": {},
   "outputs": [
    {
     "data": {
      "text/plain": [
       "5708"
      ]
     },
     "execution_count": 67,
     "metadata": {},
     "output_type": "execute_result"
    }
   ],
   "source": [
    "#Quick Check\n",
    "mainFile3['Provider CCN'].count()"
   ]
  },
  {
   "cell_type": "code",
   "execution_count": 68,
   "metadata": {},
   "outputs": [],
   "source": [
    "#Remove hospitals with less than 10 employees on payroll (Lose 23 by placing a 10 employee minimum for study eligibility)\n",
    "mainFile3 = mainFile3.loc[mainFile3['FTE - Employees on Payroll'] >= 10]"
   ]
  },
  {
   "cell_type": "code",
   "execution_count": 69,
   "metadata": {},
   "outputs": [
    {
     "data": {
      "text/plain": [
       "5685"
      ]
     },
     "execution_count": 69,
     "metadata": {},
     "output_type": "execute_result"
    }
   ],
   "source": [
    "#Quick Check\n",
    "mainFile3['Provider CCN'].count()"
   ]
  },
  {
   "cell_type": "code",
   "execution_count": 70,
   "metadata": {},
   "outputs": [],
   "source": [
    "#Targets dataset on STH locations (~56% of eligible continental US locations are STH providers)\n",
    "mainFile3 = mainFile3.loc[mainFile3['CCN Facility Type'] == 'STH']"
   ]
  },
  {
   "cell_type": "code",
   "execution_count": 71,
   "metadata": {},
   "outputs": [
    {
     "data": {
      "text/plain": [
       "3184"
      ]
     },
     "execution_count": 71,
     "metadata": {},
     "output_type": "execute_result"
    }
   ],
   "source": [
    "#Quick Check\n",
    "mainFile3['Provider CCN'].count()"
   ]
  },
  {
   "cell_type": "code",
   "execution_count": 72,
   "metadata": {},
   "outputs": [
    {
     "data": {
      "text/plain": [
       "3184"
      ]
     },
     "execution_count": 72,
     "metadata": {},
     "output_type": "execute_result"
    }
   ],
   "source": [
    "#Quick Check\n",
    "mainFile3['Provider CCN'].count()"
   ]
  },
  {
   "cell_type": "code",
   "execution_count": 73,
   "metadata": {},
   "outputs": [],
   "source": [
    "#mainFile3.to_csv(\"main3_2017.csv\", index=False, header=True)"
   ]
  },
  {
   "cell_type": "code",
   "execution_count": 74,
   "metadata": {},
   "outputs": [],
   "source": [
    "# ... Target file based on relevant features"
   ]
  },
  {
   "cell_type": "code",
   "execution_count": 75,
   "metadata": {},
   "outputs": [],
   "source": [
    "mainFile4 = mainFile3"
   ]
  },
  {
   "cell_type": "code",
   "execution_count": 76,
   "metadata": {},
   "outputs": [
    {
     "data": {
      "text/html": [
       "<div>\n",
       "<style scoped>\n",
       "    .dataframe tbody tr th:only-of-type {\n",
       "        vertical-align: middle;\n",
       "    }\n",
       "\n",
       "    .dataframe tbody tr th {\n",
       "        vertical-align: top;\n",
       "    }\n",
       "\n",
       "    .dataframe thead th {\n",
       "        text-align: right;\n",
       "    }\n",
       "</style>\n",
       "<table border=\"1\" class=\"dataframe\">\n",
       "  <thead>\n",
       "    <tr style=\"text-align: right;\">\n",
       "      <th></th>\n",
       "      <th>Provider CCN</th>\n",
       "      <th>Hospital Name</th>\n",
       "      <th>Street Address</th>\n",
       "      <th>City</th>\n",
       "      <th>State Code</th>\n",
       "      <th>Zip Code</th>\n",
       "      <th>lat</th>\n",
       "      <th>lng</th>\n",
       "      <th>Rural Versus Urban</th>\n",
       "      <th>CCN Facility Type</th>\n",
       "      <th>...</th>\n",
       "      <th>Discharges Per Bed Days</th>\n",
       "      <th>Discharge/FTE</th>\n",
       "      <th>Net Income %</th>\n",
       "      <th>Net Income Score</th>\n",
       "      <th>Labor %</th>\n",
       "      <th>Overhead %</th>\n",
       "      <th>Depreciation %</th>\n",
       "      <th>LbrExp/FTE</th>\n",
       "      <th>Overhead Exp Per Bed</th>\n",
       "      <th>Pacesetter Group</th>\n",
       "    </tr>\n",
       "  </thead>\n",
       "  <tbody>\n",
       "    <tr>\n",
       "      <th>0</th>\n",
       "      <td>510013</td>\n",
       "      <td>REYNOLDS MEMORIAL HOSPITAL</td>\n",
       "      <td>800 WHEELING AVENUE</td>\n",
       "      <td>GLEN DALE</td>\n",
       "      <td>WV</td>\n",
       "      <td>26038</td>\n",
       "      <td>39.946236</td>\n",
       "      <td>-80.752966</td>\n",
       "      <td>U</td>\n",
       "      <td>STH</td>\n",
       "      <td>...</td>\n",
       "      <td>0.067547</td>\n",
       "      <td>6.214286</td>\n",
       "      <td>0.308395</td>\n",
       "      <td>1</td>\n",
       "      <td>0.715116</td>\n",
       "      <td>0.627406</td>\n",
       "      <td>0.031451</td>\n",
       "      <td>18996.972990</td>\n",
       "      <td>76691.942857</td>\n",
       "      <td>1st Quartile</td>\n",
       "    </tr>\n",
       "    <tr>\n",
       "      <th>1</th>\n",
       "      <td>340106</td>\n",
       "      <td>SANDHILLS REGIONAL MEDICAL CENTER</td>\n",
       "      <td>1000 WEST HAMLET AVE</td>\n",
       "      <td>HAMLET</td>\n",
       "      <td>NC</td>\n",
       "      <td>28345</td>\n",
       "      <td>34.901612</td>\n",
       "      <td>-79.708561</td>\n",
       "      <td>R</td>\n",
       "      <td>STH</td>\n",
       "      <td>...</td>\n",
       "      <td>0.050205</td>\n",
       "      <td>3.062500</td>\n",
       "      <td>-0.337043</td>\n",
       "      <td>3</td>\n",
       "      <td>0.509928</td>\n",
       "      <td>0.924882</td>\n",
       "      <td>0.073496</td>\n",
       "      <td>61909.838473</td>\n",
       "      <td>47792.984375</td>\n",
       "      <td>4th Quartile</td>\n",
       "    </tr>\n",
       "  </tbody>\n",
       "</table>\n",
       "<p>2 rows × 42 columns</p>\n",
       "</div>"
      ],
      "text/plain": [
       "   Provider CCN                      Hospital Name        Street Address  \\\n",
       "0        510013         REYNOLDS MEMORIAL HOSPITAL   800 WHEELING AVENUE   \n",
       "1        340106  SANDHILLS REGIONAL MEDICAL CENTER  1000 WEST HAMLET AVE   \n",
       "\n",
       "        City State Code Zip Code        lat        lng Rural Versus Urban  \\\n",
       "0  GLEN DALE         WV    26038  39.946236 -80.752966                  U   \n",
       "1     HAMLET         NC    28345  34.901612 -79.708561                  R   \n",
       "\n",
       "  CCN Facility Type  ... Discharges Per Bed Days Discharge/FTE  Net Income %  \\\n",
       "0               STH  ...                0.067547      6.214286      0.308395   \n",
       "1               STH  ...                0.050205      3.062500     -0.337043   \n",
       "\n",
       "   Net Income Score   Labor %  Overhead %  Depreciation %    LbrExp/FTE  \\\n",
       "0                 1  0.715116    0.627406        0.031451  18996.972990   \n",
       "1                 3  0.509928    0.924882        0.073496  61909.838473   \n",
       "\n",
       "   Overhead Exp Per Bed  Pacesetter Group  \n",
       "0          76691.942857      1st Quartile  \n",
       "1          47792.984375      4th Quartile  \n",
       "\n",
       "[2 rows x 42 columns]"
      ]
     },
     "execution_count": 76,
     "metadata": {},
     "output_type": "execute_result"
    }
   ],
   "source": [
    "#Targeting the dataset on metrics based on Kent's judgement\n",
    "mainFile4 = mainFile4[['Provider CCN','Hospital Name','Street Address','City','State Code','Zip Code', 'lat', 'lng', 'Rural Versus Urban', 'CCN Facility Type', 'Fiscal Year Begin Date', 'Fiscal Year End Date', 'FTE - Employees on Payroll', 'Number of Beds', 'Total Bed Days Available', 'Total Discharges (V + XVIII + XIX + Unknown)', 'Net Patient Revenue', 'Net Income', 'Wage-Related Costs (Core)', 'Total Salaries (adjusted)', 'Contract Labor', 'Rev Per FTE', 'CON','Urban','Inpatient %','Outpatient %','Charity %','Uncompensated %','Rev/Discharge','Rev Per Bed','Rev Per Bed Days', 'Discharges Per Bed','Discharges Per Bed Days','Discharge/FTE','Net Income %', 'Net Income Score', 'Labor %', 'Overhead %', 'Depreciation %', 'LbrExp/FTE', 'Overhead Exp Per Bed', 'Pacesetter Group']]\n",
    "mainFile4.head(2)\n"
   ]
  },
  {
   "cell_type": "code",
   "execution_count": 77,
   "metadata": {},
   "outputs": [
    {
     "data": {
      "text/plain": [
       "Provider CCN                                    3184\n",
       "Hospital Name                                   3184\n",
       "Street Address                                  3184\n",
       "City                                            3184\n",
       "State Code                                      3184\n",
       "Zip Code                                        3184\n",
       "lat                                             3184\n",
       "lng                                             3184\n",
       "Rural Versus Urban                              3184\n",
       "CCN Facility Type                               3184\n",
       "Fiscal Year Begin Date                          3184\n",
       "Fiscal Year End Date                            3184\n",
       "FTE - Employees on Payroll                      3184\n",
       "Number of Beds                                  3184\n",
       "Total Bed Days Available                        3184\n",
       "Total Discharges (V + XVIII + XIX + Unknown)    3184\n",
       "Net Patient Revenue                             3184\n",
       "Net Income                                      3183\n",
       "Wage-Related Costs (Core)                       3173\n",
       "Total Salaries (adjusted)                       3174\n",
       "Contract Labor                                  2850\n",
       "Rev Per FTE                                     3184\n",
       "CON                                             3184\n",
       "Urban                                           3184\n",
       "Inpatient %                                     3183\n",
       "Outpatient %                                    3172\n",
       "Charity %                                       3006\n",
       "Uncompensated %                                 3006\n",
       "Rev/Discharge                                   3184\n",
       "Rev Per Bed                                     3184\n",
       "Rev Per Bed Days                                3184\n",
       "Discharges Per Bed                              3184\n",
       "Discharges Per Bed Days                         3184\n",
       "Discharge/FTE                                   3184\n",
       "Net Income %                                    3183\n",
       "Net Income Score                                3183\n",
       "Labor %                                         3173\n",
       "Overhead %                                      3184\n",
       "Depreciation %                                  3159\n",
       "LbrExp/FTE                                      3173\n",
       "Overhead Exp Per Bed                            3184\n",
       "Pacesetter Group                                3183\n",
       "dtype: int64"
      ]
     },
     "execution_count": 77,
     "metadata": {},
     "output_type": "execute_result"
    }
   ],
   "source": [
    "# Identify incomplete rows\n",
    "mainFile4.count()"
   ]
  },
  {
   "cell_type": "code",
   "execution_count": 78,
   "metadata": {},
   "outputs": [],
   "source": [
    "mainFile4 = mainFile4.dropna(how='any')"
   ]
  },
  {
   "cell_type": "code",
   "execution_count": 79,
   "metadata": {},
   "outputs": [
    {
     "data": {
      "text/plain": [
       "Provider CCN                                    2705\n",
       "Hospital Name                                   2705\n",
       "Street Address                                  2705\n",
       "City                                            2705\n",
       "State Code                                      2705\n",
       "Zip Code                                        2705\n",
       "lat                                             2705\n",
       "lng                                             2705\n",
       "Rural Versus Urban                              2705\n",
       "CCN Facility Type                               2705\n",
       "Fiscal Year Begin Date                          2705\n",
       "Fiscal Year End Date                            2705\n",
       "FTE - Employees on Payroll                      2705\n",
       "Number of Beds                                  2705\n",
       "Total Bed Days Available                        2705\n",
       "Total Discharges (V + XVIII + XIX + Unknown)    2705\n",
       "Net Patient Revenue                             2705\n",
       "Net Income                                      2705\n",
       "Wage-Related Costs (Core)                       2705\n",
       "Total Salaries (adjusted)                       2705\n",
       "Contract Labor                                  2705\n",
       "Rev Per FTE                                     2705\n",
       "CON                                             2705\n",
       "Urban                                           2705\n",
       "Inpatient %                                     2705\n",
       "Outpatient %                                    2705\n",
       "Charity %                                       2705\n",
       "Uncompensated %                                 2705\n",
       "Rev/Discharge                                   2705\n",
       "Rev Per Bed                                     2705\n",
       "Rev Per Bed Days                                2705\n",
       "Discharges Per Bed                              2705\n",
       "Discharges Per Bed Days                         2705\n",
       "Discharge/FTE                                   2705\n",
       "Net Income %                                    2705\n",
       "Net Income Score                                2705\n",
       "Labor %                                         2705\n",
       "Overhead %                                      2705\n",
       "Depreciation %                                  2705\n",
       "LbrExp/FTE                                      2705\n",
       "Overhead Exp Per Bed                            2705\n",
       "Pacesetter Group                                2705\n",
       "dtype: int64"
      ]
     },
     "execution_count": 79,
     "metadata": {},
     "output_type": "execute_result"
    }
   ],
   "source": [
    "# Identify incomplete rows\n",
    "mainFile4.count()"
   ]
  },
  {
   "cell_type": "code",
   "execution_count": 80,
   "metadata": {},
   "outputs": [],
   "source": [
    "# Create a file for machine learning that is not impacted by formatting\n",
    "mainFile5 = mainFile4"
   ]
  },
  {
   "cell_type": "code",
   "execution_count": 81,
   "metadata": {},
   "outputs": [],
   "source": [
    "#%'s'\n",
    "# Machine learning will not run with this format\n",
    "# chg1percent = mainFile4[\"Net Income %\"]\n",
    "# chg1percent = chg1percent *100\n",
    "# mainFile4[\"Net Income %\"] = chg1percent\n",
    "# mainFile4[\"Net Income %\"] = mainFile4[\"Net Income %\"].map(\"{:.4f}%\".format)\n",
    "\n",
    "# chg2percent = mainFile4[\"Labor %\"]\n",
    "# chg2percent = chg2percent *100\n",
    "# mainFile4[\"Labor %\"] = chg2percent\n",
    "# mainFile4[\"Labor %\"] = mainFile4[\"Labor %\"].map(\"{:.4f}%\".format)\n",
    "\n",
    "# chg3percent = mainFile4[\"Overhead %\"]\n",
    "# chg3percent = chg3percent *100\n",
    "# mainFile4[\"Overhead %\"] = chg3percent\n",
    "# mainFile4[\"Overhead %\"] = mainFile4[\"Overhead %\"].map(\"{:.4f}%\".format)\n",
    "\n",
    "# chg4percent = mainFile4[\"Depreciation %\"]\n",
    "# chg4percent = chg4percent *100\n",
    "# mainFile4[\"Depreciation %\"] = chg4percent\n",
    "# mainFile4[\"Depreciation %\"] = mainFile4[\"Depreciation %\"].map(\"{:.4f}%\".format)\n",
    "\n",
    "# chg5percent = mainFile4[\"Charity %\"]\n",
    "# chg5percent = chg5percent *100\n",
    "# mainFile4[\"Charity %\"] = chg5percent\n",
    "# mainFile4[\"Charity %\"] = mainFile4[\"Charity %\"].map(\"{:.4f}%\".format)\n",
    "\n",
    "# chg6percent = mainFile4[\"Uncompensated %\"]\n",
    "# chg6percent = chg6percent *100\n",
    "# mainFile4[\"Uncompensated %\"] = chg6percent\n",
    "# mainFile4[\"Uncompensated %\"] = mainFile4[\"Uncompensated %\"].map(\"{:.4f}%\".format)\n",
    "\n",
    "# chg7percent = mainFile4[\"Inpatient %\"]\n",
    "# chg7percent = chg7percent *100\n",
    "# mainFile4[\"Inpatient %\"] = chg7percent\n",
    "# mainFile4[\"Inpatient %\"] = mainFile4[\"Inpatient %\"].map(\"{:.4f}%\".format)\n",
    "\n",
    "# chg8percent = mainFile4[\"Outpatient %\"]\n",
    "# chg8percent = chg8percent *100\n",
    "# mainFile4[\"Outpatient %\"] = chg8percent\n",
    "# mainFile4[\"Outpatient %\"] = mainFile4[\"Outpatient %\"].map(\"{:.4f}%\".format)\n",
    "\n",
    "# #$'s'\n",
    "# mainFile4[\"Net Patient Revenue\"] = mainFile4[\"Net Patient Revenue\"].map(\"${:,.0f}\".format)\n",
    "# mainFile4[\"Net Income\"] = mainFile4[\"Net Income\"].map(\"${:.0f}\".format)\n",
    "# mainFile4[\"Wage-Related Costs (Core)\"] = mainFile4[\"Wage-Related Costs (Core)\"].map(\"${:,.0f}\".format)\n",
    "# mainFile4[\"Total Salaries (adjusted)\"] = mainFile4[\"Total Salaries (adjusted)\"].map(\"${:,.0f}\".format)\n",
    "# mainFile4[\"Contract Labor\"] = mainFile4[\"Contract Labor\"].map(\"${:,.0f}\".format)\n",
    "# mainFile4[\"Rev Per FTE\"] = mainFile4[\"Rev Per FTE\"].map(\"${:,.0f}\".format)\n",
    "# mainFile4[\"Rev/Discharge\"] = mainFile4[\"Rev/Discharge\"].map(\"${:,.0f}\".format)\n",
    "# mainFile4[\"Rev Per Bed\"] = mainFile4[\"Rev Per Bed\"].map(\"${:,.0f}\".format)\n",
    "# mainFile4[\"Rev Per Bed Days\"] = mainFile4[\"Rev Per Bed Days\"].map(\"${:,.0f}\".format)\n",
    "# mainFile4[\"LbrExp/FTE\"] = mainFile4[\"LbrExp/FTE\"].map(\"${:,.0f}\".format)\n",
    "# mainFile4[\"Overhead Exp Per Bed\"] = mainFile4[\"Overhead Exp Per Bed\"].map(\"${:,.0f}\".format)\n",
    "\n",
    "# ##'s'\n",
    "# mainFile4[\"Discharges Per Bed\"] = mainFile4[\"Discharges Per Bed\"].map(\"{:,.2f}\".format)\n",
    "# mainFile4[\"Discharges Per Bed Days\"] = mainFile4[\"Discharges Per Bed Days\"].map(\"{:,.2f}\".format)\n",
    "# mainFile4[\"Discharge/FTE\"] = mainFile4[\"Discharge/FTE\"].map(\"{:,.2f}\".format)"
   ]
  },
  {
   "cell_type": "code",
   "execution_count": 82,
   "metadata": {},
   "outputs": [],
   "source": [
    "#Output targeted file\n",
    "#mainFile4.to_csv(\"main4_2017.csv\", index=False, header=True)"
   ]
  },
  {
   "cell_type": "code",
   "execution_count": 158,
   "metadata": {},
   "outputs": [],
   "source": [
    "# ... Machine Learning Section "
   ]
  },
  {
   "cell_type": "code",
   "execution_count": 159,
   "metadata": {},
   "outputs": [],
   "source": [
    "# Select features to be used as x values\n",
    "# features1 = mainFile5[['Rev/Discharge','Rev Per Bed','Rev Per Bed Days', 'Discharges Per Bed', 'Discharge/FTE', 'Labor %', 'Overhead %', 'Depreciation %']]\n",
    "# features1.head(2)\n",
    "#RFE logrithmic output ... array([7(r/d), 6(r/b), 5(r/bday), 8(d/b), 3(d/fte), 2(l%), 1(o%, 4(d%)])"
   ]
  },
  {
   "cell_type": "code",
   "execution_count": 160,
   "metadata": {},
   "outputs": [
    {
     "data": {
      "text/html": [
       "<div>\n",
       "<style scoped>\n",
       "    .dataframe tbody tr th:only-of-type {\n",
       "        vertical-align: middle;\n",
       "    }\n",
       "\n",
       "    .dataframe tbody tr th {\n",
       "        vertical-align: top;\n",
       "    }\n",
       "\n",
       "    .dataframe thead th {\n",
       "        text-align: right;\n",
       "    }\n",
       "</style>\n",
       "<table border=\"1\" class=\"dataframe\">\n",
       "  <thead>\n",
       "    <tr style=\"text-align: right;\">\n",
       "      <th></th>\n",
       "      <th>Rev/Discharge</th>\n",
       "      <th>Rev Per Bed</th>\n",
       "      <th>Rev Per Bed Days</th>\n",
       "      <th>Discharge/FTE</th>\n",
       "      <th>Labor %</th>\n",
       "      <th>Overhead %</th>\n",
       "      <th>Depreciation %</th>\n",
       "    </tr>\n",
       "  </thead>\n",
       "  <tbody>\n",
       "    <tr>\n",
       "      <th>1</th>\n",
       "      <td>16873.362245</td>\n",
       "      <td>51674.671875</td>\n",
       "      <td>847.125768</td>\n",
       "      <td>3.062500</td>\n",
       "      <td>0.509928</td>\n",
       "      <td>0.924882</td>\n",
       "      <td>0.073496</td>\n",
       "    </tr>\n",
       "    <tr>\n",
       "      <th>5</th>\n",
       "      <td>15444.529412</td>\n",
       "      <td>132660.378947</td>\n",
       "      <td>1105.503158</td>\n",
       "      <td>8.589474</td>\n",
       "      <td>0.414191</td>\n",
       "      <td>0.826683</td>\n",
       "      <td>0.119266</td>\n",
       "    </tr>\n",
       "  </tbody>\n",
       "</table>\n",
       "</div>"
      ],
      "text/plain": [
       "   Rev/Discharge    Rev Per Bed  Rev Per Bed Days  Discharge/FTE   Labor %  \\\n",
       "1   16873.362245   51674.671875        847.125768       3.062500  0.509928   \n",
       "5   15444.529412  132660.378947       1105.503158       8.589474  0.414191   \n",
       "\n",
       "   Overhead %  Depreciation %  \n",
       "1    0.924882        0.073496  \n",
       "5    0.826683        0.119266  "
      ]
     },
     "execution_count": 160,
     "metadata": {},
     "output_type": "execute_result"
    }
   ],
   "source": [
    "# Select features to be used as x values\n",
    "features1 = mainFile5[['Rev/Discharge','Rev Per Bed','Rev Per Bed Days', 'Discharge/FTE', 'Labor %', 'Overhead %', 'Depreciation %']]\n",
    "features1.head(2)\n",
    "#RFE logrithmic output ... array([7(r/d), 6(r/b), 5(r/bday), 8(d/b), 3(d/fte), 2(l%), 1(o%), 4(d%)])"
   ]
  },
  {
   "cell_type": "code",
   "execution_count": 161,
   "metadata": {},
   "outputs": [],
   "source": [
    "#Output features file as a reference document\n",
    "features1.to_csv(\"rfefocusedfeatures2017.csv\", index=False, header=True)"
   ]
  },
  {
   "cell_type": "code",
   "execution_count": 162,
   "metadata": {},
   "outputs": [],
   "source": [
    "# ... Linear Regression Model"
   ]
  },
  {
   "cell_type": "code",
   "execution_count": 163,
   "metadata": {},
   "outputs": [
    {
     "data": {
      "text/html": [
       "<div>\n",
       "<style scoped>\n",
       "    .dataframe tbody tr th:only-of-type {\n",
       "        vertical-align: middle;\n",
       "    }\n",
       "\n",
       "    .dataframe tbody tr th {\n",
       "        vertical-align: top;\n",
       "    }\n",
       "\n",
       "    .dataframe thead th {\n",
       "        text-align: right;\n",
       "    }\n",
       "</style>\n",
       "<table border=\"1\" class=\"dataframe\">\n",
       "  <thead>\n",
       "    <tr style=\"text-align: right;\">\n",
       "      <th></th>\n",
       "      <th>Net Income %</th>\n",
       "    </tr>\n",
       "  </thead>\n",
       "  <tbody>\n",
       "    <tr>\n",
       "      <th>1</th>\n",
       "      <td>-0.337043</td>\n",
       "    </tr>\n",
       "    <tr>\n",
       "      <th>5</th>\n",
       "      <td>-0.132426</td>\n",
       "    </tr>\n",
       "    <tr>\n",
       "      <th>6</th>\n",
       "      <td>-0.291462</td>\n",
       "    </tr>\n",
       "    <tr>\n",
       "      <th>7</th>\n",
       "      <td>-0.050419</td>\n",
       "    </tr>\n",
       "    <tr>\n",
       "      <th>8</th>\n",
       "      <td>0.080314</td>\n",
       "    </tr>\n",
       "  </tbody>\n",
       "</table>\n",
       "</div>"
      ],
      "text/plain": [
       "   Net Income %\n",
       "1     -0.337043\n",
       "5     -0.132426\n",
       "6     -0.291462\n",
       "7     -0.050419\n",
       "8      0.080314"
      ]
     },
     "execution_count": 163,
     "metadata": {},
     "output_type": "execute_result"
    }
   ],
   "source": [
    "# Identify the outcome column/data\n",
    "y = mainFile5[['Net Income %']]\n",
    "y.head()"
   ]
  },
  {
   "cell_type": "code",
   "execution_count": 164,
   "metadata": {},
   "outputs": [
    {
     "data": {
      "text/plain": [
       "dtype('float64')"
      ]
     },
     "execution_count": 164,
     "metadata": {},
     "output_type": "execute_result"
    }
   ],
   "source": [
    "mainFile5[\"Net Income %\"].dtype"
   ]
  },
  {
   "cell_type": "code",
   "execution_count": 165,
   "metadata": {},
   "outputs": [
    {
     "data": {
      "text/plain": [
       "(2705, 1)"
      ]
     },
     "execution_count": 165,
     "metadata": {},
     "output_type": "execute_result"
    }
   ],
   "source": [
    "y.shape"
   ]
  },
  {
   "cell_type": "code",
   "execution_count": 166,
   "metadata": {},
   "outputs": [
    {
     "data": {
      "text/plain": [
       "(2705, 7)"
      ]
     },
     "execution_count": 166,
     "metadata": {},
     "output_type": "execute_result"
    }
   ],
   "source": [
    "X = features1\n",
    "X.shape"
   ]
  },
  {
   "cell_type": "code",
   "execution_count": 167,
   "metadata": {},
   "outputs": [],
   "source": [
    "#Create a training and testing dataset - one hot\n",
    "X_train, X_test, y_train, y_test = train_test_split(\n",
    "    X, y, random_state=1)"
   ]
  },
  {
   "cell_type": "code",
   "execution_count": 168,
   "metadata": {},
   "outputs": [
    {
     "data": {
      "text/plain": [
       "(2028, 1)"
      ]
     },
     "execution_count": 168,
     "metadata": {},
     "output_type": "execute_result"
    }
   ],
   "source": [
    "y_train.shape"
   ]
  },
  {
   "cell_type": "code",
   "execution_count": 169,
   "metadata": {},
   "outputs": [
    {
     "data": {
      "text/plain": [
       "(2028, 7)"
      ]
     },
     "execution_count": 169,
     "metadata": {},
     "output_type": "execute_result"
    }
   ],
   "source": [
    "X_train.shape"
   ]
  },
  {
   "cell_type": "code",
   "execution_count": 170,
   "metadata": {},
   "outputs": [
    {
     "data": {
      "text/plain": [
       "(677, 1)"
      ]
     },
     "execution_count": 170,
     "metadata": {},
     "output_type": "execute_result"
    }
   ],
   "source": [
    "y_test.shape"
   ]
  },
  {
   "cell_type": "code",
   "execution_count": 171,
   "metadata": {},
   "outputs": [
    {
     "data": {
      "text/plain": [
       "(677, 7)"
      ]
     },
     "execution_count": 171,
     "metadata": {},
     "output_type": "execute_result"
    }
   ],
   "source": [
    "X_test.shape"
   ]
  },
  {
   "cell_type": "code",
   "execution_count": 172,
   "metadata": {},
   "outputs": [],
   "source": [
    "# Scale your data\n",
    "X_scaler = MinMaxScaler().fit(X_train)\n",
    "X_train_scaled = X_scaler.transform(X_train)\n",
    "X_test_scaled = X_scaler.transform(X_test)"
   ]
  },
  {
   "cell_type": "code",
   "execution_count": 173,
   "metadata": {},
   "outputs": [
    {
     "name": "stdout",
     "output_type": "stream",
     "text": [
      "Training Data Score: 0.42847526907979117\n"
     ]
    }
   ],
   "source": [
    "#Create the linear regression model and fit to the training data\n",
    "#score is r2 root mean ... 1 is better\n",
    "modela = LinearRegression()\n",
    "modela.fit(X_train_scaled, y_train)\n",
    "score = modela.score(X_train_scaled, y_train)\n",
    "print(f\"Training Data Score: {modela.score(X_train_scaled, y_train)}\")"
   ]
  },
  {
   "cell_type": "code",
   "execution_count": 174,
   "metadata": {},
   "outputs": [
    {
     "name": "stdout",
     "output_type": "stream",
     "text": [
      "Testing Data Score: -0.3507256656524924\n"
     ]
    }
   ],
   "source": [
    "#Run the model with the testing data and determine score\n",
    "print(f\"Testing Data Score: {modela.score(X_test_scaled, y_test)}\")"
   ]
  },
  {
   "cell_type": "code",
   "execution_count": 175,
   "metadata": {},
   "outputs": [],
   "source": [
    "# ... Linear Recursive Feature Elimination"
   ]
  },
  {
   "cell_type": "code",
   "execution_count": 176,
   "metadata": {},
   "outputs": [],
   "source": [
    "#Identify features to create a more efficient model with\n",
    "estimator = LinearRegression()\n",
    "selector = RFE(estimator, n_features_to_select=5, step=1)\n",
    "selector = selector.fit(X_train_scaled, y_train)"
   ]
  },
  {
   "cell_type": "code",
   "execution_count": 177,
   "metadata": {},
   "outputs": [
    {
     "data": {
      "text/plain": [
       "array([ True,  True,  True, False,  True,  True, False])"
      ]
     },
     "execution_count": 177,
     "metadata": {},
     "output_type": "execute_result"
    }
   ],
   "source": [
    "selector.support_"
   ]
  },
  {
   "cell_type": "code",
   "execution_count": 178,
   "metadata": {},
   "outputs": [
    {
     "data": {
      "text/plain": [
       "array([1, 1, 1, 2, 1, 1, 3])"
      ]
     },
     "execution_count": 178,
     "metadata": {},
     "output_type": "execute_result"
    }
   ],
   "source": [
    "selector.ranking_"
   ]
  },
  {
   "cell_type": "code",
   "execution_count": 179,
   "metadata": {},
   "outputs": [],
   "source": [
    "# ... Logistics Model"
   ]
  },
  {
   "cell_type": "code",
   "execution_count": 180,
   "metadata": {},
   "outputs": [
    {
     "data": {
      "text/html": [
       "<div>\n",
       "<style scoped>\n",
       "    .dataframe tbody tr th:only-of-type {\n",
       "        vertical-align: middle;\n",
       "    }\n",
       "\n",
       "    .dataframe tbody tr th {\n",
       "        vertical-align: top;\n",
       "    }\n",
       "\n",
       "    .dataframe thead th {\n",
       "        text-align: right;\n",
       "    }\n",
       "</style>\n",
       "<table border=\"1\" class=\"dataframe\">\n",
       "  <thead>\n",
       "    <tr style=\"text-align: right;\">\n",
       "      <th></th>\n",
       "      <th>Net Income Score</th>\n",
       "    </tr>\n",
       "  </thead>\n",
       "  <tbody>\n",
       "    <tr>\n",
       "      <th>1</th>\n",
       "      <td>3</td>\n",
       "    </tr>\n",
       "    <tr>\n",
       "      <th>5</th>\n",
       "      <td>3</td>\n",
       "    </tr>\n",
       "    <tr>\n",
       "      <th>6</th>\n",
       "      <td>3</td>\n",
       "    </tr>\n",
       "    <tr>\n",
       "      <th>7</th>\n",
       "      <td>3</td>\n",
       "    </tr>\n",
       "    <tr>\n",
       "      <th>8</th>\n",
       "      <td>2</td>\n",
       "    </tr>\n",
       "  </tbody>\n",
       "</table>\n",
       "</div>"
      ],
      "text/plain": [
       "  Net Income Score\n",
       "1                3\n",
       "5                3\n",
       "6                3\n",
       "7                3\n",
       "8                2"
      ]
     },
     "execution_count": 180,
     "metadata": {},
     "output_type": "execute_result"
    }
   ],
   "source": [
    "# Identify the outcome column/data\n",
    "yy = mainFile5[['Net Income Score']]\n",
    "yy.head()"
   ]
  },
  {
   "cell_type": "code",
   "execution_count": 181,
   "metadata": {},
   "outputs": [
    {
     "data": {
      "text/plain": [
       "(2705, 1)"
      ]
     },
     "execution_count": 181,
     "metadata": {},
     "output_type": "execute_result"
    }
   ],
   "source": [
    "yy.shape"
   ]
  },
  {
   "cell_type": "code",
   "execution_count": 182,
   "metadata": {},
   "outputs": [
    {
     "data": {
      "text/plain": [
       "(2705, 7)"
      ]
     },
     "execution_count": 182,
     "metadata": {},
     "output_type": "execute_result"
    }
   ],
   "source": [
    "XX = features1\n",
    "XX.shape"
   ]
  },
  {
   "cell_type": "code",
   "execution_count": 183,
   "metadata": {},
   "outputs": [],
   "source": [
    "#Create a training and testing dataset\n",
    "X_train, X_test, y_train, y_test = train_test_split(\n",
    "    XX, yy, random_state=1)"
   ]
  },
  {
   "cell_type": "code",
   "execution_count": 184,
   "metadata": {},
   "outputs": [
    {
     "data": {
      "text/plain": [
       "(2028, 1)"
      ]
     },
     "execution_count": 184,
     "metadata": {},
     "output_type": "execute_result"
    }
   ],
   "source": [
    "y_train.shape"
   ]
  },
  {
   "cell_type": "code",
   "execution_count": 185,
   "metadata": {},
   "outputs": [
    {
     "data": {
      "text/plain": [
       "(2028, 7)"
      ]
     },
     "execution_count": 185,
     "metadata": {},
     "output_type": "execute_result"
    }
   ],
   "source": [
    "X_train.shape"
   ]
  },
  {
   "cell_type": "code",
   "execution_count": 186,
   "metadata": {},
   "outputs": [
    {
     "data": {
      "text/plain": [
       "(677, 1)"
      ]
     },
     "execution_count": 186,
     "metadata": {},
     "output_type": "execute_result"
    }
   ],
   "source": [
    "y_test.shape"
   ]
  },
  {
   "cell_type": "code",
   "execution_count": 187,
   "metadata": {},
   "outputs": [
    {
     "data": {
      "text/plain": [
       "(677, 1)"
      ]
     },
     "execution_count": 187,
     "metadata": {},
     "output_type": "execute_result"
    }
   ],
   "source": [
    "y_test.shape"
   ]
  },
  {
   "cell_type": "code",
   "execution_count": 188,
   "metadata": {},
   "outputs": [],
   "source": [
    "# Scale your data\n",
    "X_scaler = MinMaxScaler().fit(X_train)\n",
    "X_train_scaled = X_scaler.transform(X_train)\n",
    "X_test_scaled = X_scaler.transform(X_test)"
   ]
  },
  {
   "cell_type": "code",
   "execution_count": 189,
   "metadata": {},
   "outputs": [
    {
     "name": "stdout",
     "output_type": "stream",
     "text": [
      "Training Data Score: 0.5956607495069034\n"
     ]
    },
    {
     "name": "stderr",
     "output_type": "stream",
     "text": [
      "C:\\Users\\rodge\\anaconda3\\envs\\PythonData\\lib\\site-packages\\sklearn\\utils\\validation.py:63: DataConversionWarning: A column-vector y was passed when a 1d array was expected. Please change the shape of y to (n_samples, ), for example using ravel().\n",
      "  return f(*args, **kwargs)\n"
     ]
    }
   ],
   "source": [
    "#Create the logistic regression model and fit to the training data\n",
    "#score is r2 root mean ... 1 is better\n",
    "modela = LogisticRegression()\n",
    "modela.fit(X_train_scaled, y_train)\n",
    "score = modela.score(X_train_scaled, y_train)\n",
    "print(f\"Training Data Score: {modela.score(X_train_scaled, y_train)}\")"
   ]
  },
  {
   "cell_type": "code",
   "execution_count": 190,
   "metadata": {},
   "outputs": [
    {
     "name": "stdout",
     "output_type": "stream",
     "text": [
      "Testing Data Score: 0.6233382570162481\n"
     ]
    }
   ],
   "source": [
    "#Run the model with the testing data and determine score\n",
    "print(f\"Testing Data Score: {modela.score(X_test_scaled, y_test)}\")"
   ]
  },
  {
   "cell_type": "code",
   "execution_count": 191,
   "metadata": {},
   "outputs": [],
   "source": [
    "# ... recursive feature elimination"
   ]
  },
  {
   "cell_type": "code",
   "execution_count": 192,
   "metadata": {},
   "outputs": [
    {
     "name": "stderr",
     "output_type": "stream",
     "text": [
      "C:\\Users\\rodge\\anaconda3\\envs\\PythonData\\lib\\site-packages\\sklearn\\utils\\validation.py:63: DataConversionWarning: A column-vector y was passed when a 1d array was expected. Please change the shape of y to (n_samples, ), for example using ravel().\n",
      "  return f(*args, **kwargs)\n",
      "C:\\Users\\rodge\\anaconda3\\envs\\PythonData\\lib\\site-packages\\sklearn\\utils\\validation.py:63: DataConversionWarning: A column-vector y was passed when a 1d array was expected. Please change the shape of y to (n_samples, ), for example using ravel().\n",
      "  return f(*args, **kwargs)\n",
      "C:\\Users\\rodge\\anaconda3\\envs\\PythonData\\lib\\site-packages\\sklearn\\utils\\validation.py:63: DataConversionWarning: A column-vector y was passed when a 1d array was expected. Please change the shape of y to (n_samples, ), for example using ravel().\n",
      "  return f(*args, **kwargs)\n",
      "C:\\Users\\rodge\\anaconda3\\envs\\PythonData\\lib\\site-packages\\sklearn\\utils\\validation.py:63: DataConversionWarning: A column-vector y was passed when a 1d array was expected. Please change the shape of y to (n_samples, ), for example using ravel().\n",
      "  return f(*args, **kwargs)\n",
      "C:\\Users\\rodge\\anaconda3\\envs\\PythonData\\lib\\site-packages\\sklearn\\utils\\validation.py:63: DataConversionWarning: A column-vector y was passed when a 1d array was expected. Please change the shape of y to (n_samples, ), for example using ravel().\n",
      "  return f(*args, **kwargs)\n",
      "C:\\Users\\rodge\\anaconda3\\envs\\PythonData\\lib\\site-packages\\sklearn\\utils\\validation.py:63: DataConversionWarning: A column-vector y was passed when a 1d array was expected. Please change the shape of y to (n_samples, ), for example using ravel().\n",
      "  return f(*args, **kwargs)\n",
      "C:\\Users\\rodge\\anaconda3\\envs\\PythonData\\lib\\site-packages\\sklearn\\utils\\validation.py:63: DataConversionWarning: A column-vector y was passed when a 1d array was expected. Please change the shape of y to (n_samples, ), for example using ravel().\n",
      "  return f(*args, **kwargs)\n"
     ]
    }
   ],
   "source": [
    "#Identify features to create a more efficient model with\n",
    "estimator = LogisticRegression()\n",
    "selector = RFE(estimator, n_features_to_select=1, step=1)\n",
    "selector = selector.fit(X_train_scaled, y_train)"
   ]
  },
  {
   "cell_type": "code",
   "execution_count": 193,
   "metadata": {},
   "outputs": [
    {
     "data": {
      "text/plain": [
       "array([False, False, False, False, False,  True, False])"
      ]
     },
     "execution_count": 193,
     "metadata": {},
     "output_type": "execute_result"
    }
   ],
   "source": [
    "selector.support_"
   ]
  },
  {
   "cell_type": "code",
   "execution_count": 194,
   "metadata": {},
   "outputs": [
    {
     "data": {
      "text/plain": [
       "array([7, 6, 5, 3, 2, 1, 4])"
      ]
     },
     "execution_count": 194,
     "metadata": {},
     "output_type": "execute_result"
    }
   ],
   "source": [
    "selector.ranking_"
   ]
  },
  {
   "cell_type": "code",
   "execution_count": 119,
   "metadata": {},
   "outputs": [],
   "source": [
    "#End ... kent matthew rodgers, profitableHospital-project"
   ]
  },
  {
   "cell_type": "code",
   "execution_count": null,
   "metadata": {},
   "outputs": [],
   "source": [
    "# Useful scraps"
   ]
  },
  {
   "cell_type": "code",
   "execution_count": null,
   "metadata": {},
   "outputs": [],
   "source": [
    "# geoTable.drop_duplicates(inplace = True)\n",
    "# geoTable['Provider CCN'].count()\n",
    "#df.count()\n",
    "#mainFile1['Provider CCN'].duplicated()"
   ]
  }
 ],
 "metadata": {
  "kernelspec": {
   "display_name": "Python [conda env:PythonData]",
   "language": "python",
   "name": "conda-env-PythonData-py"
  },
  "language_info": {
   "codemirror_mode": {
    "name": "ipython",
    "version": 3
   },
   "file_extension": ".py",
   "mimetype": "text/x-python",
   "name": "python",
   "nbconvert_exporter": "python",
   "pygments_lexer": "ipython3",
   "version": "3.7.1"
  }
 },
 "nbformat": 4,
 "nbformat_minor": 4
}
